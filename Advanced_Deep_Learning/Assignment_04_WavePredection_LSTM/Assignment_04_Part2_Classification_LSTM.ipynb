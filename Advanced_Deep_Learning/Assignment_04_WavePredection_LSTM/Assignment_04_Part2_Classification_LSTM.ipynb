{
 "cells": [
  {
   "cell_type": "code",
   "execution_count": 1,
   "metadata": {},
   "outputs": [],
   "source": [
    "import torch\n",
    "import numpy as np\n",
    "import pandas as pd\n",
    "import seaborn as sns\n",
    "import matplotlib.pyplot as plt\n",
    "from matplotlib import style\n",
    "style.use('dark_background')\n",
    "from sklearn.model_selection import train_test_split\n",
    "from torch import nn, optim\n",
    "import torch.nn.functional as F\n",
    "import torch.nn as nn"
   ]
  },
  {
   "cell_type": "code",
   "execution_count": 2,
   "metadata": {},
   "outputs": [
    {
     "data": {
      "text/html": [
       "<div>\n",
       "<style scoped>\n",
       "    .dataframe tbody tr th:only-of-type {\n",
       "        vertical-align: middle;\n",
       "    }\n",
       "\n",
       "    .dataframe tbody tr th {\n",
       "        vertical-align: top;\n",
       "    }\n",
       "\n",
       "    .dataframe thead th {\n",
       "        text-align: right;\n",
       "    }\n",
       "</style>\n",
       "<table border=\"1\" class=\"dataframe\">\n",
       "  <thead>\n",
       "    <tr style=\"text-align: right;\">\n",
       "      <th></th>\n",
       "      <th>Index</th>\n",
       "      <th>Arrival_Time</th>\n",
       "      <th>Creation_Time</th>\n",
       "      <th>x</th>\n",
       "      <th>y</th>\n",
       "      <th>z</th>\n",
       "      <th>User</th>\n",
       "      <th>Model</th>\n",
       "      <th>Device</th>\n",
       "      <th>gt</th>\n",
       "    </tr>\n",
       "  </thead>\n",
       "  <tbody>\n",
       "    <tr>\n",
       "      <th>0</th>\n",
       "      <td>0</td>\n",
       "      <td>1424696638740</td>\n",
       "      <td>27920678471000</td>\n",
       "      <td>-0.565032</td>\n",
       "      <td>-9.572019</td>\n",
       "      <td>-0.614113</td>\n",
       "      <td>a</td>\n",
       "      <td>gear</td>\n",
       "      <td>gear_1</td>\n",
       "      <td>stand</td>\n",
       "    </tr>\n",
       "    <tr>\n",
       "      <th>1</th>\n",
       "      <td>1</td>\n",
       "      <td>1424696638740</td>\n",
       "      <td>27920681910000</td>\n",
       "      <td>-0.832584</td>\n",
       "      <td>-9.713276</td>\n",
       "      <td>-0.606930</td>\n",
       "      <td>a</td>\n",
       "      <td>gear</td>\n",
       "      <td>gear_1</td>\n",
       "      <td>stand</td>\n",
       "    </tr>\n",
       "    <tr>\n",
       "      <th>2</th>\n",
       "      <td>2</td>\n",
       "      <td>1424696638740</td>\n",
       "      <td>27920692014000</td>\n",
       "      <td>-1.018134</td>\n",
       "      <td>-9.935339</td>\n",
       "      <td>-0.544082</td>\n",
       "      <td>a</td>\n",
       "      <td>gear</td>\n",
       "      <td>gear_1</td>\n",
       "      <td>stand</td>\n",
       "    </tr>\n",
       "    <tr>\n",
       "      <th>3</th>\n",
       "      <td>3</td>\n",
       "      <td>1424696638741</td>\n",
       "      <td>27920701983000</td>\n",
       "      <td>-1.222838</td>\n",
       "      <td>-10.142437</td>\n",
       "      <td>-0.566229</td>\n",
       "      <td>a</td>\n",
       "      <td>gear</td>\n",
       "      <td>gear_1</td>\n",
       "      <td>stand</td>\n",
       "    </tr>\n",
       "    <tr>\n",
       "      <th>4</th>\n",
       "      <td>4</td>\n",
       "      <td>1424696638741</td>\n",
       "      <td>27920711906000</td>\n",
       "      <td>-1.577180</td>\n",
       "      <td>-10.480618</td>\n",
       "      <td>-0.402824</td>\n",
       "      <td>a</td>\n",
       "      <td>gear</td>\n",
       "      <td>gear_1</td>\n",
       "      <td>stand</td>\n",
       "    </tr>\n",
       "    <tr>\n",
       "      <th>...</th>\n",
       "      <td>...</td>\n",
       "      <td>...</td>\n",
       "      <td>...</td>\n",
       "      <td>...</td>\n",
       "      <td>...</td>\n",
       "      <td>...</td>\n",
       "      <td>...</td>\n",
       "      <td>...</td>\n",
       "      <td>...</td>\n",
       "      <td>...</td>\n",
       "    </tr>\n",
       "    <tr>\n",
       "      <th>3540957</th>\n",
       "      <td>55520</td>\n",
       "      <td>1424778496409</td>\n",
       "      <td>205449746189955</td>\n",
       "      <td>4.416595</td>\n",
       "      <td>-8.708023</td>\n",
       "      <td>-1.715271</td>\n",
       "      <td>i</td>\n",
       "      <td>lgwatch</td>\n",
       "      <td>lgwatch_2</td>\n",
       "      <td>bike</td>\n",
       "    </tr>\n",
       "    <tr>\n",
       "      <th>3540958</th>\n",
       "      <td>55521</td>\n",
       "      <td>1424778496409</td>\n",
       "      <td>205449751164320</td>\n",
       "      <td>5.337799</td>\n",
       "      <td>-9.526871</td>\n",
       "      <td>-1.222534</td>\n",
       "      <td>i</td>\n",
       "      <td>lgwatch</td>\n",
       "      <td>lgwatch_2</td>\n",
       "      <td>bike</td>\n",
       "    </tr>\n",
       "    <tr>\n",
       "      <th>3540959</th>\n",
       "      <td>55522</td>\n",
       "      <td>1424778496409</td>\n",
       "      <td>205449756138686</td>\n",
       "      <td>6.580353</td>\n",
       "      <td>-9.748245</td>\n",
       "      <td>-1.291565</td>\n",
       "      <td>i</td>\n",
       "      <td>lgwatch</td>\n",
       "      <td>lgwatch_2</td>\n",
       "      <td>bike</td>\n",
       "    </tr>\n",
       "    <tr>\n",
       "      <th>3540960</th>\n",
       "      <td>55523</td>\n",
       "      <td>1424778496409</td>\n",
       "      <td>205449761143569</td>\n",
       "      <td>7.932404</td>\n",
       "      <td>-9.514969</td>\n",
       "      <td>-1.608154</td>\n",
       "      <td>i</td>\n",
       "      <td>lgwatch</td>\n",
       "      <td>lgwatch_2</td>\n",
       "      <td>bike</td>\n",
       "    </tr>\n",
       "    <tr>\n",
       "      <th>3540961</th>\n",
       "      <td>55525</td>\n",
       "      <td>1424778496409</td>\n",
       "      <td>205449771092299</td>\n",
       "      <td>9.981903</td>\n",
       "      <td>-9.026993</td>\n",
       "      <td>-0.558411</td>\n",
       "      <td>i</td>\n",
       "      <td>lgwatch</td>\n",
       "      <td>lgwatch_2</td>\n",
       "      <td>bike</td>\n",
       "    </tr>\n",
       "  </tbody>\n",
       "</table>\n",
       "<p>3540962 rows × 10 columns</p>\n",
       "</div>"
      ],
      "text/plain": [
       "         Index   Arrival_Time    Creation_Time         x          y         z  \\\n",
       "0            0  1424696638740   27920678471000 -0.565032  -9.572019 -0.614113   \n",
       "1            1  1424696638740   27920681910000 -0.832584  -9.713276 -0.606930   \n",
       "2            2  1424696638740   27920692014000 -1.018134  -9.935339 -0.544082   \n",
       "3            3  1424696638741   27920701983000 -1.222838 -10.142437 -0.566229   \n",
       "4            4  1424696638741   27920711906000 -1.577180 -10.480618 -0.402824   \n",
       "...        ...            ...              ...       ...        ...       ...   \n",
       "3540957  55520  1424778496409  205449746189955  4.416595  -8.708023 -1.715271   \n",
       "3540958  55521  1424778496409  205449751164320  5.337799  -9.526871 -1.222534   \n",
       "3540959  55522  1424778496409  205449756138686  6.580353  -9.748245 -1.291565   \n",
       "3540960  55523  1424778496409  205449761143569  7.932404  -9.514969 -1.608154   \n",
       "3540961  55525  1424778496409  205449771092299  9.981903  -9.026993 -0.558411   \n",
       "\n",
       "        User    Model     Device     gt  \n",
       "0          a     gear     gear_1  stand  \n",
       "1          a     gear     gear_1  stand  \n",
       "2          a     gear     gear_1  stand  \n",
       "3          a     gear     gear_1  stand  \n",
       "4          a     gear     gear_1  stand  \n",
       "...      ...      ...        ...    ...  \n",
       "3540957    i  lgwatch  lgwatch_2   bike  \n",
       "3540958    i  lgwatch  lgwatch_2   bike  \n",
       "3540959    i  lgwatch  lgwatch_2   bike  \n",
       "3540960    i  lgwatch  lgwatch_2   bike  \n",
       "3540961    i  lgwatch  lgwatch_2   bike  \n",
       "\n",
       "[3540962 rows x 10 columns]"
      ]
     },
     "execution_count": 2,
     "metadata": {},
     "output_type": "execute_result"
    }
   ],
   "source": [
    "data = pd.read_csv('Heterogeneous_accelerometer_HAR.csv')\n",
    "\n",
    "data"
   ]
  },
  {
   "cell_type": "code",
   "execution_count": 3,
   "metadata": {},
   "outputs": [],
   "source": [
    "data = data[['x', 'y', 'z', 'gt']]\n"
   ]
  },
  {
   "cell_type": "code",
   "execution_count": 4,
   "metadata": {},
   "outputs": [
    {
     "data": {
      "text/plain": [
       "array(['stand', nan, 'sit', 'walk', 'stairsup', 'stairsdown', 'bike'],\n",
       "      dtype=object)"
      ]
     },
     "execution_count": 4,
     "metadata": {},
     "output_type": "execute_result"
    }
   ],
   "source": [
    "data['gt'].unique()"
   ]
  },
  {
   "cell_type": "code",
   "execution_count": 5,
   "metadata": {},
   "outputs": [],
   "source": [
    "data_without_nan = data.dropna(subset=['gt'])"
   ]
  },
  {
   "cell_type": "code",
   "execution_count": 6,
   "metadata": {},
   "outputs": [
    {
     "data": {
      "text/plain": [
       "array(['stand', 'sit', 'walk', 'stairsup', 'stairsdown', 'bike'],\n",
       "      dtype=object)"
      ]
     },
     "execution_count": 6,
     "metadata": {},
     "output_type": "execute_result"
    }
   ],
   "source": [
    "data_without_nan['gt'].unique()"
   ]
  },
  {
   "cell_type": "code",
   "execution_count": 7,
   "metadata": {},
   "outputs": [
    {
     "name": "stdout",
     "output_type": "stream",
     "text": [
      "Sampled DataFrame with 1000 samples for each class:\n",
      "                x         y         z     gt\n",
      "2028993  8.896713  3.274322  1.813034  stand\n",
      "424888  -4.043243  2.008408  5.968567  stand\n",
      "443696  -9.077728  3.422348 -0.082336  stand\n",
      "3145898 -2.311602 -4.630386  7.912238  stand\n",
      "1050261  8.696762 -3.992950  1.491684  stand\n",
      "...           ...       ...       ...    ...\n",
      "417985  -9.010818 -3.290741  5.892990   bike\n",
      "421687  -9.970108 -2.609955  5.907272   bike\n",
      "29535   -7.237073 -1.086369  5.783793   bike\n",
      "1942603 -9.327667 -0.062515  3.266846   bike\n",
      "1874507  2.467331 -7.413544  5.921555   bike\n",
      "\n",
      "[6000 rows x 4 columns]\n"
     ]
    }
   ],
   "source": [
    "# Define the classes\n",
    "classes = ['stand', 'sit', 'walk', 'stairsup', 'stairsdown', 'bike']\n",
    "\n",
    "# Initialize an empty list to store sampled data\n",
    "sampled_data = []\n",
    "\n",
    "# Iterate over each class\n",
    "for class_name in classes:\n",
    "    # Filter the DataFrame for the current class\n",
    "    class_data = data[data['gt'] == class_name]\n",
    "    \n",
    "    # Sample 1000 rows for the current class\n",
    "    sampled_class_data = class_data.sample(n=1000, replace=True)  # Set replace=True if there are less than 1000 samples\n",
    "    \n",
    "    # Append the sampled data to the list\n",
    "    sampled_data.append(sampled_class_data)\n",
    "\n",
    "# Concatenate the sampled data for all classes into a single DataFrame\n",
    "sampled_df = pd.concat(sampled_data)\n",
    "\n",
    "print(\"Sampled DataFrame with 1000 samples for each class:\")\n",
    "print(sampled_df)"
   ]
  },
  {
   "cell_type": "code",
   "execution_count": 8,
   "metadata": {},
   "outputs": [
    {
     "name": "stdout",
     "output_type": "stream",
     "text": [
      "<class 'pandas.core.frame.DataFrame'>\n",
      "Index: 6000 entries, 2028993 to 1874507\n",
      "Data columns (total 4 columns):\n",
      " #   Column  Non-Null Count  Dtype  \n",
      "---  ------  --------------  -----  \n",
      " 0   x       6000 non-null   float64\n",
      " 1   y       6000 non-null   float64\n",
      " 2   z       6000 non-null   float64\n",
      " 3   gt      6000 non-null   object \n",
      "dtypes: float64(3), object(1)\n",
      "memory usage: 234.4+ KB\n"
     ]
    }
   ],
   "source": [
    "sampled_df.info()"
   ]
  },
  {
   "cell_type": "code",
   "execution_count": 9,
   "metadata": {},
   "outputs": [
    {
     "name": "stdout",
     "output_type": "stream",
     "text": [
      "Encoded labels:\n",
      "            gt  label\n",
      "2028993  stand      4\n",
      "424888   stand      4\n",
      "443696   stand      4\n",
      "3145898  stand      4\n",
      "1050261  stand      4\n"
     ]
    }
   ],
   "source": [
    "from sklearn.preprocessing import LabelEncoder\n",
    "\n",
    "# Initialize LabelEncoder\n",
    "label_encoder = LabelEncoder()\n",
    "\n",
    "# Fit and transform the 'gt' column in the sampled DataFrame\n",
    "sampled_df['label'] = label_encoder.fit_transform(sampled_df['gt'])\n",
    "\n",
    "# Inverse transform to get the original labels if needed\n",
    "# original_labels = label_encoder.inverse_transform(sampled_df['label'])\n",
    "\n",
    "num_classes = len(label_encoder.classes_)\n",
    "\n",
    "print(\"Encoded labels:\")\n",
    "print(sampled_df[['gt', 'label']].head())"
   ]
  },
  {
   "cell_type": "code",
   "execution_count": 10,
   "metadata": {},
   "outputs": [
    {
     "data": {
      "text/html": [
       "<div>\n",
       "<style scoped>\n",
       "    .dataframe tbody tr th:only-of-type {\n",
       "        vertical-align: middle;\n",
       "    }\n",
       "\n",
       "    .dataframe tbody tr th {\n",
       "        vertical-align: top;\n",
       "    }\n",
       "\n",
       "    .dataframe thead th {\n",
       "        text-align: right;\n",
       "    }\n",
       "</style>\n",
       "<table border=\"1\" class=\"dataframe\">\n",
       "  <thead>\n",
       "    <tr style=\"text-align: right;\">\n",
       "      <th></th>\n",
       "      <th>x</th>\n",
       "      <th>y</th>\n",
       "      <th>z</th>\n",
       "      <th>gt</th>\n",
       "      <th>label</th>\n",
       "    </tr>\n",
       "  </thead>\n",
       "  <tbody>\n",
       "    <tr>\n",
       "      <th>2028993</th>\n",
       "      <td>8.896713</td>\n",
       "      <td>3.274322</td>\n",
       "      <td>1.813034</td>\n",
       "      <td>stand</td>\n",
       "      <td>4</td>\n",
       "    </tr>\n",
       "    <tr>\n",
       "      <th>424888</th>\n",
       "      <td>-4.043243</td>\n",
       "      <td>2.008408</td>\n",
       "      <td>5.968567</td>\n",
       "      <td>stand</td>\n",
       "      <td>4</td>\n",
       "    </tr>\n",
       "    <tr>\n",
       "      <th>443696</th>\n",
       "      <td>-9.077728</td>\n",
       "      <td>3.422348</td>\n",
       "      <td>-0.082336</td>\n",
       "      <td>stand</td>\n",
       "      <td>4</td>\n",
       "    </tr>\n",
       "    <tr>\n",
       "      <th>3145898</th>\n",
       "      <td>-2.311602</td>\n",
       "      <td>-4.630386</td>\n",
       "      <td>7.912238</td>\n",
       "      <td>stand</td>\n",
       "      <td>4</td>\n",
       "    </tr>\n",
       "    <tr>\n",
       "      <th>1050261</th>\n",
       "      <td>8.696762</td>\n",
       "      <td>-3.992950</td>\n",
       "      <td>1.491684</td>\n",
       "      <td>stand</td>\n",
       "      <td>4</td>\n",
       "    </tr>\n",
       "  </tbody>\n",
       "</table>\n",
       "</div>"
      ],
      "text/plain": [
       "                x         y         z     gt  label\n",
       "2028993  8.896713  3.274322  1.813034  stand      4\n",
       "424888  -4.043243  2.008408  5.968567  stand      4\n",
       "443696  -9.077728  3.422348 -0.082336  stand      4\n",
       "3145898 -2.311602 -4.630386  7.912238  stand      4\n",
       "1050261  8.696762 -3.992950  1.491684  stand      4"
      ]
     },
     "execution_count": 10,
     "metadata": {},
     "output_type": "execute_result"
    }
   ],
   "source": [
    "sampled_df.head()"
   ]
  },
  {
   "cell_type": "code",
   "execution_count": 11,
   "metadata": {},
   "outputs": [],
   "source": [
    "sampled_df = sampled_df.drop(columns='gt',axis=1)"
   ]
  },
  {
   "cell_type": "code",
   "execution_count": 12,
   "metadata": {},
   "outputs": [
    {
     "data": {
      "text/html": [
       "<div>\n",
       "<style scoped>\n",
       "    .dataframe tbody tr th:only-of-type {\n",
       "        vertical-align: middle;\n",
       "    }\n",
       "\n",
       "    .dataframe tbody tr th {\n",
       "        vertical-align: top;\n",
       "    }\n",
       "\n",
       "    .dataframe thead th {\n",
       "        text-align: right;\n",
       "    }\n",
       "</style>\n",
       "<table border=\"1\" class=\"dataframe\">\n",
       "  <thead>\n",
       "    <tr style=\"text-align: right;\">\n",
       "      <th></th>\n",
       "      <th>x</th>\n",
       "      <th>y</th>\n",
       "      <th>z</th>\n",
       "      <th>label</th>\n",
       "    </tr>\n",
       "  </thead>\n",
       "  <tbody>\n",
       "    <tr>\n",
       "      <th>2028993</th>\n",
       "      <td>8.896713</td>\n",
       "      <td>3.274322</td>\n",
       "      <td>1.813034</td>\n",
       "      <td>4</td>\n",
       "    </tr>\n",
       "    <tr>\n",
       "      <th>424888</th>\n",
       "      <td>-4.043243</td>\n",
       "      <td>2.008408</td>\n",
       "      <td>5.968567</td>\n",
       "      <td>4</td>\n",
       "    </tr>\n",
       "    <tr>\n",
       "      <th>443696</th>\n",
       "      <td>-9.077728</td>\n",
       "      <td>3.422348</td>\n",
       "      <td>-0.082336</td>\n",
       "      <td>4</td>\n",
       "    </tr>\n",
       "    <tr>\n",
       "      <th>3145898</th>\n",
       "      <td>-2.311602</td>\n",
       "      <td>-4.630386</td>\n",
       "      <td>7.912238</td>\n",
       "      <td>4</td>\n",
       "    </tr>\n",
       "    <tr>\n",
       "      <th>1050261</th>\n",
       "      <td>8.696762</td>\n",
       "      <td>-3.992950</td>\n",
       "      <td>1.491684</td>\n",
       "      <td>4</td>\n",
       "    </tr>\n",
       "  </tbody>\n",
       "</table>\n",
       "</div>"
      ],
      "text/plain": [
       "                x         y         z  label\n",
       "2028993  8.896713  3.274322  1.813034      4\n",
       "424888  -4.043243  2.008408  5.968567      4\n",
       "443696  -9.077728  3.422348 -0.082336      4\n",
       "3145898 -2.311602 -4.630386  7.912238      4\n",
       "1050261  8.696762 -3.992950  1.491684      4"
      ]
     },
     "execution_count": 12,
     "metadata": {},
     "output_type": "execute_result"
    }
   ],
   "source": [
    "sampled_df.head()"
   ]
  },
  {
   "cell_type": "code",
   "execution_count": 13,
   "metadata": {},
   "outputs": [],
   "source": [
    "def data_preparing(df, winSize):\n",
    "    X = []\n",
    "    y = []\n",
    "    \n",
    "    for i in range(len(df) - winSize):\n",
    "        features = df.iloc[i:i+winSize, :-1].values  # Slice the DataFrame based on winSize\n",
    "        target = df.iloc[i + winSize, -1]\n",
    "\n",
    "        X.append(features)\n",
    "        y.append(target)\n",
    "    \n",
    "    return np.array(X), np.array(y)"
   ]
  },
  {
   "cell_type": "code",
   "execution_count": 14,
   "metadata": {},
   "outputs": [],
   "source": [
    "X, y = data_preparing(sampled_df, 100)\n"
   ]
  },
  {
   "cell_type": "code",
   "execution_count": 15,
   "metadata": {},
   "outputs": [
    {
     "data": {
      "text/plain": [
       "(5900, 100, 3)"
      ]
     },
     "execution_count": 15,
     "metadata": {},
     "output_type": "execute_result"
    }
   ],
   "source": [
    "X.shape"
   ]
  },
  {
   "cell_type": "code",
   "execution_count": 16,
   "metadata": {},
   "outputs": [],
   "source": [
    "X_train, X_test, y_train, y_test = train_test_split(X, y, test_size = 0.2, random_state=42)"
   ]
  },
  {
   "cell_type": "code",
   "execution_count": 17,
   "metadata": {},
   "outputs": [
    {
     "name": "stdout",
     "output_type": "stream",
     "text": [
      "(4720, 100, 3)\n",
      "(1180, 100, 3)\n"
     ]
    }
   ],
   "source": [
    "print(X_train.shape)\n",
    "print(X_test.shape)"
   ]
  },
  {
   "cell_type": "code",
   "execution_count": 18,
   "metadata": {},
   "outputs": [],
   "source": [
    "N_train = X_train.shape[0]\n",
    "T = X_train.shape[1]\n",
    "D = X_train.shape[2]\n",
    "\n",
    "N_test = X_test.shape[0]"
   ]
  },
  {
   "cell_type": "code",
   "execution_count": 19,
   "metadata": {},
   "outputs": [],
   "source": [
    "X_train = X_train.reshape(N_train, T, D)\n",
    "X_test = X_test.reshape(N_test, T, D)"
   ]
  },
  {
   "cell_type": "code",
   "execution_count": 20,
   "metadata": {},
   "outputs": [
    {
     "name": "stdout",
     "output_type": "stream",
     "text": [
      "(4720, 100, 3)\n",
      "(4720,)\n",
      "(1180, 100, 3)\n",
      "(1180,)\n"
     ]
    }
   ],
   "source": [
    "print(X_train.shape)\n",
    "print(y_train.shape)\n",
    "print(X_test.shape)\n",
    "print(y_test.shape)"
   ]
  },
  {
   "cell_type": "code",
   "execution_count": 21,
   "metadata": {},
   "outputs": [],
   "source": [
    "from torch.utils.data import DataLoader,TensorDataset\n",
    "\n",
    "# Convert to tensor\n",
    "train_data = torch.tensor(X_train).float()\n",
    "train_labels = torch.tensor(y_train).long()\n",
    "test_data = torch.tensor(X_test).float()\n",
    "test_labels = torch.tensor(y_test).long()\n",
    "\n",
    "\n",
    "# Convert to PyTorch Datasets\n",
    "train_data = TensorDataset(train_data,train_labels)\n",
    "test_data  = TensorDataset(test_data,test_labels)\n",
    "\n",
    "# Translate into dataloader objects\n",
    "batchsize    = 32\n",
    "train_loader = DataLoader(train_data,batch_size=batchsize,shuffle=True,drop_last=True)\n",
    "test_loader  = DataLoader(test_data,batch_size=batchsize, drop_last=True)"
   ]
  },
  {
   "cell_type": "code",
   "execution_count": 22,
   "metadata": {},
   "outputs": [
    {
     "name": "stdout",
     "output_type": "stream",
     "text": [
      "torch.Size([32, 100, 3])\n",
      "torch.Size([32])\n"
     ]
    }
   ],
   "source": [
    "for x,y in train_loader:\n",
    "    break\n",
    "print(x.shape)\n",
    "print(y.shape)"
   ]
  },
  {
   "cell_type": "code",
   "execution_count": 23,
   "metadata": {},
   "outputs": [
    {
     "name": "stdout",
     "output_type": "stream",
     "text": [
      "tensor([2, 1, 3, 5, 1, 1, 2, 2, 5, 2, 2, 0, 2, 2, 2, 2, 5, 0, 1, 1, 5, 3, 3, 1,\n",
      "        1, 0, 3, 2, 3, 5, 2, 3])\n"
     ]
    }
   ],
   "source": [
    "print(y)"
   ]
  },
  {
   "cell_type": "code",
   "execution_count": 24,
   "metadata": {},
   "outputs": [
    {
     "name": "stdout",
     "output_type": "stream",
     "text": [
      "torch.Size([32, 100, 3])\n",
      "torch.Size([32])\n"
     ]
    }
   ],
   "source": [
    "for x,y in test_loader:\n",
    "    break\n",
    "print(x.shape)\n",
    "print(y.shape)"
   ]
  },
  {
   "cell_type": "code",
   "execution_count": 25,
   "metadata": {},
   "outputs": [],
   "source": [
    "class LSTM_model(nn.Module):\n",
    "  def __init__(self,input_size, num_hidden, num_layers):\n",
    "    super().__init__()\n",
    "\n",
    "    # Define  parameters\n",
    "\n",
    "    self.input_size = input_size\n",
    "    self.num_hidden = num_hidden\n",
    "    self.num_layers = num_layers\n",
    "\n",
    "    # LSTM Layer\n",
    "\n",
    "    self.lstm = nn.LSTM(input_size,num_hidden,num_layers, batch_first = True)\n",
    "\n",
    "    # Output Layer\n",
    "\n",
    "    self.out = nn.Linear(num_hidden,6)\n",
    "\n",
    "  def forward(self,x):\n",
    "\n",
    "    y, (h,c) = self.lstm(x)\n",
    "    out = self.out(y)    # Output shape (batch, features, hidden)\n",
    "    out = out[:,-1,:]    # Reshaped to (batch, hidden)\n",
    "\n",
    "    return out, (h,c)"
   ]
  },
  {
   "cell_type": "code",
   "execution_count": 26,
   "metadata": {},
   "outputs": [],
   "source": [
    "# Define LSTM model\n",
    "input_size = 3  # Number of features per time step\n",
    "hidden_size = 250\n",
    "num_layers = 1"
   ]
  },
  {
   "cell_type": "code",
   "execution_count": 27,
   "metadata": {},
   "outputs": [],
   "source": [
    "# Instantiate the model\n",
    "lstmModel = LSTM_model(input_size=3, num_hidden=250, num_layers=1)"
   ]
  },
  {
   "cell_type": "code",
   "execution_count": 28,
   "metadata": {},
   "outputs": [
    {
     "data": {
      "text/plain": [
       "LSTM_model(\n",
       "  (lstm): LSTM(3, 250, batch_first=True)\n",
       "  (out): Linear(in_features=250, out_features=6, bias=True)\n",
       ")"
      ]
     },
     "execution_count": 28,
     "metadata": {},
     "output_type": "execute_result"
    }
   ],
   "source": [
    "lstmModel"
   ]
  },
  {
   "cell_type": "code",
   "execution_count": 29,
   "metadata": {},
   "outputs": [
    {
     "name": "stdout",
     "output_type": "stream",
     "text": [
      "cuda:0\n"
     ]
    }
   ],
   "source": [
    "device = torch.device('cuda:0' if torch.cuda.is_available() else 'cpu')\n",
    "print(device)"
   ]
  },
  {
   "cell_type": "code",
   "execution_count": 30,
   "metadata": {},
   "outputs": [
    {
     "name": "stdout",
     "output_type": "stream",
     "text": [
      "env: CUDA_LAUNCH_BLOCKING=1\n"
     ]
    }
   ],
   "source": [
    "%env CUDA_LAUNCH_BLOCKING=1"
   ]
  },
  {
   "cell_type": "code",
   "execution_count": 31,
   "metadata": {},
   "outputs": [
    {
     "name": "stdout",
     "output_type": "stream",
     "text": [
      "Epochs: 0, Loss: 0.97\n",
      "Epochs: 10, Loss: 0.25\n",
      "Epochs: 20, Loss: 0.01\n"
     ]
    }
   ],
   "source": [
    "epochs = 30\n",
    "\n",
    "# Loss function\n",
    "\n",
    "lossfunc = nn.CrossEntropyLoss()\n",
    "\n",
    "# optimizer\n",
    "\n",
    "optimizer = torch.optim.SGD(lstmModel.parameters(), momentum = 0.9, lr = 0.01)\n",
    "\n",
    "lstmModel.to(device) # placing a model on GPU\n",
    "\n",
    "  # Initialize losses and Accuracies\n",
    "\n",
    "losses    = torch.zeros(epochs)\n",
    "trainAcc  = []\n",
    "testAcc   = []\n",
    "\n",
    "\n",
    "# Inside the training loop\n",
    "for epoch in range(epochs):\n",
    "    lstmModel.train()\n",
    "    \n",
    "    batchAcc = []\n",
    "    batchLoss = []\n",
    "    \n",
    "    for X, y in train_loader:\n",
    "        X = X.to(device)\n",
    "        y = y.to(device)\n",
    "        \n",
    "        ypred, h = lstmModel(X)\n",
    "        loss = lossfunc(ypred, y)\n",
    "        \n",
    "        optimizer.zero_grad()\n",
    "        loss.backward()\n",
    "        optimizer.step()\n",
    "        \n",
    "        batchLoss.append(loss.item())\n",
    "        \n",
    "        acc = 100 * torch.mean((torch.argmax(ypred, dim=1) == y).float())\n",
    "        batchAcc.append(acc.item())\n",
    "    \n",
    "    trainAcc.append(np.mean(batchAcc))\n",
    "    losses[epoch] = np.mean(batchLoss)\n",
    "    \n",
    "    if epoch % 10 == 0:\n",
    "        print(f'Epochs: {epoch}, Loss: {loss.item():.2f}')\n",
    "    \n",
    "    # Testing the model\n",
    "    lstmModel.eval()\n",
    "    test_batchAcc = []\n",
    "    \n",
    "    with torch.no_grad():\n",
    "        for X, y in test_loader:\n",
    "            X = X.to(device)\n",
    "            y = y.to(device)\n",
    "            \n",
    "            ypred, _ = lstmModel(X)  # Assigning the second value to `_`\n",
    "            \n",
    "            acc = 100 * torch.mean((torch.argmax(ypred, dim=1) == y).float())\n",
    "            test_batchAcc.append(acc.item())\n",
    "    \n",
    "    testAcc.append(np.mean(test_batchAcc))\n"
   ]
  },
  {
   "cell_type": "code",
   "execution_count": 32,
   "metadata": {},
   "outputs": [
    {
     "data": {
      "image/png": "[encoded data removed]",
      "text/plain": [
       "<Figure size 1800x600 with 2 Axes>"
      ]
     },
     "metadata": {},
     "output_type": "display_data"
    }
   ],
   "source": [
    "fig,ax = plt.subplots(1,2,figsize=(18,6))\n",
    "\n",
    "ax[0].plot(losses,'g', lw = 3)\n",
    "ax[0].set_xlabel('Epochs', fontsize = 15)\n",
    "ax[0].set_ylabel('Loss', fontsize = 15)\n",
    "ax[0].legend(['Train','Test'], fontsize = 15)\n",
    "ax[0].set_title('Training loss', fontsize = 25)\n",
    "\n",
    "ax[1].plot(trainAcc,label='Training Acc', lw =3)\n",
    "ax[1].plot(testAcc,label='Testing Acc', lw = 3)\n",
    "ax[1].set_xlabel('Epochs', fontsize = 15)\n",
    "ax[1].set_ylabel('Accuracy (%)', fontsize = 15)\n",
    "ax[1].set_ylim([10,100])\n",
    "ax[1].set_title(f'Train Accuracy: {trainAcc[-1]:.2f}% \\n Test Accuracy: {testAcc[-1]:.2f}%', fontsize = 15)\n",
    "ax[1].legend(fontsize = 15)\n",
    "\n",
    "plt.show()"
   ]
  },
  {
   "cell_type": "code",
   "execution_count": null,
   "metadata": {},
   "outputs": [],
   "source": []
  }
 ],
 "metadata": {
  "kernelspec": {
   "display_name": "pytorch_env_assign",
   "language": "python",
   "name": "python3"
  },
  "language_info": {
   "codemirror_mode": {
    "name": "ipython",
    "version": 3
   },
   "file_extension": ".py",
   "mimetype": "text/x-python",
   "name": "python",
   "nbconvert_exporter": "python",
   "pygments_lexer": "ipython3",
   "version": "3.9.18"
  }
 },
 "nbformat": 4,
 "nbformat_minor": 2
}
