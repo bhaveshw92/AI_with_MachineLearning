{
  "nbformat": 4,
  "nbformat_minor": 0,
  "metadata": {
    "colab": {
      "provenance": []
    },
    "kernelspec": {
      "name": "python3",
      "display_name": "Python 3"
    },
    "language_info": {
      "name": "python"
    }
  },
  "cells": [
    {
      "cell_type": "markdown",
      "source": [
        "Markov Chains in Python"
      ],
      "metadata": {
        "id": "KhCkVMawd--8"
      }
    },
    {
      "cell_type": "code",
      "execution_count": 1,
      "metadata": {
        "id": "4hw7B_tBdj1P"
      },
      "outputs": [],
      "source": [
        "# Import the required libraries\n",
        "\n",
        "import numpy as np\n",
        "import random as rm"
      ]
    },
    {
      "cell_type": "code",
      "source": [
        "# Defining the state of the probability - transition matrix 3x3.\n",
        "\n",
        "# The statespace\n",
        "states = [\"Sleep\",\"Icecream\",\"Run\"]\n",
        "\n",
        "# Possible sequences of events\n",
        "transitionName = [[\"SS\",\"SR\",\"SI\"],[\"RS\",\"RR\",\"RI\"],[\"IS\",\"IR\",\"II\"]]\n",
        "\n",
        "# Probabilities matrix (transition matrix)\n",
        "transitionMatrix = [[0.2,0.6,0.2],[0.1,0.6,0.3],[0.2,0.7,0.1]]"
      ],
      "metadata": {
        "id": "ajvwqtgpd44S"
      },
      "execution_count": 2,
      "outputs": []
    },
    {
      "cell_type": "code",
      "source": [
        "# Check that the sum of the porbability sum's up to 1.\n",
        "\n",
        "if sum(transitionMatrix[0])+sum(transitionMatrix[1])+sum(transitionMatrix[1]) != 3:\n",
        "    print(\"Somewhere, something went wrong. Transition matrix, perhaps?\")\n",
        "else: print(\"All is gonna be okay, you should move on!! ;)\")\n"
      ],
      "metadata": {
        "colab": {
          "base_uri": "https://localhost:8080/"
        },
        "id": "nwKiPjqyeTVW",
        "outputId": "c18aedfa-27a0-46b2-e199-0196fc18c71d"
      },
      "execution_count": 3,
      "outputs": [
        {
          "output_type": "stream",
          "name": "stdout",
          "text": [
            "All is gonna be okay, you should move on!! ;)\n"
          ]
        }
      ]
    },
    {
      "cell_type": "code",
      "source": [
        "# Using numpy.random.choice to generate a random sample from the set of transitions possible.\n",
        "\n",
        "# A function that implements the Markov model to forecast the state/mood.\n",
        "def activity_forecast(days):\n",
        "    # Choose the starting state\n",
        "    activityToday = \"Sleep\"\n",
        "    print(\"Start state: \" + activityToday)\n",
        "    # Shall store the sequence of states taken. So, this only has the starting state for now.\n",
        "    activityList = [activityToday]\n",
        "    i = 0\n",
        "    # To calculate the probability of the activityList\n",
        "    prob = 1\n",
        "    while i != days:\n",
        "        if activityToday == \"Sleep\":\n",
        "            change = np.random.choice(transitionName[0],replace=True,p=transitionMatrix[0])\n",
        "            if change == \"SS\":\n",
        "                prob = prob * 0.2\n",
        "                activityList.append(\"Sleep\")\n",
        "                pass\n",
        "            elif change == \"SR\":\n",
        "                prob = prob * 0.6\n",
        "                activityToday = \"Run\"\n",
        "                activityList.append(\"Run\")\n",
        "            else:\n",
        "                prob = prob * 0.2\n",
        "                activityToday = \"Icecream\"\n",
        "                activityList.append(\"Icecream\")\n",
        "        elif activityToday == \"Run\":\n",
        "            change = np.random.choice(transitionName[1],replace=True,p=transitionMatrix[1])\n",
        "            if change == \"RR\":\n",
        "                prob = prob * 0.5\n",
        "                activityList.append(\"Run\")\n",
        "                pass\n",
        "            elif change == \"RS\":\n",
        "                prob = prob * 0.2\n",
        "                activityToday = \"Sleep\"\n",
        "                activityList.append(\"Sleep\")\n",
        "            else:\n",
        "                prob = prob * 0.3\n",
        "                activityToday = \"Icecream\"\n",
        "                activityList.append(\"Icecream\")\n",
        "        elif activityToday == \"Icecream\":\n",
        "            change = np.random.choice(transitionName[2],replace=True,p=transitionMatrix[2])\n",
        "            if change == \"II\":\n",
        "                prob = prob * 0.1\n",
        "                activityList.append(\"Icecream\")\n",
        "                pass\n",
        "            elif change == \"IS\":\n",
        "                prob = prob * 0.2\n",
        "                activityToday = \"Sleep\"\n",
        "                activityList.append(\"Sleep\")\n",
        "            else:\n",
        "                prob = prob * 0.7\n",
        "                activityToday = \"Run\"\n",
        "                activityList.append(\"Run\")\n",
        "        i += 1\n",
        "    print(\"Possible states: \" + str(activityList))\n",
        "    print(\"End state after \"+ str(days) + \" days: \" + activityToday)\n",
        "    print(\"Probability of the possible sequence of states: \" + str(prob))\n",
        "\n",
        "# Function that forecasts the possible state for the next 2 days\n",
        "activity_forecast(2)"
      ],
      "metadata": {
        "colab": {
          "base_uri": "https://localhost:8080/"
        },
        "id": "bEU5n3Eheejq",
        "outputId": "63870c8e-38b9-458f-e64b-4a10aefbdc85"
      },
      "execution_count": 4,
      "outputs": [
        {
          "output_type": "stream",
          "name": "stdout",
          "text": [
            "Start state: Sleep\n",
            "Possible states: ['Sleep', 'Run', 'Icecream']\n",
            "End state after 2 days: Icecream\n",
            "Probability of the possible sequence of states: 0.18\n"
          ]
        }
      ]
    },
    {
      "cell_type": "markdown",
      "source": [
        "We got  random set of transitions possible along with the probability of it happening.\n",
        "Now iterating it for a couple of hundred times with the same starting state, and we can then see the expected probability of ending at any particular state along with its probability."
      ],
      "metadata": {
        "id": "-ttnpH39fW-G"
      }
    },
    {
      "cell_type": "code",
      "source": [
        "#  Rewrite the function activity_forecast and add a fresh set of loops\n",
        "def activity_forecast(days):\n",
        "    # Choose the starting state\n",
        "    activityToday = \"Sleep\"\n",
        "    activityList = [activityToday]\n",
        "    i = 0\n",
        "    prob = 1\n",
        "    while i != days:\n",
        "        if activityToday == \"Sleep\":\n",
        "            change = np.random.choice(transitionName[0],replace=True,p=transitionMatrix[0])\n",
        "            if change == \"SS\":\n",
        "                prob = prob * 0.2\n",
        "                activityList.append(\"Sleep\")\n",
        "                pass\n",
        "            elif change == \"SR\":\n",
        "                prob = prob * 0.6\n",
        "                activityToday = \"Run\"\n",
        "                activityList.append(\"Run\")\n",
        "            else:\n",
        "                prob = prob * 0.2\n",
        "                activityToday = \"Icecream\"\n",
        "                activityList.append(\"Icecream\")\n",
        "        elif activityToday == \"Run\":\n",
        "            change = np.random.choice(transitionName[1],replace=True,p=transitionMatrix[1])\n",
        "            if change == \"RR\":\n",
        "                prob = prob * 0.5\n",
        "                activityList.append(\"Run\")\n",
        "                pass\n",
        "            elif change == \"RS\":\n",
        "                prob = prob * 0.2\n",
        "                activityToday = \"Sleep\"\n",
        "                activityList.append(\"Sleep\")\n",
        "            else:\n",
        "                prob = prob * 0.3\n",
        "                activityToday = \"Icecream\"\n",
        "                activityList.append(\"Icecream\")\n",
        "        elif activityToday == \"Icecream\":\n",
        "            change = np.random.choice(transitionName[2],replace=True,p=transitionMatrix[2])\n",
        "            if change == \"II\":\n",
        "                prob = prob * 0.1\n",
        "                activityList.append(\"Icecream\")\n",
        "                pass\n",
        "            elif change == \"IS\":\n",
        "                prob = prob * 0.2\n",
        "                activityToday = \"Sleep\"\n",
        "                activityList.append(\"Sleep\")\n",
        "            else:\n",
        "                prob = prob * 0.7\n",
        "                activityToday = \"Run\"\n",
        "                activityList.append(\"Run\")\n",
        "        i += 1\n",
        "    return activityList\n",
        "\n",
        "# To save every activityList\n",
        "list_activity = []\n",
        "count = 0\n",
        "\n",
        "# `Range` starts from the first count up until but excluding the last count\n",
        "for iterations in range(1,10000):\n",
        "        list_activity.append(activity_forecast(2))\n",
        "\n",
        "# Check out all the `activityList` we collected\n",
        "#print(list_activity)\n",
        "\n",
        "# Iterate through the list to get a count of all activities ending in state:'Run'\n",
        "for smaller_list in list_activity:\n",
        "    if(smaller_list[2] == \"Run\"):\n",
        "        count += 1\n",
        "\n",
        "# Calculate the probability of starting from state:'Sleep' and ending at state:'Run'\n",
        "percentage = (count/10000) * 100\n",
        "print(\"The probability of starting at state:'Sleep' and ending at state:'Run'= \" + str(percentage) + \"%\")\n"
      ],
      "metadata": {
        "colab": {
          "base_uri": "https://localhost:8080/"
        },
        "id": "jpdgA1Wjeynf",
        "outputId": "a763ee18-1a30-4830-f5e4-bcb7435b9f99"
      },
      "execution_count": 6,
      "outputs": [
        {
          "output_type": "stream",
          "name": "stdout",
          "text": [
            "The probability of starting at state:'Sleep' and ending at state:'Run'= 62.56%\n"
          ]
        }
      ]
    },
    {
      "cell_type": "markdown",
      "source": [
        "According to the \"Law of Large Numbers\" as the number of experiments increases, the actual ratio of outcomes will converge on a theoretical or expected ratio of outcomes."
      ],
      "metadata": {
        "id": "MnaCOkW6gN-r"
      }
    },
    {
      "cell_type": "code",
      "source": [],
      "metadata": {
        "id": "3IlVvhX1fH7R"
      },
      "execution_count": null,
      "outputs": []
    }
  ]
}