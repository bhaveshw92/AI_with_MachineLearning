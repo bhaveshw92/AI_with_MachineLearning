{
 "cells": [
  {
   "cell_type": "code",
   "execution_count": 15,
   "id": "7e32da02",
   "metadata": {},
   "outputs": [],
   "source": [
    "import pandas as pd\n",
    "df = pd.read_csv('tweets.csv')"
   ]
  },
  {
   "cell_type": "code",
   "execution_count": 17,
   "id": "a314ea75",
   "metadata": {},
   "outputs": [
    {
     "data": {
      "text/html": [
       "<div>\n",
       "<style scoped>\n",
       "    .dataframe tbody tr th:only-of-type {\n",
       "        vertical-align: middle;\n",
       "    }\n",
       "\n",
       "    .dataframe tbody tr th {\n",
       "        vertical-align: top;\n",
       "    }\n",
       "\n",
       "    .dataframe thead th {\n",
       "        text-align: right;\n",
       "    }\n",
       "</style>\n",
       "<table border=\"1\" class=\"dataframe\">\n",
       "  <thead>\n",
       "    <tr style=\"text-align: right;\">\n",
       "      <th></th>\n",
       "      <th>source,text,created_at,retweet_count,favorite_count,is_retweet,id_str</th>\n",
       "    </tr>\n",
       "  </thead>\n",
       "  <tbody>\n",
       "    <tr>\n",
       "      <th>0</th>\n",
       "      <td>Twitter for iPhone,LOSER! https://t.co/p5imhMJ...</td>\n",
       "    </tr>\n",
       "    <tr>\n",
       "      <th>1</th>\n",
       "      <td>Twitter for iPhone,Most of the money raised by...</td>\n",
       "    </tr>\n",
       "    <tr>\n",
       "      <th>2</th>\n",
       "      <td>Twitter for iPhone,....because they don’t know...</td>\n",
       "    </tr>\n",
       "    <tr>\n",
       "      <th>3</th>\n",
       "      <td>Twitter for iPhone,....lost for Evan “McMuffin...</td>\n",
       "    </tr>\n",
       "    <tr>\n",
       "      <th>4</th>\n",
       "      <td>Twitter for iPhone,....get even for all of the...</td>\n",
       "    </tr>\n",
       "    <tr>\n",
       "      <th>5</th>\n",
       "      <td>Twitter for iPhone,Cryin Chuck Schumer compare...</td>\n",
       "    </tr>\n",
       "    <tr>\n",
       "      <th>6</th>\n",
       "      <td>Twitter for iPhone,They are Fake News Losers! ...</td>\n",
       "    </tr>\n",
       "    <tr>\n",
       "      <th>7</th>\n",
       "      <td>Twitter for iPhone,The Wall Street Journal Edi...</td>\n",
       "    </tr>\n",
       "    <tr>\n",
       "      <th>8</th>\n",
       "      <td>Twitter for iPhone,Pocahontas working in conju...</td>\n",
       "    </tr>\n",
       "    <tr>\n",
       "      <th>9</th>\n",
       "      <td>Twitter for iPhone,Elizabeth “Pocahontas” Warr...</td>\n",
       "    </tr>\n",
       "  </tbody>\n",
       "</table>\n",
       "</div>"
      ],
      "text/plain": [
       "  source,text,created_at,retweet_count,favorite_count,is_retweet,id_str\n",
       "0  Twitter for iPhone,LOSER! https://t.co/p5imhMJ...                   \n",
       "1  Twitter for iPhone,Most of the money raised by...                   \n",
       "2  Twitter for iPhone,....because they don’t know...                   \n",
       "3  Twitter for iPhone,....lost for Evan “McMuffin...                   \n",
       "4  Twitter for iPhone,....get even for all of the...                   \n",
       "5  Twitter for iPhone,Cryin Chuck Schumer compare...                   \n",
       "6  Twitter for iPhone,They are Fake News Losers! ...                   \n",
       "7  Twitter for iPhone,The Wall Street Journal Edi...                   \n",
       "8  Twitter for iPhone,Pocahontas working in conju...                   \n",
       "9  Twitter for iPhone,Elizabeth “Pocahontas” Warr...                   "
      ]
     },
     "execution_count": 17,
     "metadata": {},
     "output_type": "execute_result"
    }
   ],
   "source": [
    "df.head(10)"
   ]
  },
  {
   "cell_type": "code",
   "execution_count": 18,
   "id": "066e3214",
   "metadata": {},
   "outputs": [
    {
     "name": "stdout",
     "output_type": "stream",
     "text": [
      "Tabular CSV file 'tweets_tabular.csv' has been created.\n"
     ]
    }
   ],
   "source": [
    "# Specify the output CSV file path\n",
    "output_csv_path = 'tweets_tabular.csv'\n",
    "\n",
    "# Save the DataFrame to a new CSV file with tabular formatting (using a tab character as delimiter)\n",
    "df.to_csv(output_csv_path, sep='\\t', index=False)\n",
    "\n",
    "print(f\"Tabular CSV file '{output_csv_path}' has been created.\")"
   ]
  },
  {
   "cell_type": "code",
   "execution_count": 19,
   "id": "906dda6e",
   "metadata": {},
   "outputs": [
    {
     "data": {
      "text/html": [
       "<div>\n",
       "<style scoped>\n",
       "    .dataframe tbody tr th:only-of-type {\n",
       "        vertical-align: middle;\n",
       "    }\n",
       "\n",
       "    .dataframe tbody tr th {\n",
       "        vertical-align: top;\n",
       "    }\n",
       "\n",
       "    .dataframe thead th {\n",
       "        text-align: right;\n",
       "    }\n",
       "</style>\n",
       "<table border=\"1\" class=\"dataframe\">\n",
       "  <thead>\n",
       "    <tr style=\"text-align: right;\">\n",
       "      <th></th>\n",
       "      <th>source</th>\n",
       "      <th>text</th>\n",
       "      <th>created_at</th>\n",
       "      <th>retweet_count</th>\n",
       "      <th>favorite_count</th>\n",
       "      <th>is_retweet</th>\n",
       "      <th>id_str</th>\n",
       "    </tr>\n",
       "  </thead>\n",
       "  <tbody>\n",
       "    <tr>\n",
       "      <th>0</th>\n",
       "      <td>Twitter for iPhone</td>\n",
       "      <td>LOSER! https://t.co/p5imhMJqS1</td>\n",
       "      <td>05-18-2020 14:55:14</td>\n",
       "      <td>32295.0</td>\n",
       "      <td>135445.0</td>\n",
       "      <td>False</td>\n",
       "      <td>1.262396e+18</td>\n",
       "    </tr>\n",
       "    <tr>\n",
       "      <th>1</th>\n",
       "      <td>Twitter for iPhone</td>\n",
       "      <td>Most of the money raised by the RINO losers of...</td>\n",
       "      <td>05-05-2020 18:18:26</td>\n",
       "      <td>19706.0</td>\n",
       "      <td>82425.0</td>\n",
       "      <td>False</td>\n",
       "      <td>1.257736e+18</td>\n",
       "    </tr>\n",
       "    <tr>\n",
       "      <th>2</th>\n",
       "      <td>Twitter for iPhone</td>\n",
       "      <td>....because they don’t know how to win and the...</td>\n",
       "      <td>05-05-2020 04:46:34</td>\n",
       "      <td>12665.0</td>\n",
       "      <td>56868.0</td>\n",
       "      <td>False</td>\n",
       "      <td>1.257532e+18</td>\n",
       "    </tr>\n",
       "    <tr>\n",
       "      <th>3</th>\n",
       "      <td>Twitter for iPhone</td>\n",
       "      <td>....lost for Evan “McMuffin” McMullin (to me)....</td>\n",
       "      <td>05-05-2020 04:46:34</td>\n",
       "      <td>13855.0</td>\n",
       "      <td>62268.0</td>\n",
       "      <td>False</td>\n",
       "      <td>1.257532e+18</td>\n",
       "    </tr>\n",
       "    <tr>\n",
       "      <th>4</th>\n",
       "      <td>Twitter for iPhone</td>\n",
       "      <td>....get even for all of their many failures. Y...</td>\n",
       "      <td>05-05-2020 04:46:33</td>\n",
       "      <td>8122.0</td>\n",
       "      <td>33261.0</td>\n",
       "      <td>False</td>\n",
       "      <td>1.257532e+18</td>\n",
       "    </tr>\n",
       "    <tr>\n",
       "      <th>...</th>\n",
       "      <td>...</td>\n",
       "      <td>...</td>\n",
       "      <td>...</td>\n",
       "      <td>...</td>\n",
       "      <td>...</td>\n",
       "      <td>...</td>\n",
       "      <td>...</td>\n",
       "    </tr>\n",
       "    <tr>\n",
       "      <th>288</th>\n",
       "      <td>Twitter Web Client</td>\n",
       "      <td>.@Cher attacked @MittRomney. She is an average...</td>\n",
       "      <td>05-10-2012 15:10:23</td>\n",
       "      <td>715.0</td>\n",
       "      <td>465.0</td>\n",
       "      <td>False</td>\n",
       "      <td>2.006037e+17</td>\n",
       "    </tr>\n",
       "    <tr>\n",
       "      <th>289</th>\n",
       "      <td>Twitter Web Client</td>\n",
       "      <td>Firing @lisalampanelli may have come as a surp...</td>\n",
       "      <td>05-07-2012 02:58:18</td>\n",
       "      <td>45.0</td>\n",
       "      <td>19.0</td>\n",
       "      <td>False</td>\n",
       "      <td>1.993323e+17</td>\n",
       "    </tr>\n",
       "    <tr>\n",
       "      <th>290</th>\n",
       "      <td>Twitter Web Client</td>\n",
       "      <td>My @SquawkCNBC interview discussing why @MittR...</td>\n",
       "      <td>03-06-2012 17:07:51</td>\n",
       "      <td>32.0</td>\n",
       "      <td>9.0</td>\n",
       "      <td>False</td>\n",
       "      <td>1.770781e+17</td>\n",
       "    </tr>\n",
       "    <tr>\n",
       "      <th>291</th>\n",
       "      <td>TweetDeck</td>\n",
       "      <td>I feel sorry for Rosie 's new partner in love ...</td>\n",
       "      <td>12-14-2011 16:45:55</td>\n",
       "      <td>667.0</td>\n",
       "      <td>463.0</td>\n",
       "      <td>False</td>\n",
       "      <td>1.469943e+17</td>\n",
       "    </tr>\n",
       "    <tr>\n",
       "      <th>292</th>\n",
       "      <td>TweetDeck</td>\n",
       "      <td>The S&amp;P are losers. They did this for personal...</td>\n",
       "      <td>08-09-2011 17:40:33</td>\n",
       "      <td>209.0</td>\n",
       "      <td>19.0</td>\n",
       "      <td>False</td>\n",
       "      <td>1.009848e+17</td>\n",
       "    </tr>\n",
       "  </tbody>\n",
       "</table>\n",
       "<p>293 rows × 7 columns</p>\n",
       "</div>"
      ],
      "text/plain": [
       "                 source                                               text  \\\n",
       "0    Twitter for iPhone                     LOSER! https://t.co/p5imhMJqS1   \n",
       "1    Twitter for iPhone  Most of the money raised by the RINO losers of...   \n",
       "2    Twitter for iPhone  ....because they don’t know how to win and the...   \n",
       "3    Twitter for iPhone  ....lost for Evan “McMuffin” McMullin (to me)....   \n",
       "4    Twitter for iPhone  ....get even for all of their many failures. Y...   \n",
       "..                  ...                                                ...   \n",
       "288  Twitter Web Client  .@Cher attacked @MittRomney. She is an average...   \n",
       "289  Twitter Web Client  Firing @lisalampanelli may have come as a surp...   \n",
       "290  Twitter Web Client  My @SquawkCNBC interview discussing why @MittR...   \n",
       "291           TweetDeck  I feel sorry for Rosie 's new partner in love ...   \n",
       "292           TweetDeck  The S&P are losers. They did this for personal...   \n",
       "\n",
       "              created_at  retweet_count  favorite_count is_retweet  \\\n",
       "0    05-18-2020 14:55:14        32295.0        135445.0      False   \n",
       "1    05-05-2020 18:18:26        19706.0         82425.0      False   \n",
       "2    05-05-2020 04:46:34        12665.0         56868.0      False   \n",
       "3    05-05-2020 04:46:34        13855.0         62268.0      False   \n",
       "4    05-05-2020 04:46:33         8122.0         33261.0      False   \n",
       "..                   ...            ...             ...        ...   \n",
       "288  05-10-2012 15:10:23          715.0           465.0      False   \n",
       "289  05-07-2012 02:58:18           45.0            19.0      False   \n",
       "290  03-06-2012 17:07:51           32.0             9.0      False   \n",
       "291  12-14-2011 16:45:55          667.0           463.0      False   \n",
       "292  08-09-2011 17:40:33          209.0            19.0      False   \n",
       "\n",
       "           id_str  \n",
       "0    1.262396e+18  \n",
       "1    1.257736e+18  \n",
       "2    1.257532e+18  \n",
       "3    1.257532e+18  \n",
       "4    1.257532e+18  \n",
       "..            ...  \n",
       "288  2.006037e+17  \n",
       "289  1.993323e+17  \n",
       "290  1.770781e+17  \n",
       "291  1.469943e+17  \n",
       "292  1.009848e+17  \n",
       "\n",
       "[293 rows x 7 columns]"
      ]
     },
     "execution_count": 19,
     "metadata": {},
     "output_type": "execute_result"
    }
   ],
   "source": [
    "df2 = pd.read_csv('tweets_tabular.csv')\n",
    "df2"
   ]
  },
  {
   "cell_type": "code",
   "execution_count": 24,
   "id": "60405da4",
   "metadata": {},
   "outputs": [],
   "source": [
    "# natural language processing: re for regex, unicodedata, nltk for cleaning the data, stop words list that we want to ignore.\n",
    "import re\n",
    "import unicodedata\n",
    "import nltk\n",
    "from nltk.corpus import stopwords\n",
    "\n",
    "# add appropriate words that will be ignored in the analysis\n",
    "ADDITIONAL_STOPWORDS = ['covfefe']"
   ]
  },
  {
   "cell_type": "code",
   "execution_count": 25,
   "id": "09d943ab",
   "metadata": {},
   "outputs": [],
   "source": [
    "# For visualizing the results.\n",
    "import matplotlib.pyplot as plt"
   ]
  },
  {
   "cell_type": "code",
   "execution_count": 33,
   "id": "93ab4377",
   "metadata": {},
   "outputs": [
    {
     "name": "stderr",
     "output_type": "stream",
     "text": [
      "[nltk_data] Downloading package wordnet to\n",
      "[nltk_data]     C:\\Users\\bhave\\AppData\\Roaming\\nltk_data...\n",
      "[nltk_data]   Package wordnet is already up-to-date!\n",
      "[nltk_data] Downloading package omw-1.4 to\n",
      "[nltk_data]     C:\\Users\\bhave\\AppData\\Roaming\\nltk_data...\n",
      "[nltk_data]   Package omw-1.4 is already up-to-date!\n"
     ]
    }
   ],
   "source": [
    "import nltk\n",
    "\n",
    "# Download the WordNet resource : NLTK library is missing necessary for processing the words in the text and was not available before\n",
    "nltk.download('wordnet')\n",
    "\n",
    "# Download the OMW resource : NLTK library is missing the Open Multilingual Wordnet (OMW) resource.\n",
    "nltk.download('omw-1.4')\n",
    "\n",
    "def basic_clean(text):\n",
    "    \"\"\"\n",
    "    A simple function to clean up the data. All the words that\n",
    "    are not designated as a stop word is then lemmatized after\n",
    "    encoding and basic regex parsing are performed.\n",
    "    \"\"\"\n",
    "    wnl = nltk.stem.WordNetLemmatizer()\n",
    "    stopwords = nltk.corpus.stopwords.words('english') + ADDITIONAL_STOPWORDS\n",
    "    text = (unicodedata.normalize('NFKD', text)\n",
    "        .encode('ascii', 'ignore')\n",
    "        .decode('utf-8', 'ignore')\n",
    "        .lower())\n",
    "    words = re.sub(r'[^\\w\\s]', '', text).split()\n",
    "    return [wnl.lemmatize(word) for word in words if word not in stopwords]"
   ]
  },
  {
   "cell_type": "code",
   "execution_count": 34,
   "id": "2f392bf8",
   "metadata": {},
   "outputs": [],
   "source": [
    "words = basic_clean(''.join(str(df2['text'].tolist())))\n"
   ]
  },
  {
   "cell_type": "code",
   "execution_count": 35,
   "id": "156df32b",
   "metadata": {},
   "outputs": [
    {
     "data": {
      "text/plain": [
       "['loser',\n",
       " 'httpstcop5imhmjqs1',\n",
       " 'money',\n",
       " 'raised',\n",
       " 'rino',\n",
       " 'loser',\n",
       " 'socalled',\n",
       " 'lincoln',\n",
       " 'project',\n",
       " 'go',\n",
       " 'pocket',\n",
       " 'ive',\n",
       " 'done',\n",
       " 'judge',\n",
       " 'tax',\n",
       " 'regulation',\n",
       " 'healthcare',\n",
       " 'military',\n",
       " 'vet',\n",
       " 'choice']"
      ]
     },
     "execution_count": 35,
     "metadata": {},
     "output_type": "execute_result"
    }
   ],
   "source": [
    "words[:20]"
   ]
  },
  {
   "cell_type": "code",
   "execution_count": 36,
   "id": "51f2dfc3",
   "metadata": {},
   "outputs": [
    {
     "data": {
      "text/plain": [
       "(nan, nan)        40\n",
       "(hater, loser)    31\n",
       "(total, loser)    26\n",
       "(loser, nan)      13\n",
       "(amp, loser)      10\n",
       "(hater, amp)       9\n",
       "(loser, hater)     8\n",
       "(nan, hater)       6\n",
       "(karl, rove)       5\n",
       "(mini, mike)       5\n",
       "dtype: int64"
      ]
     },
     "execution_count": 36,
     "metadata": {},
     "output_type": "execute_result"
    }
   ],
   "source": [
    "# Finding which of the bigrams occured the most in particular sample of tweets.\n",
    "\n",
    "(pd.Series(nltk.ngrams(words, 2)).value_counts())[:10]"
   ]
  },
  {
   "cell_type": "code",
   "execution_count": 37,
   "id": "40cb3ee0",
   "metadata": {},
   "outputs": [
    {
     "data": {
      "text/plain": [
       "(nan, nan, nan)                 20\n",
       "(hater, amp, loser)              8\n",
       "(loser, nan, nan)                5\n",
       "(nan, hater, loser)              5\n",
       "(total, loser, nan)              5\n",
       "(hater, loser, happy)            5\n",
       "(separate, winner, loser)        4\n",
       "(including, hater, loser)        4\n",
       "(even, hater, loser)             4\n",
       "(everyone, including, hater)     4\n",
       "dtype: int64"
      ]
     },
     "execution_count": 37,
     "metadata": {},
     "output_type": "execute_result"
    }
   ],
   "source": [
    "# # Finding which of the trigram occured the most\n",
    "\n",
    "(pd.Series(nltk.ngrams(words, 3)).value_counts())[:10]"
   ]
  },
  {
   "cell_type": "code",
   "execution_count": 38,
   "id": "0de6126e",
   "metadata": {},
   "outputs": [],
   "source": [
    "# Saving the results of Bigram and Trigram to a variable for future use.\n",
    "\n",
    "bigrams_series = (pd.Series(nltk.ngrams(words, 2)).value_counts())[:12]\n",
    "trigrams_series = (pd.Series(nltk.ngrams(words, 3)).value_counts())[:12]"
   ]
  },
  {
   "cell_type": "code",
   "execution_count": 40,
   "id": "d6c01d1c",
   "metadata": {},
   "outputs": [
    {
     "data": {
      "text/plain": [
       "Text(0.5, 0, '# of Occurances')"
      ]
     },
     "execution_count": 40,
     "metadata": {},
     "output_type": "execute_result"
    },
    {
     "data": {
      "image/png": "[encoded data removed]",
      "text/plain": [
       "<Figure size 1200x800 with 1 Axes>"
      ]
     },
     "metadata": {},
     "output_type": "display_data"
    }
   ],
   "source": [
    "# Horizontal Bar Chart for Frequently Occuring Bigram words.\n",
    "\n",
    "bigrams_series.sort_values().plot.barh(color='blue', width=.9, figsize=(12, 8))\n",
    "plt.title('20 Most Frequently Occuring Bigrams')\n",
    "plt.ylabel('Bigram')\n",
    "plt.xlabel('# of Occurances')"
   ]
  },
  {
   "cell_type": "code",
   "execution_count": null,
   "id": "5233876a",
   "metadata": {},
   "outputs": [],
   "source": []
  }
 ],
 "metadata": {
  "kernelspec": {
   "display_name": "Python 3 (ipykernel)",
   "language": "python",
   "name": "python3"
  },
  "language_info": {
   "codemirror_mode": {
    "name": "ipython",
    "version": 3
   },
   "file_extension": ".py",
   "mimetype": "text/x-python",
   "name": "python",
   "nbconvert_exporter": "python",
   "pygments_lexer": "ipython3",
   "version": "3.9.18"
  }
 },
 "nbformat": 4,
 "nbformat_minor": 5
}
