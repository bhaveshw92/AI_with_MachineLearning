{
 "cells": [
  {
   "cell_type": "code",
   "execution_count": 1,
   "id": "7e32da02",
   "metadata": {},
   "outputs": [],
   "source": [
    "# I have downloaded the dataset from Youtube for a perticular video \"https://www.youtube.com/watch?v=bk-nQ7HF6k4\": Comments.\n",
    "# I had used this dataset for a final project in Deep Learning for sentiment analysis on youtube comments last sem.\n",
    "\n",
    "import pandas as pd\n",
    "df = pd.read_csv('The_Dangers_Of_AI.csv')"
   ]
  },
  {
   "cell_type": "code",
   "execution_count": 2,
   "id": "a314ea75",
   "metadata": {},
   "outputs": [
    {
     "data": {
      "text/html": [
       "<div>\n",
       "<style scoped>\n",
       "    .dataframe tbody tr th:only-of-type {\n",
       "        vertical-align: middle;\n",
       "    }\n",
       "\n",
       "    .dataframe tbody tr th {\n",
       "        vertical-align: top;\n",
       "    }\n",
       "\n",
       "    .dataframe thead th {\n",
       "        text-align: right;\n",
       "    }\n",
       "</style>\n",
       "<table border=\"1\" class=\"dataframe\">\n",
       "  <thead>\n",
       "    <tr style=\"text-align: right;\">\n",
       "      <th></th>\n",
       "      <th>comment_id</th>\n",
       "      <th>comment</th>\n",
       "      <th>author_url</th>\n",
       "      <th>author_name</th>\n",
       "      <th>reply_count</th>\n",
       "      <th>like_count</th>\n",
       "      <th>date</th>\n",
       "      <th>vidid</th>\n",
       "      <th>total_reply_counts</th>\n",
       "    </tr>\n",
       "  </thead>\n",
       "  <tbody>\n",
       "    <tr>\n",
       "      <th>0</th>\n",
       "      <td>UgxRNRfy58W4Z5XzyNh4AaABAg</td>\n",
       "      <td>Mo is back, and this is honestly a conversatio...</td>\n",
       "      <td>http://www.youtube.com/channel/UCGq-a57w-aPwyi...</td>\n",
       "      <td>@TheDiaryOfACEO</td>\n",
       "      <td>498</td>\n",
       "      <td>3814</td>\n",
       "      <td>2023-06-01T07:24:06Z</td>\n",
       "      <td>bk-nQ7HF6k4</td>\n",
       "      <td>498</td>\n",
       "    </tr>\n",
       "    <tr>\n",
       "      <th>1</th>\n",
       "      <td>Ugz3_UytFedYlrJkcg14AaABAg</td>\n",
       "      <td>AI can indeed become self-aware, but it will n...</td>\n",
       "      <td>http://www.youtube.com/channel/UCO8wv8cMVvRBeq...</td>\n",
       "      <td>@buckfuckem7056</td>\n",
       "      <td>0</td>\n",
       "      <td>0</td>\n",
       "      <td>2023-12-05T05:00:39Z</td>\n",
       "      <td>bk-nQ7HF6k4</td>\n",
       "      <td>0</td>\n",
       "    </tr>\n",
       "    <tr>\n",
       "      <th>2</th>\n",
       "      <td>Ugy_pG9P7q935ZZE4uJ4AaABAg</td>\n",
       "      <td>Just seeing this.  Very much appreciate the in...</td>\n",
       "      <td>http://www.youtube.com/channel/UC2EVnHHC-S7lmn...</td>\n",
       "      <td>@lisabenoit5147</td>\n",
       "      <td>1</td>\n",
       "      <td>0</td>\n",
       "      <td>2023-12-05T04:21:10Z</td>\n",
       "      <td>bk-nQ7HF6k4</td>\n",
       "      <td>1</td>\n",
       "    </tr>\n",
       "    <tr>\n",
       "      <th>3</th>\n",
       "      <td>UgwYRh_G6dGD78djlRN4AaABAg</td>\n",
       "      <td>This guy is the poster child for being smart d...</td>\n",
       "      <td>http://www.youtube.com/channel/UCiyiT2kMm2V2mY...</td>\n",
       "      <td>@mrstatictunes</td>\n",
       "      <td>0</td>\n",
       "      <td>0</td>\n",
       "      <td>2023-12-05T03:11:15Z</td>\n",
       "      <td>bk-nQ7HF6k4</td>\n",
       "      <td>0</td>\n",
       "    </tr>\n",
       "    <tr>\n",
       "      <th>4</th>\n",
       "      <td>Ugwdmv6axlLvL8qGyph4AaABAg</td>\n",
       "      <td>I was AI once but now I AM a real boy!</td>\n",
       "      <td>http://www.youtube.com/channel/UCNZJ7TzCidgXYU...</td>\n",
       "      <td>@blahblahblah-fw9vr</td>\n",
       "      <td>0</td>\n",
       "      <td>0</td>\n",
       "      <td>2023-12-05T00:52:16Z</td>\n",
       "      <td>bk-nQ7HF6k4</td>\n",
       "      <td>0</td>\n",
       "    </tr>\n",
       "    <tr>\n",
       "      <th>5</th>\n",
       "      <td>UgwdKO1JHrSgu9Xuesh4AaABAg</td>\n",
       "      <td>its not chat GTP mf keeps on saying \"CHAT GTP\"</td>\n",
       "      <td>http://www.youtube.com/channel/UCLBz4RP-MxKnO0...</td>\n",
       "      <td>@sakshamvasudeva8073</td>\n",
       "      <td>0</td>\n",
       "      <td>0</td>\n",
       "      <td>2023-12-05T00:27:47Z</td>\n",
       "      <td>bk-nQ7HF6k4</td>\n",
       "      <td>0</td>\n",
       "    </tr>\n",
       "    <tr>\n",
       "      <th>6</th>\n",
       "      <td>Ugz0WeAfwbkbFNLOYYl4AaABAg</td>\n",
       "      <td>WHY HE SOUNDS LIKE AN AI</td>\n",
       "      <td>http://www.youtube.com/channel/UCLBz4RP-MxKnO0...</td>\n",
       "      <td>@sakshamvasudeva8073</td>\n",
       "      <td>0</td>\n",
       "      <td>0</td>\n",
       "      <td>2023-12-05T00:15:29Z</td>\n",
       "      <td>bk-nQ7HF6k4</td>\n",
       "      <td>0</td>\n",
       "    </tr>\n",
       "    <tr>\n",
       "      <th>7</th>\n",
       "      <td>Ugz9oXfVuZ0sBZfwKoZ4AaABAg</td>\n",
       "      <td>This is how child would describe it. After com...</td>\n",
       "      <td>http://www.youtube.com/channel/UCDEKdQOAG7I2Dx...</td>\n",
       "      <td>@Hbmd3E</td>\n",
       "      <td>0</td>\n",
       "      <td>0</td>\n",
       "      <td>2023-12-04T22:48:31Z</td>\n",
       "      <td>bk-nQ7HF6k4</td>\n",
       "      <td>0</td>\n",
       "    </tr>\n",
       "    <tr>\n",
       "      <th>8</th>\n",
       "      <td>UgyBz2RJOvOW2MZkO6p4AaABAg</td>\n",
       "      <td>So AI is worse than climate change... So AI is...</td>\n",
       "      <td>http://www.youtube.com/channel/UCPP7O-MxUI0Ssi...</td>\n",
       "      <td>@GabrielScindian</td>\n",
       "      <td>0</td>\n",
       "      <td>0</td>\n",
       "      <td>2023-12-04T22:01:58Z</td>\n",
       "      <td>bk-nQ7HF6k4</td>\n",
       "      <td>0</td>\n",
       "    </tr>\n",
       "    <tr>\n",
       "      <th>9</th>\n",
       "      <td>UgzZhfIFLXF0r0KnreR4AaABAg</td>\n",
       "      <td>34:48 cannot reproduce the same energy that a ...</td>\n",
       "      <td>http://www.youtube.com/channel/UCtL8-TP26vnFol...</td>\n",
       "      <td>@joadeyace1102</td>\n",
       "      <td>0</td>\n",
       "      <td>0</td>\n",
       "      <td>2023-12-04T16:43:20Z</td>\n",
       "      <td>bk-nQ7HF6k4</td>\n",
       "      <td>0</td>\n",
       "    </tr>\n",
       "  </tbody>\n",
       "</table>\n",
       "</div>"
      ],
      "text/plain": [
       "                   comment_id  \\\n",
       "0  UgxRNRfy58W4Z5XzyNh4AaABAg   \n",
       "1  Ugz3_UytFedYlrJkcg14AaABAg   \n",
       "2  Ugy_pG9P7q935ZZE4uJ4AaABAg   \n",
       "3  UgwYRh_G6dGD78djlRN4AaABAg   \n",
       "4  Ugwdmv6axlLvL8qGyph4AaABAg   \n",
       "5  UgwdKO1JHrSgu9Xuesh4AaABAg   \n",
       "6  Ugz0WeAfwbkbFNLOYYl4AaABAg   \n",
       "7  Ugz9oXfVuZ0sBZfwKoZ4AaABAg   \n",
       "8  UgyBz2RJOvOW2MZkO6p4AaABAg   \n",
       "9  UgzZhfIFLXF0r0KnreR4AaABAg   \n",
       "\n",
       "                                             comment  \\\n",
       "0  Mo is back, and this is honestly a conversatio...   \n",
       "1  AI can indeed become self-aware, but it will n...   \n",
       "2  Just seeing this.  Very much appreciate the in...   \n",
       "3  This guy is the poster child for being smart d...   \n",
       "4             I was AI once but now I AM a real boy!   \n",
       "5     its not chat GTP mf keeps on saying \"CHAT GTP\"   \n",
       "6                           WHY HE SOUNDS LIKE AN AI   \n",
       "7  This is how child would describe it. After com...   \n",
       "8  So AI is worse than climate change... So AI is...   \n",
       "9  34:48 cannot reproduce the same energy that a ...   \n",
       "\n",
       "                                          author_url           author_name  \\\n",
       "0  http://www.youtube.com/channel/UCGq-a57w-aPwyi...       @TheDiaryOfACEO   \n",
       "1  http://www.youtube.com/channel/UCO8wv8cMVvRBeq...       @buckfuckem7056   \n",
       "2  http://www.youtube.com/channel/UC2EVnHHC-S7lmn...       @lisabenoit5147   \n",
       "3  http://www.youtube.com/channel/UCiyiT2kMm2V2mY...        @mrstatictunes   \n",
       "4  http://www.youtube.com/channel/UCNZJ7TzCidgXYU...   @blahblahblah-fw9vr   \n",
       "5  http://www.youtube.com/channel/UCLBz4RP-MxKnO0...  @sakshamvasudeva8073   \n",
       "6  http://www.youtube.com/channel/UCLBz4RP-MxKnO0...  @sakshamvasudeva8073   \n",
       "7  http://www.youtube.com/channel/UCDEKdQOAG7I2Dx...               @Hbmd3E   \n",
       "8  http://www.youtube.com/channel/UCPP7O-MxUI0Ssi...      @GabrielScindian   \n",
       "9  http://www.youtube.com/channel/UCtL8-TP26vnFol...        @joadeyace1102   \n",
       "\n",
       "   reply_count  like_count                  date        vidid  \\\n",
       "0          498        3814  2023-06-01T07:24:06Z  bk-nQ7HF6k4   \n",
       "1            0           0  2023-12-05T05:00:39Z  bk-nQ7HF6k4   \n",
       "2            1           0  2023-12-05T04:21:10Z  bk-nQ7HF6k4   \n",
       "3            0           0  2023-12-05T03:11:15Z  bk-nQ7HF6k4   \n",
       "4            0           0  2023-12-05T00:52:16Z  bk-nQ7HF6k4   \n",
       "5            0           0  2023-12-05T00:27:47Z  bk-nQ7HF6k4   \n",
       "6            0           0  2023-12-05T00:15:29Z  bk-nQ7HF6k4   \n",
       "7            0           0  2023-12-04T22:48:31Z  bk-nQ7HF6k4   \n",
       "8            0           0  2023-12-04T22:01:58Z  bk-nQ7HF6k4   \n",
       "9            0           0  2023-12-04T16:43:20Z  bk-nQ7HF6k4   \n",
       "\n",
       "   total_reply_counts  \n",
       "0                 498  \n",
       "1                   0  \n",
       "2                   1  \n",
       "3                   0  \n",
       "4                   0  \n",
       "5                   0  \n",
       "6                   0  \n",
       "7                   0  \n",
       "8                   0  \n",
       "9                   0  "
      ]
     },
     "execution_count": 2,
     "metadata": {},
     "output_type": "execute_result"
    }
   ],
   "source": [
    "df.head(10)"
   ]
  },
  {
   "cell_type": "code",
   "execution_count": 3,
   "id": "60405da4",
   "metadata": {},
   "outputs": [],
   "source": [
    "# natural language processing: re for regex, unicodedata, nltk for cleaning the data, stop words list that we want to ignore.\n",
    "import re\n",
    "import unicodedata\n",
    "import nltk\n",
    "from nltk.corpus import stopwords\n",
    "\n",
    "# add appropriate words that will be ignored in the analysis\n",
    "ADDITIONAL_STOPWORDS = ['CHAT GTP']"
   ]
  },
  {
   "cell_type": "code",
   "execution_count": 4,
   "id": "09d943ab",
   "metadata": {},
   "outputs": [],
   "source": [
    "# For visualizing the results.\n",
    "import matplotlib.pyplot as plt"
   ]
  },
  {
   "cell_type": "code",
   "execution_count": 5,
   "id": "93ab4377",
   "metadata": {},
   "outputs": [
    {
     "name": "stderr",
     "output_type": "stream",
     "text": [
      "[nltk_data] Downloading package wordnet to\n",
      "[nltk_data]     C:\\Users\\bhave\\AppData\\Roaming\\nltk_data...\n",
      "[nltk_data]   Package wordnet is already up-to-date!\n",
      "[nltk_data] Downloading package omw-1.4 to\n",
      "[nltk_data]     C:\\Users\\bhave\\AppData\\Roaming\\nltk_data...\n",
      "[nltk_data]   Package omw-1.4 is already up-to-date!\n"
     ]
    }
   ],
   "source": [
    "import nltk\n",
    "\n",
    "# Download the WordNet resource : NLTK library is missing necessary for processing the words in the text and was not available before\n",
    "nltk.download('wordnet')\n",
    "\n",
    "# Download the OMW resource : NLTK library is missing the Open Multilingual Wordnet (OMW) resource.\n",
    "nltk.download('omw-1.4')\n",
    "\n",
    "def basic_clean(text):\n",
    "    \"\"\"\n",
    "    A simple function to clean up the data. All the words that\n",
    "    are not designated as a stop word is then lemmatized after\n",
    "    encoding and basic regex parsing are performed.\n",
    "    \"\"\"\n",
    "    wnl = nltk.stem.WordNetLemmatizer()\n",
    "    stopwords = nltk.corpus.stopwords.words('english') + ADDITIONAL_STOPWORDS\n",
    "    text = (unicodedata.normalize('NFKD', text)\n",
    "        .encode('ascii', 'ignore')\n",
    "        .decode('utf-8', 'ignore')\n",
    "        .lower())\n",
    "    words = re.sub(r'[^\\w\\s]', '', text).split()\n",
    "    return [wnl.lemmatize(word) for word in words if word not in stopwords]"
   ]
  },
  {
   "cell_type": "code",
   "execution_count": 6,
   "id": "2f392bf8",
   "metadata": {},
   "outputs": [],
   "source": [
    "words = basic_clean(''.join(str(df['comment'].tolist())))\n"
   ]
  },
  {
   "cell_type": "code",
   "execution_count": 7,
   "id": "156df32b",
   "metadata": {},
   "outputs": [
    {
     "data": {
      "text/plain": [
       "['mo',\n",
       " 'back',\n",
       " 'honestly',\n",
       " 'conversation',\n",
       " 'missed',\n",
       " 'please',\n",
       " 'share',\n",
       " 'like',\n",
       " 'help',\n",
       " 'conversation',\n",
       " 'reach',\n",
       " 'many',\n",
       " 'people',\n",
       " 'hope',\n",
       " 'enjoy',\n",
       " 'appreciate',\n",
       " 'ai',\n",
       " 'indeed',\n",
       " 'become',\n",
       " 'selfaware']"
      ]
     },
     "execution_count": 7,
     "metadata": {},
     "output_type": "execute_result"
    }
   ],
   "source": [
    "words[:20]"
   ]
  },
  {
   "cell_type": "code",
   "execution_count": 8,
   "id": "51f2dfc3",
   "metadata": {},
   "outputs": [
    {
     "data": {
      "text/plain": [
       "(climate, change)             1174\n",
       "(artificial, intelligence)     380\n",
       "(dont, know)                   235\n",
       "(ai, would)                    221\n",
       "(human, being)                 221\n",
       "(chat, gpt)                    201\n",
       "(ai, could)                    191\n",
       "(year, ago)                    188\n",
       "(global, warming)              188\n",
       "(human, race)                  187\n",
       "dtype: int64"
      ]
     },
     "execution_count": 8,
     "metadata": {},
     "output_type": "execute_result"
    }
   ],
   "source": [
    "# Finding which of the bigrams occured the most in particular sample of tweets.\n",
    "\n",
    "(pd.Series(nltk.ngrams(words, 2)).value_counts())[:10]"
   ]
  },
  {
   "cell_type": "code",
   "execution_count": 9,
   "id": "40cb3ee0",
   "metadata": {},
   "outputs": [
    {
     "data": {
      "text/plain": [
       "(worse, climate, change)     71\n",
       "(bigger, climate, change)    68\n",
       "(bring, child, world)        68\n",
       "(dont, bring, child)         63\n",
       "(saying, chat, gtp)          36\n",
       "(make, world, better)        36\n",
       "(billion, time, smarter)     36\n",
       "(climate, change, hoax)      33\n",
       "(ai, akashic, record)        33\n",
       "(bring, child, ai)           33\n",
       "dtype: int64"
      ]
     },
     "execution_count": 9,
     "metadata": {},
     "output_type": "execute_result"
    }
   ],
   "source": [
    "# # Finding which of the trigram occured the most\n",
    "\n",
    "(pd.Series(nltk.ngrams(words, 3)).value_counts())[:10]"
   ]
  },
  {
   "cell_type": "code",
   "execution_count": 10,
   "id": "0de6126e",
   "metadata": {},
   "outputs": [],
   "source": [
    "# Saving the results of Bigram and Trigram to a variable for future use.\n",
    "\n",
    "bigrams_series = (pd.Series(nltk.ngrams(words, 2)).value_counts())[:12]\n",
    "trigrams_series = (pd.Series(nltk.ngrams(words, 3)).value_counts())[:12]"
   ]
  },
  {
   "cell_type": "code",
   "execution_count": 11,
   "id": "d6c01d1c",
   "metadata": {},
   "outputs": [
    {
     "data": {
      "text/plain": [
       "Text(0.5, 0, '# of Occurances')"
      ]
     },
     "execution_count": 11,
     "metadata": {},
     "output_type": "execute_result"
    },
    {
     "data": {
      "image/png": "[encoded data removed]",
      "text/plain": [
       "<Figure size 1200x800 with 1 Axes>"
      ]
     },
     "metadata": {},
     "output_type": "display_data"
    }
   ],
   "source": [
    "# Horizontal Bar Chart for Frequently Occuring Bigram words.\n",
    "\n",
    "bigrams_series.sort_values().plot.barh(color='blue', width=.9, figsize=(12, 8))\n",
    "plt.title('20 Most Frequently Occuring Bigrams')\n",
    "plt.ylabel('Bigram')\n",
    "plt.xlabel('# of Occurances')"
   ]
  },
  {
   "cell_type": "code",
   "execution_count": null,
   "id": "5233876a",
   "metadata": {},
   "outputs": [],
   "source": []
  }
 ],
 "metadata": {
  "kernelspec": {
   "display_name": "Python 3 (ipykernel)",
   "language": "python",
   "name": "python3"
  },
  "language_info": {
   "codemirror_mode": {
    "name": "ipython",
    "version": 3
   },
   "file_extension": ".py",
   "mimetype": "text/x-python",
   "name": "python",
   "nbconvert_exporter": "python",
   "pygments_lexer": "ipython3",
   "version": "3.9.18"
  }
 },
 "nbformat": 4,
 "nbformat_minor": 5
}
