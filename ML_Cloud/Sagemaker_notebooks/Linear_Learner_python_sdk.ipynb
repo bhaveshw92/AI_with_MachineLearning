{
 "cells": [
  {
   "cell_type": "markdown",
   "id": "291c3e39",
   "metadata": {},
   "source": [
    "# Using SageMaker Python SDK to train a linear learner algorithm"
   ]
  },
  {
   "cell_type": "markdown",
   "id": "d98e5cb5",
   "metadata": {},
   "source": [
    "### NOTE: Start this notebook with mxnet kernel. We need that later in this notebook\n",
    "First we need to upload the experience and salary csv file into the file system of this notebook instance and create a data frame:"
   ]
  },
  {
   "cell_type": "code",
   "execution_count": 1,
   "id": "b75e6a4e",
   "metadata": {},
   "outputs": [],
   "source": [
    "import pandas as pd\n",
    "filename = \"experience_and_salary.csv\"\n",
    "df_all_data = pd.read_csv(filename)"
   ]
  },
  {
   "cell_type": "code",
   "execution_count": 2,
   "id": "adf14f69",
   "metadata": {},
   "outputs": [
    {
     "data": {
      "text/html": [
       "<div>\n",
       "<style scoped>\n",
       "    .dataframe tbody tr th:only-of-type {\n",
       "        vertical-align: middle;\n",
       "    }\n",
       "\n",
       "    .dataframe tbody tr th {\n",
       "        vertical-align: top;\n",
       "    }\n",
       "\n",
       "    .dataframe thead th {\n",
       "        text-align: right;\n",
       "    }\n",
       "</style>\n",
       "<table border=\"1\" class=\"dataframe\">\n",
       "  <thead>\n",
       "    <tr style=\"text-align: right;\">\n",
       "      <th></th>\n",
       "      <th>last_name</th>\n",
       "      <th>management_experience_months</th>\n",
       "      <th>monthly_salary</th>\n",
       "    </tr>\n",
       "  </thead>\n",
       "  <tbody>\n",
       "    <tr>\n",
       "      <th>0</th>\n",
       "      <td>Taylor</td>\n",
       "      <td>65</td>\n",
       "      <td>1630</td>\n",
       "    </tr>\n",
       "    <tr>\n",
       "      <th>1</th>\n",
       "      <td>Wang</td>\n",
       "      <td>61</td>\n",
       "      <td>1330</td>\n",
       "    </tr>\n",
       "    <tr>\n",
       "      <th>2</th>\n",
       "      <td>Brown</td>\n",
       "      <td>38</td>\n",
       "      <td>1290</td>\n",
       "    </tr>\n",
       "    <tr>\n",
       "      <th>3</th>\n",
       "      <td>Harris</td>\n",
       "      <td>71</td>\n",
       "      <td>1480</td>\n",
       "    </tr>\n",
       "    <tr>\n",
       "      <th>4</th>\n",
       "      <td>Jones</td>\n",
       "      <td>94</td>\n",
       "      <td>1590</td>\n",
       "    </tr>\n",
       "    <tr>\n",
       "      <th>5</th>\n",
       "      <td>Garcia</td>\n",
       "      <td>93</td>\n",
       "      <td>1750</td>\n",
       "    </tr>\n",
       "    <tr>\n",
       "      <th>6</th>\n",
       "      <td>Williams</td>\n",
       "      <td>15</td>\n",
       "      <td>1020</td>\n",
       "    </tr>\n",
       "    <tr>\n",
       "      <th>7</th>\n",
       "      <td>Lee</td>\n",
       "      <td>56</td>\n",
       "      <td>1290</td>\n",
       "    </tr>\n",
       "    <tr>\n",
       "      <th>8</th>\n",
       "      <td>White</td>\n",
       "      <td>59</td>\n",
       "      <td>1430</td>\n",
       "    </tr>\n",
       "    <tr>\n",
       "      <th>9</th>\n",
       "      <td>Tan</td>\n",
       "      <td>7</td>\n",
       "      <td>960</td>\n",
       "    </tr>\n",
       "    <tr>\n",
       "      <th>10</th>\n",
       "      <td>Chen</td>\n",
       "      <td>14</td>\n",
       "      <td>1090</td>\n",
       "    </tr>\n",
       "    <tr>\n",
       "      <th>11</th>\n",
       "      <td>Kim</td>\n",
       "      <td>67</td>\n",
       "      <td>1340</td>\n",
       "    </tr>\n",
       "    <tr>\n",
       "      <th>12</th>\n",
       "      <td>Davis</td>\n",
       "      <td>29</td>\n",
       "      <td>1170</td>\n",
       "    </tr>\n",
       "    <tr>\n",
       "      <th>13</th>\n",
       "      <td>James</td>\n",
       "      <td>49</td>\n",
       "      <td>1390</td>\n",
       "    </tr>\n",
       "    <tr>\n",
       "      <th>14</th>\n",
       "      <td>Perez</td>\n",
       "      <td>46</td>\n",
       "      <td>1240</td>\n",
       "    </tr>\n",
       "    <tr>\n",
       "      <th>15</th>\n",
       "      <td>Cruz</td>\n",
       "      <td>73</td>\n",
       "      <td>1390</td>\n",
       "    </tr>\n",
       "    <tr>\n",
       "      <th>16</th>\n",
       "      <td>Smith</td>\n",
       "      <td>19</td>\n",
       "      <td>960</td>\n",
       "    </tr>\n",
       "    <tr>\n",
       "      <th>17</th>\n",
       "      <td>Thompson</td>\n",
       "      <td>22</td>\n",
       "      <td>1040</td>\n",
       "    </tr>\n",
       "    <tr>\n",
       "      <th>18</th>\n",
       "      <td>Joseph</td>\n",
       "      <td>32</td>\n",
       "      <td>1090</td>\n",
       "    </tr>\n",
       "    <tr>\n",
       "      <th>19</th>\n",
       "      <td>Singh</td>\n",
       "      <td>37</td>\n",
       "      <td>1300</td>\n",
       "    </tr>\n",
       "  </tbody>\n",
       "</table>\n",
       "</div>"
      ],
      "text/plain": [
       "   last_name  management_experience_months  monthly_salary\n",
       "0     Taylor                            65            1630\n",
       "1       Wang                            61            1330\n",
       "2      Brown                            38            1290\n",
       "3     Harris                            71            1480\n",
       "4      Jones                            94            1590\n",
       "5     Garcia                            93            1750\n",
       "6   Williams                            15            1020\n",
       "7        Lee                            56            1290\n",
       "8      White                            59            1430\n",
       "9        Tan                             7             960\n",
       "10      Chen                            14            1090\n",
       "11       Kim                            67            1340\n",
       "12     Davis                            29            1170\n",
       "13     James                            49            1390\n",
       "14     Perez                            46            1240\n",
       "15      Cruz                            73            1390\n",
       "16     Smith                            19             960\n",
       "17  Thompson                            22            1040\n",
       "18    Joseph                            32            1090\n",
       "19     Singh                            37            1300"
      ]
     },
     "execution_count": 2,
     "metadata": {},
     "output_type": "execute_result"
    }
   ],
   "source": [
    "df_all_data "
   ]
  },
  {
   "cell_type": "markdown",
   "id": "048cac18",
   "metadata": {},
   "source": [
    "As you see, this data set is not big but if it was a big data set, you would show first (head()) or last (tail()) lines. You would also clean the data like removing the unwanted columns or imputing missing values. "
   ]
  },
  {
   "cell_type": "markdown",
   "id": "d1460e21",
   "metadata": {},
   "source": [
    "The next step is to show the linear relationship between feature(s) and label in this data set. We show that by drawing the scatter plot between x and y:"
   ]
  },
  {
   "cell_type": "code",
   "execution_count": 3,
   "id": "2eeb2a27",
   "metadata": {},
   "outputs": [
    {
     "name": "stderr",
     "output_type": "stream",
     "text": [
      "Matplotlib is building the font cache; this may take a moment.\n"
     ]
    }
   ],
   "source": [
    "%matplotlib inline\n",
    "import matplotlib.pyplot as plt"
   ]
  },
  {
   "cell_type": "code",
   "execution_count": 4,
   "id": "44148571",
   "metadata": {},
   "outputs": [
    {
     "data": {
      "text/plain": [
       "(0.0, 2400.0)"
      ]
     },
     "execution_count": 4,
     "metadata": {},
     "output_type": "execute_result"
    },
    {
     "data": {
      "image/png": "[encoded data removed]",
      "text/plain": [
       "<Figure size 800x800 with 1 Axes>"
      ]
     },
     "metadata": {},
     "output_type": "display_data"
    }
   ],
   "source": [
    "plt.rcParams[\"figure.figsize\"] = (8,8) \n",
    "plt.scatter(df_all_data.management_experience_months, df_all_data.monthly_salary)\n",
    "plt.xlabel('Management Experience (Months)', fontsize=18) \n",
    "plt.ylabel('Monthly Salary (USD)', fontsize=16) \n",
    "plt.xlim(0, 120)\n",
    "plt.ylim(0, 2400)"
   ]
  },
  {
   "cell_type": "markdown",
   "id": "6b0599a9",
   "metadata": {},
   "source": [
    "As you see in the above picture, the relationship is close to linear and they are positive correlation. So this suggest using a linear learner algorith would be a good choise to model the relationship between these two variable."
   ]
  },
  {
   "cell_type": "markdown",
   "id": "6bfc9ce2",
   "metadata": {},
   "source": [
    "Next we create the training and testing data set:"
   ]
  },
  {
   "cell_type": "code",
   "execution_count": 5,
   "id": "a227e944",
   "metadata": {},
   "outputs": [],
   "source": [
    "from sklearn.model_selection import train_test_split\n",
    "\n",
    "X = df_all_data['management_experience_months'].values \n",
    "y = df_all_data['monthly_salary'].values\n",
    "X_train, X_test, y_train, y_test = train_test_split(X, y, test_size=0.3, random_state=0)"
   ]
  },
  {
   "cell_type": "markdown",
   "id": "83282236",
   "metadata": {},
   "source": [
    "Let's check the distribution of data between these two data sets:"
   ]
  },
  {
   "cell_type": "code",
   "execution_count": 6,
   "id": "35cb376f",
   "metadata": {},
   "outputs": [
    {
     "data": {
      "text/plain": [
       "array([15, 49, 94, 38, 93, 46,  7, 56, 19, 67, 71, 65, 73, 29])"
      ]
     },
     "execution_count": 6,
     "metadata": {},
     "output_type": "execute_result"
    }
   ],
   "source": [
    "X_train"
   ]
  },
  {
   "cell_type": "code",
   "execution_count": 7,
   "id": "6f1623f2",
   "metadata": {},
   "outputs": [
    {
     "data": {
      "text/plain": [
       "array([32, 61, 37, 59, 14, 22])"
      ]
     },
     "execution_count": 7,
     "metadata": {},
     "output_type": "execute_result"
    }
   ],
   "source": [
    "X_test"
   ]
  },
  {
   "cell_type": "markdown",
   "id": "9a607453",
   "metadata": {},
   "source": [
    "Let's see x and y for the training data set in one table:"
   ]
  },
  {
   "cell_type": "code",
   "execution_count": 8,
   "id": "9ccdba0b",
   "metadata": {},
   "outputs": [
    {
     "data": {
      "text/html": [
       "<div>\n",
       "<style scoped>\n",
       "    .dataframe tbody tr th:only-of-type {\n",
       "        vertical-align: middle;\n",
       "    }\n",
       "\n",
       "    .dataframe tbody tr th {\n",
       "        vertical-align: top;\n",
       "    }\n",
       "\n",
       "    .dataframe thead th {\n",
       "        text-align: right;\n",
       "    }\n",
       "</style>\n",
       "<table border=\"1\" class=\"dataframe\">\n",
       "  <thead>\n",
       "    <tr style=\"text-align: right;\">\n",
       "      <th></th>\n",
       "      <th>monthly_salary</th>\n",
       "      <th>management_experience_months</th>\n",
       "    </tr>\n",
       "  </thead>\n",
       "  <tbody>\n",
       "    <tr>\n",
       "      <th>0</th>\n",
       "      <td>1020</td>\n",
       "      <td>15</td>\n",
       "    </tr>\n",
       "    <tr>\n",
       "      <th>1</th>\n",
       "      <td>1390</td>\n",
       "      <td>49</td>\n",
       "    </tr>\n",
       "    <tr>\n",
       "      <th>2</th>\n",
       "      <td>1590</td>\n",
       "      <td>94</td>\n",
       "    </tr>\n",
       "    <tr>\n",
       "      <th>3</th>\n",
       "      <td>1290</td>\n",
       "      <td>38</td>\n",
       "    </tr>\n",
       "    <tr>\n",
       "      <th>4</th>\n",
       "      <td>1750</td>\n",
       "      <td>93</td>\n",
       "    </tr>\n",
       "    <tr>\n",
       "      <th>5</th>\n",
       "      <td>1240</td>\n",
       "      <td>46</td>\n",
       "    </tr>\n",
       "    <tr>\n",
       "      <th>6</th>\n",
       "      <td>960</td>\n",
       "      <td>7</td>\n",
       "    </tr>\n",
       "    <tr>\n",
       "      <th>7</th>\n",
       "      <td>1290</td>\n",
       "      <td>56</td>\n",
       "    </tr>\n",
       "    <tr>\n",
       "      <th>8</th>\n",
       "      <td>960</td>\n",
       "      <td>19</td>\n",
       "    </tr>\n",
       "    <tr>\n",
       "      <th>9</th>\n",
       "      <td>1340</td>\n",
       "      <td>67</td>\n",
       "    </tr>\n",
       "    <tr>\n",
       "      <th>10</th>\n",
       "      <td>1480</td>\n",
       "      <td>71</td>\n",
       "    </tr>\n",
       "    <tr>\n",
       "      <th>11</th>\n",
       "      <td>1630</td>\n",
       "      <td>65</td>\n",
       "    </tr>\n",
       "    <tr>\n",
       "      <th>12</th>\n",
       "      <td>1390</td>\n",
       "      <td>73</td>\n",
       "    </tr>\n",
       "    <tr>\n",
       "      <th>13</th>\n",
       "      <td>1170</td>\n",
       "      <td>29</td>\n",
       "    </tr>\n",
       "  </tbody>\n",
       "</table>\n",
       "</div>"
      ],
      "text/plain": [
       "    monthly_salary  management_experience_months\n",
       "0             1020                            15\n",
       "1             1390                            49\n",
       "2             1590                            94\n",
       "3             1290                            38\n",
       "4             1750                            93\n",
       "5             1240                            46\n",
       "6              960                             7\n",
       "7             1290                            56\n",
       "8              960                            19\n",
       "9             1340                            67\n",
       "10            1480                            71\n",
       "11            1630                            65\n",
       "12            1390                            73\n",
       "13            1170                            29"
      ]
     },
     "execution_count": 8,
     "metadata": {},
     "output_type": "execute_result"
    }
   ],
   "source": [
    "import pandas as pd\n",
    "df_training_data = pd.DataFrame({ 'monthly_salary': y_train, 'management_experience_months': X_train})\n",
    "df_training_data"
   ]
  },
  {
   "cell_type": "markdown",
   "id": "fea28778",
   "metadata": {},
   "source": [
    "Let's save this data set into file system:"
   ]
  },
  {
   "cell_type": "code",
   "execution_count": 9,
   "id": "c3b54349",
   "metadata": {},
   "outputs": [],
   "source": [
    "df_training_data.to_csv('day-06-training_data.csv', header=False, index=False)"
   ]
  },
  {
   "cell_type": "markdown",
   "id": "103fb870",
   "metadata": {},
   "source": [
    "We need to load this file to S3 to be able to pass its address to the SageMaker API training API. So first we set the S3 bucket name variable (you have to change that name to your bucket name). You do not need to have the prefix folder in place, just bucket name must exists. "
   ]
  },
  {
   "cell_type": "code",
   "execution_count": 10,
   "id": "d182ef63",
   "metadata": {},
   "outputs": [],
   "source": [
    "s3_bucket = 'day06-humber'\n",
    "prefix = 'linearlearner'"
   ]
  },
  {
   "cell_type": "markdown",
   "id": "8485a49e",
   "metadata": {},
   "source": [
    "Then we upload the file to the bucket:"
   ]
  },
  {
   "cell_type": "code",
   "execution_count": 11,
   "id": "3c4c2faa",
   "metadata": {},
   "outputs": [
    {
     "name": "stdout",
     "output_type": "stream",
     "text": [
      "upload: ./day-06-training_data.csv to s3://day06-humber/linearlearner/input/day-06-training_data.csv\r\n"
     ]
    }
   ],
   "source": [
    "!aws s3 cp day-06-training_data.csv s3://{s3_bucket}/{prefix}/input/day-06-training_data.csv"
   ]
  },
  {
   "cell_type": "markdown",
   "id": "40dcd252",
   "metadata": {},
   "source": [
    "Before you go ahead to the next step, check  your S3 bucket and make sure the training data is there."
   ]
  },
  {
   "cell_type": "markdown",
   "id": "0bcf84e2",
   "metadata": {},
   "source": [
    "Now we set up everything we need for starting a SageMaker training instance:"
   ]
  },
  {
   "cell_type": "code",
   "execution_count": 12,
   "id": "f2b3e093",
   "metadata": {},
   "outputs": [],
   "source": [
    "import sagemaker \n",
    "import boto3\n",
    "from sagemaker import get_execution_role \n",
    "\n",
    "role = get_execution_role()\n",
    "session = sagemaker.Session()\n",
    "region_name = boto3.Session().region_name"
   ]
  },
  {
   "cell_type": "markdown",
   "id": "6867fada",
   "metadata": {},
   "source": [
    "Now you set where the training data set is located on S3 and where the model artifact should be stored:"
   ]
  },
  {
   "cell_type": "code",
   "execution_count": 13,
   "id": "82bb7b01",
   "metadata": {},
   "outputs": [],
   "source": [
    "training_s3_input_location = f\"s3://{s3_bucket}/{prefix}/input/day-06-training_data.csv\" \n",
    "training_s3_output_location = f\"s3://{s3_bucket}/{prefix}/output/\""
   ]
  },
  {
   "cell_type": "markdown",
   "id": "2fc9457a",
   "metadata": {},
   "source": [
    "Prepare the S3 input parameter with content type \"text/csv\". This step is needed for the algorithms that support more than one type of input format and you want to set the data type format to something different than the default value. For example, we want to use lieaner learner algorithm and it supports recordIO-wrapper protobuf format. That is more efficient than csv file and it is useful when you have a large data set. "
   ]
  },
  {
   "cell_type": "code",
   "execution_count": 14,
   "id": "9d4d925e",
   "metadata": {},
   "outputs": [],
   "source": [
    "from sagemaker.inputs import TrainingInput\n",
    "\n",
    "train = TrainingInput(training_s3_input_location, content_type=\"text/csv\")"
   ]
  },
  {
   "cell_type": "markdown",
   "id": "452f75c9",
   "metadata": {},
   "source": [
    "Prepare the image URL for the linear learner algorithm. SageMaker SDK has a retrive() method to get its address:"
   ]
  },
  {
   "cell_type": "code",
   "execution_count": 15,
   "id": "1c8ccd04",
   "metadata": {},
   "outputs": [
    {
     "data": {
      "text/plain": [
       "'382416733822.dkr.ecr.us-east-1.amazonaws.com/linear-learner:1'"
      ]
     },
     "execution_count": 15,
     "metadata": {},
     "output_type": "execute_result"
    }
   ],
   "source": [
    "from sagemaker.image_uris import retrieve \n",
    "\n",
    "container = retrieve(\"linear-learner\", region_name, \"1\")\n",
    "container"
   ]
  },
  {
   "cell_type": "markdown",
   "id": "b9673d4d",
   "metadata": {},
   "source": [
    "So the above address is the address of Linear Learner image in ECR."
   ]
  },
  {
   "cell_type": "markdown",
   "id": "212c4978",
   "metadata": {},
   "source": [
    "The next step is creating an estimator object. The estimator object maintains the infrastructure requirments of the future training job. You refer to this estimator name in the future API calls:"
   ]
  },
  {
   "cell_type": "code",
   "execution_count": 16,
   "id": "15a9d10b",
   "metadata": {},
   "outputs": [
    {
     "name": "stderr",
     "output_type": "stream",
     "text": [
      "NOTEBOOK_METADATA_FILE detected but failed to get valid domain and user from it.\n"
     ]
    }
   ],
   "source": [
    "estimator = sagemaker.estimator.Estimator(\n",
    "    container,\n",
    "    role, \n",
    "    instance_count=1, \n",
    "    instance_type='ml.m5.xlarge',\n",
    "    output_path=training_s3_output_location,\n",
    "    sagemaker_session=session)"
   ]
  },
  {
   "cell_type": "markdown",
   "id": "e56503a5",
   "metadata": {},
   "source": [
    "Please consider that the SageMaker launches new training instance outside of this current jupyter instance. That is a new server and it will be terminated automatically when the training is completes. The number of training instances depends on the instance_count value in the estimator object parameters. Later when we call **.fit()**, the SageMaker creates servers equal to the number of instances."
   ]
  },
  {
   "cell_type": "markdown",
   "id": "b22d9e08",
   "metadata": {},
   "source": [
    "Please note that in SageMaker, sometimes we can use **algorithm-specific estimator** like LinearLearner class which abstracts the container image. Here we use a **general** Estimator object than specific algorithm estimator. "
   ]
  },
  {
   "cell_type": "markdown",
   "id": "f812719d",
   "metadata": {},
   "source": [
    "We use the same estimator name for other settings of this training job such as setting its <u>hyperparameters</u>. For example, the linear learner algorithm in the SageMaker can be used for both classification and regression problems and we set which mode of operation we want in this scenario by setting the predictor type. If it was a classification problem we would set that as \"binary_classifier\". "
   ]
  },
  {
   "cell_type": "code",
   "execution_count": 17,
   "id": "36ccc44a",
   "metadata": {},
   "outputs": [],
   "source": [
    "estimator.set_hyperparameters(predictor_type='regressor', mini_batch_size=4)"
   ]
  },
  {
   "cell_type": "markdown",
   "id": "cda82318",
   "metadata": {},
   "source": [
    "Now that we have set the estimator configuration and its hyperparameters, we start training by calling **.fit()** function. When you start training, go to console and see what's happening in SageMaker training job:"
   ]
  },
  {
   "cell_type": "code",
   "execution_count": 18,
   "id": "54f745b3",
   "metadata": {},
   "outputs": [
    {
     "name": "stderr",
     "output_type": "stream",
     "text": [
      "INFO:sagemaker:Creating training-job with name: linear-learner-2023-10-08-12-42-53-472\n"
     ]
    },
    {
     "name": "stdout",
     "output_type": "stream",
     "text": [
      "2023-10-08 12:42:53 Starting - Starting the training job...\n",
      "2023-10-08 12:43:08 Starting - Preparing the instances for training......\n",
      "2023-10-08 12:44:09 Downloading - Downloading input data...\n",
      "2023-10-08 12:44:34 Training - Downloading the training image......\n",
      "2023-10-08 12:45:45 Uploading - Uploading generated training model\u001b[34mDocker entrypoint called with argument(s): train\u001b[0m\n",
      "\u001b[34mRunning default environment configuration script\u001b[0m\n",
      "\u001b[34m[10/08/2023 12:45:40 INFO 140032014460736] Reading default configuration from /opt/amazon/lib/python3.7/site-packages/algorithm/resources/default-input.json: {'mini_batch_size': '1000', 'epochs': '15', 'feature_dim': 'auto', 'use_bias': 'true', 'binary_classifier_model_selection_criteria': 'accuracy', 'f_beta': '1.0', 'target_recall': '0.8', 'target_precision': '0.8', 'num_models': 'auto', 'num_calibration_samples': '10000000', 'init_method': 'uniform', 'init_scale': '0.07', 'init_sigma': '0.01', 'init_bias': '0.0', 'optimizer': 'auto', 'loss': 'auto', 'margin': '1.0', 'quantile': '0.5', 'loss_insensitivity': '0.01', 'huber_delta': '1.0', 'num_classes': '1', 'accuracy_top_k': '3', 'wd': 'auto', 'l1': 'auto', 'momentum': 'auto', 'learning_rate': 'auto', 'beta_1': 'auto', 'beta_2': 'auto', 'bias_lr_mult': 'auto', 'bias_wd_mult': 'auto', 'use_lr_scheduler': 'true', 'lr_scheduler_step': 'auto', 'lr_scheduler_factor': 'auto', 'lr_scheduler_minimum_lr': 'auto', 'positive_example_weight_mult': '1.0', 'balance_multiclass_weights': 'false', 'normalize_data': 'true', 'normalize_label': 'auto', 'unbias_data': 'auto', 'unbias_label': 'auto', 'num_point_for_scaler': '10000', '_kvstore': 'auto', '_num_gpus': 'auto', '_num_kv_servers': 'auto', '_log_level': 'info', '_tuning_objective_metric': '', 'early_stopping_patience': '3', 'early_stopping_tolerance': '0.001', '_enable_profiler': 'false'}\u001b[0m\n",
      "\u001b[34m[10/08/2023 12:45:40 INFO 140032014460736] Merging with provided configuration from /opt/ml/input/config/hyperparameters.json: {'mini_batch_size': '4', 'predictor_type': 'regressor'}\u001b[0m\n",
      "\u001b[34m[10/08/2023 12:45:40 INFO 140032014460736] Final configuration: {'mini_batch_size': '4', 'epochs': '15', 'feature_dim': 'auto', 'use_bias': 'true', 'binary_classifier_model_selection_criteria': 'accuracy', 'f_beta': '1.0', 'target_recall': '0.8', 'target_precision': '0.8', 'num_models': 'auto', 'num_calibration_samples': '10000000', 'init_method': 'uniform', 'init_scale': '0.07', 'init_sigma': '0.01', 'init_bias': '0.0', 'optimizer': 'auto', 'loss': 'auto', 'margin': '1.0', 'quantile': '0.5', 'loss_insensitivity': '0.01', 'huber_delta': '1.0', 'num_classes': '1', 'accuracy_top_k': '3', 'wd': 'auto', 'l1': 'auto', 'momentum': 'auto', 'learning_rate': 'auto', 'beta_1': 'auto', 'beta_2': 'auto', 'bias_lr_mult': 'auto', 'bias_wd_mult': 'auto', 'use_lr_scheduler': 'true', 'lr_scheduler_step': 'auto', 'lr_scheduler_factor': 'auto', 'lr_scheduler_minimum_lr': 'auto', 'positive_example_weight_mult': '1.0', 'balance_multiclass_weights': 'false', 'normalize_data': 'true', 'normalize_label': 'auto', 'unbias_data': 'auto', 'unbias_label': 'auto', 'num_point_for_scaler': '10000', '_kvstore': 'auto', '_num_gpus': 'auto', '_num_kv_servers': 'auto', '_log_level': 'info', '_tuning_objective_metric': '', 'early_stopping_patience': '3', 'early_stopping_tolerance': '0.001', '_enable_profiler': 'false', 'predictor_type': 'regressor'}\u001b[0m\n",
      "\u001b[34m[10/08/2023 12:45:42 WARNING 140032014460736] Loggers have already been setup.\u001b[0m\n",
      "\u001b[34m[10/08/2023 12:45:42 INFO 140032014460736] Final configuration: {'mini_batch_size': '4', 'epochs': '15', 'feature_dim': 'auto', 'use_bias': 'true', 'binary_classifier_model_selection_criteria': 'accuracy', 'f_beta': '1.0', 'target_recall': '0.8', 'target_precision': '0.8', 'num_models': 'auto', 'num_calibration_samples': '10000000', 'init_method': 'uniform', 'init_scale': '0.07', 'init_sigma': '0.01', 'init_bias': '0.0', 'optimizer': 'auto', 'loss': 'auto', 'margin': '1.0', 'quantile': '0.5', 'loss_insensitivity': '0.01', 'huber_delta': '1.0', 'num_classes': '1', 'accuracy_top_k': '3', 'wd': 'auto', 'l1': 'auto', 'momentum': 'auto', 'learning_rate': 'auto', 'beta_1': 'auto', 'beta_2': 'auto', 'bias_lr_mult': 'auto', 'bias_wd_mult': 'auto', 'use_lr_scheduler': 'true', 'lr_scheduler_step': 'auto', 'lr_scheduler_factor': 'auto', 'lr_scheduler_minimum_lr': 'auto', 'positive_example_weight_mult': '1.0', 'balance_multiclass_weights': 'false', 'normalize_data': 'true', 'normalize_label': 'auto', 'unbias_data': 'auto', 'unbias_label': 'auto', 'num_point_for_scaler': '10000', '_kvstore': 'auto', '_num_gpus': 'auto', '_num_kv_servers': 'auto', '_log_level': 'info', '_tuning_objective_metric': '', 'early_stopping_patience': '3', 'early_stopping_tolerance': '0.001', '_enable_profiler': 'false', 'predictor_type': 'regressor'}\u001b[0m\n",
      "\u001b[34m[10/08/2023 12:45:42 WARNING 140032014460736] Loggers have already been setup.\u001b[0m\n",
      "\u001b[34mProcess 7 is a worker.\u001b[0m\n",
      "\u001b[34m[10/08/2023 12:45:42 INFO 140032014460736] Using default worker.\u001b[0m\n",
      "\u001b[34m[10/08/2023 12:45:42 INFO 140032014460736] Checkpoint loading and saving are disabled.\u001b[0m\n",
      "\u001b[34m[10/08/2023 12:45:42 INFO 140032014460736] Create Store: local\u001b[0m\n",
      "\u001b[34m[10/08/2023 12:45:42 INFO 140032014460736] Scaler algorithm parameters\n",
      " <algorithm.scaler.ScalerAlgorithmStable object at 0x7f5b2e69ca10>\u001b[0m\n",
      "\u001b[34m[10/08/2023 12:45:42 INFO 140032014460736] Scaling model computed with parameters:\n",
      " {'stdev_label': \u001b[0m\n",
      "\u001b[34m[248.55695]\u001b[0m\n",
      "\u001b[34m<NDArray 1 @cpu(0)>, 'stdev_weight': \u001b[0m\n",
      "\u001b[34m[27.292654]\u001b[0m\n",
      "\u001b[34m<NDArray 1 @cpu(0)>, 'mean_label': \u001b[0m\n",
      "\u001b[34m[1328.3334]\u001b[0m\n",
      "\u001b[34m<NDArray 1 @cpu(0)>, 'mean_weight': \u001b[0m\n",
      "\u001b[34m[51.666668]\u001b[0m\n",
      "\u001b[34m<NDArray 1 @cpu(0)>}\u001b[0m\n",
      "\u001b[34m[10/08/2023 12:45:42 INFO 140032014460736] nvidia-smi: took 0.032 seconds to run.\u001b[0m\n",
      "\u001b[34m[10/08/2023 12:45:42 INFO 140032014460736] nvidia-smi identified 0 GPUs.\u001b[0m\n",
      "\u001b[34m[10/08/2023 12:45:42 INFO 140032014460736] Number of GPUs being used: 0\u001b[0m\n",
      "\u001b[34m#metrics {\"StartTime\": 1696769143.047804, \"EndTime\": 1696769143.0478358, \"Dimensions\": {\"Algorithm\": \"Linear Learner\", \"Host\": \"algo-1\", \"Operation\": \"training\", \"Meta\": \"init_train_data_iter\"}, \"Metrics\": {\"Total Records Seen\": {\"sum\": 18.0, \"count\": 1, \"min\": 18, \"max\": 18}, \"Total Batches Seen\": {\"sum\": 5.0, \"count\": 1, \"min\": 5, \"max\": 5}, \"Max Records Seen Between Resets\": {\"sum\": 14.0, \"count\": 1, \"min\": 14, \"max\": 14}, \"Max Batches Seen Between Resets\": {\"sum\": 4.0, \"count\": 1, \"min\": 4, \"max\": 4}, \"Reset Count\": {\"sum\": 2.0, \"count\": 1, \"min\": 2, \"max\": 2}, \"Number of Records Since Last Reset\": {\"sum\": 0.0, \"count\": 1, \"min\": 0, \"max\": 0}, \"Number of Batches Since Last Reset\": {\"sum\": 0.0, \"count\": 1, \"min\": 0, \"max\": 0}}}\u001b[0m\n",
      "\u001b[34m#metrics {\"StartTime\": 1696769143.1059537, \"EndTime\": 1696769143.106004, \"Dimensions\": {\"Algorithm\": \"Linear Learner\", \"Host\": \"algo-1\", \"Operation\": \"training\", \"epoch\": 0, \"model\": 0}, \"Metrics\": {\"train_mse_objective\": {\"sum\": 0.986515740553538, \"count\": 1, \"min\": 0.986515740553538, \"max\": 0.986515740553538}}}\u001b[0m\n",
      "\u001b[34m#metrics {\"StartTime\": 1696769143.1060636, \"EndTime\": 1696769143.1060727, \"Dimensions\": {\"Algorithm\": \"Linear Learner\", \"Host\": \"algo-1\", \"Operation\": \"training\", \"epoch\": 0, \"model\": 1}, \"Metrics\": {\"train_mse_objective\": {\"sum\": 1.0297648509343464, \"count\": 1, \"min\": 1.0297648509343464, \"max\": 1.0297648509343464}}}\u001b[0m\n",
      "\u001b[34m#metrics {\"StartTime\": 1696769143.1061094, \"EndTime\": 1696769143.1061165, \"Dimensions\": {\"Algorithm\": \"Linear Learner\", \"Host\": \"algo-1\", \"Operation\": \"training\", \"epoch\": 0, \"model\": 2}, \"Metrics\": {\"train_mse_objective\": {\"sum\": 0.9916986227035522, \"count\": 1, \"min\": 0.9916986227035522, \"max\": 0.9916986227035522}}}\u001b[0m\n",
      "\u001b[34m#metrics {\"StartTime\": 1696769143.1061459, \"EndTime\": 1696769143.1061544, \"Dimensions\": {\"Algorithm\": \"Linear Learner\", \"Host\": \"algo-1\", \"Operation\": \"training\", \"epoch\": 0, \"model\": 3}, \"Metrics\": {\"train_mse_objective\": {\"sum\": 1.0275290409723918, \"count\": 1, \"min\": 1.0275290409723918, \"max\": 1.0275290409723918}}}\u001b[0m\n",
      "\u001b[34m#metrics {\"StartTime\": 1696769143.106187, \"EndTime\": 1696769143.106193, \"Dimensions\": {\"Algorithm\": \"Linear Learner\", \"Host\": \"algo-1\", \"Operation\": \"training\", \"epoch\": 0, \"model\": 4}, \"Metrics\": {\"train_mse_objective\": {\"sum\": 1.0600494146347046, \"count\": 1, \"min\": 1.0600494146347046, \"max\": 1.0600494146347046}}}\u001b[0m\n",
      "\u001b[34m#metrics {\"StartTime\": 1696769143.1062188, \"EndTime\": 1696769143.106226, \"Dimensions\": {\"Algorithm\": \"Linear Learner\", \"Host\": \"algo-1\", \"Operation\": \"training\", \"epoch\": 0, \"model\": 5}, \"Metrics\": {\"train_mse_objective\": {\"sum\": 1.0802155335744221, \"count\": 1, \"min\": 1.0802155335744221, \"max\": 1.0802155335744221}}}\u001b[0m\n",
      "\u001b[34m#metrics {\"StartTime\": 1696769143.1062555, \"EndTime\": 1696769143.1062624, \"Dimensions\": {\"Algorithm\": \"Linear Learner\", \"Host\": \"algo-1\", \"Operation\": \"training\", \"epoch\": 0, \"model\": 6}, \"Metrics\": {\"train_mse_objective\": {\"sum\": 1.2655052940050762, \"count\": 1, \"min\": 1.2655052940050762, \"max\": 1.2655052940050762}}}\u001b[0m\n",
      "\u001b[34m#metrics {\"StartTime\": 1696769143.1062942, \"EndTime\": 1696769143.1063027, \"Dimensions\": {\"Algorithm\": \"Linear Learner\", \"Host\": \"algo-1\", \"Operation\": \"training\", \"epoch\": 0, \"model\": 7}, \"Metrics\": {\"train_mse_objective\": {\"sum\": 1.1983637809753418, \"count\": 1, \"min\": 1.1983637809753418, \"max\": 1.1983637809753418}}}\u001b[0m\n",
      "\u001b[34m#metrics {\"StartTime\": 1696769143.106337, \"EndTime\": 1696769143.1063457, \"Dimensions\": {\"Algorithm\": \"Linear Learner\", \"Host\": \"algo-1\", \"Operation\": \"training\", \"epoch\": 0, \"model\": 8}, \"Metrics\": {\"train_mse_objective\": {\"sum\": 1.110631783803304, \"count\": 1, \"min\": 1.110631783803304, \"max\": 1.110631783803304}}}\u001b[0m\n",
      "\u001b[34m#metrics {\"StartTime\": 1696769143.106379, \"EndTime\": 1696769143.1063883, \"Dimensions\": {\"Algorithm\": \"Linear Learner\", \"Host\": \"algo-1\", \"Operation\": \"training\", \"epoch\": 0, \"model\": 9}, \"Metrics\": {\"train_mse_objective\": {\"sum\": 0.9608940879503886, \"count\": 1, \"min\": 0.9608940879503886, \"max\": 0.9608940879503886}}}\u001b[0m\n",
      "\u001b[34m#metrics {\"StartTime\": 1696769143.106417, \"EndTime\": 1696769143.1064253, \"Dimensions\": {\"Algorithm\": \"Linear Learner\", \"Host\": \"algo-1\", \"Operation\": \"training\", \"epoch\": 0, \"model\": 10}, \"Metrics\": {\"train_mse_objective\": {\"sum\": 0.9751139283180237, \"count\": 1, \"min\": 0.9751139283180237, \"max\": 0.9751139283180237}}}\u001b[0m\n",
      "\u001b[34m#metrics {\"StartTime\": 1696769143.1064591, \"EndTime\": 1696769143.1064684, \"Dimensions\": {\"Algorithm\": \"Linear Learner\", \"Host\": \"algo-1\", \"Operation\": \"training\", \"epoch\": 0, \"model\": 11}, \"Metrics\": {\"train_mse_objective\": {\"sum\": 0.9438297152519226, \"count\": 1, \"min\": 0.9438297152519226, \"max\": 0.9438297152519226}}}\u001b[0m\n",
      "\u001b[34m#metrics {\"StartTime\": 1696769143.1065063, \"EndTime\": 1696769143.1065161, \"Dimensions\": {\"Algorithm\": \"Linear Learner\", \"Host\": \"algo-1\", \"Operation\": \"training\", \"epoch\": 0, \"model\": 12}, \"Metrics\": {\"train_mse_objective\": {\"sum\": 1.0783568819363911, \"count\": 1, \"min\": 1.0783568819363911, \"max\": 1.0783568819363911}}}\u001b[0m\n",
      "\u001b[34m#metrics {\"StartTime\": 1696769143.1065521, \"EndTime\": 1696769143.1065612, \"Dimensions\": {\"Algorithm\": \"Linear Learner\", \"Host\": \"algo-1\", \"Operation\": \"training\", \"epoch\": 0, \"model\": 13}, \"Metrics\": {\"train_mse_objective\": {\"sum\": 1.1342655817667644, \"count\": 1, \"min\": 1.1342655817667644, \"max\": 1.1342655817667644}}}\u001b[0m\n",
      "\u001b[34m#metrics {\"StartTime\": 1696769143.106598, \"EndTime\": 1696769143.106607, \"Dimensions\": {\"Algorithm\": \"Linear Learner\", \"Host\": \"algo-1\", \"Operation\": \"training\", \"epoch\": 0, \"model\": 14}, \"Metrics\": {\"train_mse_objective\": {\"sum\": 1.0752590497334797, \"count\": 1, \"min\": 1.0752590497334797, \"max\": 1.0752590497334797}}}\u001b[0m\n",
      "\u001b[34m#metrics {\"StartTime\": 1696769143.1066444, \"EndTime\": 1696769143.1066532, \"Dimensions\": {\"Algorithm\": \"Linear Learner\", \"Host\": \"algo-1\", \"Operation\": \"training\", \"epoch\": 0, \"model\": 15}, \"Metrics\": {\"train_mse_objective\": {\"sum\": 1.148008128007253, \"count\": 1, \"min\": 1.148008128007253, \"max\": 1.148008128007253}}}\u001b[0m\n",
      "\u001b[34m#metrics {\"StartTime\": 1696769143.1066833, \"EndTime\": 1696769143.1066906, \"Dimensions\": {\"Algorithm\": \"Linear Learner\", \"Host\": \"algo-1\", \"Operation\": \"training\", \"epoch\": 0, \"model\": 16}, \"Metrics\": {\"train_mse_objective\": {\"sum\": 0.9107179641723633, \"count\": 1, \"min\": 0.9107179641723633, \"max\": 0.9107179641723633}}}\u001b[0m\n",
      "\u001b[34m#metrics {\"StartTime\": 1696769143.1067257, \"EndTime\": 1696769143.1067345, \"Dimensions\": {\"Algorithm\": \"Linear Learner\", \"Host\": \"algo-1\", \"Operation\": \"training\", \"epoch\": 0, \"model\": 17}, \"Metrics\": {\"train_mse_objective\": {\"sum\": 1.0193379322687786, \"count\": 1, \"min\": 1.0193379322687786, \"max\": 1.0193379322687786}}}\u001b[0m\n",
      "\u001b[34m#metrics {\"StartTime\": 1696769143.106759, \"EndTime\": 1696769143.1067657, \"Dimensions\": {\"Algorithm\": \"Linear Learner\", \"Host\": \"algo-1\", \"Operation\": \"training\", \"epoch\": 0, \"model\": 18}, \"Metrics\": {\"train_mse_objective\": {\"sum\": 0.9672044515609741, \"count\": 1, \"min\": 0.9672044515609741, \"max\": 0.9672044515609741}}}\u001b[0m\n",
      "\u001b[34m#metrics {\"StartTime\": 1696769143.106797, \"EndTime\": 1696769143.1068044, \"Dimensions\": {\"Algorithm\": \"Linear Learner\", \"Host\": \"algo-1\", \"Operation\": \"training\", \"epoch\": 0, \"model\": 19}, \"Metrics\": {\"train_mse_objective\": {\"sum\": 0.9614778558413187, \"count\": 1, \"min\": 0.9614778558413187, \"max\": 0.9614778558413187}}}\u001b[0m\n",
      "\u001b[34m#metrics {\"StartTime\": 1696769143.1068366, \"EndTime\": 1696769143.106845, \"Dimensions\": {\"Algorithm\": \"Linear Learner\", \"Host\": \"algo-1\", \"Operation\": \"training\", \"epoch\": 0, \"model\": 20}, \"Metrics\": {\"train_mse_objective\": {\"sum\": 1.1737286448478699, \"count\": 1, \"min\": 1.1737286448478699, \"max\": 1.1737286448478699}}}\u001b[0m\n",
      "\u001b[34m#metrics {\"StartTime\": 1696769143.1068819, \"EndTime\": 1696769143.1068916, \"Dimensions\": {\"Algorithm\": \"Linear Learner\", \"Host\": \"algo-1\", \"Operation\": \"training\", \"epoch\": 0, \"model\": 21}, \"Metrics\": {\"train_mse_objective\": {\"sum\": 1.2081261078516643, \"count\": 1, \"min\": 1.2081261078516643, \"max\": 1.2081261078516643}}}\u001b[0m\n",
      "\u001b[34m#metrics {\"StartTime\": 1696769143.1069286, \"EndTime\": 1696769143.1069384, \"Dimensions\": {\"Algorithm\": \"Linear Learner\", \"Host\": \"algo-1\", \"Operation\": \"training\", \"epoch\": 0, \"model\": 22}, \"Metrics\": {\"train_mse_objective\": {\"sum\": 1.0675251086552937, \"count\": 1, \"min\": 1.0675251086552937, \"max\": 1.0675251086552937}}}\u001b[0m\n",
      "\u001b[34m#metrics {\"StartTime\": 1696769143.1069806, \"EndTime\": 1696769143.1069903, \"Dimensions\": {\"Algorithm\": \"Linear Learner\", \"Host\": \"algo-1\", \"Operation\": \"training\", \"epoch\": 0, \"model\": 23}, \"Metrics\": {\"train_mse_objective\": {\"sum\": 1.269089678923289, \"count\": 1, \"min\": 1.269089678923289, \"max\": 1.269089678923289}}}\u001b[0m\n",
      "\u001b[34m#metrics {\"StartTime\": 1696769143.1070223, \"EndTime\": 1696769143.1070313, \"Dimensions\": {\"Algorithm\": \"Linear Learner\", \"Host\": \"algo-1\", \"Operation\": \"training\", \"epoch\": 0, \"model\": 24}, \"Metrics\": {\"train_mse_objective\": {\"sum\": 0.8989544709523519, \"count\": 1, \"min\": 0.8989544709523519, \"max\": 0.8989544709523519}}}\u001b[0m\n",
      "\u001b[34m#metrics {\"StartTime\": 1696769143.1070676, \"EndTime\": 1696769143.1070771, \"Dimensions\": {\"Algorithm\": \"Linear Learner\", \"Host\": \"algo-1\", \"Operation\": \"training\", \"epoch\": 0, \"model\": 25}, \"Metrics\": {\"train_mse_objective\": {\"sum\": 1.0597351590792339, \"count\": 1, \"min\": 1.0597351590792339, \"max\": 1.0597351590792339}}}\u001b[0m\n",
      "\u001b[34m#metrics {\"StartTime\": 1696769143.1071131, \"EndTime\": 1696769143.107122, \"Dimensions\": {\"Algorithm\": \"Linear Learner\", \"Host\": \"algo-1\", \"Operation\": \"training\", \"epoch\": 0, \"model\": 26}, \"Metrics\": {\"train_mse_objective\": {\"sum\": 1.0299968322118123, \"count\": 1, \"min\": 1.0299968322118123, \"max\": 1.0299968322118123}}}\u001b[0m\n",
      "\u001b[34m#metrics {\"StartTime\": 1696769143.1071496, \"EndTime\": 1696769143.1071563, \"Dimensions\": {\"Algorithm\": \"Linear Learner\", \"Host\": \"algo-1\", \"Operation\": \"training\", \"epoch\": 0, \"model\": 27}, \"Metrics\": {\"train_mse_objective\": {\"sum\": 1.005085011323293, \"count\": 1, \"min\": 1.005085011323293, \"max\": 1.005085011323293}}}\u001b[0m\n",
      "\u001b[34m#metrics {\"StartTime\": 1696769143.1071906, \"EndTime\": 1696769143.1071997, \"Dimensions\": {\"Algorithm\": \"Linear Learner\", \"Host\": \"algo-1\", \"Operation\": \"training\", \"epoch\": 0, \"model\": 28}, \"Metrics\": {\"train_mse_objective\": {\"sum\": 1.3629494706789653, \"count\": 1, \"min\": 1.3629494706789653, \"max\": 1.3629494706789653}}}\u001b[0m\n",
      "\u001b[34m#metrics {\"StartTime\": 1696769143.1072357, \"EndTime\": 1696769143.1072419, \"Dimensions\": {\"Algorithm\": \"Linear Learner\", \"Host\": \"algo-1\", \"Operation\": \"training\", \"epoch\": 0, \"model\": 29}, \"Metrics\": {\"train_mse_objective\": {\"sum\": 1.3597870866457622, \"count\": 1, \"min\": 1.3597870866457622, \"max\": 1.3597870866457622}}}\u001b[0m\n",
      "\u001b[34m#metrics {\"StartTime\": 1696769143.107267, \"EndTime\": 1696769143.1072748, \"Dimensions\": {\"Algorithm\": \"Linear Learner\", \"Host\": \"algo-1\", \"Operation\": \"training\", \"epoch\": 0, \"model\": 30}, \"Metrics\": {\"train_mse_objective\": {\"sum\": 1.2376460433006287, \"count\": 1, \"min\": 1.2376460433006287, \"max\": 1.2376460433006287}}}\u001b[0m\n",
      "\u001b[34m#metrics {\"StartTime\": 1696769143.107311, \"EndTime\": 1696769143.1073205, \"Dimensions\": {\"Algorithm\": \"Linear Learner\", \"Host\": \"algo-1\", \"Operation\": \"training\", \"epoch\": 0, \"model\": 31}, \"Metrics\": {\"train_mse_objective\": {\"sum\": 1.4066145618756611, \"count\": 1, \"min\": 1.4066145618756611, \"max\": 1.4066145618756611}}}\u001b[0m\n",
      "\u001b[34m[10/08/2023 12:45:43 INFO 140032014460736] #quality_metric: host=algo-1, epoch=0, train mse_objective <loss>=0.986515740553538\u001b[0m\n",
      "\u001b[34m[10/08/2023 12:45:43 INFO 140032014460736] #early_stopping_criteria_metric: host=algo-1, epoch=0, criteria=mse_objective, value=0.8989544709523519\u001b[0m\n",
      "\u001b[34m[10/08/2023 12:45:43 INFO 140032014460736] Epoch 0: Loss improved. Updating best model\u001b[0m\n",
      "\u001b[34m[10/08/2023 12:45:43 INFO 140032014460736] Saving model for epoch: 0\u001b[0m\n",
      "\u001b[34m[10/08/2023 12:45:43 INFO 140032014460736] Saved checkpoint to \"/tmp/tmpo27axust/mx-mod-0000.params\"\u001b[0m\n",
      "\u001b[34m[10/08/2023 12:45:43 INFO 140032014460736] #progress_metric: host=algo-1, completed 6.666666666666667 % of epochs\u001b[0m\n",
      "\u001b[34m#metrics {\"StartTime\": 1696769143.0480878, \"EndTime\": 1696769143.115145, \"Dimensions\": {\"Algorithm\": \"Linear Learner\", \"Host\": \"algo-1\", \"Operation\": \"training\", \"epoch\": 0, \"Meta\": \"training_data_iter\"}, \"Metrics\": {\"Total Records Seen\": {\"sum\": 32.0, \"count\": 1, \"min\": 32, \"max\": 32}, \"Total Batches Seen\": {\"sum\": 9.0, \"count\": 1, \"min\": 9, \"max\": 9}, \"Max Records Seen Between Resets\": {\"sum\": 14.0, \"count\": 1, \"min\": 14, \"max\": 14}, \"Max Batches Seen Between Resets\": {\"sum\": 4.0, \"count\": 1, \"min\": 4, \"max\": 4}, \"Reset Count\": {\"sum\": 3.0, \"count\": 1, \"min\": 3, \"max\": 3}, \"Number of Records Since Last Reset\": {\"sum\": 14.0, \"count\": 1, \"min\": 14, \"max\": 14}, \"Number of Batches Since Last Reset\": {\"sum\": 4.0, \"count\": 1, \"min\": 4, \"max\": 4}}}\u001b[0m\n",
      "\u001b[34m[10/08/2023 12:45:43 INFO 140032014460736] #throughput_metric: host=algo-1, train throughput=208.4348147096408 records/second\u001b[0m\n",
      "\u001b[34m#metrics {\"StartTime\": 1696769143.167824, \"EndTime\": 1696769143.1678705, \"Dimensions\": {\"Algorithm\": \"Linear Learner\", \"Host\": \"algo-1\", \"Operation\": \"training\", \"epoch\": 1, \"model\": 0}, \"Metrics\": {\"train_mse_objective\": {\"sum\": 0.9528216322263082, \"count\": 1, \"min\": 0.9528216322263082, \"max\": 0.9528216322263082}}}\u001b[0m\n",
      "\u001b[34m#metrics {\"StartTime\": 1696769143.1679318, \"EndTime\": 1696769143.1679428, \"Dimensions\": {\"Algorithm\": \"Linear Learner\", \"Host\": \"algo-1\", \"Operation\": \"training\", \"epoch\": 1, \"model\": 1}, \"Metrics\": {\"train_mse_objective\": {\"sum\": 0.9952412645022074, \"count\": 1, \"min\": 0.9952412645022074, \"max\": 0.9952412645022074}}}\u001b[0m\n",
      "\u001b[34m#metrics {\"StartTime\": 1696769143.1679947, \"EndTime\": 1696769143.168004, \"Dimensions\": {\"Algorithm\": \"Linear Learner\", \"Host\": \"algo-1\", \"Operation\": \"training\", \"epoch\": 1, \"model\": 2}, \"Metrics\": {\"train_mse_objective\": {\"sum\": 0.9579036434491476, \"count\": 1, \"min\": 0.9579036434491476, \"max\": 0.9579036434491476}}}\u001b[0m\n",
      "\u001b[34m#metrics {\"StartTime\": 1696769143.168041, \"EndTime\": 1696769143.1680493, \"Dimensions\": {\"Algorithm\": \"Linear Learner\", \"Host\": \"algo-1\", \"Operation\": \"training\", \"epoch\": 1, \"model\": 3}, \"Metrics\": {\"train_mse_objective\": {\"sum\": 0.9930476347605387, \"count\": 1, \"min\": 0.9930476347605387, \"max\": 0.9930476347605387}}}\u001b[0m\n",
      "\u001b[34m#metrics {\"StartTime\": 1696769143.168082, \"EndTime\": 1696769143.16809, \"Dimensions\": {\"Algorithm\": \"Linear Learner\", \"Host\": \"algo-1\", \"Operation\": \"training\", \"epoch\": 1, \"model\": 4}, \"Metrics\": {\"train_mse_objective\": {\"sum\": 0.7986711462338766, \"count\": 1, \"min\": 0.7986711462338766, \"max\": 0.7986711462338766}}}\u001b[0m\n",
      "\u001b[34m#metrics {\"StartTime\": 1696769143.1681225, \"EndTime\": 1696769143.1681306, \"Dimensions\": {\"Algorithm\": \"Linear Learner\", \"Host\": \"algo-1\", \"Operation\": \"training\", \"epoch\": 1, \"model\": 5}, \"Metrics\": {\"train_mse_objective\": {\"sum\": 0.8106423715750376, \"count\": 1, \"min\": 0.8106423715750376, \"max\": 0.8106423715750376}}}\u001b[0m\n",
      "\u001b[34m#metrics {\"StartTime\": 1696769143.1681654, \"EndTime\": 1696769143.1681736, \"Dimensions\": {\"Algorithm\": \"Linear Learner\", \"Host\": \"algo-1\", \"Operation\": \"training\", \"epoch\": 1, \"model\": 6}, \"Metrics\": {\"train_mse_objective\": {\"sum\": 0.9256145358085632, \"count\": 1, \"min\": 0.9256145358085632, \"max\": 0.9256145358085632}}}\u001b[0m\n",
      "\u001b[34m#metrics {\"StartTime\": 1696769143.168208, \"EndTime\": 1696769143.1682162, \"Dimensions\": {\"Algorithm\": \"Linear Learner\", \"Host\": \"algo-1\", \"Operation\": \"training\", \"epoch\": 1, \"model\": 7}, \"Metrics\": {\"train_mse_objective\": {\"sum\": 0.8830130894978842, \"count\": 1, \"min\": 0.8830130894978842, \"max\": 0.8830130894978842}}}\u001b[0m\n",
      "\u001b[34m#metrics {\"StartTime\": 1696769143.168251, \"EndTime\": 1696769143.1682594, \"Dimensions\": {\"Algorithm\": \"Linear Learner\", \"Host\": \"algo-1\", \"Operation\": \"training\", \"epoch\": 1, \"model\": 8}, \"Metrics\": {\"train_mse_objective\": {\"sum\": 1.074621578057607, \"count\": 1, \"min\": 1.074621578057607, \"max\": 1.074621578057607}}}\u001b[0m\n",
      "\u001b[34m#metrics {\"StartTime\": 1696769143.1682959, \"EndTime\": 1696769143.168305, \"Dimensions\": {\"Algorithm\": \"Linear Learner\", \"Host\": \"algo-1\", \"Operation\": \"training\", \"epoch\": 1, \"model\": 9}, \"Metrics\": {\"train_mse_objective\": {\"sum\": 0.9277047514915466, \"count\": 1, \"min\": 0.9277047514915466, \"max\": 0.9277047514915466}}}\u001b[0m\n",
      "\u001b[34m#metrics {\"StartTime\": 1696769143.168346, \"EndTime\": 1696769143.1683555, \"Dimensions\": {\"Algorithm\": \"Linear Learner\", \"Host\": \"algo-1\", \"Operation\": \"training\", \"epoch\": 1, \"model\": 10}, \"Metrics\": {\"train_mse_objective\": {\"sum\": 0.9416432976722717, \"count\": 1, \"min\": 0.9416432976722717, \"max\": 0.9416432976722717}}}\u001b[0m\n",
      "\u001b[34m#metrics {\"StartTime\": 1696769143.168394, \"EndTime\": 1696769143.1684039, \"Dimensions\": {\"Algorithm\": \"Linear Learner\", \"Host\": \"algo-1\", \"Operation\": \"training\", \"epoch\": 1, \"model\": 11}, \"Metrics\": {\"train_mse_objective\": {\"sum\": 0.9109819531440735, \"count\": 1, \"min\": 0.9109819531440735, \"max\": 0.9109819531440735}}}\u001b[0m\n",
      "\u001b[34m#metrics {\"StartTime\": 1696769143.1684432, \"EndTime\": 1696769143.1684532, \"Dimensions\": {\"Algorithm\": \"Linear Learner\", \"Host\": \"algo-1\", \"Operation\": \"training\", \"epoch\": 1, \"model\": 12}, \"Metrics\": {\"train_mse_objective\": {\"sum\": 0.8096165060997009, \"count\": 1, \"min\": 0.8096165060997009, \"max\": 0.8096165060997009}}}\u001b[0m\n",
      "\u001b[34m#metrics {\"StartTime\": 1696769143.1684883, \"EndTime\": 1696769143.1684978, \"Dimensions\": {\"Algorithm\": \"Linear Learner\", \"Host\": \"algo-1\", \"Operation\": \"training\", \"epoch\": 1, \"model\": 13}, \"Metrics\": {\"train_mse_objective\": {\"sum\": 0.8433791995048523, \"count\": 1, \"min\": 0.8433791995048523, \"max\": 0.8433791995048523}}}\u001b[0m\n",
      "\u001b[34m#metrics {\"StartTime\": 1696769143.1685364, \"EndTime\": 1696769143.168546, \"Dimensions\": {\"Algorithm\": \"Linear Learner\", \"Host\": \"algo-1\", \"Operation\": \"training\", \"epoch\": 1, \"model\": 14}, \"Metrics\": {\"train_mse_objective\": {\"sum\": 0.8077715436617533, \"count\": 1, \"min\": 0.8077715436617533, \"max\": 0.8077715436617533}}}\u001b[0m\n",
      "\u001b[34m#metrics {\"StartTime\": 1696769143.1685815, \"EndTime\": 1696769143.168591, \"Dimensions\": {\"Algorithm\": \"Linear Learner\", \"Host\": \"algo-1\", \"Operation\": \"training\", \"epoch\": 1, \"model\": 15}, \"Metrics\": {\"train_mse_objective\": {\"sum\": 0.851806620756785, \"count\": 1, \"min\": 0.851806620756785, \"max\": 0.851806620756785}}}\u001b[0m\n",
      "\u001b[34m#metrics {\"StartTime\": 1696769143.168627, \"EndTime\": 1696769143.168637, \"Dimensions\": {\"Algorithm\": \"Linear Learner\", \"Host\": \"algo-1\", \"Operation\": \"training\", \"epoch\": 1, \"model\": 16}, \"Metrics\": {\"train_mse_objective\": {\"sum\": 0.878636380036672, \"count\": 1, \"min\": 0.878636380036672, \"max\": 0.878636380036672}}}\u001b[0m\n",
      "\u001b[34m#metrics {\"StartTime\": 1696769143.168671, \"EndTime\": 1696769143.1686804, \"Dimensions\": {\"Algorithm\": \"Linear Learner\", \"Host\": \"algo-1\", \"Operation\": \"training\", \"epoch\": 1, \"model\": 17}, \"Metrics\": {\"train_mse_objective\": {\"sum\": 0.9850177963574728, \"count\": 1, \"min\": 0.9850177963574728, \"max\": 0.9850177963574728}}}\u001b[0m\n",
      "\u001b[34m#metrics {\"StartTime\": 1696769143.1687171, \"EndTime\": 1696769143.1687264, \"Dimensions\": {\"Algorithm\": \"Linear Learner\", \"Host\": \"algo-1\", \"Operation\": \"training\", \"epoch\": 1, \"model\": 18}, \"Metrics\": {\"train_mse_objective\": {\"sum\": 0.933932363986969, \"count\": 1, \"min\": 0.933932363986969, \"max\": 0.933932363986969}}}\u001b[0m\n",
      "\u001b[34m#metrics {\"StartTime\": 1696769143.168764, \"EndTime\": 1696769143.1687732, \"Dimensions\": {\"Algorithm\": \"Linear Learner\", \"Host\": \"algo-1\", \"Operation\": \"training\", \"epoch\": 1, \"model\": 19}, \"Metrics\": {\"train_mse_objective\": {\"sum\": 0.9283237258593241, \"count\": 1, \"min\": 0.9283237258593241, \"max\": 0.9283237258593241}}}\u001b[0m\n",
      "\u001b[34m#metrics {\"StartTime\": 1696769143.1688085, \"EndTime\": 1696769143.1688178, \"Dimensions\": {\"Algorithm\": \"Linear Learner\", \"Host\": \"algo-1\", \"Operation\": \"training\", \"epoch\": 1, \"model\": 20}, \"Metrics\": {\"train_mse_objective\": {\"sum\": 0.8787546952565511, \"count\": 1, \"min\": 0.8787546952565511, \"max\": 0.8787546952565511}}}\u001b[0m\n",
      "\u001b[34m#metrics {\"StartTime\": 1696769143.1688545, \"EndTime\": 1696769143.168864, \"Dimensions\": {\"Algorithm\": \"Linear Learner\", \"Host\": \"algo-1\", \"Operation\": \"training\", \"epoch\": 1, \"model\": 21}, \"Metrics\": {\"train_mse_objective\": {\"sum\": 0.899411658445994, \"count\": 1, \"min\": 0.899411658445994, \"max\": 0.899411658445994}}}\u001b[0m\n",
      "\u001b[34m#metrics {\"StartTime\": 1696769143.1689267, \"EndTime\": 1696769143.1689377, \"Dimensions\": {\"Algorithm\": \"Linear Learner\", \"Host\": \"algo-1\", \"Operation\": \"training\", \"epoch\": 1, \"model\": 22}, \"Metrics\": {\"train_mse_objective\": {\"sum\": 0.8177320659160614, \"count\": 1, \"min\": 0.8177320659160614, \"max\": 0.8177320659160614}}}\u001b[0m\n",
      "\u001b[34m#metrics {\"StartTime\": 1696769143.1689775, \"EndTime\": 1696769143.1689868, \"Dimensions\": {\"Algorithm\": \"Linear Learner\", \"Host\": \"algo-1\", \"Operation\": \"training\", \"epoch\": 1, \"model\": 23}, \"Metrics\": {\"train_mse_objective\": {\"sum\": 0.9368839859962463, \"count\": 1, \"min\": 0.9368839859962463, \"max\": 0.9368839859962463}}}\u001b[0m\n",
      "\u001b[34m#metrics {\"StartTime\": 1696769143.1690245, \"EndTime\": 1696769143.1690342, \"Dimensions\": {\"Algorithm\": \"Linear Learner\", \"Host\": \"algo-1\", \"Operation\": \"training\", \"epoch\": 1, \"model\": 24}, \"Metrics\": {\"train_mse_objective\": {\"sum\": 0.9184544483820597, \"count\": 1, \"min\": 0.9184544483820597, \"max\": 0.9184544483820597}}}\u001b[0m\n",
      "\u001b[34m#metrics {\"StartTime\": 1696769143.1690717, \"EndTime\": 1696769143.1690805, \"Dimensions\": {\"Algorithm\": \"Linear Learner\", \"Host\": \"algo-1\", \"Operation\": \"training\", \"epoch\": 1, \"model\": 25}, \"Metrics\": {\"train_mse_objective\": {\"sum\": 1.0245903531710308, \"count\": 1, \"min\": 1.0245903531710308, \"max\": 1.0245903531710308}}}\u001b[0m\n",
      "\u001b[34m#metrics {\"StartTime\": 1696769143.1691184, \"EndTime\": 1696769143.1691282, \"Dimensions\": {\"Algorithm\": \"Linear Learner\", \"Host\": \"algo-1\", \"Operation\": \"training\", \"epoch\": 1, \"model\": 26}, \"Metrics\": {\"train_mse_objective\": {\"sum\": 0.9962120850880941, \"count\": 1, \"min\": 0.9962120850880941, \"max\": 0.9962120850880941}}}\u001b[0m\n",
      "\u001b[34m#metrics {\"StartTime\": 1696769143.1691613, \"EndTime\": 1696769143.16917, \"Dimensions\": {\"Algorithm\": \"Linear Learner\", \"Host\": \"algo-1\", \"Operation\": \"training\", \"epoch\": 1, \"model\": 27}, \"Metrics\": {\"train_mse_objective\": {\"sum\": 0.9767494797706604, \"count\": 1, \"min\": 0.9767494797706604, \"max\": 0.9767494797706604}}}\u001b[0m\n",
      "\u001b[34m#metrics {\"StartTime\": 1696769143.1692083, \"EndTime\": 1696769143.1692178, \"Dimensions\": {\"Algorithm\": \"Linear Learner\", \"Host\": \"algo-1\", \"Operation\": \"training\", \"epoch\": 1, \"model\": 28}, \"Metrics\": {\"train_mse_objective\": {\"sum\": 1.3417356411616008, \"count\": 1, \"min\": 1.3417356411616008, \"max\": 1.3417356411616008}}}\u001b[0m\n",
      "\u001b[34m#metrics {\"StartTime\": 1696769143.1692564, \"EndTime\": 1696769143.1692648, \"Dimensions\": {\"Algorithm\": \"Linear Learner\", \"Host\": \"algo-1\", \"Operation\": \"training\", \"epoch\": 1, \"model\": 29}, \"Metrics\": {\"train_mse_objective\": {\"sum\": 1.3465049266815186, \"count\": 1, \"min\": 1.3465049266815186, \"max\": 1.3465049266815186}}}\u001b[0m\n",
      "\u001b[34m#metrics {\"StartTime\": 1696769143.169301, \"EndTime\": 1696769143.1693094, \"Dimensions\": {\"Algorithm\": \"Linear Learner\", \"Host\": \"algo-1\", \"Operation\": \"training\", \"epoch\": 1, \"model\": 30}, \"Metrics\": {\"train_mse_objective\": {\"sum\": 1.5046562751134236, \"count\": 1, \"min\": 1.5046562751134236, \"max\": 1.5046562751134236}}}\u001b[0m\n",
      "\u001b[34m#metrics {\"StartTime\": 1696769143.1693404, \"EndTime\": 1696769143.1693492, \"Dimensions\": {\"Algorithm\": \"Linear Learner\", \"Host\": \"algo-1\", \"Operation\": \"training\", \"epoch\": 1, \"model\": 31}, \"Metrics\": {\"train_mse_objective\": {\"sum\": 1.2950137257575989, \"count\": 1, \"min\": 1.2950137257575989, \"max\": 1.2950137257575989}}}\u001b[0m\n",
      "\u001b[34m[10/08/2023 12:45:43 INFO 140032014460736] #quality_metric: host=algo-1, epoch=1, train mse_objective <loss>=0.9528216322263082\u001b[0m\n",
      "\u001b[34m[10/08/2023 12:45:43 INFO 140032014460736] #early_stopping_criteria_metric: host=algo-1, epoch=1, criteria=mse_objective, value=0.7986711462338766\u001b[0m\n",
      "\u001b[34m[10/08/2023 12:45:43 INFO 140032014460736] Epoch 1: Loss improved. Updating best model\u001b[0m\n",
      "\u001b[34m[10/08/2023 12:45:43 INFO 140032014460736] Saving model for epoch: 1\u001b[0m\n",
      "\u001b[34m[10/08/2023 12:45:43 INFO 140032014460736] Saved checkpoint to \"/tmp/tmpw9aoho3l/mx-mod-0000.params\"\u001b[0m\n",
      "\u001b[34m[10/08/2023 12:45:43 INFO 140032014460736] #progress_metric: host=algo-1, completed 13.333333333333334 % of epochs\u001b[0m\n",
      "\u001b[34m#metrics {\"StartTime\": 1696769143.1153789, \"EndTime\": 1696769143.1765656, \"Dimensions\": {\"Algorithm\": \"Linear Learner\", \"Host\": \"algo-1\", \"Operation\": \"training\", \"epoch\": 1, \"Meta\": \"training_data_iter\"}, \"Metrics\": {\"Total Records Seen\": {\"sum\": 46.0, \"count\": 1, \"min\": 46, \"max\": 46}, \"Total Batches Seen\": {\"sum\": 13.0, \"count\": 1, \"min\": 13, \"max\": 13}, \"Max Records Seen Between Resets\": {\"sum\": 14.0, \"count\": 1, \"min\": 14, \"max\": 14}, \"Max Batches Seen Between Resets\": {\"sum\": 4.0, \"count\": 1, \"min\": 4, \"max\": 4}, \"Reset Count\": {\"sum\": 4.0, \"count\": 1, \"min\": 4, \"max\": 4}, \"Number of Records Since Last Reset\": {\"sum\": 14.0, \"count\": 1, \"min\": 14, \"max\": 14}, \"Number of Batches Since Last Reset\": {\"sum\": 4.0, \"count\": 1, \"min\": 4, \"max\": 4}}}\u001b[0m\n",
      "\u001b[34m[10/08/2023 12:45:43 INFO 140032014460736] #throughput_metric: host=algo-1, train throughput=228.4186048320905 records/second\u001b[0m\n",
      "\u001b[34m#metrics {\"StartTime\": 1696769143.2313187, \"EndTime\": 1696769143.231376, \"Dimensions\": {\"Algorithm\": \"Linear Learner\", \"Host\": \"algo-1\", \"Operation\": \"training\", \"epoch\": 2, \"model\": 0}, \"Metrics\": {\"train_mse_objective\": {\"sum\": 0.9250376423199972, \"count\": 1, \"min\": 0.9250376423199972, \"max\": 0.9250376423199972}}}\u001b[0m\n",
      "\u001b[34m#metrics {\"StartTime\": 1696769143.2314432, \"EndTime\": 1696769143.231453, \"Dimensions\": {\"Algorithm\": \"Linear Learner\", \"Host\": \"algo-1\", \"Operation\": \"training\", \"epoch\": 2, \"model\": 1}, \"Metrics\": {\"train_mse_objective\": {\"sum\": 0.9666433930397034, \"count\": 1, \"min\": 0.9666433930397034, \"max\": 0.9666433930397034}}}\u001b[0m\n",
      "\u001b[34m#metrics {\"StartTime\": 1696769143.2314816, \"EndTime\": 1696769143.2314887, \"Dimensions\": {\"Algorithm\": \"Linear Learner\", \"Host\": \"algo-1\", \"Operation\": \"training\", \"epoch\": 2, \"model\": 2}, \"Metrics\": {\"train_mse_objective\": {\"sum\": 0.9300206899642944, \"count\": 1, \"min\": 0.9300206899642944, \"max\": 0.9300206899642944}}}\u001b[0m\n",
      "\u001b[34m#metrics {\"StartTime\": 1696769143.2315176, \"EndTime\": 1696769143.231524, \"Dimensions\": {\"Algorithm\": \"Linear Learner\", \"Host\": \"algo-1\", \"Operation\": \"training\", \"epoch\": 2, \"model\": 3}, \"Metrics\": {\"train_mse_objective\": {\"sum\": 0.9644913872083029, \"count\": 1, \"min\": 0.9644913872083029, \"max\": 0.9644913872083029}}}\u001b[0m\n",
      "\u001b[34m#metrics {\"StartTime\": 1696769143.2315514, \"EndTime\": 1696769143.2315578, \"Dimensions\": {\"Algorithm\": \"Linear Learner\", \"Host\": \"algo-1\", \"Operation\": \"training\", \"epoch\": 2, \"model\": 4}, \"Metrics\": {\"train_mse_objective\": {\"sum\": 0.2336337814728419, \"count\": 1, \"min\": 0.2336337814728419, \"max\": 0.2336337814728419}}}\u001b[0m\n",
      "\u001b[34m#metrics {\"StartTime\": 1696769143.2315865, \"EndTime\": 1696769143.2315927, \"Dimensions\": {\"Algorithm\": \"Linear Learner\", \"Host\": \"algo-1\", \"Operation\": \"training\", \"epoch\": 2, \"model\": 5}, \"Metrics\": {\"train_mse_objective\": {\"sum\": 0.23985803623994192, \"count\": 1, \"min\": 0.23985803623994192, \"max\": 0.23985803623994192}}}\u001b[0m\n",
      "\u001b[34m#metrics {\"StartTime\": 1696769143.231621, \"EndTime\": 1696769143.2316272, \"Dimensions\": {\"Algorithm\": \"Linear Learner\", \"Host\": \"algo-1\", \"Operation\": \"training\", \"epoch\": 2, \"model\": 6}, \"Metrics\": {\"train_mse_objective\": {\"sum\": 0.30550003548463184, \"count\": 1, \"min\": 0.30550003548463184, \"max\": 0.30550003548463184}}}\u001b[0m\n",
      "\u001b[34m#metrics {\"StartTime\": 1696769143.2316546, \"EndTime\": 1696769143.2316608, \"Dimensions\": {\"Algorithm\": \"Linear Learner\", \"Host\": \"algo-1\", \"Operation\": \"training\", \"epoch\": 2, \"model\": 7}, \"Metrics\": {\"train_mse_objective\": {\"sum\": 0.2801041503747304, \"count\": 1, \"min\": 0.2801041503747304, \"max\": 0.2801041503747304}}}\u001b[0m\n",
      "\u001b[34m#metrics {\"StartTime\": 1696769143.2316883, \"EndTime\": 1696769143.2316942, \"Dimensions\": {\"Algorithm\": \"Linear Learner\", \"Host\": \"algo-1\", \"Operation\": \"training\", \"epoch\": 2, \"model\": 8}, \"Metrics\": {\"train_mse_objective\": {\"sum\": 1.0445656577746074, \"count\": 1, \"min\": 1.0445656577746074, \"max\": 1.0445656577746074}}}\u001b[0m\n",
      "\u001b[34m#metrics {\"StartTime\": 1696769143.2317214, \"EndTime\": 1696769143.2317276, \"Dimensions\": {\"Algorithm\": \"Linear Learner\", \"Host\": \"algo-1\", \"Operation\": \"training\", \"epoch\": 2, \"model\": 9}, \"Metrics\": {\"train_mse_objective\": {\"sum\": 0.900416354338328, \"count\": 1, \"min\": 0.900416354338328, \"max\": 0.900416354338328}}}\u001b[0m\n",
      "\u001b[34m#metrics {\"StartTime\": 1696769143.2317536, \"EndTime\": 1696769143.2317595, \"Dimensions\": {\"Algorithm\": \"Linear Learner\", \"Host\": \"algo-1\", \"Operation\": \"training\", \"epoch\": 2, \"model\": 10}, \"Metrics\": {\"train_mse_objective\": {\"sum\": 0.9140790502230326, \"count\": 1, \"min\": 0.9140790502230326, \"max\": 0.9140790502230326}}}\u001b[0m\n",
      "\u001b[34m#metrics {\"StartTime\": 1696769143.2317832, \"EndTime\": 1696769143.231789, \"Dimensions\": {\"Algorithm\": \"Linear Learner\", \"Host\": \"algo-1\", \"Operation\": \"training\", \"epoch\": 2, \"model\": 11}, \"Metrics\": {\"train_mse_objective\": {\"sum\": 0.8840288321177164, \"count\": 1, \"min\": 0.8840288321177164, \"max\": 0.8840288321177164}}}\u001b[0m\n",
      "\u001b[34m#metrics {\"StartTime\": 1696769143.231816, \"EndTime\": 1696769143.2318218, \"Dimensions\": {\"Algorithm\": \"Linear Learner\", \"Host\": \"algo-1\", \"Operation\": \"training\", \"epoch\": 2, \"model\": 12}, \"Metrics\": {\"train_mse_objective\": {\"sum\": 0.2396224041779836, \"count\": 1, \"min\": 0.2396224041779836, \"max\": 0.2396224041779836}}}\u001b[0m\n",
      "\u001b[34m#metrics {\"StartTime\": 1696769143.231849, \"EndTime\": 1696769143.231855, \"Dimensions\": {\"Algorithm\": \"Linear Learner\", \"Host\": \"algo-1\", \"Operation\": \"training\", \"epoch\": 2, \"model\": 13}, \"Metrics\": {\"train_mse_objective\": {\"sum\": 0.2578440805276235, \"count\": 1, \"min\": 0.2578440805276235, \"max\": 0.2578440805276235}}}\u001b[0m\n",
      "\u001b[34m#metrics {\"StartTime\": 1696769143.231881, \"EndTime\": 1696769143.2318869, \"Dimensions\": {\"Algorithm\": \"Linear Learner\", \"Host\": \"algo-1\", \"Operation\": \"training\", \"epoch\": 2, \"model\": 14}, \"Metrics\": {\"train_mse_objective\": {\"sum\": 0.2386564165353775, \"count\": 1, \"min\": 0.2386564165353775, \"max\": 0.2386564165353775}}}\u001b[0m\n",
      "\u001b[34m#metrics {\"StartTime\": 1696769143.2319143, \"EndTime\": 1696769143.2319202, \"Dimensions\": {\"Algorithm\": \"Linear Learner\", \"Host\": \"algo-1\", \"Operation\": \"training\", \"epoch\": 2, \"model\": 15}, \"Metrics\": {\"train_mse_objective\": {\"sum\": 0.2625405639410019, \"count\": 1, \"min\": 0.2625405639410019, \"max\": 0.2625405639410019}}}\u001b[0m\n",
      "\u001b[34m#metrics {\"StartTime\": 1696769143.231954, \"EndTime\": 1696769143.2319608, \"Dimensions\": {\"Algorithm\": \"Linear Learner\", \"Host\": \"algo-1\", \"Operation\": \"training\", \"epoch\": 2, \"model\": 16}, \"Metrics\": {\"train_mse_objective\": {\"sum\": 0.8525078892707825, \"count\": 1, \"min\": 0.8525078892707825, \"max\": 0.8525078892707825}}}\u001b[0m\n",
      "\u001b[34m#metrics {\"StartTime\": 1696769143.2319846, \"EndTime\": 1696769143.2319906, \"Dimensions\": {\"Algorithm\": \"Linear Learner\", \"Host\": \"algo-1\", \"Operation\": \"training\", \"epoch\": 2, \"model\": 17}, \"Metrics\": {\"train_mse_objective\": {\"sum\": 0.9566645622253418, \"count\": 1, \"min\": 0.9566645622253418, \"max\": 0.9566645622253418}}}\u001b[0m\n",
      "\u001b[34m#metrics {\"StartTime\": 1696769143.2320135, \"EndTime\": 1696769143.2320194, \"Dimensions\": {\"Algorithm\": \"Linear Learner\", \"Host\": \"algo-1\", \"Operation\": \"training\", \"epoch\": 2, \"model\": 18}, \"Metrics\": {\"train_mse_objective\": {\"sum\": 0.9066200455029806, \"count\": 1, \"min\": 0.9066200455029806, \"max\": 0.9066200455029806}}}\u001b[0m\n",
      "\u001b[34m#metrics {\"StartTime\": 1696769143.2320454, \"EndTime\": 1696769143.2320511, \"Dimensions\": {\"Algorithm\": \"Linear Learner\", \"Host\": \"algo-1\", \"Operation\": \"training\", \"epoch\": 2, \"model\": 19}, \"Metrics\": {\"train_mse_objective\": {\"sum\": 0.9011285702387491, \"count\": 1, \"min\": 0.9011285702387491, \"max\": 0.9011285702387491}}}\u001b[0m\n",
      "\u001b[34m#metrics {\"StartTime\": 1696769143.2320745, \"EndTime\": 1696769143.2320805, \"Dimensions\": {\"Algorithm\": \"Linear Learner\", \"Host\": \"algo-1\", \"Operation\": \"training\", \"epoch\": 2, \"model\": 20}, \"Metrics\": {\"train_mse_objective\": {\"sum\": 0.3278682231903076, \"count\": 1, \"min\": 0.3278682231903076, \"max\": 0.3278682231903076}}}\u001b[0m\n",
      "\u001b[34m#metrics {\"StartTime\": 1696769143.2321062, \"EndTime\": 1696769143.2321122, \"Dimensions\": {\"Algorithm\": \"Linear Learner\", \"Host\": \"algo-1\", \"Operation\": \"training\", \"epoch\": 2, \"model\": 21}, \"Metrics\": {\"train_mse_objective\": {\"sum\": 0.33668067554632825, \"count\": 1, \"min\": 0.33668067554632825, \"max\": 0.33668067554632825}}}\u001b[0m\n",
      "\u001b[34m#metrics {\"StartTime\": 1696769143.2321358, \"EndTime\": 1696769143.2321413, \"Dimensions\": {\"Algorithm\": \"Linear Learner\", \"Host\": \"algo-1\", \"Operation\": \"training\", \"epoch\": 2, \"model\": 22}, \"Metrics\": {\"train_mse_objective\": {\"sum\": 0.30721011261145276, \"count\": 1, \"min\": 0.30721011261145276, \"max\": 0.30721011261145276}}}\u001b[0m\n",
      "\u001b[34m#metrics {\"StartTime\": 1696769143.2321644, \"EndTime\": 1696769143.2321703, \"Dimensions\": {\"Algorithm\": \"Linear Learner\", \"Host\": \"algo-1\", \"Operation\": \"training\", \"epoch\": 2, \"model\": 23}, \"Metrics\": {\"train_mse_objective\": {\"sum\": 0.3543187479178111, \"count\": 1, \"min\": 0.3543187479178111, \"max\": 0.3543187479178111}}}\u001b[0m\n",
      "\u001b[34m#metrics {\"StartTime\": 1696769143.2321959, \"EndTime\": 1696769143.232202, \"Dimensions\": {\"Algorithm\": \"Linear Learner\", \"Host\": \"algo-1\", \"Operation\": \"training\", \"epoch\": 2, \"model\": 24}, \"Metrics\": {\"train_mse_objective\": {\"sum\": 0.9424784779548645, \"count\": 1, \"min\": 0.9424784779548645, \"max\": 0.9424784779548645}}}\u001b[0m\n",
      "\u001b[34m#metrics {\"StartTime\": 1696769143.2322276, \"EndTime\": 1696769143.2322335, \"Dimensions\": {\"Algorithm\": \"Linear Learner\", \"Host\": \"algo-1\", \"Operation\": \"training\", \"epoch\": 2, \"model\": 25}, \"Metrics\": {\"train_mse_objective\": {\"sum\": 0.9973002274831136, \"count\": 1, \"min\": 0.9973002274831136, \"max\": 0.9973002274831136}}}\u001b[0m\n",
      "\u001b[34m#metrics {\"StartTime\": 1696769143.2322571, \"EndTime\": 1696769143.2322626, \"Dimensions\": {\"Algorithm\": \"Linear Learner\", \"Host\": \"algo-1\", \"Operation\": \"training\", \"epoch\": 2, \"model\": 26}, \"Metrics\": {\"train_mse_objective\": {\"sum\": 0.9737629294395447, \"count\": 1, \"min\": 0.9737629294395447, \"max\": 0.9737629294395447}}}\u001b[0m\n",
      "\u001b[34m#metrics {\"StartTime\": 1696769143.2322884, \"EndTime\": 1696769143.2322938, \"Dimensions\": {\"Algorithm\": \"Linear Learner\", \"Host\": \"algo-1\", \"Operation\": \"training\", \"epoch\": 2, \"model\": 27}, \"Metrics\": {\"train_mse_objective\": {\"sum\": 0.9714210232098898, \"count\": 1, \"min\": 0.9714210232098898, \"max\": 0.9714210232098898}}}\u001b[0m\n",
      "\u001b[34m#metrics {\"StartTime\": 1696769143.2323196, \"EndTime\": 1696769143.232325, \"Dimensions\": {\"Algorithm\": \"Linear Learner\", \"Host\": \"algo-1\", \"Operation\": \"training\", \"epoch\": 2, \"model\": 28}, \"Metrics\": {\"train_mse_objective\": {\"sum\": 1.1177097360293071, \"count\": 1, \"min\": 1.1177097360293071, \"max\": 1.1177097360293071}}}\u001b[0m\n",
      "\u001b[34m#metrics {\"StartTime\": 1696769143.2323508, \"EndTime\": 1696769143.2323565, \"Dimensions\": {\"Algorithm\": \"Linear Learner\", \"Host\": \"algo-1\", \"Operation\": \"training\", \"epoch\": 2, \"model\": 29}, \"Metrics\": {\"train_mse_objective\": {\"sum\": 1.1154762903849285, \"count\": 1, \"min\": 1.1154762903849285, \"max\": 1.1154762903849285}}}\u001b[0m\n",
      "\u001b[34m#metrics {\"StartTime\": 1696769143.2323837, \"EndTime\": 1696769143.23239, \"Dimensions\": {\"Algorithm\": \"Linear Learner\", \"Host\": \"algo-1\", \"Operation\": \"training\", \"epoch\": 2, \"model\": 30}, \"Metrics\": {\"train_mse_objective\": {\"sum\": 1.0738126436869304, \"count\": 1, \"min\": 1.0738126436869304, \"max\": 1.0738126436869304}}}\u001b[0m\n",
      "\u001b[34m#metrics {\"StartTime\": 1696769143.2324152, \"EndTime\": 1696769143.2324212, \"Dimensions\": {\"Algorithm\": \"Linear Learner\", \"Host\": \"algo-1\", \"Operation\": \"training\", \"epoch\": 2, \"model\": 31}, \"Metrics\": {\"train_mse_objective\": {\"sum\": 1.0911887288093567, \"count\": 1, \"min\": 1.0911887288093567, \"max\": 1.0911887288093567}}}\u001b[0m\n",
      "\u001b[34m[10/08/2023 12:45:43 INFO 140032014460736] #quality_metric: host=algo-1, epoch=2, train mse_objective <loss>=0.9250376423199972\u001b[0m\n",
      "\u001b[34m[10/08/2023 12:45:43 INFO 140032014460736] #early_stopping_criteria_metric: host=algo-1, epoch=2, criteria=mse_objective, value=0.2336337814728419\u001b[0m\n",
      "\u001b[34m[10/08/2023 12:45:43 INFO 140032014460736] Epoch 2: Loss improved. Updating best model\u001b[0m\n",
      "\u001b[34m[10/08/2023 12:45:43 INFO 140032014460736] Saving model for epoch: 2\u001b[0m\n",
      "\u001b[34m[10/08/2023 12:45:43 INFO 140032014460736] Saved checkpoint to \"/tmp/tmpkl3jhlca/mx-mod-0000.params\"\u001b[0m\n",
      "\u001b[34m[10/08/2023 12:45:43 INFO 140032014460736] #progress_metric: host=algo-1, completed 20.0 % of epochs\u001b[0m\n",
      "\u001b[34m#metrics {\"StartTime\": 1696769143.176746, \"EndTime\": 1696769143.2396157, \"Dimensions\": {\"Algorithm\": \"Linear Learner\", \"Host\": \"algo-1\", \"Operation\": \"training\", \"epoch\": 2, \"Meta\": \"training_data_iter\"}, \"Metrics\": {\"Total Records Seen\": {\"sum\": 60.0, \"count\": 1, \"min\": 60, \"max\": 60}, \"Total Batches Seen\": {\"sum\": 17.0, \"count\": 1, \"min\": 17, \"max\": 17}, \"Max Records Seen Between Resets\": {\"sum\": 14.0, \"count\": 1, \"min\": 14, \"max\": 14}, \"Max Batches Seen Between Resets\": {\"sum\": 4.0, \"count\": 1, \"min\": 4, \"max\": 4}, \"Reset Count\": {\"sum\": 5.0, \"count\": 1, \"min\": 5, \"max\": 5}, \"Number of Records Since Last Reset\": {\"sum\": 14.0, \"count\": 1, \"min\": 14, \"max\": 14}, \"Number of Batches Since Last Reset\": {\"sum\": 4.0, \"count\": 1, \"min\": 4, \"max\": 4}}}\u001b[0m\n",
      "\u001b[34m[10/08/2023 12:45:43 INFO 140032014460736] #throughput_metric: host=algo-1, train throughput=222.33846643165734 records/second\u001b[0m\n",
      "\u001b[34m#metrics {\"StartTime\": 1696769143.2914822, \"EndTime\": 1696769143.2915394, \"Dimensions\": {\"Algorithm\": \"Linear Learner\", \"Host\": \"algo-1\", \"Operation\": \"training\", \"epoch\": 3, \"model\": 0}, \"Metrics\": {\"train_mse_objective\": {\"sum\": 0.9021515448888143, \"count\": 1, \"min\": 0.9021515448888143, \"max\": 0.9021515448888143}}}\u001b[0m\n",
      "\u001b[34m#metrics {\"StartTime\": 1696769143.2916064, \"EndTime\": 1696769143.2916157, \"Dimensions\": {\"Algorithm\": \"Linear Learner\", \"Host\": \"algo-1\", \"Operation\": \"training\", \"epoch\": 3, \"model\": 1}, \"Metrics\": {\"train_mse_objective\": {\"sum\": 0.9430716633796692, \"count\": 1, \"min\": 0.9430716633796692, \"max\": 0.9430716633796692}}}\u001b[0m\n",
      "\u001b[34m#metrics {\"StartTime\": 1696769143.291646, \"EndTime\": 1696769143.291653, \"Dimensions\": {\"Algorithm\": \"Linear Learner\", \"Host\": \"algo-1\", \"Operation\": \"training\", \"epoch\": 3, \"model\": 2}, \"Metrics\": {\"train_mse_objective\": {\"sum\": 0.9070547620455424, \"count\": 1, \"min\": 0.9070547620455424, \"max\": 0.9070547620455424}}}\u001b[0m\n",
      "\u001b[34m#metrics {\"StartTime\": 1696769143.2916822, \"EndTime\": 1696769143.2916887, \"Dimensions\": {\"Algorithm\": \"Linear Learner\", \"Host\": \"algo-1\", \"Operation\": \"training\", \"epoch\": 3, \"model\": 3}, \"Metrics\": {\"train_mse_objective\": {\"sum\": 0.9409539103507996, \"count\": 1, \"min\": 0.9409539103507996, \"max\": 0.9409539103507996}}}\u001b[0m\n",
      "\u001b[34m#metrics {\"StartTime\": 1696769143.2917175, \"EndTime\": 1696769143.2917237, \"Dimensions\": {\"Algorithm\": \"Linear Learner\", \"Host\": \"algo-1\", \"Operation\": \"training\", \"epoch\": 3, \"model\": 4}, \"Metrics\": {\"train_mse_objective\": {\"sum\": 0.3450061281522115, \"count\": 1, \"min\": 0.3450061281522115, \"max\": 0.3450061281522115}}}\u001b[0m\n",
      "\u001b[34m#metrics {\"StartTime\": 1696769143.2917516, \"EndTime\": 1696769143.2917576, \"Dimensions\": {\"Algorithm\": \"Linear Learner\", \"Host\": \"algo-1\", \"Operation\": \"training\", \"epoch\": 3, \"model\": 5}, \"Metrics\": {\"train_mse_objective\": {\"sum\": 0.34411877393722534, \"count\": 1, \"min\": 0.34411877393722534, \"max\": 0.34411877393722534}}}\u001b[0m\n",
      "\u001b[34m#metrics {\"StartTime\": 1696769143.2917821, \"EndTime\": 1696769143.291788, \"Dimensions\": {\"Algorithm\": \"Linear Learner\", \"Host\": \"algo-1\", \"Operation\": \"training\", \"epoch\": 3, \"model\": 6}, \"Metrics\": {\"train_mse_objective\": {\"sum\": 0.34961246450742084, \"count\": 1, \"min\": 0.34961246450742084, \"max\": 0.34961246450742084}}}\u001b[0m\n",
      "\u001b[34m#metrics {\"StartTime\": 1696769143.291812, \"EndTime\": 1696769143.2918174, \"Dimensions\": {\"Algorithm\": \"Linear Learner\", \"Host\": \"algo-1\", \"Operation\": \"training\", \"epoch\": 3, \"model\": 7}, \"Metrics\": {\"train_mse_objective\": {\"sum\": 0.34542333086331684, \"count\": 1, \"min\": 0.34542333086331684, \"max\": 0.34542333086331684}}}\u001b[0m\n",
      "\u001b[34m#metrics {\"StartTime\": 1696769143.2918413, \"EndTime\": 1696769143.2918472, \"Dimensions\": {\"Algorithm\": \"Linear Learner\", \"Host\": \"algo-1\", \"Operation\": \"training\", \"epoch\": 3, \"model\": 8}, \"Metrics\": {\"train_mse_objective\": {\"sum\": 1.0197834372520447, \"count\": 1, \"min\": 1.0197834372520447, \"max\": 1.0197834372520447}}}\u001b[0m\n",
      "\u001b[34m#metrics {\"StartTime\": 1696769143.2918708, \"EndTime\": 1696769143.2918766, \"Dimensions\": {\"Algorithm\": \"Linear Learner\", \"Host\": \"algo-1\", \"Operation\": \"training\", \"epoch\": 3, \"model\": 9}, \"Metrics\": {\"train_mse_objective\": {\"sum\": 0.8779077529907227, \"count\": 1, \"min\": 0.8779077529907227, \"max\": 0.8779077529907227}}}\u001b[0m\n",
      "\u001b[34m#metrics {\"StartTime\": 1696769143.2919037, \"EndTime\": 1696769143.29191, \"Dimensions\": {\"Algorithm\": \"Linear Learner\", \"Host\": \"algo-1\", \"Operation\": \"training\", \"epoch\": 3, \"model\": 10}, \"Metrics\": {\"train_mse_objective\": {\"sum\": 0.891370435555776, \"count\": 1, \"min\": 0.891370435555776, \"max\": 0.891370435555776}}}\u001b[0m\n",
      "\u001b[34m#metrics {\"StartTime\": 1696769143.2919357, \"EndTime\": 1696769143.2919416, \"Dimensions\": {\"Algorithm\": \"Linear Learner\", \"Host\": \"algo-1\", \"Operation\": \"training\", \"epoch\": 3, \"model\": 11}, \"Metrics\": {\"train_mse_objective\": {\"sum\": 0.8617845773696899, \"count\": 1, \"min\": 0.8617845773696899, \"max\": 0.8617845773696899}}}\u001b[0m\n",
      "\u001b[34m#metrics {\"StartTime\": 1696769143.2919734, \"EndTime\": 1696769143.2919796, \"Dimensions\": {\"Algorithm\": \"Linear Learner\", \"Host\": \"algo-1\", \"Operation\": \"training\", \"epoch\": 3, \"model\": 12}, \"Metrics\": {\"train_mse_objective\": {\"sum\": 0.34470125039418537, \"count\": 1, \"min\": 0.34470125039418537, \"max\": 0.34470125039418537}}}\u001b[0m\n",
      "\u001b[34m#metrics {\"StartTime\": 1696769143.2920058, \"EndTime\": 1696769143.292012, \"Dimensions\": {\"Algorithm\": \"Linear Learner\", \"Host\": \"algo-1\", \"Operation\": \"training\", \"epoch\": 3, \"model\": 13}, \"Metrics\": {\"train_mse_objective\": {\"sum\": 0.34406431516011554, \"count\": 1, \"min\": 0.34406431516011554, \"max\": 0.34406431516011554}}}\u001b[0m\n",
      "\u001b[34m#metrics {\"StartTime\": 1696769143.2920413, \"EndTime\": 1696769143.292047, \"Dimensions\": {\"Algorithm\": \"Linear Learner\", \"Host\": \"algo-1\", \"Operation\": \"training\", \"epoch\": 3, \"model\": 14}, \"Metrics\": {\"train_mse_objective\": {\"sum\": 0.34476261337598163, \"count\": 1, \"min\": 0.34476261337598163, \"max\": 0.34476261337598163}}}\u001b[0m\n",
      "\u001b[34m#metrics {\"StartTime\": 1696769143.292073, \"EndTime\": 1696769143.2920787, \"Dimensions\": {\"Algorithm\": \"Linear Learner\", \"Host\": \"algo-1\", \"Operation\": \"training\", \"epoch\": 3, \"model\": 15}, \"Metrics\": {\"train_mse_objective\": {\"sum\": 0.3442479570706685, \"count\": 1, \"min\": 0.3442479570706685, \"max\": 0.3442479570706685}}}\u001b[0m\n",
      "\u001b[34m#metrics {\"StartTime\": 1696769143.2921054, \"EndTime\": 1696769143.2921116, \"Dimensions\": {\"Algorithm\": \"Linear Learner\", \"Host\": \"algo-1\", \"Operation\": \"training\", \"epoch\": 3, \"model\": 16}, \"Metrics\": {\"train_mse_objective\": {\"sum\": 0.831037183602651, \"count\": 1, \"min\": 0.831037183602651, \"max\": 0.831037183602651}}}\u001b[0m\n",
      "\u001b[34m#metrics {\"StartTime\": 1696769143.292137, \"EndTime\": 1696769143.292143, \"Dimensions\": {\"Algorithm\": \"Linear Learner\", \"Host\": \"algo-1\", \"Operation\": \"training\", \"epoch\": 3, \"model\": 17}, \"Metrics\": {\"train_mse_objective\": {\"sum\": 0.9333721796671549, \"count\": 1, \"min\": 0.9333721796671549, \"max\": 0.9333721796671549}}}\u001b[0m\n",
      "\u001b[34m#metrics {\"StartTime\": 1696769143.2921681, \"EndTime\": 1696769143.292174, \"Dimensions\": {\"Algorithm\": \"Linear Learner\", \"Host\": \"algo-1\", \"Operation\": \"training\", \"epoch\": 3, \"model\": 18}, \"Metrics\": {\"train_mse_objective\": {\"sum\": 0.8842060764630636, \"count\": 1, \"min\": 0.8842060764630636, \"max\": 0.8842060764630636}}}\u001b[0m\n",
      "\u001b[34m#metrics {\"StartTime\": 1696769143.2922013, \"EndTime\": 1696769143.292207, \"Dimensions\": {\"Algorithm\": \"Linear Learner\", \"Host\": \"algo-1\", \"Operation\": \"training\", \"epoch\": 3, \"model\": 19}, \"Metrics\": {\"train_mse_objective\": {\"sum\": 0.8787899613380432, \"count\": 1, \"min\": 0.8787899613380432, \"max\": 0.8787899613380432}}}\u001b[0m\n",
      "\u001b[34m#metrics {\"StartTime\": 1696769143.2922328, \"EndTime\": 1696769143.2922385, \"Dimensions\": {\"Algorithm\": \"Linear Learner\", \"Host\": \"algo-1\", \"Operation\": \"training\", \"epoch\": 3, \"model\": 20}, \"Metrics\": {\"train_mse_objective\": {\"sum\": 0.42944714426994324, \"count\": 1, \"min\": 0.42944714426994324, \"max\": 0.42944714426994324}}}\u001b[0m\n",
      "\u001b[34m#metrics {\"StartTime\": 1696769143.292262, \"EndTime\": 1696769143.292268, \"Dimensions\": {\"Algorithm\": \"Linear Learner\", \"Host\": \"algo-1\", \"Operation\": \"training\", \"epoch\": 3, \"model\": 21}, \"Metrics\": {\"train_mse_objective\": {\"sum\": 0.4269854525725047, \"count\": 1, \"min\": 0.4269854525725047, \"max\": 0.4269854525725047}}}\u001b[0m\n",
      "\u001b[34m#metrics {\"StartTime\": 1696769143.2922964, \"EndTime\": 1696769143.2923026, \"Dimensions\": {\"Algorithm\": \"Linear Learner\", \"Host\": \"algo-1\", \"Operation\": \"training\", \"epoch\": 3, \"model\": 22}, \"Metrics\": {\"train_mse_objective\": {\"sum\": 0.44321391979853314, \"count\": 1, \"min\": 0.44321391979853314, \"max\": 0.44321391979853314}}}\u001b[0m\n",
      "\u001b[34m#metrics {\"StartTime\": 1696769143.292326, \"EndTime\": 1696769143.2923317, \"Dimensions\": {\"Algorithm\": \"Linear Learner\", \"Host\": \"algo-1\", \"Operation\": \"training\", \"epoch\": 3, \"model\": 23}, \"Metrics\": {\"train_mse_objective\": {\"sum\": 0.4254838228225708, \"count\": 1, \"min\": 0.4254838228225708, \"max\": 0.4254838228225708}}}\u001b[0m\n",
      "\u001b[34m#metrics {\"StartTime\": 1696769143.2923548, \"EndTime\": 1696769143.2923608, \"Dimensions\": {\"Algorithm\": \"Linear Learner\", \"Host\": \"algo-1\", \"Operation\": \"training\", \"epoch\": 3, \"model\": 24}, \"Metrics\": {\"train_mse_objective\": {\"sum\": 0.9686143596967062, \"count\": 1, \"min\": 0.9686143596967062, \"max\": 0.9686143596967062}}}\u001b[0m\n",
      "\u001b[34m#metrics {\"StartTime\": 1696769143.292384, \"EndTime\": 1696769143.2923899, \"Dimensions\": {\"Algorithm\": \"Linear Learner\", \"Host\": \"algo-1\", \"Operation\": \"training\", \"epoch\": 3, \"model\": 25}, \"Metrics\": {\"train_mse_objective\": {\"sum\": 0.9795592427253723, \"count\": 1, \"min\": 0.9795592427253723, \"max\": 0.9795592427253723}}}\u001b[0m\n",
      "\u001b[34m#metrics {\"StartTime\": 1696769143.2924154, \"EndTime\": 1696769143.2924213, \"Dimensions\": {\"Algorithm\": \"Linear Learner\", \"Host\": \"algo-1\", \"Operation\": \"training\", \"epoch\": 3, \"model\": 26}, \"Metrics\": {\"train_mse_objective\": {\"sum\": 0.9669725100199381, \"count\": 1, \"min\": 0.9669725100199381, \"max\": 0.9669725100199381}}}\u001b[0m\n",
      "\u001b[34m#metrics {\"StartTime\": 1696769143.292445, \"EndTime\": 1696769143.2924507, \"Dimensions\": {\"Algorithm\": \"Linear Learner\", \"Host\": \"algo-1\", \"Operation\": \"training\", \"epoch\": 3, \"model\": 27}, \"Metrics\": {\"train_mse_objective\": {\"sum\": 0.9821875890096029, \"count\": 1, \"min\": 0.9821875890096029, \"max\": 0.9821875890096029}}}\u001b[0m\n",
      "\u001b[34m#metrics {\"StartTime\": 1696769143.292477, \"EndTime\": 1696769143.2924829, \"Dimensions\": {\"Algorithm\": \"Linear Learner\", \"Host\": \"algo-1\", \"Operation\": \"training\", \"epoch\": 3, \"model\": 28}, \"Metrics\": {\"train_mse_objective\": {\"sum\": 1.2338425517082214, \"count\": 1, \"min\": 1.2338425517082214, \"max\": 1.2338425517082214}}}\u001b[0m\n",
      "\u001b[34m#metrics {\"StartTime\": 1696769143.29251, \"EndTime\": 1696769143.292516, \"Dimensions\": {\"Algorithm\": \"Linear Learner\", \"Host\": \"algo-1\", \"Operation\": \"training\", \"epoch\": 3, \"model\": 29}, \"Metrics\": {\"train_mse_objective\": {\"sum\": 1.231397032737732, \"count\": 1, \"min\": 1.231397032737732, \"max\": 1.231397032737732}}}\u001b[0m\n",
      "\u001b[34m#metrics {\"StartTime\": 1696769143.2925444, \"EndTime\": 1696769143.2925503, \"Dimensions\": {\"Algorithm\": \"Linear Learner\", \"Host\": \"algo-1\", \"Operation\": \"training\", \"epoch\": 3, \"model\": 30}, \"Metrics\": {\"train_mse_objective\": {\"sum\": 1.1306429505348206, \"count\": 1, \"min\": 1.1306429505348206, \"max\": 1.1306429505348206}}}\u001b[0m\n",
      "\u001b[34m#metrics {\"StartTime\": 1696769143.2925766, \"EndTime\": 1696769143.2925825, \"Dimensions\": {\"Algorithm\": \"Linear Learner\", \"Host\": \"algo-1\", \"Operation\": \"training\", \"epoch\": 3, \"model\": 31}, \"Metrics\": {\"train_mse_objective\": {\"sum\": 1.2883188327153523, \"count\": 1, \"min\": 1.2883188327153523, \"max\": 1.2883188327153523}}}\u001b[0m\n",
      "\u001b[34m[10/08/2023 12:45:43 INFO 140032014460736] #quality_metric: host=algo-1, epoch=3, train mse_objective <loss>=0.9021515448888143\u001b[0m\n",
      "\u001b[34m[10/08/2023 12:45:43 INFO 140032014460736] #early_stopping_criteria_metric: host=algo-1, epoch=3, criteria=mse_objective, value=0.34406431516011554\u001b[0m\n",
      "\u001b[34m[10/08/2023 12:45:43 INFO 140032014460736] Saving model for epoch: 3\u001b[0m\n",
      "\u001b[34m[10/08/2023 12:45:43 INFO 140032014460736] Saved checkpoint to \"/tmp/tmpxt9f5o5m/mx-mod-0000.params\"\u001b[0m\n",
      "\u001b[34m[10/08/2023 12:45:43 INFO 140032014460736] #progress_metric: host=algo-1, completed 26.666666666666668 % of epochs\u001b[0m\n",
      "\u001b[34m#metrics {\"StartTime\": 1696769143.2397974, \"EndTime\": 1696769143.2991881, \"Dimensions\": {\"Algorithm\": \"Linear Learner\", \"Host\": \"algo-1\", \"Operation\": \"training\", \"epoch\": 3, \"Meta\": \"training_data_iter\"}, \"Metrics\": {\"Total Records Seen\": {\"sum\": 74.0, \"count\": 1, \"min\": 74, \"max\": 74}, \"Total Batches Seen\": {\"sum\": 21.0, \"count\": 1, \"min\": 21, \"max\": 21}, \"Max Records Seen Between Resets\": {\"sum\": 14.0, \"count\": 1, \"min\": 14, \"max\": 14}, \"Max Batches Seen Between Resets\": {\"sum\": 4.0, \"count\": 1, \"min\": 4, \"max\": 4}, \"Reset Count\": {\"sum\": 6.0, \"count\": 1, \"min\": 6, \"max\": 6}, \"Number of Records Since Last Reset\": {\"sum\": 14.0, \"count\": 1, \"min\": 14, \"max\": 14}, \"Number of Batches Since Last Reset\": {\"sum\": 4.0, \"count\": 1, \"min\": 4, \"max\": 4}}}\u001b[0m\n",
      "\u001b[34m[10/08/2023 12:45:43 INFO 140032014460736] #throughput_metric: host=algo-1, train throughput=235.34889760844558 records/second\u001b[0m\n",
      "\u001b[34m#metrics {\"StartTime\": 1696769143.349899, \"EndTime\": 1696769143.349955, \"Dimensions\": {\"Algorithm\": \"Linear Learner\", \"Host\": \"algo-1\", \"Operation\": \"training\", \"epoch\": 4, \"model\": 0}, \"Metrics\": {\"train_mse_objective\": {\"sum\": 0.8769392569859823, \"count\": 1, \"min\": 0.8769392569859823, \"max\": 0.8769392569859823}}}\u001b[0m\n",
      "\u001b[34m#metrics {\"StartTime\": 1696769143.3500233, \"EndTime\": 1696769143.350033, \"Dimensions\": {\"Algorithm\": \"Linear Learner\", \"Host\": \"algo-1\", \"Operation\": \"training\", \"epoch\": 4, \"model\": 1}, \"Metrics\": {\"train_mse_objective\": {\"sum\": 0.9171232978502909, \"count\": 1, \"min\": 0.9171232978502909, \"max\": 0.9171232978502909}}}\u001b[0m\n",
      "\u001b[34m#metrics {\"StartTime\": 1696769143.3500676, \"EndTime\": 1696769143.3500745, \"Dimensions\": {\"Algorithm\": \"Linear Learner\", \"Host\": \"algo-1\", \"Operation\": \"training\", \"epoch\": 4, \"model\": 2}, \"Metrics\": {\"train_mse_objective\": {\"sum\": 0.8817816774050394, \"count\": 1, \"min\": 0.8817816774050394, \"max\": 0.8817816774050394}}}\u001b[0m\n",
      "\u001b[34m#metrics {\"StartTime\": 1696769143.350105, \"EndTime\": 1696769143.350112, \"Dimensions\": {\"Algorithm\": \"Linear Learner\", \"Host\": \"algo-1\", \"Operation\": \"training\", \"epoch\": 4, \"model\": 3}, \"Metrics\": {\"train_mse_objective\": {\"sum\": 0.9150315920511881, \"count\": 1, \"min\": 0.9150315920511881, \"max\": 0.9150315920511881}}}\u001b[0m\n",
      "\u001b[34m#metrics {\"StartTime\": 1696769143.350139, \"EndTime\": 1696769143.350145, \"Dimensions\": {\"Algorithm\": \"Linear Learner\", \"Host\": \"algo-1\", \"Operation\": \"training\", \"epoch\": 4, \"model\": 4}, \"Metrics\": {\"train_mse_objective\": {\"sum\": 0.20654137432575226, \"count\": 1, \"min\": 0.20654137432575226, \"max\": 0.20654137432575226}}}\u001b[0m\n",
      "\u001b[34m#metrics {\"StartTime\": 1696769143.3501737, \"EndTime\": 1696769143.3501801, \"Dimensions\": {\"Algorithm\": \"Linear Learner\", \"Host\": \"algo-1\", \"Operation\": \"training\", \"epoch\": 4, \"model\": 5}, \"Metrics\": {\"train_mse_objective\": {\"sum\": 0.2054572800795237, \"count\": 1, \"min\": 0.2054572800795237, \"max\": 0.2054572800795237}}}\u001b[0m\n",
      "\u001b[34m#metrics {\"StartTime\": 1696769143.3502078, \"EndTime\": 1696769143.350214, \"Dimensions\": {\"Algorithm\": \"Linear Learner\", \"Host\": \"algo-1\", \"Operation\": \"training\", \"epoch\": 4, \"model\": 6}, \"Metrics\": {\"train_mse_objective\": {\"sum\": 0.18412087361017862, \"count\": 1, \"min\": 0.18412087361017862, \"max\": 0.18412087361017862}}}\u001b[0m\n",
      "\u001b[34m#metrics {\"StartTime\": 1696769143.350243, \"EndTime\": 1696769143.3502493, \"Dimensions\": {\"Algorithm\": \"Linear Learner\", \"Host\": \"algo-1\", \"Operation\": \"training\", \"epoch\": 4, \"model\": 7}, \"Metrics\": {\"train_mse_objective\": {\"sum\": 0.19180446614821753, \"count\": 1, \"min\": 0.19180446614821753, \"max\": 0.19180446614821753}}}\u001b[0m\n",
      "\u001b[34m#metrics {\"StartTime\": 1696769143.350277, \"EndTime\": 1696769143.350283, \"Dimensions\": {\"Algorithm\": \"Linear Learner\", \"Host\": \"algo-1\", \"Operation\": \"training\", \"epoch\": 4, \"model\": 8}, \"Metrics\": {\"train_mse_objective\": {\"sum\": 0.9931495388348898, \"count\": 1, \"min\": 0.9931495388348898, \"max\": 0.9931495388348898}}}\u001b[0m\n",
      "\u001b[34m#metrics {\"StartTime\": 1696769143.3503125, \"EndTime\": 1696769143.3503187, \"Dimensions\": {\"Algorithm\": \"Linear Learner\", \"Host\": \"algo-1\", \"Operation\": \"training\", \"epoch\": 4, \"model\": 9}, \"Metrics\": {\"train_mse_objective\": {\"sum\": 0.8527758916219076, \"count\": 1, \"min\": 0.8527758916219076, \"max\": 0.8527758916219076}}}\u001b[0m\n",
      "\u001b[34m#metrics {\"StartTime\": 1696769143.3503451, \"EndTime\": 1696769143.3503513, \"Dimensions\": {\"Algorithm\": \"Linear Learner\", \"Host\": \"algo-1\", \"Operation\": \"training\", \"epoch\": 4, \"model\": 10}, \"Metrics\": {\"train_mse_objective\": {\"sum\": 0.8662947217623392, \"count\": 1, \"min\": 0.8662947217623392, \"max\": 0.8662947217623392}}}\u001b[0m\n",
      "\u001b[34m#metrics {\"StartTime\": 1696769143.3503757, \"EndTime\": 1696769143.3503816, \"Dimensions\": {\"Algorithm\": \"Linear Learner\", \"Host\": \"algo-1\", \"Operation\": \"training\", \"epoch\": 4, \"model\": 11}, \"Metrics\": {\"train_mse_objective\": {\"sum\": 0.8368585308392843, \"count\": 1, \"min\": 0.8368585308392843, \"max\": 0.8368585308392843}}}\u001b[0m\n",
      "\u001b[34m#metrics {\"StartTime\": 1696769143.3504078, \"EndTime\": 1696769143.3504138, \"Dimensions\": {\"Algorithm\": \"Linear Learner\", \"Host\": \"algo-1\", \"Operation\": \"training\", \"epoch\": 4, \"model\": 12}, \"Metrics\": {\"train_mse_objective\": {\"sum\": 0.2029478500286738, \"count\": 1, \"min\": 0.2029478500286738, \"max\": 0.2029478500286738}}}\u001b[0m\n",
      "\u001b[34m#metrics {\"StartTime\": 1696769143.3504379, \"EndTime\": 1696769143.3504438, \"Dimensions\": {\"Algorithm\": \"Linear Learner\", \"Host\": \"algo-1\", \"Operation\": \"training\", \"epoch\": 4, \"model\": 13}, \"Metrics\": {\"train_mse_objective\": {\"sum\": 0.19786343723535538, \"count\": 1, \"min\": 0.19786343723535538, \"max\": 0.19786343723535538}}}\u001b[0m\n",
      "\u001b[34m#metrics {\"StartTime\": 1696769143.35047, \"EndTime\": 1696769143.350476, \"Dimensions\": {\"Algorithm\": \"Linear Learner\", \"Host\": \"algo-1\", \"Operation\": \"training\", \"epoch\": 4, \"model\": 14}, \"Metrics\": {\"train_mse_objective\": {\"sum\": 0.20332013567288718, \"count\": 1, \"min\": 0.20332013567288718, \"max\": 0.20332013567288718}}}\u001b[0m\n",
      "\u001b[34m#metrics {\"StartTime\": 1696769143.3505027, \"EndTime\": 1696769143.3505085, \"Dimensions\": {\"Algorithm\": \"Linear Learner\", \"Host\": \"algo-1\", \"Operation\": \"training\", \"epoch\": 4, \"model\": 15}, \"Metrics\": {\"train_mse_objective\": {\"sum\": 0.19633503258228302, \"count\": 1, \"min\": 0.19633503258228302, \"max\": 0.19633503258228302}}}\u001b[0m\n",
      "\u001b[34m#metrics {\"StartTime\": 1696769143.3505347, \"EndTime\": 1696769143.3505409, \"Dimensions\": {\"Algorithm\": \"Linear Learner\", \"Host\": \"algo-1\", \"Operation\": \"training\", \"epoch\": 4, \"model\": 16}, \"Metrics\": {\"train_mse_objective\": {\"sum\": 0.807075579961141, \"count\": 1, \"min\": 0.807075579961141, \"max\": 0.807075579961141}}}\u001b[0m\n",
      "\u001b[34m#metrics {\"StartTime\": 1696769143.3505683, \"EndTime\": 1696769143.350574, \"Dimensions\": {\"Algorithm\": \"Linear Learner\", \"Host\": \"algo-1\", \"Operation\": \"training\", \"epoch\": 4, \"model\": 17}, \"Metrics\": {\"train_mse_objective\": {\"sum\": 0.9077548782030741, \"count\": 1, \"min\": 0.9077548782030741, \"max\": 0.9077548782030741}}}\u001b[0m\n",
      "\u001b[34m#metrics {\"StartTime\": 1696769143.3506007, \"EndTime\": 1696769143.3506067, \"Dimensions\": {\"Algorithm\": \"Linear Learner\", \"Host\": \"algo-1\", \"Operation\": \"training\", \"epoch\": 4, \"model\": 18}, \"Metrics\": {\"train_mse_objective\": {\"sum\": 0.8594891627629598, \"count\": 1, \"min\": 0.8594891627629598, \"max\": 0.8594891627629598}}}\u001b[0m\n",
      "\u001b[34m#metrics {\"StartTime\": 1696769143.3506336, \"EndTime\": 1696769143.3506398, \"Dimensions\": {\"Algorithm\": \"Linear Learner\", \"Host\": \"algo-1\", \"Operation\": \"training\", \"epoch\": 4, \"model\": 19}, \"Metrics\": {\"train_mse_objective\": {\"sum\": 0.8539259831110636, \"count\": 1, \"min\": 0.8539259831110636, \"max\": 0.8539259831110636}}}\u001b[0m\n",
      "\u001b[34m#metrics {\"StartTime\": 1696769143.3506672, \"EndTime\": 1696769143.3506732, \"Dimensions\": {\"Algorithm\": \"Linear Learner\", \"Host\": \"algo-1\", \"Operation\": \"training\", \"epoch\": 4, \"model\": 20}, \"Metrics\": {\"train_mse_objective\": {\"sum\": 0.26766182482242584, \"count\": 1, \"min\": 0.26766182482242584, \"max\": 0.26766182482242584}}}\u001b[0m\n",
      "\u001b[34m#metrics {\"StartTime\": 1696769143.3506992, \"EndTime\": 1696769143.3507051, \"Dimensions\": {\"Algorithm\": \"Linear Learner\", \"Host\": \"algo-1\", \"Operation\": \"training\", \"epoch\": 4, \"model\": 21}, \"Metrics\": {\"train_mse_objective\": {\"sum\": 0.26104720930258435, \"count\": 1, \"min\": 0.26104720930258435, \"max\": 0.26104720930258435}}}\u001b[0m\n",
      "\u001b[34m#metrics {\"StartTime\": 1696769143.350733, \"EndTime\": 1696769143.3507392, \"Dimensions\": {\"Algorithm\": \"Linear Learner\", \"Host\": \"algo-1\", \"Operation\": \"training\", \"epoch\": 4, \"model\": 22}, \"Metrics\": {\"train_mse_objective\": {\"sum\": 0.30085650086402893, \"count\": 1, \"min\": 0.30085650086402893, \"max\": 0.30085650086402893}}}\u001b[0m\n",
      "\u001b[34m#metrics {\"StartTime\": 1696769143.3507657, \"EndTime\": 1696769143.3507717, \"Dimensions\": {\"Algorithm\": \"Linear Learner\", \"Host\": \"algo-1\", \"Operation\": \"training\", \"epoch\": 4, \"model\": 23}, \"Metrics\": {\"train_mse_objective\": {\"sum\": 0.250180425743262, \"count\": 1, \"min\": 0.250180425743262, \"max\": 0.250180425743262}}}\u001b[0m\n",
      "\u001b[34m#metrics {\"StartTime\": 1696769143.3507953, \"EndTime\": 1696769143.350801, \"Dimensions\": {\"Algorithm\": \"Linear Learner\", \"Host\": \"algo-1\", \"Operation\": \"training\", \"epoch\": 4, \"model\": 24}, \"Metrics\": {\"train_mse_objective\": {\"sum\": 0.9876639644304911, \"count\": 1, \"min\": 0.9876639644304911, \"max\": 0.9876639644304911}}}\u001b[0m\n",
      "\u001b[34m#metrics {\"StartTime\": 1696769143.3508244, \"EndTime\": 1696769143.35083, \"Dimensions\": {\"Algorithm\": \"Linear Learner\", \"Host\": \"algo-1\", \"Operation\": \"training\", \"epoch\": 4, \"model\": 25}, \"Metrics\": {\"train_mse_objective\": {\"sum\": 0.9665120244026184, \"count\": 1, \"min\": 0.9665120244026184, \"max\": 0.9665120244026184}}}\u001b[0m\n",
      "\u001b[34m#metrics {\"StartTime\": 1696769143.3508554, \"EndTime\": 1696769143.3508613, \"Dimensions\": {\"Algorithm\": \"Linear Learner\", \"Host\": \"algo-1\", \"Operation\": \"training\", \"epoch\": 4, \"model\": 26}, \"Metrics\": {\"train_mse_objective\": {\"sum\": 0.9683563311894735, \"count\": 1, \"min\": 0.9683563311894735, \"max\": 0.9683563311894735}}}\u001b[0m\n",
      "\u001b[34m#metrics {\"StartTime\": 1696769143.3508868, \"EndTime\": 1696769143.3508928, \"Dimensions\": {\"Algorithm\": \"Linear Learner\", \"Host\": \"algo-1\", \"Operation\": \"training\", \"epoch\": 4, \"model\": 27}, \"Metrics\": {\"train_mse_objective\": {\"sum\": 0.9902498126029968, \"count\": 1, \"min\": 0.9902498126029968, \"max\": 0.9902498126029968}}}\u001b[0m\n",
      "\u001b[34m#metrics {\"StartTime\": 1696769143.3509161, \"EndTime\": 1696769143.3509219, \"Dimensions\": {\"Algorithm\": \"Linear Learner\", \"Host\": \"algo-1\", \"Operation\": \"training\", \"epoch\": 4, \"model\": 28}, \"Metrics\": {\"train_mse_objective\": {\"sum\": 0.9627911845842997, \"count\": 1, \"min\": 0.9627911845842997, \"max\": 0.9627911845842997}}}\u001b[0m\n",
      "\u001b[34m#metrics {\"StartTime\": 1696769143.350945, \"EndTime\": 1696769143.350951, \"Dimensions\": {\"Algorithm\": \"Linear Learner\", \"Host\": \"algo-1\", \"Operation\": \"training\", \"epoch\": 4, \"model\": 29}, \"Metrics\": {\"train_mse_objective\": {\"sum\": 0.9646486043930054, \"count\": 1, \"min\": 0.9646486043930054, \"max\": 0.9646486043930054}}}\u001b[0m\n",
      "\u001b[34m#metrics {\"StartTime\": 1696769143.3509781, \"EndTime\": 1696769143.3509839, \"Dimensions\": {\"Algorithm\": \"Linear Learner\", \"Host\": \"algo-1\", \"Operation\": \"training\", \"epoch\": 4, \"model\": 30}, \"Metrics\": {\"train_mse_objective\": {\"sum\": 1.0444334745407104, \"count\": 1, \"min\": 1.0444334745407104, \"max\": 1.0444334745407104}}}\u001b[0m\n",
      "\u001b[34m#metrics {\"StartTime\": 1696769143.3510103, \"EndTime\": 1696769143.3510163, \"Dimensions\": {\"Algorithm\": \"Linear Learner\", \"Host\": \"algo-1\", \"Operation\": \"training\", \"epoch\": 4, \"model\": 31}, \"Metrics\": {\"train_mse_objective\": {\"sum\": 0.9962001045544943, \"count\": 1, \"min\": 0.9962001045544943, \"max\": 0.9962001045544943}}}\u001b[0m\n",
      "\u001b[34m[10/08/2023 12:45:43 INFO 140032014460736] #quality_metric: host=algo-1, epoch=4, train mse_objective <loss>=0.8769392569859823\u001b[0m\n",
      "\u001b[34m[10/08/2023 12:45:43 INFO 140032014460736] #early_stopping_criteria_metric: host=algo-1, epoch=4, criteria=mse_objective, value=0.18412087361017862\u001b[0m\n",
      "\u001b[34m[10/08/2023 12:45:43 INFO 140032014460736] Epoch 4: Loss improved. Updating best model\u001b[0m\n",
      "\u001b[34m[10/08/2023 12:45:43 INFO 140032014460736] Saving model for epoch: 4\u001b[0m\n",
      "\u001b[34m[10/08/2023 12:45:43 INFO 140032014460736] Saved checkpoint to \"/tmp/tmp2ommd9zv/mx-mod-0000.params\"\u001b[0m\n",
      "\u001b[34m[10/08/2023 12:45:43 INFO 140032014460736] #progress_metric: host=algo-1, completed 33.333333333333336 % of epochs\u001b[0m\n",
      "\u001b[34m#metrics {\"StartTime\": 1696769143.299363, \"EndTime\": 1696769143.3606346, \"Dimensions\": {\"Algorithm\": \"Linear Learner\", \"Host\": \"algo-1\", \"Operation\": \"training\", \"epoch\": 4, \"Meta\": \"training_data_iter\"}, \"Metrics\": {\"Total Records Seen\": {\"sum\": 88.0, \"count\": 1, \"min\": 88, \"max\": 88}, \"Total Batches Seen\": {\"sum\": 25.0, \"count\": 1, \"min\": 25, \"max\": 25}, \"Max Records Seen Between Resets\": {\"sum\": 14.0, \"count\": 1, \"min\": 14, \"max\": 14}, \"Max Batches Seen Between Resets\": {\"sum\": 4.0, \"count\": 1, \"min\": 4, \"max\": 4}, \"Reset Count\": {\"sum\": 7.0, \"count\": 1, \"min\": 7, \"max\": 7}, \"Number of Records Since Last Reset\": {\"sum\": 14.0, \"count\": 1, \"min\": 14, \"max\": 14}, \"Number of Batches Since Last Reset\": {\"sum\": 4.0, \"count\": 1, \"min\": 4, \"max\": 4}}}\u001b[0m\n",
      "\u001b[34m[10/08/2023 12:45:43 INFO 140032014460736] #throughput_metric: host=algo-1, train throughput=228.0212332198151 records/second\u001b[0m\n",
      "\u001b[34m#metrics {\"StartTime\": 1696769143.4103768, \"EndTime\": 1696769143.410423, \"Dimensions\": {\"Algorithm\": \"Linear Learner\", \"Host\": \"algo-1\", \"Operation\": \"training\", \"epoch\": 5, \"model\": 0}, \"Metrics\": {\"train_mse_objective\": {\"sum\": 0.8512901862462362, \"count\": 1, \"min\": 0.8512901862462362, \"max\": 0.8512901862462362}}}\u001b[0m\n",
      "\u001b[34m#metrics {\"StartTime\": 1696769143.4104805, \"EndTime\": 1696769143.4104888, \"Dimensions\": {\"Algorithm\": \"Linear Learner\", \"Host\": \"algo-1\", \"Operation\": \"training\", \"epoch\": 5, \"model\": 1}, \"Metrics\": {\"train_mse_objective\": {\"sum\": 0.8905762632687887, \"count\": 1, \"min\": 0.8905762632687887, \"max\": 0.8905762632687887}}}\u001b[0m\n",
      "\u001b[34m#metrics {\"StartTime\": 1696769143.4105263, \"EndTime\": 1696769143.4105349, \"Dimensions\": {\"Algorithm\": \"Linear Learner\", \"Host\": \"algo-1\", \"Operation\": \"training\", \"epoch\": 5, \"model\": 2}, \"Metrics\": {\"train_mse_objective\": {\"sum\": 0.8560531934102377, \"count\": 1, \"min\": 0.8560531934102377, \"max\": 0.8560531934102377}}}\u001b[0m\n",
      "\u001b[34m#metrics {\"StartTime\": 1696769143.4105678, \"EndTime\": 1696769143.4105742, \"Dimensions\": {\"Algorithm\": \"Linear Learner\", \"Host\": \"algo-1\", \"Operation\": \"training\", \"epoch\": 5, \"model\": 3}, \"Metrics\": {\"train_mse_objective\": {\"sum\": 0.8885178565979004, \"count\": 1, \"min\": 0.8885178565979004, \"max\": 0.8885178565979004}}}\u001b[0m\n",
      "\u001b[34m#metrics {\"StartTime\": 1696769143.410606, \"EndTime\": 1696769143.4106138, \"Dimensions\": {\"Algorithm\": \"Linear Learner\", \"Host\": \"algo-1\", \"Operation\": \"training\", \"epoch\": 5, \"model\": 4}, \"Metrics\": {\"train_mse_objective\": {\"sum\": 0.2919063965479533, \"count\": 1, \"min\": 0.2919063965479533, \"max\": 0.2919063965479533}}}\u001b[0m\n",
      "\u001b[34m#metrics {\"StartTime\": 1696769143.4106414, \"EndTime\": 1696769143.410649, \"Dimensions\": {\"Algorithm\": \"Linear Learner\", \"Host\": \"algo-1\", \"Operation\": \"training\", \"epoch\": 5, \"model\": 5}, \"Metrics\": {\"train_mse_objective\": {\"sum\": 0.29024538397789, \"count\": 1, \"min\": 0.29024538397789, \"max\": 0.29024538397789}}}\u001b[0m\n",
      "\u001b[34m#metrics {\"StartTime\": 1696769143.41068, \"EndTime\": 1696769143.410688, \"Dimensions\": {\"Algorithm\": \"Linear Learner\", \"Host\": \"algo-1\", \"Operation\": \"training\", \"epoch\": 5, \"model\": 6}, \"Metrics\": {\"train_mse_objective\": {\"sum\": 0.27502299348513287, \"count\": 1, \"min\": 0.27502299348513287, \"max\": 0.27502299348513287}}}\u001b[0m\n",
      "\u001b[34m#metrics {\"StartTime\": 1696769143.410721, \"EndTime\": 1696769143.4107292, \"Dimensions\": {\"Algorithm\": \"Linear Learner\", \"Host\": \"algo-1\", \"Operation\": \"training\", \"epoch\": 5, \"model\": 7}, \"Metrics\": {\"train_mse_objective\": {\"sum\": 0.2809641460577647, \"count\": 1, \"min\": 0.2809641460577647, \"max\": 0.2809641460577647}}}\u001b[0m\n",
      "\u001b[34m#metrics {\"StartTime\": 1696769143.410764, \"EndTime\": 1696769143.4107726, \"Dimensions\": {\"Algorithm\": \"Linear Learner\", \"Host\": \"algo-1\", \"Operation\": \"training\", \"epoch\": 5, \"model\": 8}, \"Metrics\": {\"train_mse_objective\": {\"sum\": 0.9657023946444193, \"count\": 1, \"min\": 0.9657023946444193, \"max\": 0.9657023946444193}}}\u001b[0m\n",
      "\u001b[34m#metrics {\"StartTime\": 1696769143.4108086, \"EndTime\": 1696769143.4108176, \"Dimensions\": {\"Algorithm\": \"Linear Learner\", \"Host\": \"algo-1\", \"Operation\": \"training\", \"epoch\": 5, \"model\": 9}, \"Metrics\": {\"train_mse_objective\": {\"sum\": 0.8272946079572042, \"count\": 1, \"min\": 0.8272946079572042, \"max\": 0.8272946079572042}}}\u001b[0m\n",
      "\u001b[34m#metrics {\"StartTime\": 1696769143.4108565, \"EndTime\": 1696769143.4108648, \"Dimensions\": {\"Algorithm\": \"Linear Learner\", \"Host\": \"algo-1\", \"Operation\": \"training\", \"epoch\": 5, \"model\": 10}, \"Metrics\": {\"train_mse_objective\": {\"sum\": 0.8408253788948059, \"count\": 1, \"min\": 0.8408253788948059, \"max\": 0.8408253788948059}}}\u001b[0m\n",
      "\u001b[34m#metrics {\"StartTime\": 1696769143.4109027, \"EndTime\": 1696769143.4109125, \"Dimensions\": {\"Algorithm\": \"Linear Learner\", \"Host\": \"algo-1\", \"Operation\": \"training\", \"epoch\": 5, \"model\": 11}, \"Metrics\": {\"train_mse_objective\": {\"sum\": 0.8116522431373596, \"count\": 1, \"min\": 0.8116522431373596, \"max\": 0.8116522431373596}}}\u001b[0m\n",
      "\u001b[34m#metrics {\"StartTime\": 1696769143.4109492, \"EndTime\": 1696769143.4109578, \"Dimensions\": {\"Algorithm\": \"Linear Learner\", \"Host\": \"algo-1\", \"Operation\": \"training\", \"epoch\": 5, \"model\": 12}, \"Metrics\": {\"train_mse_objective\": {\"sum\": 0.28753145535786945, \"count\": 1, \"min\": 0.28753145535786945, \"max\": 0.28753145535786945}}}\u001b[0m\n",
      "\u001b[34m#metrics {\"StartTime\": 1696769143.4109914, \"EndTime\": 1696769143.4109995, \"Dimensions\": {\"Algorithm\": \"Linear Learner\", \"Host\": \"algo-1\", \"Operation\": \"training\", \"epoch\": 5, \"model\": 13}, \"Metrics\": {\"train_mse_objective\": {\"sum\": 0.28345202406247455, \"count\": 1, \"min\": 0.28345202406247455, \"max\": 0.28345202406247455}}}\u001b[0m\n",
      "\u001b[34m#metrics {\"StartTime\": 1696769143.411038, \"EndTime\": 1696769143.4110472, \"Dimensions\": {\"Algorithm\": \"Linear Learner\", \"Host\": \"algo-1\", \"Operation\": \"training\", \"epoch\": 5, \"model\": 14}, \"Metrics\": {\"train_mse_objective\": {\"sum\": 0.287712037563324, \"count\": 1, \"min\": 0.287712037563324, \"max\": 0.287712037563324}}}\u001b[0m\n",
      "\u001b[34m#metrics {\"StartTime\": 1696769143.4110856, \"EndTime\": 1696769143.4110951, \"Dimensions\": {\"Algorithm\": \"Linear Learner\", \"Host\": \"algo-1\", \"Operation\": \"training\", \"epoch\": 5, \"model\": 15}, \"Metrics\": {\"train_mse_objective\": {\"sum\": 0.2824433445930481, \"count\": 1, \"min\": 0.2824433445930481, \"max\": 0.2824433445930481}}}\u001b[0m\n",
      "\u001b[34m#metrics {\"StartTime\": 1696769143.4111311, \"EndTime\": 1696769143.4111404, \"Dimensions\": {\"Algorithm\": \"Linear Learner\", \"Host\": \"algo-1\", \"Operation\": \"training\", \"epoch\": 5, \"model\": 16}, \"Metrics\": {\"train_mse_objective\": {\"sum\": 0.7831031978130341, \"count\": 1, \"min\": 0.7831031978130341, \"max\": 0.7831031978130341}}}\u001b[0m\n",
      "\u001b[34m#metrics {\"StartTime\": 1696769143.4111788, \"EndTime\": 1696769143.4111884, \"Dimensions\": {\"Algorithm\": \"Linear Learner\", \"Host\": \"algo-1\", \"Operation\": \"training\", \"epoch\": 5, \"model\": 17}, \"Metrics\": {\"train_mse_objective\": {\"sum\": 0.8816823363304138, \"count\": 1, \"min\": 0.8816823363304138, \"max\": 0.8816823363304138}}}\u001b[0m\n",
      "\u001b[34m#metrics {\"StartTime\": 1696769143.4112265, \"EndTime\": 1696769143.4112363, \"Dimensions\": {\"Algorithm\": \"Linear Learner\", \"Host\": \"algo-1\", \"Operation\": \"training\", \"epoch\": 5, \"model\": 18}, \"Metrics\": {\"train_mse_objective\": {\"sum\": 0.8345205585161845, \"count\": 1, \"min\": 0.8345205585161845, \"max\": 0.8345205585161845}}}\u001b[0m\n",
      "\u001b[34m#metrics {\"StartTime\": 1696769143.41128, \"EndTime\": 1696769143.4112902, \"Dimensions\": {\"Algorithm\": \"Linear Learner\", \"Host\": \"algo-1\", \"Operation\": \"training\", \"epoch\": 5, \"model\": 19}, \"Metrics\": {\"train_mse_objective\": {\"sum\": 0.8288251558939616, \"count\": 1, \"min\": 0.8288251558939616, \"max\": 0.8288251558939616}}}\u001b[0m\n",
      "\u001b[34m#metrics {\"StartTime\": 1696769143.411333, \"EndTime\": 1696769143.4113433, \"Dimensions\": {\"Algorithm\": \"Linear Learner\", \"Host\": \"algo-1\", \"Operation\": \"training\", \"epoch\": 5, \"model\": 20}, \"Metrics\": {\"train_mse_objective\": {\"sum\": 0.4040493021408717, \"count\": 1, \"min\": 0.4040493021408717, \"max\": 0.4040493021408717}}}\u001b[0m\n",
      "\u001b[34m#metrics {\"StartTime\": 1696769143.4113843, \"EndTime\": 1696769143.4113946, \"Dimensions\": {\"Algorithm\": \"Linear Learner\", \"Host\": \"algo-1\", \"Operation\": \"training\", \"epoch\": 5, \"model\": 21}, \"Metrics\": {\"train_mse_objective\": {\"sum\": 0.389533410469691, \"count\": 1, \"min\": 0.389533410469691, \"max\": 0.389533410469691}}}\u001b[0m\n",
      "\u001b[34m#metrics {\"StartTime\": 1696769143.4114325, \"EndTime\": 1696769143.4114423, \"Dimensions\": {\"Algorithm\": \"Linear Learner\", \"Host\": \"algo-1\", \"Operation\": \"training\", \"epoch\": 5, \"model\": 22}, \"Metrics\": {\"train_mse_objective\": {\"sum\": 0.4567471196254094, \"count\": 1, \"min\": 0.4567471196254094, \"max\": 0.4567471196254094}}}\u001b[0m\n",
      "\u001b[34m#metrics {\"StartTime\": 1696769143.4114823, \"EndTime\": 1696769143.4114919, \"Dimensions\": {\"Algorithm\": \"Linear Learner\", \"Host\": \"algo-1\", \"Operation\": \"training\", \"epoch\": 5, \"model\": 23}, \"Metrics\": {\"train_mse_objective\": {\"sum\": 0.36713353792826336, \"count\": 1, \"min\": 0.36713353792826336, \"max\": 0.36713353792826336}}}\u001b[0m\n",
      "\u001b[34m#metrics {\"StartTime\": 1696769143.4115267, \"EndTime\": 1696769143.4115353, \"Dimensions\": {\"Algorithm\": \"Linear Learner\", \"Host\": \"algo-1\", \"Operation\": \"training\", \"epoch\": 5, \"model\": 24}, \"Metrics\": {\"train_mse_objective\": {\"sum\": 1.0004550019900005, \"count\": 1, \"min\": 1.0004550019900005, \"max\": 1.0004550019900005}}}\u001b[0m\n",
      "\u001b[34m#metrics {\"StartTime\": 1696769143.411573, \"EndTime\": 1696769143.4115825, \"Dimensions\": {\"Algorithm\": \"Linear Learner\", \"Host\": \"algo-1\", \"Operation\": \"training\", \"epoch\": 5, \"model\": 25}, \"Metrics\": {\"train_mse_objective\": {\"sum\": 0.9606320063273112, \"count\": 1, \"min\": 0.9606320063273112, \"max\": 0.9606320063273112}}}\u001b[0m\n",
      "\u001b[34m#metrics {\"StartTime\": 1696769143.4116213, \"EndTime\": 1696769143.411631, \"Dimensions\": {\"Algorithm\": \"Linear Learner\", \"Host\": \"algo-1\", \"Operation\": \"training\", \"epoch\": 5, \"model\": 26}, \"Metrics\": {\"train_mse_objective\": {\"sum\": 0.975041925907135, \"count\": 1, \"min\": 0.975041925907135, \"max\": 0.975041925907135}}}\u001b[0m\n",
      "\u001b[34m#metrics {\"StartTime\": 1696769143.4116693, \"EndTime\": 1696769143.411679, \"Dimensions\": {\"Algorithm\": \"Linear Learner\", \"Host\": \"algo-1\", \"Operation\": \"training\", \"epoch\": 5, \"model\": 27}, \"Metrics\": {\"train_mse_objective\": {\"sum\": 0.9907282789548238, \"count\": 1, \"min\": 0.9907282789548238, \"max\": 0.9907282789548238}}}\u001b[0m\n",
      "\u001b[34m#metrics {\"StartTime\": 1696769143.4117177, \"EndTime\": 1696769143.4117277, \"Dimensions\": {\"Algorithm\": \"Linear Learner\", \"Host\": \"algo-1\", \"Operation\": \"training\", \"epoch\": 5, \"model\": 28}, \"Metrics\": {\"train_mse_objective\": {\"sum\": 1.1100778778394063, \"count\": 1, \"min\": 1.1100778778394063, \"max\": 1.1100778778394063}}}\u001b[0m\n",
      "\u001b[34m#metrics {\"StartTime\": 1696769143.4117703, \"EndTime\": 1696769143.4117808, \"Dimensions\": {\"Algorithm\": \"Linear Learner\", \"Host\": \"algo-1\", \"Operation\": \"training\", \"epoch\": 5, \"model\": 29}, \"Metrics\": {\"train_mse_objective\": {\"sum\": 1.1130967537562053, \"count\": 1, \"min\": 1.1130967537562053, \"max\": 1.1130967537562053}}}\u001b[0m\n",
      "\u001b[34m#metrics {\"StartTime\": 1696769143.4118216, \"EndTime\": 1696769143.4118314, \"Dimensions\": {\"Algorithm\": \"Linear Learner\", \"Host\": \"algo-1\", \"Operation\": \"training\", \"epoch\": 5, \"model\": 30}, \"Metrics\": {\"train_mse_objective\": {\"sum\": 1.1459004084269206, \"count\": 1, \"min\": 1.1459004084269206, \"max\": 1.1459004084269206}}}\u001b[0m\n",
      "\u001b[34m#metrics {\"StartTime\": 1696769143.4118662, \"EndTime\": 1696769143.411875, \"Dimensions\": {\"Algorithm\": \"Linear Learner\", \"Host\": \"algo-1\", \"Operation\": \"training\", \"epoch\": 5, \"model\": 31}, \"Metrics\": {\"train_mse_objective\": {\"sum\": 1.0446775158246357, \"count\": 1, \"min\": 1.0446775158246357, \"max\": 1.0446775158246357}}}\u001b[0m\n",
      "\u001b[34m[10/08/2023 12:45:43 INFO 140032014460736] #quality_metric: host=algo-1, epoch=5, train mse_objective <loss>=0.8512901862462362\u001b[0m\n",
      "\u001b[34m[10/08/2023 12:45:43 INFO 140032014460736] #early_stopping_criteria_metric: host=algo-1, epoch=5, criteria=mse_objective, value=0.27502299348513287\u001b[0m\n",
      "\u001b[34m[10/08/2023 12:45:43 INFO 140032014460736] Saving model for epoch: 5\u001b[0m\n",
      "\u001b[34m[10/08/2023 12:45:43 INFO 140032014460736] Saved checkpoint to \"/tmp/tmpic972rw9/mx-mod-0000.params\"\u001b[0m\n",
      "\u001b[34m[10/08/2023 12:45:43 INFO 140032014460736] #progress_metric: host=algo-1, completed 40.0 % of epochs\u001b[0m\n",
      "\u001b[34m#metrics {\"StartTime\": 1696769143.3608851, \"EndTime\": 1696769143.4180138, \"Dimensions\": {\"Algorithm\": \"Linear Learner\", \"Host\": \"algo-1\", \"Operation\": \"training\", \"epoch\": 5, \"Meta\": \"training_data_iter\"}, \"Metrics\": {\"Total Records Seen\": {\"sum\": 102.0, \"count\": 1, \"min\": 102, \"max\": 102}, \"Total Batches Seen\": {\"sum\": 29.0, \"count\": 1, \"min\": 29, \"max\": 29}, \"Max Records Seen Between Resets\": {\"sum\": 14.0, \"count\": 1, \"min\": 14, \"max\": 14}, \"Max Batches Seen Between Resets\": {\"sum\": 4.0, \"count\": 1, \"min\": 4, \"max\": 4}, \"Reset Count\": {\"sum\": 8.0, \"count\": 1, \"min\": 8, \"max\": 8}, \"Number of Records Since Last Reset\": {\"sum\": 14.0, \"count\": 1, \"min\": 14, \"max\": 14}, \"Number of Batches Since Last Reset\": {\"sum\": 4.0, \"count\": 1, \"min\": 4, \"max\": 4}}}\u001b[0m\n",
      "\u001b[34m[10/08/2023 12:45:43 INFO 140032014460736] #throughput_metric: host=algo-1, train throughput=244.58722337230662 records/second\u001b[0m\n",
      "\u001b[34m#metrics {\"StartTime\": 1696769143.488136, \"EndTime\": 1696769143.488182, \"Dimensions\": {\"Algorithm\": \"Linear Learner\", \"Host\": \"algo-1\", \"Operation\": \"training\", \"epoch\": 6, \"model\": 0}, \"Metrics\": {\"train_mse_objective\": {\"sum\": 0.8271639744440714, \"count\": 1, \"min\": 0.8271639744440714, \"max\": 0.8271639744440714}}}\u001b[0m\n",
      "\u001b[34m#metrics {\"StartTime\": 1696769143.4882383, \"EndTime\": 1696769143.4882467, \"Dimensions\": {\"Algorithm\": \"Linear Learner\", \"Host\": \"algo-1\", \"Operation\": \"training\", \"epoch\": 6, \"model\": 1}, \"Metrics\": {\"train_mse_objective\": {\"sum\": 0.8654918869336446, \"count\": 1, \"min\": 0.8654918869336446, \"max\": 0.8654918869336446}}}\u001b[0m\n",
      "\u001b[34m#metrics {\"StartTime\": 1696769143.4882855, \"EndTime\": 1696769143.4882944, \"Dimensions\": {\"Algorithm\": \"Linear Learner\", \"Host\": \"algo-1\", \"Operation\": \"training\", \"epoch\": 6, \"model\": 2}, \"Metrics\": {\"train_mse_objective\": {\"sum\": 0.8318385084470113, \"count\": 1, \"min\": 0.8318385084470113, \"max\": 0.8318385084470113}}}\u001b[0m\n",
      "\u001b[34m#metrics {\"StartTime\": 1696769143.4883215, \"EndTime\": 1696769143.4883275, \"Dimensions\": {\"Algorithm\": \"Linear Learner\", \"Host\": \"algo-1\", \"Operation\": \"training\", \"epoch\": 6, \"model\": 3}, \"Metrics\": {\"train_mse_objective\": {\"sum\": 0.8634710907936096, \"count\": 1, \"min\": 0.8634710907936096, \"max\": 0.8634710907936096}}}\u001b[0m\n",
      "\u001b[34m#metrics {\"StartTime\": 1696769143.4883542, \"EndTime\": 1696769143.488363, \"Dimensions\": {\"Algorithm\": \"Linear Learner\", \"Host\": \"algo-1\", \"Operation\": \"training\", \"epoch\": 6, \"model\": 4}, \"Metrics\": {\"train_mse_objective\": {\"sum\": 0.19108129541079202, \"count\": 1, \"min\": 0.19108129541079202, \"max\": 0.19108129541079202}}}\u001b[0m\n",
      "\u001b[34m#metrics {\"StartTime\": 1696769143.4883964, \"EndTime\": 1696769143.4884043, \"Dimensions\": {\"Algorithm\": \"Linear Learner\", \"Host\": \"algo-1\", \"Operation\": \"training\", \"epoch\": 6, \"model\": 5}, \"Metrics\": {\"train_mse_objective\": {\"sum\": 0.19380644957224527, \"count\": 1, \"min\": 0.19380644957224527, \"max\": 0.19380644957224527}}}\u001b[0m\n",
      "\u001b[34m#metrics {\"StartTime\": 1696769143.4884331, \"EndTime\": 1696769143.488441, \"Dimensions\": {\"Algorithm\": \"Linear Learner\", \"Host\": \"algo-1\", \"Operation\": \"training\", \"epoch\": 6, \"model\": 6}, \"Metrics\": {\"train_mse_objective\": {\"sum\": 0.1927855188647906, \"count\": 1, \"min\": 0.1927855188647906, \"max\": 0.1927855188647906}}}\u001b[0m\n",
      "\u001b[34m#metrics {\"StartTime\": 1696769143.4884744, \"EndTime\": 1696769143.4884832, \"Dimensions\": {\"Algorithm\": \"Linear Learner\", \"Host\": \"algo-1\", \"Operation\": \"training\", \"epoch\": 6, \"model\": 7}, \"Metrics\": {\"train_mse_objective\": {\"sum\": 0.19597289462884268, \"count\": 1, \"min\": 0.19597289462884268, \"max\": 0.19597289462884268}}}\u001b[0m\n",
      "\u001b[34m#metrics {\"StartTime\": 1696769143.4885156, \"EndTime\": 1696769143.4885244, \"Dimensions\": {\"Algorithm\": \"Linear Learner\", \"Host\": \"algo-1\", \"Operation\": \"training\", \"epoch\": 6, \"model\": 8}, \"Metrics\": {\"train_mse_objective\": {\"sum\": 0.9395395914713541, \"count\": 1, \"min\": 0.9395395914713541, \"max\": 0.9395395914713541}}}\u001b[0m\n",
      "\u001b[34m#metrics {\"StartTime\": 1696769143.4885554, \"EndTime\": 1696769143.4885633, \"Dimensions\": {\"Algorithm\": \"Linear Learner\", \"Host\": \"algo-1\", \"Operation\": \"training\", \"epoch\": 6, \"model\": 9}, \"Metrics\": {\"train_mse_objective\": {\"sum\": 0.8033968011538187, \"count\": 1, \"min\": 0.8033968011538187, \"max\": 0.8033968011538187}}}\u001b[0m\n",
      "\u001b[34m#metrics {\"StartTime\": 1696769143.4885972, \"EndTime\": 1696769143.4886062, \"Dimensions\": {\"Algorithm\": \"Linear Learner\", \"Host\": \"algo-1\", \"Operation\": \"training\", \"epoch\": 6, \"model\": 10}, \"Metrics\": {\"train_mse_objective\": {\"sum\": 0.8168993592262268, \"count\": 1, \"min\": 0.8168993592262268, \"max\": 0.8168993592262268}}}\u001b[0m\n",
      "\u001b[34m#metrics {\"StartTime\": 1696769143.4886415, \"EndTime\": 1696769143.4886503, \"Dimensions\": {\"Algorithm\": \"Linear Learner\", \"Host\": \"algo-1\", \"Operation\": \"training\", \"epoch\": 6, \"model\": 11}, \"Metrics\": {\"train_mse_objective\": {\"sum\": 0.7880555589993795, \"count\": 1, \"min\": 0.7880555589993795, \"max\": 0.7880555589993795}}}\u001b[0m\n",
      "\u001b[34m#metrics {\"StartTime\": 1696769143.4886901, \"EndTime\": 1696769143.4886994, \"Dimensions\": {\"Algorithm\": \"Linear Learner\", \"Host\": \"algo-1\", \"Operation\": \"training\", \"epoch\": 6, \"model\": 12}, \"Metrics\": {\"train_mse_objective\": {\"sum\": 0.1871395856142044, \"count\": 1, \"min\": 0.1871395856142044, \"max\": 0.1871395856142044}}}\u001b[0m\n",
      "\u001b[34m#metrics {\"StartTime\": 1696769143.4887376, \"EndTime\": 1696769143.4887466, \"Dimensions\": {\"Algorithm\": \"Linear Learner\", \"Host\": \"algo-1\", \"Operation\": \"training\", \"epoch\": 6, \"model\": 13}, \"Metrics\": {\"train_mse_objective\": {\"sum\": 0.1908497760693232, \"count\": 1, \"min\": 0.1908497760693232, \"max\": 0.1908497760693232}}}\u001b[0m\n",
      "\u001b[34m#metrics {\"StartTime\": 1696769143.4887826, \"EndTime\": 1696769143.4887917, \"Dimensions\": {\"Algorithm\": \"Linear Learner\", \"Host\": \"algo-1\", \"Operation\": \"training\", \"epoch\": 6, \"model\": 14}, \"Metrics\": {\"train_mse_objective\": {\"sum\": 0.18700512250264487, \"count\": 1, \"min\": 0.18700512250264487, \"max\": 0.18700512250264487}}}\u001b[0m\n",
      "\u001b[34m#metrics {\"StartTime\": 1696769143.4888294, \"EndTime\": 1696769143.488839, \"Dimensions\": {\"Algorithm\": \"Linear Learner\", \"Host\": \"algo-1\", \"Operation\": \"training\", \"epoch\": 6, \"model\": 15}, \"Metrics\": {\"train_mse_objective\": {\"sum\": 0.19114205241203308, \"count\": 1, \"min\": 0.19114205241203308, \"max\": 0.19114205241203308}}}\u001b[0m\n",
      "\u001b[34m#metrics {\"StartTime\": 1696769143.4888768, \"EndTime\": 1696769143.4888856, \"Dimensions\": {\"Algorithm\": \"Linear Learner\", \"Host\": \"algo-1\", \"Operation\": \"training\", \"epoch\": 6, \"model\": 16}, \"Metrics\": {\"train_mse_objective\": {\"sum\": 0.760908047358195, \"count\": 1, \"min\": 0.760908047358195, \"max\": 0.760908047358195}}}\u001b[0m\n",
      "\u001b[34m#metrics {\"StartTime\": 1696769143.488947, \"EndTime\": 1696769143.4889584, \"Dimensions\": {\"Algorithm\": \"Linear Learner\", \"Host\": \"algo-1\", \"Operation\": \"training\", \"epoch\": 6, \"model\": 17}, \"Metrics\": {\"train_mse_objective\": {\"sum\": 0.8572168946266174, \"count\": 1, \"min\": 0.8572168946266174, \"max\": 0.8572168946266174}}}\u001b[0m\n",
      "\u001b[34m#metrics {\"StartTime\": 1696769143.4889987, \"EndTime\": 1696769143.4890087, \"Dimensions\": {\"Algorithm\": \"Linear Learner\", \"Host\": \"algo-1\", \"Operation\": \"training\", \"epoch\": 6, \"model\": 18}, \"Metrics\": {\"train_mse_objective\": {\"sum\": 0.8112369577089945, \"count\": 1, \"min\": 0.8112369577089945, \"max\": 0.8112369577089945}}}\u001b[0m\n",
      "\u001b[34m#metrics {\"StartTime\": 1696769143.4890473, \"EndTime\": 1696769143.4890566, \"Dimensions\": {\"Algorithm\": \"Linear Learner\", \"Host\": \"algo-1\", \"Operation\": \"training\", \"epoch\": 6, \"model\": 19}, \"Metrics\": {\"train_mse_objective\": {\"sum\": 0.8054384390513102, \"count\": 1, \"min\": 0.8054384390513102, \"max\": 0.8054384390513102}}}\u001b[0m\n",
      "\u001b[34m#metrics {\"StartTime\": 1696769143.4890938, \"EndTime\": 1696769143.489103, \"Dimensions\": {\"Algorithm\": \"Linear Learner\", \"Host\": \"algo-1\", \"Operation\": \"training\", \"epoch\": 6, \"model\": 20}, \"Metrics\": {\"train_mse_objective\": {\"sum\": 0.3920688033103943, \"count\": 1, \"min\": 0.3920688033103943, \"max\": 0.3920688033103943}}}\u001b[0m\n",
      "\u001b[34m#metrics {\"StartTime\": 1696769143.4891374, \"EndTime\": 1696769143.4891467, \"Dimensions\": {\"Algorithm\": \"Linear Learner\", \"Host\": \"algo-1\", \"Operation\": \"training\", \"epoch\": 6, \"model\": 21}, \"Metrics\": {\"train_mse_objective\": {\"sum\": 0.3788119653860728, \"count\": 1, \"min\": 0.3788119653860728, \"max\": 0.3788119653860728}}}\u001b[0m\n",
      "\u001b[34m#metrics {\"StartTime\": 1696769143.4891837, \"EndTime\": 1696769143.4891934, \"Dimensions\": {\"Algorithm\": \"Linear Learner\", \"Host\": \"algo-1\", \"Operation\": \"training\", \"epoch\": 6, \"model\": 22}, \"Metrics\": {\"train_mse_objective\": {\"sum\": 0.43659233550230664, \"count\": 1, \"min\": 0.43659233550230664, \"max\": 0.43659233550230664}}}\u001b[0m\n",
      "\u001b[34m#metrics {\"StartTime\": 1696769143.4892273, \"EndTime\": 1696769143.489236, \"Dimensions\": {\"Algorithm\": \"Linear Learner\", \"Host\": \"algo-1\", \"Operation\": \"training\", \"epoch\": 6, \"model\": 23}, \"Metrics\": {\"train_mse_objective\": {\"sum\": 0.35142767429351807, \"count\": 1, \"min\": 0.35142767429351807, \"max\": 0.35142767429351807}}}\u001b[0m\n",
      "\u001b[34m#metrics {\"StartTime\": 1696769143.4892752, \"EndTime\": 1696769143.4892843, \"Dimensions\": {\"Algorithm\": \"Linear Learner\", \"Host\": \"algo-1\", \"Operation\": \"training\", \"epoch\": 6, \"model\": 24}, \"Metrics\": {\"train_mse_objective\": {\"sum\": 1.0077913602193196, \"count\": 1, \"min\": 1.0077913602193196, \"max\": 1.0077913602193196}}}\u001b[0m\n",
      "\u001b[34m#metrics {\"StartTime\": 1696769143.4893215, \"EndTime\": 1696769143.4893303, \"Dimensions\": {\"Algorithm\": \"Linear Learner\", \"Host\": \"algo-1\", \"Operation\": \"training\", \"epoch\": 6, \"model\": 25}, \"Metrics\": {\"train_mse_objective\": {\"sum\": 0.9626581072807312, \"count\": 1, \"min\": 0.9626581072807312, \"max\": 0.9626581072807312}}}\u001b[0m\n",
      "\u001b[34m#metrics {\"StartTime\": 1696769143.4893694, \"EndTime\": 1696769143.489378, \"Dimensions\": {\"Algorithm\": \"Linear Learner\", \"Host\": \"algo-1\", \"Operation\": \"training\", \"epoch\": 6, \"model\": 26}, \"Metrics\": {\"train_mse_objective\": {\"sum\": 0.9841426412264506, \"count\": 1, \"min\": 0.9841426412264506, \"max\": 0.9841426412264506}}}\u001b[0m\n",
      "\u001b[34m#metrics {\"StartTime\": 1696769143.4894156, \"EndTime\": 1696769143.489425, \"Dimensions\": {\"Algorithm\": \"Linear Learner\", \"Host\": \"algo-1\", \"Operation\": \"training\", \"epoch\": 6, \"model\": 27}, \"Metrics\": {\"train_mse_objective\": {\"sum\": 0.986251691977183, \"count\": 1, \"min\": 0.986251691977183, \"max\": 0.986251691977183}}}\u001b[0m\n",
      "\u001b[34m#metrics {\"StartTime\": 1696769143.489462, \"EndTime\": 1696769143.4894712, \"Dimensions\": {\"Algorithm\": \"Linear Learner\", \"Host\": \"algo-1\", \"Operation\": \"training\", \"epoch\": 6, \"model\": 28}, \"Metrics\": {\"train_mse_objective\": {\"sum\": 1.0483108758926392, \"count\": 1, \"min\": 1.0483108758926392, \"max\": 1.0483108758926392}}}\u001b[0m\n",
      "\u001b[34m#metrics {\"StartTime\": 1696769143.4895084, \"EndTime\": 1696769143.4895172, \"Dimensions\": {\"Algorithm\": \"Linear Learner\", \"Host\": \"algo-1\", \"Operation\": \"training\", \"epoch\": 6, \"model\": 29}, \"Metrics\": {\"train_mse_objective\": {\"sum\": 1.045748809973399, \"count\": 1, \"min\": 1.045748809973399, \"max\": 1.045748809973399}}}\u001b[0m\n",
      "\u001b[34m#metrics {\"StartTime\": 1696769143.489554, \"EndTime\": 1696769143.4895635, \"Dimensions\": {\"Algorithm\": \"Linear Learner\", \"Host\": \"algo-1\", \"Operation\": \"training\", \"epoch\": 6, \"model\": 30}, \"Metrics\": {\"train_mse_objective\": {\"sum\": 0.9779555400212606, \"count\": 1, \"min\": 0.9779555400212606, \"max\": 0.9779555400212606}}}\u001b[0m\n",
      "\u001b[34m#metrics {\"StartTime\": 1696769143.4895966, \"EndTime\": 1696769143.4896061, \"Dimensions\": {\"Algorithm\": \"Linear Learner\", \"Host\": \"algo-1\", \"Operation\": \"training\", \"epoch\": 6, \"model\": 31}, \"Metrics\": {\"train_mse_objective\": {\"sum\": 1.0283313592274983, \"count\": 1, \"min\": 1.0283313592274983, \"max\": 1.0283313592274983}}}\u001b[0m\n",
      "\u001b[34m[10/08/2023 12:45:43 INFO 140032014460736] #quality_metric: host=algo-1, epoch=6, train mse_objective <loss>=0.8271639744440714\u001b[0m\n",
      "\u001b[34m[10/08/2023 12:45:43 INFO 140032014460736] #early_stopping_criteria_metric: host=algo-1, epoch=6, criteria=mse_objective, value=0.18700512250264487\u001b[0m\n",
      "\u001b[34m[10/08/2023 12:45:43 INFO 140032014460736] Saving model for epoch: 6\u001b[0m\n",
      "\u001b[34m[10/08/2023 12:45:43 INFO 140032014460736] Saved checkpoint to \"/tmp/tmpvn802cka/mx-mod-0000.params\"\u001b[0m\n",
      "\u001b[34m[10/08/2023 12:45:43 INFO 140032014460736] #progress_metric: host=algo-1, completed 46.666666666666664 % of epochs\u001b[0m\n",
      "\u001b[34m#metrics {\"StartTime\": 1696769143.4182377, \"EndTime\": 1696769143.4956965, \"Dimensions\": {\"Algorithm\": \"Linear Learner\", \"Host\": \"algo-1\", \"Operation\": \"training\", \"epoch\": 6, \"Meta\": \"training_data_iter\"}, \"Metrics\": {\"Total Records Seen\": {\"sum\": 116.0, \"count\": 1, \"min\": 116, \"max\": 116}, \"Total Batches Seen\": {\"sum\": 33.0, \"count\": 1, \"min\": 33, \"max\": 33}, \"Max Records Seen Between Resets\": {\"sum\": 14.0, \"count\": 1, \"min\": 14, \"max\": 14}, \"Max Batches Seen Between Resets\": {\"sum\": 4.0, \"count\": 1, \"min\": 4, \"max\": 4}, \"Reset Count\": {\"sum\": 9.0, \"count\": 1, \"min\": 9, \"max\": 9}, \"Number of Records Since Last Reset\": {\"sum\": 14.0, \"count\": 1, \"min\": 14, \"max\": 14}, \"Number of Batches Since Last Reset\": {\"sum\": 4.0, \"count\": 1, \"min\": 4, \"max\": 4}}}\u001b[0m\n",
      "\u001b[34m[10/08/2023 12:45:43 INFO 140032014460736] #throughput_metric: host=algo-1, train throughput=180.46393042088602 records/second\u001b[0m\n",
      "\u001b[34m#metrics {\"StartTime\": 1696769143.5471299, \"EndTime\": 1696769143.5471933, \"Dimensions\": {\"Algorithm\": \"Linear Learner\", \"Host\": \"algo-1\", \"Operation\": \"training\", \"epoch\": 7, \"model\": 0}, \"Metrics\": {\"train_mse_objective\": {\"sum\": 0.8038402001063029, \"count\": 1, \"min\": 0.8038402001063029, \"max\": 0.8038402001063029}}}\u001b[0m\n",
      "\u001b[34m#metrics {\"StartTime\": 1696769143.5472686, \"EndTime\": 1696769143.547304, \"Dimensions\": {\"Algorithm\": \"Linear Learner\", \"Host\": \"algo-1\", \"Operation\": \"training\", \"epoch\": 7, \"model\": 1}, \"Metrics\": {\"train_mse_objective\": {\"sum\": 0.8411310911178589, \"count\": 1, \"min\": 0.8411310911178589, \"max\": 0.8411310911178589}}}\u001b[0m\n",
      "\u001b[34m#metrics {\"StartTime\": 1696769143.547345, \"EndTime\": 1696769143.5473537, \"Dimensions\": {\"Algorithm\": \"Linear Learner\", \"Host\": \"algo-1\", \"Operation\": \"training\", \"epoch\": 7, \"model\": 2}, \"Metrics\": {\"train_mse_objective\": {\"sum\": 0.8084364533424377, \"count\": 1, \"min\": 0.8084364533424377, \"max\": 0.8084364533424377}}}\u001b[0m\n",
      "\u001b[34m#metrics {\"StartTime\": 1696769143.5474045, \"EndTime\": 1696769143.5474133, \"Dimensions\": {\"Algorithm\": \"Linear Learner\", \"Host\": \"algo-1\", \"Operation\": \"training\", \"epoch\": 7, \"model\": 3}, \"Metrics\": {\"train_mse_objective\": {\"sum\": 0.8391440510749817, \"count\": 1, \"min\": 0.8391440510749817, \"max\": 0.8391440510749817}}}\u001b[0m\n",
      "\u001b[34m#metrics {\"StartTime\": 1696769143.5474427, \"EndTime\": 1696769143.5474498, \"Dimensions\": {\"Algorithm\": \"Linear Learner\", \"Host\": \"algo-1\", \"Operation\": \"training\", \"epoch\": 7, \"model\": 4}, \"Metrics\": {\"train_mse_objective\": {\"sum\": 0.24120472371578217, \"count\": 1, \"min\": 0.24120472371578217, \"max\": 0.24120472371578217}}}\u001b[0m\n",
      "\u001b[34m#metrics {\"StartTime\": 1696769143.547478, \"EndTime\": 1696769143.5474849, \"Dimensions\": {\"Algorithm\": \"Linear Learner\", \"Host\": \"algo-1\", \"Operation\": \"training\", \"epoch\": 7, \"model\": 5}, \"Metrics\": {\"train_mse_objective\": {\"sum\": 0.24343726535638174, \"count\": 1, \"min\": 0.24343726535638174, \"max\": 0.24343726535638174}}}\u001b[0m\n",
      "\u001b[34m#metrics {\"StartTime\": 1696769143.5475128, \"EndTime\": 1696769143.54752, \"Dimensions\": {\"Algorithm\": \"Linear Learner\", \"Host\": \"algo-1\", \"Operation\": \"training\", \"epoch\": 7, \"model\": 6}, \"Metrics\": {\"train_mse_objective\": {\"sum\": 0.25874920189380646, \"count\": 1, \"min\": 0.25874920189380646, \"max\": 0.25874920189380646}}}\u001b[0m\n",
      "\u001b[34m#metrics {\"StartTime\": 1696769143.5475643, \"EndTime\": 1696769143.5475729, \"Dimensions\": {\"Algorithm\": \"Linear Learner\", \"Host\": \"algo-1\", \"Operation\": \"training\", \"epoch\": 7, \"model\": 7}, \"Metrics\": {\"train_mse_objective\": {\"sum\": 0.2547200471162796, \"count\": 1, \"min\": 0.2547200471162796, \"max\": 0.2547200471162796}}}\u001b[0m\n",
      "\u001b[34m#metrics {\"StartTime\": 1696769143.5476155, \"EndTime\": 1696769143.5476243, \"Dimensions\": {\"Algorithm\": \"Linear Learner\", \"Host\": \"algo-1\", \"Operation\": \"training\", \"epoch\": 7, \"model\": 8}, \"Metrics\": {\"train_mse_objective\": {\"sum\": 0.9143828550974528, \"count\": 1, \"min\": 0.9143828550974528, \"max\": 0.9143828550974528}}}\u001b[0m\n",
      "\u001b[34m#metrics {\"StartTime\": 1696769143.5476682, \"EndTime\": 1696769143.547676, \"Dimensions\": {\"Algorithm\": \"Linear Learner\", \"Host\": \"algo-1\", \"Operation\": \"training\", \"epoch\": 7, \"model\": 9}, \"Metrics\": {\"train_mse_objective\": {\"sum\": 0.7800939083099365, \"count\": 1, \"min\": 0.7800939083099365, \"max\": 0.7800939083099365}}}\u001b[0m\n",
      "\u001b[34m#metrics {\"StartTime\": 1696769143.5477226, \"EndTime\": 1696769143.547731, \"Dimensions\": {\"Algorithm\": \"Linear Learner\", \"Host\": \"algo-1\", \"Operation\": \"training\", \"epoch\": 7, \"model\": 10}, \"Metrics\": {\"train_mse_objective\": {\"sum\": 0.7937542001406351, \"count\": 1, \"min\": 0.7937542001406351, \"max\": 0.7937542001406351}}}\u001b[0m\n",
      "\u001b[34m#metrics {\"StartTime\": 1696769143.5477753, \"EndTime\": 1696769143.5477831, \"Dimensions\": {\"Algorithm\": \"Linear Learner\", \"Host\": \"algo-1\", \"Operation\": \"training\", \"epoch\": 7, \"model\": 11}, \"Metrics\": {\"train_mse_objective\": {\"sum\": 0.7650176286697388, \"count\": 1, \"min\": 0.7650176286697388, \"max\": 0.7650176286697388}}}\u001b[0m\n",
      "\u001b[34m#metrics {\"StartTime\": 1696769143.5478137, \"EndTime\": 1696769143.547836, \"Dimensions\": {\"Algorithm\": \"Linear Learner\", \"Host\": \"algo-1\", \"Operation\": \"training\", \"epoch\": 7, \"model\": 12}, \"Metrics\": {\"train_mse_objective\": {\"sum\": 0.23786552747090658, \"count\": 1, \"min\": 0.23786552747090658, \"max\": 0.23786552747090658}}}\u001b[0m\n",
      "\u001b[34m#metrics {\"StartTime\": 1696769143.5478806, \"EndTime\": 1696769143.5478892, \"Dimensions\": {\"Algorithm\": \"Linear Learner\", \"Host\": \"algo-1\", \"Operation\": \"training\", \"epoch\": 7, \"model\": 13}, \"Metrics\": {\"train_mse_objective\": {\"sum\": 0.24350185692310333, \"count\": 1, \"min\": 0.24350185692310333, \"max\": 0.24350185692310333}}}\u001b[0m\n",
      "\u001b[34m#metrics {\"StartTime\": 1696769143.547935, \"EndTime\": 1696769143.5479512, \"Dimensions\": {\"Algorithm\": \"Linear Learner\", \"Host\": \"algo-1\", \"Operation\": \"training\", \"epoch\": 7, \"model\": 14}, \"Metrics\": {\"train_mse_objective\": {\"sum\": 0.237540565431118, \"count\": 1, \"min\": 0.237540565431118, \"max\": 0.237540565431118}}}\u001b[0m\n",
      "\u001b[34m#metrics {\"StartTime\": 1696769143.5479958, \"EndTime\": 1696769143.5480042, \"Dimensions\": {\"Algorithm\": \"Linear Learner\", \"Host\": \"algo-1\", \"Operation\": \"training\", \"epoch\": 7, \"model\": 15}, \"Metrics\": {\"train_mse_objective\": {\"sum\": 0.24478992819786072, \"count\": 1, \"min\": 0.24478992819786072, \"max\": 0.24478992819786072}}}\u001b[0m\n",
      "\u001b[34m#metrics {\"StartTime\": 1696769143.5480514, \"EndTime\": 1696769143.54806, \"Dimensions\": {\"Algorithm\": \"Linear Learner\", \"Host\": \"algo-1\", \"Operation\": \"training\", \"epoch\": 7, \"model\": 16}, \"Metrics\": {\"train_mse_objective\": {\"sum\": 0.7394982179005941, \"count\": 1, \"min\": 0.7394982179005941, \"max\": 0.7394982179005941}}}\u001b[0m\n",
      "\u001b[34m#metrics {\"StartTime\": 1696769143.5480912, \"EndTime\": 1696769143.548098, \"Dimensions\": {\"Algorithm\": \"Linear Learner\", \"Host\": \"algo-1\", \"Operation\": \"training\", \"epoch\": 7, \"model\": 17}, \"Metrics\": {\"train_mse_objective\": {\"sum\": 0.8335963090260824, \"count\": 1, \"min\": 0.8335963090260824, \"max\": 0.8335963090260824}}}\u001b[0m\n",
      "\u001b[34m#metrics {\"StartTime\": 1696769143.5481427, \"EndTime\": 1696769143.5481613, \"Dimensions\": {\"Algorithm\": \"Linear Learner\", \"Host\": \"algo-1\", \"Operation\": \"training\", \"epoch\": 7, \"model\": 18}, \"Metrics\": {\"train_mse_objective\": {\"sum\": 0.7888562679290771, \"count\": 1, \"min\": 0.7888562679290771, \"max\": 0.7888562679290771}}}\u001b[0m\n",
      "\u001b[34m#metrics {\"StartTime\": 1696769143.5481935, \"EndTime\": 1696769143.5482006, \"Dimensions\": {\"Algorithm\": \"Linear Learner\", \"Host\": \"algo-1\", \"Operation\": \"training\", \"epoch\": 7, \"model\": 19}, \"Metrics\": {\"train_mse_objective\": {\"sum\": 0.7827945748964945, \"count\": 1, \"min\": 0.7827945748964945, \"max\": 0.7827945748964945}}}\u001b[0m\n",
      "\u001b[34m#metrics {\"StartTime\": 1696769143.548251, \"EndTime\": 1696769143.5482588, \"Dimensions\": {\"Algorithm\": \"Linear Learner\", \"Host\": \"algo-1\", \"Operation\": \"training\", \"epoch\": 7, \"model\": 20}, \"Metrics\": {\"train_mse_objective\": {\"sum\": 0.4911923011144002, \"count\": 1, \"min\": 0.4911923011144002, \"max\": 0.4911923011144002}}}\u001b[0m\n",
      "\u001b[34m#metrics {\"StartTime\": 1696769143.5482883, \"EndTime\": 1696769143.548309, \"Dimensions\": {\"Algorithm\": \"Linear Learner\", \"Host\": \"algo-1\", \"Operation\": \"training\", \"epoch\": 7, \"model\": 21}, \"Metrics\": {\"train_mse_objective\": {\"sum\": 0.4839232961336772, \"count\": 1, \"min\": 0.4839232961336772, \"max\": 0.4839232961336772}}}\u001b[0m\n",
      "\u001b[34m#metrics {\"StartTime\": 1696769143.5483522, \"EndTime\": 1696769143.5483603, \"Dimensions\": {\"Algorithm\": \"Linear Learner\", \"Host\": \"algo-1\", \"Operation\": \"training\", \"epoch\": 7, \"model\": 22}, \"Metrics\": {\"train_mse_objective\": {\"sum\": 0.4989692469437917, \"count\": 1, \"min\": 0.4989692469437917, \"max\": 0.4989692469437917}}}\u001b[0m\n",
      "\u001b[34m#metrics {\"StartTime\": 1696769143.5483873, \"EndTime\": 1696769143.5484293, \"Dimensions\": {\"Algorithm\": \"Linear Learner\", \"Host\": \"algo-1\", \"Operation\": \"training\", \"epoch\": 7, \"model\": 23}, \"Metrics\": {\"train_mse_objective\": {\"sum\": 0.46606088678042096, \"count\": 1, \"min\": 0.46606088678042096, \"max\": 0.46606088678042096}}}\u001b[0m\n",
      "\u001b[34m#metrics {\"StartTime\": 1696769143.5484629, \"EndTime\": 1696769143.5484698, \"Dimensions\": {\"Algorithm\": \"Linear Learner\", \"Host\": \"algo-1\", \"Operation\": \"training\", \"epoch\": 7, \"model\": 24}, \"Metrics\": {\"train_mse_objective\": {\"sum\": 1.0090149442354839, \"count\": 1, \"min\": 1.0090149442354839, \"max\": 1.0090149442354839}}}\u001b[0m\n",
      "\u001b[34m#metrics {\"StartTime\": 1696769143.5484967, \"EndTime\": 1696769143.5485158, \"Dimensions\": {\"Algorithm\": \"Linear Learner\", \"Host\": \"algo-1\", \"Operation\": \"training\", \"epoch\": 7, \"model\": 25}, \"Metrics\": {\"train_mse_objective\": {\"sum\": 0.9694242676099142, \"count\": 1, \"min\": 0.9694242676099142, \"max\": 0.9694242676099142}}}\u001b[0m\n",
      "\u001b[34m#metrics {\"StartTime\": 1696769143.5485466, \"EndTime\": 1696769143.5485542, \"Dimensions\": {\"Algorithm\": \"Linear Learner\", \"Host\": \"algo-1\", \"Operation\": \"training\", \"epoch\": 7, \"model\": 26}, \"Metrics\": {\"train_mse_objective\": {\"sum\": 0.9908283750216166, \"count\": 1, \"min\": 0.9908283750216166, \"max\": 0.9908283750216166}}}\u001b[0m\n",
      "\u001b[34m#metrics {\"StartTime\": 1696769143.5486066, \"EndTime\": 1696769143.5486162, \"Dimensions\": {\"Algorithm\": \"Linear Learner\", \"Host\": \"algo-1\", \"Operation\": \"training\", \"epoch\": 7, \"model\": 27}, \"Metrics\": {\"train_mse_objective\": {\"sum\": 0.9810442527135214, \"count\": 1, \"min\": 0.9810442527135214, \"max\": 0.9810442527135214}}}\u001b[0m\n",
      "\u001b[34m#metrics {\"StartTime\": 1696769143.5486484, \"EndTime\": 1696769143.5486553, \"Dimensions\": {\"Algorithm\": \"Linear Learner\", \"Host\": \"algo-1\", \"Operation\": \"training\", \"epoch\": 7, \"model\": 28}, \"Metrics\": {\"train_mse_objective\": {\"sum\": 1.0209373235702515, \"count\": 1, \"min\": 1.0209373235702515, \"max\": 1.0209373235702515}}}\u001b[0m\n",
      "\u001b[34m#metrics {\"StartTime\": 1696769143.548712, \"EndTime\": 1696769143.5487201, \"Dimensions\": {\"Algorithm\": \"Linear Learner\", \"Host\": \"algo-1\", \"Operation\": \"training\", \"epoch\": 7, \"model\": 29}, \"Metrics\": {\"train_mse_objective\": {\"sum\": 1.0174903670946758, \"count\": 1, \"min\": 1.0174903670946758, \"max\": 1.0174903670946758}}}\u001b[0m\n",
      "\u001b[34m#metrics {\"StartTime\": 1696769143.5487478, \"EndTime\": 1696769143.5487666, \"Dimensions\": {\"Algorithm\": \"Linear Learner\", \"Host\": \"algo-1\", \"Operation\": \"training\", \"epoch\": 7, \"model\": 30}, \"Metrics\": {\"train_mse_objective\": {\"sum\": 1.0215766827265422, \"count\": 1, \"min\": 1.0215766827265422, \"max\": 1.0215766827265422}}}\u001b[0m\n",
      "\u001b[34m#metrics {\"StartTime\": 1696769143.5488005, \"EndTime\": 1696769143.548808, \"Dimensions\": {\"Algorithm\": \"Linear Learner\", \"Host\": \"algo-1\", \"Operation\": \"training\", \"epoch\": 7, \"model\": 31}, \"Metrics\": {\"train_mse_objective\": {\"sum\": 1.087138831615448, \"count\": 1, \"min\": 1.087138831615448, \"max\": 1.087138831615448}}}\u001b[0m\n",
      "\u001b[34m[10/08/2023 12:45:43 INFO 140032014460736] #quality_metric: host=algo-1, epoch=7, train mse_objective <loss>=0.8038402001063029\u001b[0m\n",
      "\u001b[34m[10/08/2023 12:45:43 INFO 140032014460736] #early_stopping_criteria_metric: host=algo-1, epoch=7, criteria=mse_objective, value=0.237540565431118\u001b[0m\n",
      "\u001b[34m[10/08/2023 12:45:43 INFO 140032014460736] Saving model for epoch: 7\u001b[0m\n",
      "\u001b[34m[10/08/2023 12:45:43 INFO 140032014460736] Saved checkpoint to \"/tmp/tmpa4v6lsmv/mx-mod-0000.params\"\u001b[0m\n",
      "\u001b[34m[10/08/2023 12:45:43 INFO 140032014460736] #progress_metric: host=algo-1, completed 53.333333333333336 % of epochs\u001b[0m\n",
      "\u001b[34m#metrics {\"StartTime\": 1696769143.4959335, \"EndTime\": 1696769143.5573924, \"Dimensions\": {\"Algorithm\": \"Linear Learner\", \"Host\": \"algo-1\", \"Operation\": \"training\", \"epoch\": 7, \"Meta\": \"training_data_iter\"}, \"Metrics\": {\"Total Records Seen\": {\"sum\": 130.0, \"count\": 1, \"min\": 130, \"max\": 130}, \"Total Batches Seen\": {\"sum\": 37.0, \"count\": 1, \"min\": 37, \"max\": 37}, \"Max Records Seen Between Resets\": {\"sum\": 14.0, \"count\": 1, \"min\": 14, \"max\": 14}, \"Max Batches Seen Between Resets\": {\"sum\": 4.0, \"count\": 1, \"min\": 4, \"max\": 4}, \"Reset Count\": {\"sum\": 10.0, \"count\": 1, \"min\": 10, \"max\": 10}, \"Number of Records Since Last Reset\": {\"sum\": 14.0, \"count\": 1, \"min\": 14, \"max\": 14}, \"Number of Batches Since Last Reset\": {\"sum\": 4.0, \"count\": 1, \"min\": 4, \"max\": 4}}}\u001b[0m\n",
      "\u001b[34m[10/08/2023 12:45:43 INFO 140032014460736] #throughput_metric: host=algo-1, train throughput=227.38548874888187 records/second\u001b[0m\n",
      "\u001b[34m#metrics {\"StartTime\": 1696769143.6189082, \"EndTime\": 1696769143.6189744, \"Dimensions\": {\"Algorithm\": \"Linear Learner\", \"Host\": \"algo-1\", \"Operation\": \"training\", \"epoch\": 8, \"model\": 0}, \"Metrics\": {\"train_mse_objective\": {\"sum\": 0.7806713283061981, \"count\": 1, \"min\": 0.7806713283061981, \"max\": 0.7806713283061981}}}\u001b[0m\n",
      "\u001b[34m#metrics {\"StartTime\": 1696769143.6190517, \"EndTime\": 1696769143.6190624, \"Dimensions\": {\"Algorithm\": \"Linear Learner\", \"Host\": \"algo-1\", \"Operation\": \"training\", \"epoch\": 8, \"model\": 1}, \"Metrics\": {\"train_mse_objective\": {\"sum\": 0.8168725768725077, \"count\": 1, \"min\": 0.8168725768725077, \"max\": 0.8168725768725077}}}\u001b[0m\n",
      "\u001b[34m#metrics {\"StartTime\": 1696769143.6190958, \"EndTime\": 1696769143.6191034, \"Dimensions\": {\"Algorithm\": \"Linear Learner\", \"Host\": \"algo-1\", \"Operation\": \"training\", \"epoch\": 8, \"model\": 2}, \"Metrics\": {\"train_mse_objective\": {\"sum\": 0.7851914465427399, \"count\": 1, \"min\": 0.7851914465427399, \"max\": 0.7851914465427399}}}\u001b[0m\n",
      "\u001b[34m#metrics {\"StartTime\": 1696769143.619136, \"EndTime\": 1696769143.6191432, \"Dimensions\": {\"Algorithm\": \"Linear Learner\", \"Host\": \"algo-1\", \"Operation\": \"training\", \"epoch\": 8, \"model\": 3}, \"Metrics\": {\"train_mse_objective\": {\"sum\": 0.8149182200431824, \"count\": 1, \"min\": 0.8149182200431824, \"max\": 0.8149182200431824}}}\u001b[0m\n",
      "\u001b[34m#metrics {\"StartTime\": 1696769143.6191711, \"EndTime\": 1696769143.6191778, \"Dimensions\": {\"Algorithm\": \"Linear Learner\", \"Host\": \"algo-1\", \"Operation\": \"training\", \"epoch\": 8, \"model\": 4}, \"Metrics\": {\"train_mse_objective\": {\"sum\": 0.1720729097723961, \"count\": 1, \"min\": 0.1720729097723961, \"max\": 0.1720729097723961}}}\u001b[0m\n",
      "\u001b[34m#metrics {\"StartTime\": 1696769143.6192052, \"EndTime\": 1696769143.6192122, \"Dimensions\": {\"Algorithm\": \"Linear Learner\", \"Host\": \"algo-1\", \"Operation\": \"training\", \"epoch\": 8, \"model\": 5}, \"Metrics\": {\"train_mse_objective\": {\"sum\": 0.17505916953086853, \"count\": 1, \"min\": 0.17505916953086853, \"max\": 0.17505916953086853}}}\u001b[0m\n",
      "\u001b[34m#metrics {\"StartTime\": 1696769143.6192396, \"EndTime\": 1696769143.619247, \"Dimensions\": {\"Algorithm\": \"Linear Learner\", \"Host\": \"algo-1\", \"Operation\": \"training\", \"epoch\": 8, \"model\": 6}, \"Metrics\": {\"train_mse_objective\": {\"sum\": 0.19419609010219574, \"count\": 1, \"min\": 0.19419609010219574, \"max\": 0.19419609010219574}}}\u001b[0m\n",
      "\u001b[34m#metrics {\"StartTime\": 1696769143.6192734, \"EndTime\": 1696769143.6192806, \"Dimensions\": {\"Algorithm\": \"Linear Learner\", \"Host\": \"algo-1\", \"Operation\": \"training\", \"epoch\": 8, \"model\": 7}, \"Metrics\": {\"train_mse_objective\": {\"sum\": 0.1880971888701121, \"count\": 1, \"min\": 0.1880971888701121, \"max\": 0.1880971888701121}}}\u001b[0m\n",
      "\u001b[34m#metrics {\"StartTime\": 1696769143.6193073, \"EndTime\": 1696769143.6193142, \"Dimensions\": {\"Algorithm\": \"Linear Learner\", \"Host\": \"algo-1\", \"Operation\": \"training\", \"epoch\": 8, \"model\": 8}, \"Metrics\": {\"train_mse_objective\": {\"sum\": 0.88946400086085, \"count\": 1, \"min\": 0.88946400086085, \"max\": 0.88946400086085}}}\u001b[0m\n",
      "\u001b[34m#metrics {\"StartTime\": 1696769143.6193402, \"EndTime\": 1696769143.6193466, \"Dimensions\": {\"Algorithm\": \"Linear Learner\", \"Host\": \"algo-1\", \"Operation\": \"training\", \"epoch\": 8, \"model\": 9}, \"Metrics\": {\"train_mse_objective\": {\"sum\": 0.7568737169106802, \"count\": 1, \"min\": 0.7568737169106802, \"max\": 0.7568737169106802}}}\u001b[0m\n",
      "\u001b[34m#metrics {\"StartTime\": 1696769143.6193733, \"EndTime\": 1696769143.61938, \"Dimensions\": {\"Algorithm\": \"Linear Learner\", \"Host\": \"algo-1\", \"Operation\": \"training\", \"epoch\": 8, \"model\": 10}, \"Metrics\": {\"train_mse_objective\": {\"sum\": 0.7707607547442118, \"count\": 1, \"min\": 0.7707607547442118, \"max\": 0.7707607547442118}}}\u001b[0m\n",
      "\u001b[34m#metrics {\"StartTime\": 1696769143.6194074, \"EndTime\": 1696769143.619414, \"Dimensions\": {\"Algorithm\": \"Linear Learner\", \"Host\": \"algo-1\", \"Operation\": \"training\", \"epoch\": 8, \"model\": 11}, \"Metrics\": {\"train_mse_objective\": {\"sum\": 0.7420610884825388, \"count\": 1, \"min\": 0.7420610884825388, \"max\": 0.7420610884825388}}}\u001b[0m\n",
      "\u001b[34m#metrics {\"StartTime\": 1696769143.6194425, \"EndTime\": 1696769143.6194494, \"Dimensions\": {\"Algorithm\": \"Linear Learner\", \"Host\": \"algo-1\", \"Operation\": \"training\", \"epoch\": 8, \"model\": 12}, \"Metrics\": {\"train_mse_objective\": {\"sum\": 0.1699918396770954, \"count\": 1, \"min\": 0.1699918396770954, \"max\": 0.1699918396770954}}}\u001b[0m\n",
      "\u001b[34m#metrics {\"StartTime\": 1696769143.6194763, \"EndTime\": 1696769143.6194832, \"Dimensions\": {\"Algorithm\": \"Linear Learner\", \"Host\": \"algo-1\", \"Operation\": \"training\", \"epoch\": 8, \"model\": 13}, \"Metrics\": {\"train_mse_objective\": {\"sum\": 0.17648566762606302, \"count\": 1, \"min\": 0.17648566762606302, \"max\": 0.17648566762606302}}}\u001b[0m\n",
      "\u001b[34m#metrics {\"StartTime\": 1696769143.6195095, \"EndTime\": 1696769143.6195164, \"Dimensions\": {\"Algorithm\": \"Linear Learner\", \"Host\": \"algo-1\", \"Operation\": \"training\", \"epoch\": 8, \"model\": 14}, \"Metrics\": {\"train_mse_objective\": {\"sum\": 0.16968891148765883, \"count\": 1, \"min\": 0.16968891148765883, \"max\": 0.16968891148765883}}}\u001b[0m\n",
      "\u001b[34m#metrics {\"StartTime\": 1696769143.6195428, \"EndTime\": 1696769143.6195498, \"Dimensions\": {\"Algorithm\": \"Linear Learner\", \"Host\": \"algo-1\", \"Operation\": \"training\", \"epoch\": 8, \"model\": 15}, \"Metrics\": {\"train_mse_objective\": {\"sum\": 0.17790201057990393, \"count\": 1, \"min\": 0.17790201057990393, \"max\": 0.17790201057990393}}}\u001b[0m\n",
      "\u001b[34m#metrics {\"StartTime\": 1696769143.619576, \"EndTime\": 1696769143.619583, \"Dimensions\": {\"Algorithm\": \"Linear Learner\", \"Host\": \"algo-1\", \"Operation\": \"training\", \"epoch\": 8, \"model\": 16}, \"Metrics\": {\"train_mse_objective\": {\"sum\": 0.7183914482593536, \"count\": 1, \"min\": 0.7183914482593536, \"max\": 0.7183914482593536}}}\u001b[0m\n",
      "\u001b[34m#metrics {\"StartTime\": 1696769143.6196094, \"EndTime\": 1696769143.619616, \"Dimensions\": {\"Algorithm\": \"Linear Learner\", \"Host\": \"algo-1\", \"Operation\": \"training\", \"epoch\": 8, \"model\": 17}, \"Metrics\": {\"train_mse_objective\": {\"sum\": 0.8102247516314188, \"count\": 1, \"min\": 0.8102247516314188, \"max\": 0.8102247516314188}}}\u001b[0m\n",
      "\u001b[34m#metrics {\"StartTime\": 1696769143.6196415, \"EndTime\": 1696769143.6196482, \"Dimensions\": {\"Algorithm\": \"Linear Learner\", \"Host\": \"algo-1\", \"Operation\": \"training\", \"epoch\": 8, \"model\": 18}, \"Metrics\": {\"train_mse_objective\": {\"sum\": 0.7667763531208038, \"count\": 1, \"min\": 0.7667763531208038, \"max\": 0.7667763531208038}}}\u001b[0m\n",
      "\u001b[34m#metrics {\"StartTime\": 1696769143.6196756, \"EndTime\": 1696769143.6196823, \"Dimensions\": {\"Algorithm\": \"Linear Learner\", \"Host\": \"algo-1\", \"Operation\": \"training\", \"epoch\": 8, \"model\": 19}, \"Metrics\": {\"train_mse_objective\": {\"sum\": 0.7603927850723267, \"count\": 1, \"min\": 0.7603927850723267, \"max\": 0.7603927850723267}}}\u001b[0m\n",
      "\u001b[34m#metrics {\"StartTime\": 1696769143.619709, \"EndTime\": 1696769143.6197157, \"Dimensions\": {\"Algorithm\": \"Linear Learner\", \"Host\": \"algo-1\", \"Operation\": \"training\", \"epoch\": 8, \"model\": 20}, \"Metrics\": {\"train_mse_objective\": {\"sum\": 0.4498484482367833, \"count\": 1, \"min\": 0.4498484482367833, \"max\": 0.4498484482367833}}}\u001b[0m\n",
      "\u001b[34m#metrics {\"StartTime\": 1696769143.6197424, \"EndTime\": 1696769143.619749, \"Dimensions\": {\"Algorithm\": \"Linear Learner\", \"Host\": \"algo-1\", \"Operation\": \"training\", \"epoch\": 8, \"model\": 21}, \"Metrics\": {\"train_mse_objective\": {\"sum\": 0.455562690893809, \"count\": 1, \"min\": 0.455562690893809, \"max\": 0.455562690893809}}}\u001b[0m\n",
      "\u001b[34m#metrics {\"StartTime\": 1696769143.6197758, \"EndTime\": 1696769143.619783, \"Dimensions\": {\"Algorithm\": \"Linear Learner\", \"Host\": \"algo-1\", \"Operation\": \"training\", \"epoch\": 8, \"model\": 22}, \"Metrics\": {\"train_mse_objective\": {\"sum\": 0.4208420564730962, \"count\": 1, \"min\": 0.4208420564730962, \"max\": 0.4208420564730962}}}\u001b[0m\n",
      "\u001b[34m#metrics {\"StartTime\": 1696769143.6198084, \"EndTime\": 1696769143.619815, \"Dimensions\": {\"Algorithm\": \"Linear Learner\", \"Host\": \"algo-1\", \"Operation\": \"training\", \"epoch\": 8, \"model\": 23}, \"Metrics\": {\"train_mse_objective\": {\"sum\": 0.45629388590653736, \"count\": 1, \"min\": 0.45629388590653736, \"max\": 0.45629388590653736}}}\u001b[0m\n",
      "\u001b[34m#metrics {\"StartTime\": 1696769143.6198447, \"EndTime\": 1696769143.6198518, \"Dimensions\": {\"Algorithm\": \"Linear Learner\", \"Host\": \"algo-1\", \"Operation\": \"training\", \"epoch\": 8, \"model\": 24}, \"Metrics\": {\"train_mse_objective\": {\"sum\": 1.0050372083981831, \"count\": 1, \"min\": 1.0050372083981831, \"max\": 1.0050372083981831}}}\u001b[0m\n",
      "\u001b[34m#metrics {\"StartTime\": 1696769143.6198788, \"EndTime\": 1696769143.6198852, \"Dimensions\": {\"Algorithm\": \"Linear Learner\", \"Host\": \"algo-1\", \"Operation\": \"training\", \"epoch\": 8, \"model\": 25}, \"Metrics\": {\"train_mse_objective\": {\"sum\": 0.9775621692339579, \"count\": 1, \"min\": 0.9775621692339579, \"max\": 0.9775621692339579}}}\u001b[0m\n",
      "\u001b[34m#metrics {\"StartTime\": 1696769143.619912, \"EndTime\": 1696769143.6199188, \"Dimensions\": {\"Algorithm\": \"Linear Learner\", \"Host\": \"algo-1\", \"Operation\": \"training\", \"epoch\": 8, \"model\": 26}, \"Metrics\": {\"train_mse_objective\": {\"sum\": 0.9923056364059448, \"count\": 1, \"min\": 0.9923056364059448, \"max\": 0.9923056364059448}}}\u001b[0m\n",
      "\u001b[34m#metrics {\"StartTime\": 1696769143.6199543, \"EndTime\": 1696769143.6199625, \"Dimensions\": {\"Algorithm\": \"Linear Learner\", \"Host\": \"algo-1\", \"Operation\": \"training\", \"epoch\": 8, \"model\": 27}, \"Metrics\": {\"train_mse_objective\": {\"sum\": 0.9788327813148499, \"count\": 1, \"min\": 0.9788327813148499, \"max\": 0.9788327813148499}}}\u001b[0m\n",
      "\u001b[34m#metrics {\"StartTime\": 1696769143.6199903, \"EndTime\": 1696769143.6199973, \"Dimensions\": {\"Algorithm\": \"Linear Learner\", \"Host\": \"algo-1\", \"Operation\": \"training\", \"epoch\": 8, \"model\": 28}, \"Metrics\": {\"train_mse_objective\": {\"sum\": 0.9770046472549438, \"count\": 1, \"min\": 0.9770046472549438, \"max\": 0.9770046472549438}}}\u001b[0m\n",
      "\u001b[34m#metrics {\"StartTime\": 1696769143.6200264, \"EndTime\": 1696769143.6200335, \"Dimensions\": {\"Algorithm\": \"Linear Learner\", \"Host\": \"algo-1\", \"Operation\": \"training\", \"epoch\": 8, \"model\": 29}, \"Metrics\": {\"train_mse_objective\": {\"sum\": 0.9839812517166138, \"count\": 1, \"min\": 0.9839812517166138, \"max\": 0.9839812517166138}}}\u001b[0m\n",
      "\u001b[34m#metrics {\"StartTime\": 1696769143.62006, \"EndTime\": 1696769143.6200666, \"Dimensions\": {\"Algorithm\": \"Linear Learner\", \"Host\": \"algo-1\", \"Operation\": \"training\", \"epoch\": 8, \"model\": 30}, \"Metrics\": {\"train_mse_objective\": {\"sum\": 1.019583483537038, \"count\": 1, \"min\": 1.019583483537038, \"max\": 1.019583483537038}}}\u001b[0m\n",
      "\u001b[34m#metrics {\"StartTime\": 1696769143.6200955, \"EndTime\": 1696769143.6201026, \"Dimensions\": {\"Algorithm\": \"Linear Learner\", \"Host\": \"algo-1\", \"Operation\": \"training\", \"epoch\": 8, \"model\": 31}, \"Metrics\": {\"train_mse_objective\": {\"sum\": 0.9777573744455973, \"count\": 1, \"min\": 0.9777573744455973, \"max\": 0.9777573744455973}}}\u001b[0m\n",
      "\u001b[34m[10/08/2023 12:45:43 INFO 140032014460736] #quality_metric: host=algo-1, epoch=8, train mse_objective <loss>=0.7806713283061981\u001b[0m\n",
      "\u001b[34m[10/08/2023 12:45:43 INFO 140032014460736] #early_stopping_criteria_metric: host=algo-1, epoch=8, criteria=mse_objective, value=0.16968891148765883\u001b[0m\n",
      "\u001b[34m[10/08/2023 12:45:43 INFO 140032014460736] Epoch 8: Loss improved. Updating best model\u001b[0m\n",
      "\u001b[34m[10/08/2023 12:45:43 INFO 140032014460736] Saving model for epoch: 8\u001b[0m\n",
      "\u001b[34m[10/08/2023 12:45:43 INFO 140032014460736] Saved checkpoint to \"/tmp/tmpbar0dj3i/mx-mod-0000.params\"\u001b[0m\n",
      "\u001b[34m[10/08/2023 12:45:43 INFO 140032014460736] #progress_metric: host=algo-1, completed 60.0 % of epochs\u001b[0m\n",
      "\u001b[34m#metrics {\"StartTime\": 1696769143.5575967, \"EndTime\": 1696769143.628791, \"Dimensions\": {\"Algorithm\": \"Linear Learner\", \"Host\": \"algo-1\", \"Operation\": \"training\", \"epoch\": 8, \"Meta\": \"training_data_iter\"}, \"Metrics\": {\"Total Records Seen\": {\"sum\": 144.0, \"count\": 1, \"min\": 144, \"max\": 144}, \"Total Batches Seen\": {\"sum\": 41.0, \"count\": 1, \"min\": 41, \"max\": 41}, \"Max Records Seen Between Resets\": {\"sum\": 14.0, \"count\": 1, \"min\": 14, \"max\": 14}, \"Max Batches Seen Between Resets\": {\"sum\": 4.0, \"count\": 1, \"min\": 4, \"max\": 4}, \"Reset Count\": {\"sum\": 11.0, \"count\": 1, \"min\": 11, \"max\": 11}, \"Number of Records Since Last Reset\": {\"sum\": 14.0, \"count\": 1, \"min\": 14, \"max\": 14}, \"Number of Batches Since Last Reset\": {\"sum\": 4.0, \"count\": 1, \"min\": 4, \"max\": 4}}}\u001b[0m\n",
      "\u001b[34m[10/08/2023 12:45:43 INFO 140032014460736] #throughput_metric: host=algo-1, train throughput=196.33956699824458 records/second\u001b[0m\n",
      "\u001b[34m#metrics {\"StartTime\": 1696769143.6921387, \"EndTime\": 1696769143.6922078, \"Dimensions\": {\"Algorithm\": \"Linear Learner\", \"Host\": \"algo-1\", \"Operation\": \"training\", \"epoch\": 9, \"model\": 0}, \"Metrics\": {\"train_mse_objective\": {\"sum\": 0.7582203348477682, \"count\": 1, \"min\": 0.7582203348477682, \"max\": 0.7582203348477682}}}\u001b[0m\n",
      "\u001b[34m#metrics {\"StartTime\": 1696769143.6922882, \"EndTime\": 1696769143.692301, \"Dimensions\": {\"Algorithm\": \"Linear Learner\", \"Host\": \"algo-1\", \"Operation\": \"training\", \"epoch\": 9, \"model\": 1}, \"Metrics\": {\"train_mse_objective\": {\"sum\": 0.7933140397071838, \"count\": 1, \"min\": 0.7933140397071838, \"max\": 0.7933140397071838}}}\u001b[0m\n",
      "\u001b[34m#metrics {\"StartTime\": 1696769143.692345, \"EndTime\": 1696769143.692354, \"Dimensions\": {\"Algorithm\": \"Linear Learner\", \"Host\": \"algo-1\", \"Operation\": \"training\", \"epoch\": 9, \"model\": 2}, \"Metrics\": {\"train_mse_objective\": {\"sum\": 0.7626561025778452, \"count\": 1, \"min\": 0.7626561025778452, \"max\": 0.7626561025778452}}}\u001b[0m\n",
      "\u001b[34m#metrics {\"StartTime\": 1696769143.6923919, \"EndTime\": 1696769143.6924005, \"Dimensions\": {\"Algorithm\": \"Linear Learner\", \"Host\": \"algo-1\", \"Operation\": \"training\", \"epoch\": 9, \"model\": 3}, \"Metrics\": {\"train_mse_objective\": {\"sum\": 0.7913958231608073, \"count\": 1, \"min\": 0.7913958231608073, \"max\": 0.7913958231608073}}}\u001b[0m\n",
      "\u001b[34m#metrics {\"StartTime\": 1696769143.6924362, \"EndTime\": 1696769143.6924443, \"Dimensions\": {\"Algorithm\": \"Linear Learner\", \"Host\": \"algo-1\", \"Operation\": \"training\", \"epoch\": 9, \"model\": 4}, \"Metrics\": {\"train_mse_objective\": {\"sum\": 0.1651021639506022, \"count\": 1, \"min\": 0.1651021639506022, \"max\": 0.1651021639506022}}}\u001b[0m\n",
      "\u001b[34m#metrics {\"StartTime\": 1696769143.6924803, \"EndTime\": 1696769143.6924884, \"Dimensions\": {\"Algorithm\": \"Linear Learner\", \"Host\": \"algo-1\", \"Operation\": \"training\", \"epoch\": 9, \"model\": 5}, \"Metrics\": {\"train_mse_objective\": {\"sum\": 0.16390186051527658, \"count\": 1, \"min\": 0.16390186051527658, \"max\": 0.16390186051527658}}}\u001b[0m\n",
      "\u001b[34m#metrics {\"StartTime\": 1696769143.6925223, \"EndTime\": 1696769143.6925302, \"Dimensions\": {\"Algorithm\": \"Linear Learner\", \"Host\": \"algo-1\", \"Operation\": \"training\", \"epoch\": 9, \"model\": 6}, \"Metrics\": {\"train_mse_objective\": {\"sum\": 0.17652508119742075, \"count\": 1, \"min\": 0.17652508119742075, \"max\": 0.17652508119742075}}}\u001b[0m\n",
      "\u001b[34m#metrics {\"StartTime\": 1696769143.6925626, \"EndTime\": 1696769143.6925704, \"Dimensions\": {\"Algorithm\": \"Linear Learner\", \"Host\": \"algo-1\", \"Operation\": \"training\", \"epoch\": 9, \"model\": 7}, \"Metrics\": {\"train_mse_objective\": {\"sum\": 0.1697777360677719, \"count\": 1, \"min\": 0.1697777360677719, \"max\": 0.1697777360677719}}}\u001b[0m\n",
      "\u001b[34m#metrics {\"StartTime\": 1696769143.6926033, \"EndTime\": 1696769143.6926112, \"Dimensions\": {\"Algorithm\": \"Linear Learner\", \"Host\": \"algo-1\", \"Operation\": \"training\", \"epoch\": 9, \"model\": 8}, \"Metrics\": {\"train_mse_objective\": {\"sum\": 0.8650914827982584, \"count\": 1, \"min\": 0.8650914827982584, \"max\": 0.8650914827982584}}}\u001b[0m\n",
      "\u001b[34m#metrics {\"StartTime\": 1696769143.6926453, \"EndTime\": 1696769143.692653, \"Dimensions\": {\"Algorithm\": \"Linear Learner\", \"Host\": \"algo-1\", \"Operation\": \"training\", \"epoch\": 9, \"model\": 9}, \"Metrics\": {\"train_mse_objective\": {\"sum\": 0.7344667911529541, \"count\": 1, \"min\": 0.7344667911529541, \"max\": 0.7344667911529541}}}\u001b[0m\n",
      "\u001b[34m#metrics {\"StartTime\": 1696769143.6926854, \"EndTime\": 1696769143.6926932, \"Dimensions\": {\"Algorithm\": \"Linear Learner\", \"Host\": \"algo-1\", \"Operation\": \"training\", \"epoch\": 9, \"model\": 10}, \"Metrics\": {\"train_mse_objective\": {\"sum\": 0.7485052545865377, \"count\": 1, \"min\": 0.7485052545865377, \"max\": 0.7485052545865377}}}\u001b[0m\n",
      "\u001b[34m#metrics {\"StartTime\": 1696769143.6927297, \"EndTime\": 1696769143.6927373, \"Dimensions\": {\"Algorithm\": \"Linear Learner\", \"Host\": \"algo-1\", \"Operation\": \"training\", \"epoch\": 9, \"model\": 11}, \"Metrics\": {\"train_mse_objective\": {\"sum\": 0.7199475566546122, \"count\": 1, \"min\": 0.7199475566546122, \"max\": 0.7199475566546122}}}\u001b[0m\n",
      "\u001b[34m#metrics {\"StartTime\": 1696769143.6927724, \"EndTime\": 1696769143.69278, \"Dimensions\": {\"Algorithm\": \"Linear Learner\", \"Host\": \"algo-1\", \"Operation\": \"training\", \"epoch\": 9, \"model\": 12}, \"Metrics\": {\"train_mse_objective\": {\"sum\": 0.1644752323627472, \"count\": 1, \"min\": 0.1644752323627472, \"max\": 0.1644752323627472}}}\u001b[0m\n",
      "\u001b[34m#metrics {\"StartTime\": 1696769143.6928146, \"EndTime\": 1696769143.6928222, \"Dimensions\": {\"Algorithm\": \"Linear Learner\", \"Host\": \"algo-1\", \"Operation\": \"training\", \"epoch\": 9, \"model\": 13}, \"Metrics\": {\"train_mse_objective\": {\"sum\": 0.1643874024351438, \"count\": 1, \"min\": 0.1643874024351438, \"max\": 0.1643874024351438}}}\u001b[0m\n",
      "\u001b[34m#metrics {\"StartTime\": 1696769143.6928542, \"EndTime\": 1696769143.692862, \"Dimensions\": {\"Algorithm\": \"Linear Learner\", \"Host\": \"algo-1\", \"Operation\": \"training\", \"epoch\": 9, \"model\": 14}, \"Metrics\": {\"train_mse_objective\": {\"sum\": 0.16439656913280487, \"count\": 1, \"min\": 0.16439656913280487, \"max\": 0.16439656913280487}}}\u001b[0m\n",
      "\u001b[34m#metrics {\"StartTime\": 1696769143.6929197, \"EndTime\": 1696769143.692929, \"Dimensions\": {\"Algorithm\": \"Linear Learner\", \"Host\": \"algo-1\", \"Operation\": \"training\", \"epoch\": 9, \"model\": 15}, \"Metrics\": {\"train_mse_objective\": {\"sum\": 0.1649288833141327, \"count\": 1, \"min\": 0.1649288833141327, \"max\": 0.1649288833141327}}}\u001b[0m\n",
      "\u001b[34m#metrics {\"StartTime\": 1696769143.6929662, \"EndTime\": 1696769143.6929743, \"Dimensions\": {\"Algorithm\": \"Linear Learner\", \"Host\": \"algo-1\", \"Operation\": \"training\", \"epoch\": 9, \"model\": 16}, \"Metrics\": {\"train_mse_objective\": {\"sum\": 0.6983073651790619, \"count\": 1, \"min\": 0.6983073651790619, \"max\": 0.6983073651790619}}}\u001b[0m\n",
      "\u001b[34m#metrics {\"StartTime\": 1696769143.6930068, \"EndTime\": 1696769143.6930149, \"Dimensions\": {\"Algorithm\": \"Linear Learner\", \"Host\": \"algo-1\", \"Operation\": \"training\", \"epoch\": 9, \"model\": 17}, \"Metrics\": {\"train_mse_objective\": {\"sum\": 0.78773033618927, \"count\": 1, \"min\": 0.78773033618927, \"max\": 0.78773033618927}}}\u001b[0m\n",
      "\u001b[34m#metrics {\"StartTime\": 1696769143.6930501, \"EndTime\": 1696769143.693058, \"Dimensions\": {\"Algorithm\": \"Linear Learner\", \"Host\": \"algo-1\", \"Operation\": \"training\", \"epoch\": 9, \"model\": 18}, \"Metrics\": {\"train_mse_objective\": {\"sum\": 0.7456100980440775, \"count\": 1, \"min\": 0.7456100980440775, \"max\": 0.7456100980440775}}}\u001b[0m\n",
      "\u001b[34m#metrics {\"StartTime\": 1696769143.6930897, \"EndTime\": 1696769143.6930974, \"Dimensions\": {\"Algorithm\": \"Linear Learner\", \"Host\": \"algo-1\", \"Operation\": \"training\", \"epoch\": 9, \"model\": 19}, \"Metrics\": {\"train_mse_objective\": {\"sum\": 0.7389731903870901, \"count\": 1, \"min\": 0.7389731903870901, \"max\": 0.7389731903870901}}}\u001b[0m\n",
      "\u001b[34m#metrics {\"StartTime\": 1696769143.6931295, \"EndTime\": 1696769143.693137, \"Dimensions\": {\"Algorithm\": \"Linear Learner\", \"Host\": \"algo-1\", \"Operation\": \"training\", \"epoch\": 9, \"model\": 20}, \"Metrics\": {\"train_mse_objective\": {\"sum\": 0.438974325855573, \"count\": 1, \"min\": 0.438974325855573, \"max\": 0.438974325855573}}}\u001b[0m\n",
      "\u001b[34m#metrics {\"StartTime\": 1696769143.6931708, \"EndTime\": 1696769143.6931784, \"Dimensions\": {\"Algorithm\": \"Linear Learner\", \"Host\": \"algo-1\", \"Operation\": \"training\", \"epoch\": 9, \"model\": 21}, \"Metrics\": {\"train_mse_objective\": {\"sum\": 0.44873952865600586, \"count\": 1, \"min\": 0.44873952865600586, \"max\": 0.44873952865600586}}}\u001b[0m\n",
      "\u001b[34m#metrics {\"StartTime\": 1696769143.6932132, \"EndTime\": 1696769143.693221, \"Dimensions\": {\"Algorithm\": \"Linear Learner\", \"Host\": \"algo-1\", \"Operation\": \"training\", \"epoch\": 9, \"model\": 22}, \"Metrics\": {\"train_mse_objective\": {\"sum\": 0.3936366339524587, \"count\": 1, \"min\": 0.3936366339524587, \"max\": 0.3936366339524587}}}\u001b[0m\n",
      "\u001b[34m#metrics {\"StartTime\": 1696769143.6932557, \"EndTime\": 1696769143.6932633, \"Dimensions\": {\"Algorithm\": \"Linear Learner\", \"Host\": \"algo-1\", \"Operation\": \"training\", \"epoch\": 9, \"model\": 23}, \"Metrics\": {\"train_mse_objective\": {\"sum\": 0.46623851855595905, \"count\": 1, \"min\": 0.46623851855595905, \"max\": 0.46623851855595905}}}\u001b[0m\n",
      "\u001b[34m#metrics {\"StartTime\": 1696769143.6932957, \"EndTime\": 1696769143.6933033, \"Dimensions\": {\"Algorithm\": \"Linear Learner\", \"Host\": \"algo-1\", \"Operation\": \"training\", \"epoch\": 9, \"model\": 24}, \"Metrics\": {\"train_mse_objective\": {\"sum\": 0.9982870817184448, \"count\": 1, \"min\": 0.9982870817184448, \"max\": 0.9982870817184448}}}\u001b[0m\n",
      "\u001b[34m#metrics {\"StartTime\": 1696769143.6933377, \"EndTime\": 1696769143.6933453, \"Dimensions\": {\"Algorithm\": \"Linear Learner\", \"Host\": \"algo-1\", \"Operation\": \"training\", \"epoch\": 9, \"model\": 25}, \"Metrics\": {\"train_mse_objective\": {\"sum\": 0.985116978486379, \"count\": 1, \"min\": 0.985116978486379, \"max\": 0.985116978486379}}}\u001b[0m\n",
      "\u001b[34m#metrics {\"StartTime\": 1696769143.6933765, \"EndTime\": 1696769143.6933846, \"Dimensions\": {\"Algorithm\": \"Linear Learner\", \"Host\": \"algo-1\", \"Operation\": \"training\", \"epoch\": 9, \"model\": 26}, \"Metrics\": {\"train_mse_objective\": {\"sum\": 0.9894488652547201, \"count\": 1, \"min\": 0.9894488652547201, \"max\": 0.9894488652547201}}}\u001b[0m\n",
      "\u001b[34m#metrics {\"StartTime\": 1696769143.6934164, \"EndTime\": 1696769143.6934245, \"Dimensions\": {\"Algorithm\": \"Linear Learner\", \"Host\": \"algo-1\", \"Operation\": \"training\", \"epoch\": 9, \"model\": 27}, \"Metrics\": {\"train_mse_objective\": {\"sum\": 0.9806977113087972, \"count\": 1, \"min\": 0.9806977113087972, \"max\": 0.9806977113087972}}}\u001b[0m\n",
      "\u001b[34m#metrics {\"StartTime\": 1696769143.693458, \"EndTime\": 1696769143.693466, \"Dimensions\": {\"Algorithm\": \"Linear Learner\", \"Host\": \"algo-1\", \"Operation\": \"training\", \"epoch\": 9, \"model\": 28}, \"Metrics\": {\"train_mse_objective\": {\"sum\": 1.0440338651339214, \"count\": 1, \"min\": 1.0440338651339214, \"max\": 1.0440338651339214}}}\u001b[0m\n",
      "\u001b[34m#metrics {\"StartTime\": 1696769143.6934977, \"EndTime\": 1696769143.6935055, \"Dimensions\": {\"Algorithm\": \"Linear Learner\", \"Host\": \"algo-1\", \"Operation\": \"training\", \"epoch\": 9, \"model\": 29}, \"Metrics\": {\"train_mse_objective\": {\"sum\": 1.041853408018748, \"count\": 1, \"min\": 1.041853408018748, \"max\": 1.041853408018748}}}\u001b[0m\n",
      "\u001b[34m#metrics {\"StartTime\": 1696769143.6935396, \"EndTime\": 1696769143.6935472, \"Dimensions\": {\"Algorithm\": \"Linear Learner\", \"Host\": \"algo-1\", \"Operation\": \"training\", \"epoch\": 9, \"model\": 30}, \"Metrics\": {\"train_mse_objective\": {\"sum\": 1.0267741878827412, \"count\": 1, \"min\": 1.0267741878827412, \"max\": 1.0267741878827412}}}\u001b[0m\n",
      "\u001b[34m#metrics {\"StartTime\": 1696769143.693579, \"EndTime\": 1696769143.6935868, \"Dimensions\": {\"Algorithm\": \"Linear Learner\", \"Host\": \"algo-1\", \"Operation\": \"training\", \"epoch\": 9, \"model\": 31}, \"Metrics\": {\"train_mse_objective\": {\"sum\": 0.988581657409668, \"count\": 1, \"min\": 0.988581657409668, \"max\": 0.988581657409668}}}\u001b[0m\n",
      "\u001b[34m[10/08/2023 12:45:43 INFO 140032014460736] #quality_metric: host=algo-1, epoch=9, train mse_objective <loss>=0.7582203348477682\u001b[0m\n",
      "\u001b[34m[10/08/2023 12:45:43 INFO 140032014460736] #early_stopping_criteria_metric: host=algo-1, epoch=9, criteria=mse_objective, value=0.16390186051527658\u001b[0m\n",
      "\u001b[34m[10/08/2023 12:45:43 INFO 140032014460736] Epoch 9: Loss improved. Updating best model\u001b[0m\n",
      "\u001b[34m[10/08/2023 12:45:43 INFO 140032014460736] Saving model for epoch: 9\u001b[0m\n",
      "\u001b[34m[10/08/2023 12:45:43 INFO 140032014460736] Saved checkpoint to \"/tmp/tmpekxnuikd/mx-mod-0000.params\"\u001b[0m\n",
      "\u001b[34m[10/08/2023 12:45:43 INFO 140032014460736] #progress_metric: host=algo-1, completed 66.66666666666667 % of epochs\u001b[0m\n",
      "\u001b[34m#metrics {\"StartTime\": 1696769143.629034, \"EndTime\": 1696769143.7035236, \"Dimensions\": {\"Algorithm\": \"Linear Learner\", \"Host\": \"algo-1\", \"Operation\": \"training\", \"epoch\": 9, \"Meta\": \"training_data_iter\"}, \"Metrics\": {\"Total Records Seen\": {\"sum\": 158.0, \"count\": 1, \"min\": 158, \"max\": 158}, \"Total Batches Seen\": {\"sum\": 45.0, \"count\": 1, \"min\": 45, \"max\": 45}, \"Max Records Seen Between Resets\": {\"sum\": 14.0, \"count\": 1, \"min\": 14, \"max\": 14}, \"Max Batches Seen Between Resets\": {\"sum\": 4.0, \"count\": 1, \"min\": 4, \"max\": 4}, \"Reset Count\": {\"sum\": 12.0, \"count\": 1, \"min\": 12, \"max\": 12}, \"Number of Records Since Last Reset\": {\"sum\": 14.0, \"count\": 1, \"min\": 14, \"max\": 14}, \"Number of Batches Since Last Reset\": {\"sum\": 4.0, \"count\": 1, \"min\": 4, \"max\": 4}}}\u001b[0m\n",
      "\u001b[34m[10/08/2023 12:45:43 INFO 140032014460736] #throughput_metric: host=algo-1, train throughput=187.6346253395111 records/second\u001b[0m\n",
      "\u001b[34m#metrics {\"StartTime\": 1696769143.7725718, \"EndTime\": 1696769143.7726374, \"Dimensions\": {\"Algorithm\": \"Linear Learner\", \"Host\": \"algo-1\", \"Operation\": \"training\", \"epoch\": 10, \"model\": 0}, \"Metrics\": {\"train_mse_objective\": {\"sum\": 0.7368844151496887, \"count\": 1, \"min\": 0.7368844151496887, \"max\": 0.7368844151496887}}}\u001b[0m\n",
      "\u001b[34m#metrics {\"StartTime\": 1696769143.7727163, \"EndTime\": 1696769143.7727275, \"Dimensions\": {\"Algorithm\": \"Linear Learner\", \"Host\": \"algo-1\", \"Operation\": \"training\", \"epoch\": 10, \"model\": 1}, \"Metrics\": {\"train_mse_objective\": {\"sum\": 0.7708275814851125, \"count\": 1, \"min\": 0.7708275814851125, \"max\": 0.7708275814851125}}}\u001b[0m\n",
      "\u001b[34m#metrics {\"StartTime\": 1696769143.7727602, \"EndTime\": 1696769143.7727678, \"Dimensions\": {\"Algorithm\": \"Linear Learner\", \"Host\": \"algo-1\", \"Operation\": \"training\", \"epoch\": 10, \"model\": 2}, \"Metrics\": {\"train_mse_objective\": {\"sum\": 0.7412355244159698, \"count\": 1, \"min\": 0.7412355244159698, \"max\": 0.7412355244159698}}}\u001b[0m\n",
      "\u001b[34m#metrics {\"StartTime\": 1696769143.772802, \"EndTime\": 1696769143.772809, \"Dimensions\": {\"Algorithm\": \"Linear Learner\", \"Host\": \"algo-1\", \"Operation\": \"training\", \"epoch\": 10, \"model\": 3}, \"Metrics\": {\"train_mse_objective\": {\"sum\": 0.768945982058843, \"count\": 1, \"min\": 0.768945982058843, \"max\": 0.768945982058843}}}\u001b[0m\n",
      "\u001b[34m#metrics {\"StartTime\": 1696769143.772839, \"EndTime\": 1696769143.772846, \"Dimensions\": {\"Algorithm\": \"Linear Learner\", \"Host\": \"algo-1\", \"Operation\": \"training\", \"epoch\": 10, \"model\": 4}, \"Metrics\": {\"train_mse_objective\": {\"sum\": 0.13371934245030084, \"count\": 1, \"min\": 0.13371934245030084, \"max\": 0.13371934245030084}}}\u001b[0m\n",
      "\u001b[34m#metrics {\"StartTime\": 1696769143.7728763, \"EndTime\": 1696769143.772883, \"Dimensions\": {\"Algorithm\": \"Linear Learner\", \"Host\": \"algo-1\", \"Operation\": \"training\", \"epoch\": 10, \"model\": 5}, \"Metrics\": {\"train_mse_objective\": {\"sum\": 0.13550197208921114, \"count\": 1, \"min\": 0.13550197208921114, \"max\": 0.13550197208921114}}}\u001b[0m\n",
      "\u001b[34m#metrics {\"StartTime\": 1696769143.7729461, \"EndTime\": 1696769143.7729545, \"Dimensions\": {\"Algorithm\": \"Linear Learner\", \"Host\": \"algo-1\", \"Operation\": \"training\", \"epoch\": 10, \"model\": 6}, \"Metrics\": {\"train_mse_objective\": {\"sum\": 0.13514129569133124, \"count\": 1, \"min\": 0.13514129569133124, \"max\": 0.13514129569133124}}}\u001b[0m\n",
      "\u001b[34m#metrics {\"StartTime\": 1696769143.7729814, \"EndTime\": 1696769143.7729878, \"Dimensions\": {\"Algorithm\": \"Linear Learner\", \"Host\": \"algo-1\", \"Operation\": \"training\", \"epoch\": 10, \"model\": 7}, \"Metrics\": {\"train_mse_objective\": {\"sum\": 0.13551961009701094, \"count\": 1, \"min\": 0.13551961009701094, \"max\": 0.13551961009701094}}}\u001b[0m\n",
      "\u001b[34m#metrics {\"StartTime\": 1696769143.7730145, \"EndTime\": 1696769143.7730212, \"Dimensions\": {\"Algorithm\": \"Linear Learner\", \"Host\": \"algo-1\", \"Operation\": \"training\", \"epoch\": 10, \"model\": 8}, \"Metrics\": {\"train_mse_objective\": {\"sum\": 0.8417940338452657, \"count\": 1, \"min\": 0.8417940338452657, \"max\": 0.8417940338452657}}}\u001b[0m\n",
      "\u001b[34m#metrics {\"StartTime\": 1696769143.7730467, \"EndTime\": 1696769143.7730536, \"Dimensions\": {\"Algorithm\": \"Linear Learner\", \"Host\": \"algo-1\", \"Operation\": \"training\", \"epoch\": 10, \"model\": 9}, \"Metrics\": {\"train_mse_objective\": {\"sum\": 0.7131343483924866, \"count\": 1, \"min\": 0.7131343483924866, \"max\": 0.7131343483924866}}}\u001b[0m\n",
      "\u001b[34m#metrics {\"StartTime\": 1696769143.773083, \"EndTime\": 1696769143.7730896, \"Dimensions\": {\"Algorithm\": \"Linear Learner\", \"Host\": \"algo-1\", \"Operation\": \"training\", \"epoch\": 10, \"model\": 10}, \"Metrics\": {\"train_mse_objective\": {\"sum\": 0.7273660202821096, \"count\": 1, \"min\": 0.7273660202821096, \"max\": 0.7273660202821096}}}\u001b[0m\n",
      "\u001b[34m#metrics {\"StartTime\": 1696769143.7731154, \"EndTime\": 1696769143.773122, \"Dimensions\": {\"Algorithm\": \"Linear Learner\", \"Host\": \"algo-1\", \"Operation\": \"training\", \"epoch\": 10, \"model\": 11}, \"Metrics\": {\"train_mse_objective\": {\"sum\": 0.6989037096500397, \"count\": 1, \"min\": 0.6989037096500397, \"max\": 0.6989037096500397}}}\u001b[0m\n",
      "\u001b[34m#metrics {\"StartTime\": 1696769143.7731476, \"EndTime\": 1696769143.7731543, \"Dimensions\": {\"Algorithm\": \"Linear Learner\", \"Host\": \"algo-1\", \"Operation\": \"training\", \"epoch\": 10, \"model\": 12}, \"Metrics\": {\"train_mse_objective\": {\"sum\": 0.13440420354406038, \"count\": 1, \"min\": 0.13440420354406038, \"max\": 0.13440420354406038}}}\u001b[0m\n",
      "\u001b[34m#metrics {\"StartTime\": 1696769143.7731843, \"EndTime\": 1696769143.773191, \"Dimensions\": {\"Algorithm\": \"Linear Learner\", \"Host\": \"algo-1\", \"Operation\": \"training\", \"epoch\": 10, \"model\": 13}, \"Metrics\": {\"train_mse_objective\": {\"sum\": 0.13567145665486655, \"count\": 1, \"min\": 0.13567145665486655, \"max\": 0.13567145665486655}}}\u001b[0m\n",
      "\u001b[34m#metrics {\"StartTime\": 1696769143.7732167, \"EndTime\": 1696769143.7732232, \"Dimensions\": {\"Algorithm\": \"Linear Learner\", \"Host\": \"algo-1\", \"Operation\": \"training\", \"epoch\": 10, \"model\": 14}, \"Metrics\": {\"train_mse_objective\": {\"sum\": 0.13446000218391418, \"count\": 1, \"min\": 0.13446000218391418, \"max\": 0.13446000218391418}}}\u001b[0m\n",
      "\u001b[34m#metrics {\"StartTime\": 1696769143.7732518, \"EndTime\": 1696769143.7732584, \"Dimensions\": {\"Algorithm\": \"Linear Learner\", \"Host\": \"algo-1\", \"Operation\": \"training\", \"epoch\": 10, \"model\": 15}, \"Metrics\": {\"train_mse_objective\": {\"sum\": 0.1355482911070188, \"count\": 1, \"min\": 0.1355482911070188, \"max\": 0.1355482911070188}}}\u001b[0m\n",
      "\u001b[34m#metrics {\"StartTime\": 1696769143.773284, \"EndTime\": 1696769143.7732902, \"Dimensions\": {\"Algorithm\": \"Linear Learner\", \"Host\": \"algo-1\", \"Operation\": \"training\", \"epoch\": 10, \"model\": 16}, \"Metrics\": {\"train_mse_objective\": {\"sum\": 0.6795007785161337, \"count\": 1, \"min\": 0.6795007785161337, \"max\": 0.6795007785161337}}}\u001b[0m\n",
      "\u001b[34m#metrics {\"StartTime\": 1696769143.7733157, \"EndTime\": 1696769143.7733223, \"Dimensions\": {\"Algorithm\": \"Linear Learner\", \"Host\": \"algo-1\", \"Operation\": \"training\", \"epoch\": 10, \"model\": 17}, \"Metrics\": {\"train_mse_objective\": {\"sum\": 0.7664791643619537, \"count\": 1, \"min\": 0.7664791643619537, \"max\": 0.7664791643619537}}}\u001b[0m\n",
      "\u001b[34m#metrics {\"StartTime\": 1696769143.7733483, \"EndTime\": 1696769143.7733548, \"Dimensions\": {\"Algorithm\": \"Linear Learner\", \"Host\": \"algo-1\", \"Operation\": \"training\", \"epoch\": 10, \"model\": 18}, \"Metrics\": {\"train_mse_objective\": {\"sum\": 0.7257265746593475, \"count\": 1, \"min\": 0.7257265746593475, \"max\": 0.7257265746593475}}}\u001b[0m\n",
      "\u001b[34m#metrics {\"StartTime\": 1696769143.7733827, \"EndTime\": 1696769143.773389, \"Dimensions\": {\"Algorithm\": \"Linear Learner\", \"Host\": \"algo-1\", \"Operation\": \"training\", \"epoch\": 10, \"model\": 19}, \"Metrics\": {\"train_mse_objective\": {\"sum\": 0.7188066144784292, \"count\": 1, \"min\": 0.7188066144784292, \"max\": 0.7188066144784292}}}\u001b[0m\n",
      "\u001b[34m#metrics {\"StartTime\": 1696769143.773415, \"EndTime\": 1696769143.7734215, \"Dimensions\": {\"Algorithm\": \"Linear Learner\", \"Host\": \"algo-1\", \"Operation\": \"training\", \"epoch\": 10, \"model\": 20}, \"Metrics\": {\"train_mse_objective\": {\"sum\": 0.3606426368157069, \"count\": 1, \"min\": 0.3606426368157069, \"max\": 0.3606426368157069}}}\u001b[0m\n",
      "\u001b[34m#metrics {\"StartTime\": 1696769143.773451, \"EndTime\": 1696769143.7734578, \"Dimensions\": {\"Algorithm\": \"Linear Learner\", \"Host\": \"algo-1\", \"Operation\": \"training\", \"epoch\": 10, \"model\": 21}, \"Metrics\": {\"train_mse_objective\": {\"sum\": 0.3725855400164922, \"count\": 1, \"min\": 0.3725855400164922, \"max\": 0.3725855400164922}}}\u001b[0m\n",
      "\u001b[34m#metrics {\"StartTime\": 1696769143.773483, \"EndTime\": 1696769143.7734897, \"Dimensions\": {\"Algorithm\": \"Linear Learner\", \"Host\": \"algo-1\", \"Operation\": \"training\", \"epoch\": 10, \"model\": 22}, \"Metrics\": {\"train_mse_objective\": {\"sum\": 0.3245714008808136, \"count\": 1, \"min\": 0.3245714008808136, \"max\": 0.3245714008808136}}}\u001b[0m\n",
      "\u001b[34m#metrics {\"StartTime\": 1696769143.7735183, \"EndTime\": 1696769143.773525, \"Dimensions\": {\"Algorithm\": \"Linear Learner\", \"Host\": \"algo-1\", \"Operation\": \"training\", \"epoch\": 10, \"model\": 23}, \"Metrics\": {\"train_mse_objective\": {\"sum\": 0.3956204851468404, \"count\": 1, \"min\": 0.3956204851468404, \"max\": 0.3956204851468404}}}\u001b[0m\n",
      "\u001b[34m#metrics {\"StartTime\": 1696769143.7735531, \"EndTime\": 1696769143.7735596, \"Dimensions\": {\"Algorithm\": \"Linear Learner\", \"Host\": \"algo-1\", \"Operation\": \"training\", \"epoch\": 10, \"model\": 24}, \"Metrics\": {\"train_mse_objective\": {\"sum\": 0.9908899068832397, \"count\": 1, \"min\": 0.9908899068832397, \"max\": 0.9908899068832397}}}\u001b[0m\n",
      "\u001b[34m#metrics {\"StartTime\": 1696769143.7735884, \"EndTime\": 1696769143.7735946, \"Dimensions\": {\"Algorithm\": \"Linear Learner\", \"Host\": \"algo-1\", \"Operation\": \"training\", \"epoch\": 10, \"model\": 25}, \"Metrics\": {\"train_mse_objective\": {\"sum\": 0.9906136989593506, \"count\": 1, \"min\": 0.9906136989593506, \"max\": 0.9906136989593506}}}\u001b[0m\n",
      "\u001b[34m#metrics {\"StartTime\": 1696769143.7736218, \"EndTime\": 1696769143.7736282, \"Dimensions\": {\"Algorithm\": \"Linear Learner\", \"Host\": \"algo-1\", \"Operation\": \"training\", \"epoch\": 10, \"model\": 26}, \"Metrics\": {\"train_mse_objective\": {\"sum\": 0.9848065574963888, \"count\": 1, \"min\": 0.9848065574963888, \"max\": 0.9848065574963888}}}\u001b[0m\n",
      "\u001b[34m#metrics {\"StartTime\": 1696769143.7736564, \"EndTime\": 1696769143.773663, \"Dimensions\": {\"Algorithm\": \"Linear Learner\", \"Host\": \"algo-1\", \"Operation\": \"training\", \"epoch\": 10, \"model\": 27}, \"Metrics\": {\"train_mse_objective\": {\"sum\": 0.9841939806938171, \"count\": 1, \"min\": 0.9841939806938171, \"max\": 0.9841939806938171}}}\u001b[0m\n",
      "\u001b[34m#metrics {\"StartTime\": 1696769143.7736893, \"EndTime\": 1696769143.7736957, \"Dimensions\": {\"Algorithm\": \"Linear Learner\", \"Host\": \"algo-1\", \"Operation\": \"training\", \"epoch\": 10, \"model\": 28}, \"Metrics\": {\"train_mse_objective\": {\"sum\": 0.989414115746816, \"count\": 1, \"min\": 0.989414115746816, \"max\": 0.989414115746816}}}\u001b[0m\n",
      "\u001b[34m#metrics {\"StartTime\": 1696769143.773724, \"EndTime\": 1696769143.7737308, \"Dimensions\": {\"Algorithm\": \"Linear Learner\", \"Host\": \"algo-1\", \"Operation\": \"training\", \"epoch\": 10, \"model\": 29}, \"Metrics\": {\"train_mse_objective\": {\"sum\": 0.9861745436986288, \"count\": 1, \"min\": 0.9861745436986288, \"max\": 0.9861745436986288}}}\u001b[0m\n",
      "\u001b[34m#metrics {\"StartTime\": 1696769143.7737591, \"EndTime\": 1696769143.7737656, \"Dimensions\": {\"Algorithm\": \"Linear Learner\", \"Host\": \"algo-1\", \"Operation\": \"training\", \"epoch\": 10, \"model\": 30}, \"Metrics\": {\"train_mse_objective\": {\"sum\": 0.9723291595776876, \"count\": 1, \"min\": 0.9723291595776876, \"max\": 0.9723291595776876}}}\u001b[0m\n",
      "\u001b[34m#metrics {\"StartTime\": 1696769143.7737913, \"EndTime\": 1696769143.7737978, \"Dimensions\": {\"Algorithm\": \"Linear Learner\", \"Host\": \"algo-1\", \"Operation\": \"training\", \"epoch\": 10, \"model\": 31}, \"Metrics\": {\"train_mse_objective\": {\"sum\": 1.0111546913782756, \"count\": 1, \"min\": 1.0111546913782756, \"max\": 1.0111546913782756}}}\u001b[0m\n",
      "\u001b[34m[10/08/2023 12:45:43 INFO 140032014460736] #quality_metric: host=algo-1, epoch=10, train mse_objective <loss>=0.7368844151496887\u001b[0m\n",
      "\u001b[34m[10/08/2023 12:45:43 INFO 140032014460736] #early_stopping_criteria_metric: host=algo-1, epoch=10, criteria=mse_objective, value=0.13371934245030084\u001b[0m\n",
      "\u001b[34m[10/08/2023 12:45:43 INFO 140032014460736] Epoch 10: Loss improved. Updating best model\u001b[0m\n",
      "\u001b[34m[10/08/2023 12:45:43 INFO 140032014460736] Saving model for epoch: 10\u001b[0m\n",
      "\u001b[34m[10/08/2023 12:45:43 INFO 140032014460736] Saved checkpoint to \"/tmp/tmpjfmx8rmg/mx-mod-0000.params\"\u001b[0m\n",
      "\u001b[34m[10/08/2023 12:45:43 INFO 140032014460736] #progress_metric: host=algo-1, completed 73.33333333333333 % of epochs\u001b[0m\n",
      "\u001b[34m#metrics {\"StartTime\": 1696769143.7037654, \"EndTime\": 1696769143.7829387, \"Dimensions\": {\"Algorithm\": \"Linear Learner\", \"Host\": \"algo-1\", \"Operation\": \"training\", \"epoch\": 10, \"Meta\": \"training_data_iter\"}, \"Metrics\": {\"Total Records Seen\": {\"sum\": 172.0, \"count\": 1, \"min\": 172, \"max\": 172}, \"Total Batches Seen\": {\"sum\": 49.0, \"count\": 1, \"min\": 49, \"max\": 49}, \"Max Records Seen Between Resets\": {\"sum\": 14.0, \"count\": 1, \"min\": 14, \"max\": 14}, \"Max Batches Seen Between Resets\": {\"sum\": 4.0, \"count\": 1, \"min\": 4, \"max\": 4}, \"Reset Count\": {\"sum\": 13.0, \"count\": 1, \"min\": 13, \"max\": 13}, \"Number of Records Since Last Reset\": {\"sum\": 14.0, \"count\": 1, \"min\": 14, \"max\": 14}, \"Number of Batches Since Last Reset\": {\"sum\": 4.0, \"count\": 1, \"min\": 4, \"max\": 4}}}\u001b[0m\n",
      "\u001b[34m[10/08/2023 12:45:43 INFO 140032014460736] #throughput_metric: host=algo-1, train throughput=176.55820050934653 records/second\u001b[0m\n",
      "\u001b[34m#metrics {\"StartTime\": 1696769143.84193, \"EndTime\": 1696769143.8419762, \"Dimensions\": {\"Algorithm\": \"Linear Learner\", \"Host\": \"algo-1\", \"Operation\": \"training\", \"epoch\": 11, \"model\": 0}, \"Metrics\": {\"train_mse_objective\": {\"sum\": 0.7162907421588898, \"count\": 1, \"min\": 0.7162907421588898, \"max\": 0.7162907421588898}}}\u001b[0m\n",
      "\u001b[34m#metrics {\"StartTime\": 1696769143.842039, \"EndTime\": 1696769143.8420527, \"Dimensions\": {\"Algorithm\": \"Linear Learner\", \"Host\": \"algo-1\", \"Operation\": \"training\", \"epoch\": 11, \"model\": 1}, \"Metrics\": {\"train_mse_objective\": {\"sum\": 0.7490062614281973, \"count\": 1, \"min\": 0.7490062614281973, \"max\": 0.7490062614281973}}}\u001b[0m\n",
      "\u001b[34m#metrics {\"StartTime\": 1696769143.8420937, \"EndTime\": 1696769143.842104, \"Dimensions\": {\"Algorithm\": \"Linear Learner\", \"Host\": \"algo-1\", \"Operation\": \"training\", \"epoch\": 11, \"model\": 2}, \"Metrics\": {\"train_mse_objective\": {\"sum\": 0.7205654780069987, \"count\": 1, \"min\": 0.7205654780069987, \"max\": 0.7205654780069987}}}\u001b[0m\n",
      "\u001b[34m#metrics {\"StartTime\": 1696769143.8421326, \"EndTime\": 1696769143.8421414, \"Dimensions\": {\"Algorithm\": \"Linear Learner\", \"Host\": \"algo-1\", \"Operation\": \"training\", \"epoch\": 11, \"model\": 3}, \"Metrics\": {\"train_mse_objective\": {\"sum\": 0.7471580604712168, \"count\": 1, \"min\": 0.7471580604712168, \"max\": 0.7471580604712168}}}\u001b[0m\n",
      "\u001b[34m#metrics {\"StartTime\": 1696769143.8421745, \"EndTime\": 1696769143.842182, \"Dimensions\": {\"Algorithm\": \"Linear Learner\", \"Host\": \"algo-1\", \"Operation\": \"training\", \"epoch\": 11, \"model\": 4}, \"Metrics\": {\"train_mse_objective\": {\"sum\": 0.15368768076101938, \"count\": 1, \"min\": 0.15368768076101938, \"max\": 0.15368768076101938}}}\u001b[0m\n",
      "\u001b[34m#metrics {\"StartTime\": 1696769143.8422096, \"EndTime\": 1696769143.8422167, \"Dimensions\": {\"Algorithm\": \"Linear Learner\", \"Host\": \"algo-1\", \"Operation\": \"training\", \"epoch\": 11, \"model\": 5}, \"Metrics\": {\"train_mse_objective\": {\"sum\": 0.15326377004384995, \"count\": 1, \"min\": 0.15326377004384995, \"max\": 0.15326377004384995}}}\u001b[0m\n",
      "\u001b[34m#metrics {\"StartTime\": 1696769143.8422515, \"EndTime\": 1696769143.8422601, \"Dimensions\": {\"Algorithm\": \"Linear Learner\", \"Host\": \"algo-1\", \"Operation\": \"training\", \"epoch\": 11, \"model\": 6}, \"Metrics\": {\"train_mse_objective\": {\"sum\": 0.15108580638964972, \"count\": 1, \"min\": 0.15108580638964972, \"max\": 0.15108580638964972}}}\u001b[0m\n",
      "\u001b[34m#metrics {\"StartTime\": 1696769143.8422945, \"EndTime\": 1696769143.8423026, \"Dimensions\": {\"Algorithm\": \"Linear Learner\", \"Host\": \"algo-1\", \"Operation\": \"training\", \"epoch\": 11, \"model\": 7}, \"Metrics\": {\"train_mse_objective\": {\"sum\": 0.15144838392734528, \"count\": 1, \"min\": 0.15144838392734528, \"max\": 0.15144838392734528}}}\u001b[0m\n",
      "\u001b[34m#metrics {\"StartTime\": 1696769143.8423374, \"EndTime\": 1696769143.8423471, \"Dimensions\": {\"Algorithm\": \"Linear Learner\", \"Host\": \"algo-1\", \"Operation\": \"training\", \"epoch\": 11, \"model\": 8}, \"Metrics\": {\"train_mse_objective\": {\"sum\": 0.819408118724823, \"count\": 1, \"min\": 0.819408118724823, \"max\": 0.819408118724823}}}\u001b[0m\n",
      "\u001b[34m#metrics {\"StartTime\": 1696769143.8423748, \"EndTime\": 1696769143.8423839, \"Dimensions\": {\"Algorithm\": \"Linear Learner\", \"Host\": \"algo-1\", \"Operation\": \"training\", \"epoch\": 11, \"model\": 9}, \"Metrics\": {\"train_mse_objective\": {\"sum\": 0.6923630734284719, \"count\": 1, \"min\": 0.6923630734284719, \"max\": 0.6923630734284719}}}\u001b[0m\n",
      "\u001b[34m#metrics {\"StartTime\": 1696769143.8424103, \"EndTime\": 1696769143.842419, \"Dimensions\": {\"Algorithm\": \"Linear Learner\", \"Host\": \"algo-1\", \"Operation\": \"training\", \"epoch\": 11, \"model\": 10}, \"Metrics\": {\"train_mse_objective\": {\"sum\": 0.7069521645704905, \"count\": 1, \"min\": 0.7069521645704905, \"max\": 0.7069521645704905}}}\u001b[0m\n",
      "\u001b[34m#metrics {\"StartTime\": 1696769143.8424456, \"EndTime\": 1696769143.8424528, \"Dimensions\": {\"Algorithm\": \"Linear Learner\", \"Host\": \"algo-1\", \"Operation\": \"training\", \"epoch\": 11, \"model\": 11}, \"Metrics\": {\"train_mse_objective\": {\"sum\": 0.6783928573131561, \"count\": 1, \"min\": 0.6783928573131561, \"max\": 0.6783928573131561}}}\u001b[0m\n",
      "\u001b[34m#metrics {\"StartTime\": 1696769143.8424902, \"EndTime\": 1696769143.8424997, \"Dimensions\": {\"Algorithm\": \"Linear Learner\", \"Host\": \"algo-1\", \"Operation\": \"training\", \"epoch\": 11, \"model\": 12}, \"Metrics\": {\"train_mse_objective\": {\"sum\": 0.15498500068982443, \"count\": 1, \"min\": 0.15498500068982443, \"max\": 0.15498500068982443}}}\u001b[0m\n",
      "\u001b[34m#metrics {\"StartTime\": 1696769143.8425276, \"EndTime\": 1696769143.8425355, \"Dimensions\": {\"Algorithm\": \"Linear Learner\", \"Host\": \"algo-1\", \"Operation\": \"training\", \"epoch\": 11, \"model\": 13}, \"Metrics\": {\"train_mse_objective\": {\"sum\": 0.15383847802877426, \"count\": 1, \"min\": 0.15383847802877426, \"max\": 0.15383847802877426}}}\u001b[0m\n",
      "\u001b[34m#metrics {\"StartTime\": 1696769143.842567, \"EndTime\": 1696769143.8425767, \"Dimensions\": {\"Algorithm\": \"Linear Learner\", \"Host\": \"algo-1\", \"Operation\": \"training\", \"epoch\": 11, \"model\": 14}, \"Metrics\": {\"train_mse_objective\": {\"sum\": 0.15504307051499686, \"count\": 1, \"min\": 0.15504307051499686, \"max\": 0.15504307051499686}}}\u001b[0m\n",
      "\u001b[34m#metrics {\"StartTime\": 1696769143.842603, \"EndTime\": 1696769143.8426113, \"Dimensions\": {\"Algorithm\": \"Linear Learner\", \"Host\": \"algo-1\", \"Operation\": \"training\", \"epoch\": 11, \"model\": 15}, \"Metrics\": {\"train_mse_objective\": {\"sum\": 0.15356114506721497, \"count\": 1, \"min\": 0.15356114506721497, \"max\": 0.15356114506721497}}}\u001b[0m\n",
      "\u001b[34m#metrics {\"StartTime\": 1696769143.8426437, \"EndTime\": 1696769143.842652, \"Dimensions\": {\"Algorithm\": \"Linear Learner\", \"Host\": \"algo-1\", \"Operation\": \"training\", \"epoch\": 11, \"model\": 16}, \"Metrics\": {\"train_mse_objective\": {\"sum\": 0.6614874998728434, \"count\": 1, \"min\": 0.6614874998728434, \"max\": 0.6614874998728434}}}\u001b[0m\n",
      "\u001b[34m#metrics {\"StartTime\": 1696769143.8426847, \"EndTime\": 1696769143.8426936, \"Dimensions\": {\"Algorithm\": \"Linear Learner\", \"Host\": \"algo-1\", \"Operation\": \"training\", \"epoch\": 11, \"model\": 17}, \"Metrics\": {\"train_mse_objective\": {\"sum\": 0.7460529208183289, \"count\": 1, \"min\": 0.7460529208183289, \"max\": 0.7460529208183289}}}\u001b[0m\n",
      "\u001b[34m#metrics {\"StartTime\": 1696769143.84273, \"EndTime\": 1696769143.842739, \"Dimensions\": {\"Algorithm\": \"Linear Learner\", \"Host\": \"algo-1\", \"Operation\": \"training\", \"epoch\": 11, \"model\": 18}, \"Metrics\": {\"train_mse_objective\": {\"sum\": 0.7067228655020396, \"count\": 1, \"min\": 0.7067228655020396, \"max\": 0.7067228655020396}}}\u001b[0m\n",
      "\u001b[34m#metrics {\"StartTime\": 1696769143.8427715, \"EndTime\": 1696769143.84278, \"Dimensions\": {\"Algorithm\": \"Linear Learner\", \"Host\": \"algo-1\", \"Operation\": \"training\", \"epoch\": 11, \"model\": 19}, \"Metrics\": {\"train_mse_objective\": {\"sum\": 0.6993867854277293, \"count\": 1, \"min\": 0.6993867854277293, \"max\": 0.6993867854277293}}}\u001b[0m\n",
      "\u001b[34m#metrics {\"StartTime\": 1696769143.8428156, \"EndTime\": 1696769143.8428252, \"Dimensions\": {\"Algorithm\": \"Linear Learner\", \"Host\": \"algo-1\", \"Operation\": \"training\", \"epoch\": 11, \"model\": 20}, \"Metrics\": {\"train_mse_objective\": {\"sum\": 0.33059683938821155, \"count\": 1, \"min\": 0.33059683938821155, \"max\": 0.33059683938821155}}}\u001b[0m\n",
      "\u001b[34m#metrics {\"StartTime\": 1696769143.8428621, \"EndTime\": 1696769143.8428707, \"Dimensions\": {\"Algorithm\": \"Linear Learner\", \"Host\": \"algo-1\", \"Operation\": \"training\", \"epoch\": 11, \"model\": 21}, \"Metrics\": {\"train_mse_objective\": {\"sum\": 0.3346043775478999, \"count\": 1, \"min\": 0.3346043775478999, \"max\": 0.3346043775478999}}}\u001b[0m\n",
      "\u001b[34m#metrics {\"StartTime\": 1696769143.842904, \"EndTime\": 1696769143.8429139, \"Dimensions\": {\"Algorithm\": \"Linear Learner\", \"Host\": \"algo-1\", \"Operation\": \"training\", \"epoch\": 11, \"model\": 22}, \"Metrics\": {\"train_mse_objective\": {\"sum\": 0.3181614428758621, \"count\": 1, \"min\": 0.3181614428758621, \"max\": 0.3181614428758621}}}\u001b[0m\n",
      "\u001b[34m#metrics {\"StartTime\": 1696769143.8429492, \"EndTime\": 1696769143.842958, \"Dimensions\": {\"Algorithm\": \"Linear Learner\", \"Host\": \"algo-1\", \"Operation\": \"training\", \"epoch\": 11, \"model\": 23}, \"Metrics\": {\"train_mse_objective\": {\"sum\": 0.3511597315470378, \"count\": 1, \"min\": 0.3511597315470378, \"max\": 0.3511597315470378}}}\u001b[0m\n",
      "\u001b[34m#metrics {\"StartTime\": 1696769143.842992, \"EndTime\": 1696769143.8430011, \"Dimensions\": {\"Algorithm\": \"Linear Learner\", \"Host\": \"algo-1\", \"Operation\": \"training\", \"epoch\": 11, \"model\": 24}, \"Metrics\": {\"train_mse_objective\": {\"sum\": 0.984056293964386, \"count\": 1, \"min\": 0.984056293964386, \"max\": 0.984056293964386}}}\u001b[0m\n",
      "\u001b[34m#metrics {\"StartTime\": 1696769143.8430371, \"EndTime\": 1696769143.843046, \"Dimensions\": {\"Algorithm\": \"Linear Learner\", \"Host\": \"algo-1\", \"Operation\": \"training\", \"epoch\": 11, \"model\": 25}, \"Metrics\": {\"train_mse_objective\": {\"sum\": 0.9928289850552877, \"count\": 1, \"min\": 0.9928289850552877, \"max\": 0.9928289850552877}}}\u001b[0m\n",
      "\u001b[34m#metrics {\"StartTime\": 1696769143.8430793, \"EndTime\": 1696769143.8430882, \"Dimensions\": {\"Algorithm\": \"Linear Learner\", \"Host\": \"algo-1\", \"Operation\": \"training\", \"epoch\": 11, \"model\": 26}, \"Metrics\": {\"train_mse_objective\": {\"sum\": 0.9806947708129883, \"count\": 1, \"min\": 0.9806947708129883, \"max\": 0.9806947708129883}}}\u001b[0m\n",
      "\u001b[34m#metrics {\"StartTime\": 1696769143.8431244, \"EndTime\": 1696769143.843133, \"Dimensions\": {\"Algorithm\": \"Linear Learner\", \"Host\": \"algo-1\", \"Operation\": \"training\", \"epoch\": 11, \"model\": 27}, \"Metrics\": {\"train_mse_objective\": {\"sum\": 0.9858730634053549, \"count\": 1, \"min\": 0.9858730634053549, \"max\": 0.9858730634053549}}}\u001b[0m\n",
      "\u001b[34m#metrics {\"StartTime\": 1696769143.8431718, \"EndTime\": 1696769143.8431802, \"Dimensions\": {\"Algorithm\": \"Linear Learner\", \"Host\": \"algo-1\", \"Operation\": \"training\", \"epoch\": 11, \"model\": 28}, \"Metrics\": {\"train_mse_objective\": {\"sum\": 0.9885072310765585, \"count\": 1, \"min\": 0.9885072310765585, \"max\": 0.9885072310765585}}}\u001b[0m\n",
      "\u001b[34m#metrics {\"StartTime\": 1696769143.843215, \"EndTime\": 1696769143.8432236, \"Dimensions\": {\"Algorithm\": \"Linear Learner\", \"Host\": \"algo-1\", \"Operation\": \"training\", \"epoch\": 11, \"model\": 29}, \"Metrics\": {\"train_mse_objective\": {\"sum\": 0.992646336555481, \"count\": 1, \"min\": 0.992646336555481, \"max\": 0.992646336555481}}}\u001b[0m\n",
      "\u001b[34m#metrics {\"StartTime\": 1696769143.8432593, \"EndTime\": 1696769143.8432686, \"Dimensions\": {\"Algorithm\": \"Linear Learner\", \"Host\": \"algo-1\", \"Operation\": \"training\", \"epoch\": 11, \"model\": 30}, \"Metrics\": {\"train_mse_objective\": {\"sum\": 1.0019893050193787, \"count\": 1, \"min\": 1.0019893050193787, \"max\": 1.0019893050193787}}}\u001b[0m\n",
      "\u001b[34m#metrics {\"StartTime\": 1696769143.8433042, \"EndTime\": 1696769143.8433135, \"Dimensions\": {\"Algorithm\": \"Linear Learner\", \"Host\": \"algo-1\", \"Operation\": \"training\", \"epoch\": 11, \"model\": 31}, \"Metrics\": {\"train_mse_objective\": {\"sum\": 1.0179182291030884, \"count\": 1, \"min\": 1.0179182291030884, \"max\": 1.0179182291030884}}}\u001b[0m\n",
      "\u001b[34m[10/08/2023 12:45:43 INFO 140032014460736] #quality_metric: host=algo-1, epoch=11, train mse_objective <loss>=0.7162907421588898\u001b[0m\n",
      "\u001b[34m[10/08/2023 12:45:43 INFO 140032014460736] #early_stopping_criteria_metric: host=algo-1, epoch=11, criteria=mse_objective, value=0.15108580638964972\u001b[0m\n",
      "\u001b[34m[10/08/2023 12:45:43 INFO 140032014460736] Saving model for epoch: 11\u001b[0m\n",
      "\u001b[34m[10/08/2023 12:45:43 INFO 140032014460736] Saved checkpoint to \"/tmp/tmpir5kq_cq/mx-mod-0000.params\"\u001b[0m\n",
      "\u001b[34m[10/08/2023 12:45:43 INFO 140032014460736] #progress_metric: host=algo-1, completed 80.0 % of epochs\u001b[0m\n",
      "\u001b[34m#metrics {\"StartTime\": 1696769143.7831633, \"EndTime\": 1696769143.849477, \"Dimensions\": {\"Algorithm\": \"Linear Learner\", \"Host\": \"algo-1\", \"Operation\": \"training\", \"epoch\": 11, \"Meta\": \"training_data_iter\"}, \"Metrics\": {\"Total Records Seen\": {\"sum\": 186.0, \"count\": 1, \"min\": 186, \"max\": 186}, \"Total Batches Seen\": {\"sum\": 53.0, \"count\": 1, \"min\": 53, \"max\": 53}, \"Max Records Seen Between Resets\": {\"sum\": 14.0, \"count\": 1, \"min\": 14, \"max\": 14}, \"Max Batches Seen Between Resets\": {\"sum\": 4.0, \"count\": 1, \"min\": 4, \"max\": 4}, \"Reset Count\": {\"sum\": 14.0, \"count\": 1, \"min\": 14, \"max\": 14}, \"Number of Records Since Last Reset\": {\"sum\": 14.0, \"count\": 1, \"min\": 14, \"max\": 14}, \"Number of Batches Since Last Reset\": {\"sum\": 4.0, \"count\": 1, \"min\": 4, \"max\": 4}}}\u001b[0m\n",
      "\u001b[34m[10/08/2023 12:45:43 INFO 140032014460736] #throughput_metric: host=algo-1, train throughput=210.76677566286077 records/second\u001b[0m\n",
      "\u001b[34m#metrics {\"StartTime\": 1696769143.8964512, \"EndTime\": 1696769143.8964965, \"Dimensions\": {\"Algorithm\": \"Linear Learner\", \"Host\": \"algo-1\", \"Operation\": \"training\", \"epoch\": 12, \"model\": 0}, \"Metrics\": {\"train_mse_objective\": {\"sum\": 0.6959731082121531, \"count\": 1, \"min\": 0.6959731082121531, \"max\": 0.6959731082121531}}}\u001b[0m\n",
      "\u001b[34m#metrics {\"StartTime\": 1696769143.8965545, \"EndTime\": 1696769143.8965657, \"Dimensions\": {\"Algorithm\": \"Linear Learner\", \"Host\": \"algo-1\", \"Operation\": \"training\", \"epoch\": 12, \"model\": 1}, \"Metrics\": {\"train_mse_objective\": {\"sum\": 0.7274984618028005, \"count\": 1, \"min\": 0.7274984618028005, \"max\": 0.7274984618028005}}}\u001b[0m\n",
      "\u001b[34m#metrics {\"StartTime\": 1696769143.8966076, \"EndTime\": 1696769143.8966174, \"Dimensions\": {\"Algorithm\": \"Linear Learner\", \"Host\": \"algo-1\", \"Operation\": \"training\", \"epoch\": 12, \"model\": 2}, \"Metrics\": {\"train_mse_objective\": {\"sum\": 0.7001741429169973, \"count\": 1, \"min\": 0.7001741429169973, \"max\": 0.7001741429169973}}}\u001b[0m\n",
      "\u001b[34m#metrics {\"StartTime\": 1696769143.8966563, \"EndTime\": 1696769143.8966646, \"Dimensions\": {\"Algorithm\": \"Linear Learner\", \"Host\": \"algo-1\", \"Operation\": \"training\", \"epoch\": 12, \"model\": 3}, \"Metrics\": {\"train_mse_objective\": {\"sum\": 0.7256824175516764, \"count\": 1, \"min\": 0.7256824175516764, \"max\": 0.7256824175516764}}}\u001b[0m\n",
      "\u001b[34m#metrics {\"StartTime\": 1696769143.896694, \"EndTime\": 1696769143.8967023, \"Dimensions\": {\"Algorithm\": \"Linear Learner\", \"Host\": \"algo-1\", \"Operation\": \"training\", \"epoch\": 12, \"model\": 4}, \"Metrics\": {\"train_mse_objective\": {\"sum\": 0.14474053432544073, \"count\": 1, \"min\": 0.14474053432544073, \"max\": 0.14474053432544073}}}\u001b[0m\n",
      "\u001b[34m#metrics {\"StartTime\": 1696769143.8967314, \"EndTime\": 1696769143.8967383, \"Dimensions\": {\"Algorithm\": \"Linear Learner\", \"Host\": \"algo-1\", \"Operation\": \"training\", \"epoch\": 12, \"model\": 5}, \"Metrics\": {\"train_mse_objective\": {\"sum\": 0.14650227377812067, \"count\": 1, \"min\": 0.14650227377812067, \"max\": 0.14650227377812067}}}\u001b[0m\n",
      "\u001b[34m#metrics {\"StartTime\": 1696769143.8967733, \"EndTime\": 1696769143.8967824, \"Dimensions\": {\"Algorithm\": \"Linear Learner\", \"Host\": \"algo-1\", \"Operation\": \"training\", \"epoch\": 12, \"model\": 6}, \"Metrics\": {\"train_mse_objective\": {\"sum\": 0.14332044124603271, \"count\": 1, \"min\": 0.14332044124603271, \"max\": 0.14332044124603271}}}\u001b[0m\n",
      "\u001b[34m#metrics {\"StartTime\": 1696769143.8968132, \"EndTime\": 1696769143.8968217, \"Dimensions\": {\"Algorithm\": \"Linear Learner\", \"Host\": \"algo-1\", \"Operation\": \"training\", \"epoch\": 12, \"model\": 7}, \"Metrics\": {\"train_mse_objective\": {\"sum\": 0.14601323256889978, \"count\": 1, \"min\": 0.14601323256889978, \"max\": 0.14601323256889978}}}\u001b[0m\n",
      "\u001b[34m#metrics {\"StartTime\": 1696769143.8968558, \"EndTime\": 1696769143.8968654, \"Dimensions\": {\"Algorithm\": \"Linear Learner\", \"Host\": \"algo-1\", \"Operation\": \"training\", \"epoch\": 12, \"model\": 8}, \"Metrics\": {\"train_mse_objective\": {\"sum\": 0.7973886728286743, \"count\": 1, \"min\": 0.7973886728286743, \"max\": 0.7973886728286743}}}\u001b[0m\n",
      "\u001b[34m#metrics {\"StartTime\": 1696769143.8969262, \"EndTime\": 1696769143.8969371, \"Dimensions\": {\"Algorithm\": \"Linear Learner\", \"Host\": \"algo-1\", \"Operation\": \"training\", \"epoch\": 12, \"model\": 9}, \"Metrics\": {\"train_mse_objective\": {\"sum\": 0.6718762020270029, \"count\": 1, \"min\": 0.6718762020270029, \"max\": 0.6718762020270029}}}\u001b[0m\n",
      "\u001b[34m#metrics {\"StartTime\": 1696769143.8969762, \"EndTime\": 1696769143.8969858, \"Dimensions\": {\"Algorithm\": \"Linear Learner\", \"Host\": \"algo-1\", \"Operation\": \"training\", \"epoch\": 12, \"model\": 10}, \"Metrics\": {\"train_mse_objective\": {\"sum\": 0.6868103643258413, \"count\": 1, \"min\": 0.6868103643258413, \"max\": 0.6868103643258413}}}\u001b[0m\n",
      "\u001b[34m#metrics {\"StartTime\": 1696769143.8970206, \"EndTime\": 1696769143.89703, \"Dimensions\": {\"Algorithm\": \"Linear Learner\", \"Host\": \"algo-1\", \"Operation\": \"training\", \"epoch\": 12, \"model\": 11}, \"Metrics\": {\"train_mse_objective\": {\"sum\": 0.6581626832485199, \"count\": 1, \"min\": 0.6581626832485199, \"max\": 0.6581626832485199}}}\u001b[0m\n",
      "\u001b[34m#metrics {\"StartTime\": 1696769143.8970695, \"EndTime\": 1696769143.8970788, \"Dimensions\": {\"Algorithm\": \"Linear Learner\", \"Host\": \"algo-1\", \"Operation\": \"training\", \"epoch\": 12, \"model\": 12}, \"Metrics\": {\"train_mse_objective\": {\"sum\": 0.14645439883073172, \"count\": 1, \"min\": 0.14645439883073172, \"max\": 0.14645439883073172}}}\u001b[0m\n",
      "\u001b[34m#metrics {\"StartTime\": 1696769143.89712, \"EndTime\": 1696769143.897129, \"Dimensions\": {\"Algorithm\": \"Linear Learner\", \"Host\": \"algo-1\", \"Operation\": \"training\", \"epoch\": 12, \"model\": 13}, \"Metrics\": {\"train_mse_objective\": {\"sum\": 0.14824865013360977, \"count\": 1, \"min\": 0.14824865013360977, \"max\": 0.14824865013360977}}}\u001b[0m\n",
      "\u001b[34m#metrics {\"StartTime\": 1696769143.8971577, \"EndTime\": 1696769143.897166, \"Dimensions\": {\"Algorithm\": \"Linear Learner\", \"Host\": \"algo-1\", \"Operation\": \"training\", \"epoch\": 12, \"model\": 14}, \"Metrics\": {\"train_mse_objective\": {\"sum\": 0.1464418222506841, \"count\": 1, \"min\": 0.1464418222506841, \"max\": 0.1464418222506841}}}\u001b[0m\n",
      "\u001b[34m#metrics {\"StartTime\": 1696769143.8972023, \"EndTime\": 1696769143.897211, \"Dimensions\": {\"Algorithm\": \"Linear Learner\", \"Host\": \"algo-1\", \"Operation\": \"training\", \"epoch\": 12, \"model\": 15}, \"Metrics\": {\"train_mse_objective\": {\"sum\": 0.1481922964255015, \"count\": 1, \"min\": 0.1481922964255015, \"max\": 0.1481922964255015}}}\u001b[0m\n",
      "\u001b[34m#metrics {\"StartTime\": 1696769143.897249, \"EndTime\": 1696769143.897259, \"Dimensions\": {\"Algorithm\": \"Linear Learner\", \"Host\": \"algo-1\", \"Operation\": \"training\", \"epoch\": 12, \"model\": 16}, \"Metrics\": {\"train_mse_objective\": {\"sum\": 0.6439159909884135, \"count\": 1, \"min\": 0.6439159909884135, \"max\": 0.6439159909884135}}}\u001b[0m\n",
      "\u001b[34m#metrics {\"StartTime\": 1696769143.897298, \"EndTime\": 1696769143.8973079, \"Dimensions\": {\"Algorithm\": \"Linear Learner\", \"Host\": \"algo-1\", \"Operation\": \"training\", \"epoch\": 12, \"model\": 17}, \"Metrics\": {\"train_mse_objective\": {\"sum\": 0.7261112431685129, \"count\": 1, \"min\": 0.7261112431685129, \"max\": 0.7261112431685129}}}\u001b[0m\n",
      "\u001b[34m#metrics {\"StartTime\": 1696769143.8973424, \"EndTime\": 1696769143.8973522, \"Dimensions\": {\"Algorithm\": \"Linear Learner\", \"Host\": \"algo-1\", \"Operation\": \"training\", \"epoch\": 12, \"model\": 18}, \"Metrics\": {\"train_mse_objective\": {\"sum\": 0.6881635983784994, \"count\": 1, \"min\": 0.6881635983784994, \"max\": 0.6881635983784994}}}\u001b[0m\n",
      "\u001b[34m#metrics {\"StartTime\": 1696769143.8973892, \"EndTime\": 1696769143.8973987, \"Dimensions\": {\"Algorithm\": \"Linear Learner\", \"Host\": \"algo-1\", \"Operation\": \"training\", \"epoch\": 12, \"model\": 19}, \"Metrics\": {\"train_mse_objective\": {\"sum\": 0.6804374853769938, \"count\": 1, \"min\": 0.6804374853769938, \"max\": 0.6804374853769938}}}\u001b[0m\n",
      "\u001b[34m#metrics {\"StartTime\": 1696769143.897433, \"EndTime\": 1696769143.897442, \"Dimensions\": {\"Algorithm\": \"Linear Learner\", \"Host\": \"algo-1\", \"Operation\": \"training\", \"epoch\": 12, \"model\": 20}, \"Metrics\": {\"train_mse_objective\": {\"sum\": 0.3087502792477608, \"count\": 1, \"min\": 0.3087502792477608, \"max\": 0.3087502792477608}}}\u001b[0m\n",
      "\u001b[34m#metrics {\"StartTime\": 1696769143.8974764, \"EndTime\": 1696769143.8974857, \"Dimensions\": {\"Algorithm\": \"Linear Learner\", \"Host\": \"algo-1\", \"Operation\": \"training\", \"epoch\": 12, \"model\": 21}, \"Metrics\": {\"train_mse_objective\": {\"sum\": 0.31028807411591214, \"count\": 1, \"min\": 0.31028807411591214, \"max\": 0.31028807411591214}}}\u001b[0m\n",
      "\u001b[34m#metrics {\"StartTime\": 1696769143.8975208, \"EndTime\": 1696769143.8975303, \"Dimensions\": {\"Algorithm\": \"Linear Learner\", \"Host\": \"algo-1\", \"Operation\": \"training\", \"epoch\": 12, \"model\": 22}, \"Metrics\": {\"train_mse_objective\": {\"sum\": 0.31901609152555466, \"count\": 1, \"min\": 0.31901609152555466, \"max\": 0.31901609152555466}}}\u001b[0m\n",
      "\u001b[34m#metrics {\"StartTime\": 1696769143.8975658, \"EndTime\": 1696769143.8975756, \"Dimensions\": {\"Algorithm\": \"Linear Learner\", \"Host\": \"algo-1\", \"Operation\": \"training\", \"epoch\": 12, \"model\": 23}, \"Metrics\": {\"train_mse_objective\": {\"sum\": 0.31599344809850055, \"count\": 1, \"min\": 0.31599344809850055, \"max\": 0.31599344809850055}}}\u001b[0m\n",
      "\u001b[34m#metrics {\"StartTime\": 1696769143.8976057, \"EndTime\": 1696769143.8976114, \"Dimensions\": {\"Algorithm\": \"Linear Learner\", \"Host\": \"algo-1\", \"Operation\": \"training\", \"epoch\": 12, \"model\": 24}, \"Metrics\": {\"train_mse_objective\": {\"sum\": 0.9786149064699808, \"count\": 1, \"min\": 0.9786149064699808, \"max\": 0.9786149064699808}}}\u001b[0m\n",
      "\u001b[34m#metrics {\"StartTime\": 1696769143.897642, \"EndTime\": 1696769143.8976505, \"Dimensions\": {\"Algorithm\": \"Linear Learner\", \"Host\": \"algo-1\", \"Operation\": \"training\", \"epoch\": 12, \"model\": 25}, \"Metrics\": {\"train_mse_objective\": {\"sum\": 0.9916253089904785, \"count\": 1, \"min\": 0.9916253089904785, \"max\": 0.9916253089904785}}}\u001b[0m\n",
      "\u001b[34m#metrics {\"StartTime\": 1696769143.8976839, \"EndTime\": 1696769143.8976924, \"Dimensions\": {\"Algorithm\": \"Linear Learner\", \"Host\": \"algo-1\", \"Operation\": \"training\", \"epoch\": 12, \"model\": 26}, \"Metrics\": {\"train_mse_objective\": {\"sum\": 0.9786367615063986, \"count\": 1, \"min\": 0.9786367615063986, \"max\": 0.9786367615063986}}}\u001b[0m\n",
      "\u001b[34m#metrics {\"StartTime\": 1696769143.8977263, \"EndTime\": 1696769143.8977354, \"Dimensions\": {\"Algorithm\": \"Linear Learner\", \"Host\": \"algo-1\", \"Operation\": \"training\", \"epoch\": 12, \"model\": 27}, \"Metrics\": {\"train_mse_objective\": {\"sum\": 0.9846827387809753, \"count\": 1, \"min\": 0.9846827387809753, \"max\": 0.9846827387809753}}}\u001b[0m\n",
      "\u001b[34m#metrics {\"StartTime\": 1696769143.89777, \"EndTime\": 1696769143.8977785, \"Dimensions\": {\"Algorithm\": \"Linear Learner\", \"Host\": \"algo-1\", \"Operation\": \"training\", \"epoch\": 12, \"model\": 28}, \"Metrics\": {\"train_mse_objective\": {\"sum\": 0.9981687068939209, \"count\": 1, \"min\": 0.9981687068939209, \"max\": 0.9981687068939209}}}\u001b[0m\n",
      "\u001b[34m#metrics {\"StartTime\": 1696769143.8978107, \"EndTime\": 1696769143.89782, \"Dimensions\": {\"Algorithm\": \"Linear Learner\", \"Host\": \"algo-1\", \"Operation\": \"training\", \"epoch\": 12, \"model\": 29}, \"Metrics\": {\"train_mse_objective\": {\"sum\": 0.9988962411880493, \"count\": 1, \"min\": 0.9988962411880493, \"max\": 0.9988962411880493}}}\u001b[0m\n",
      "\u001b[34m#metrics {\"StartTime\": 1696769143.8978534, \"EndTime\": 1696769143.8978634, \"Dimensions\": {\"Algorithm\": \"Linear Learner\", \"Host\": \"algo-1\", \"Operation\": \"training\", \"epoch\": 12, \"model\": 30}, \"Metrics\": {\"train_mse_objective\": {\"sum\": 1.0021120707194011, \"count\": 1, \"min\": 1.0021120707194011, \"max\": 1.0021120707194011}}}\u001b[0m\n",
      "\u001b[34m#metrics {\"StartTime\": 1696769143.8979015, \"EndTime\": 1696769143.8979104, \"Dimensions\": {\"Algorithm\": \"Linear Learner\", \"Host\": \"algo-1\", \"Operation\": \"training\", \"epoch\": 12, \"model\": 31}, \"Metrics\": {\"train_mse_objective\": {\"sum\": 0.9736133019129435, \"count\": 1, \"min\": 0.9736133019129435, \"max\": 0.9736133019129435}}}\u001b[0m\n",
      "\u001b[34m[10/08/2023 12:45:43 INFO 140032014460736] #quality_metric: host=algo-1, epoch=12, train mse_objective <loss>=0.6959731082121531\u001b[0m\n",
      "\u001b[34m[10/08/2023 12:45:43 INFO 140032014460736] #early_stopping_criteria_metric: host=algo-1, epoch=12, criteria=mse_objective, value=0.14332044124603271\u001b[0m\n",
      "\u001b[34m[10/08/2023 12:45:43 INFO 140032014460736] Saving model for epoch: 12\u001b[0m\n",
      "\u001b[34m[10/08/2023 12:45:43 INFO 140032014460736] Saved checkpoint to \"/tmp/tmpufo0i14j/mx-mod-0000.params\"\u001b[0m\n",
      "\u001b[34m[10/08/2023 12:45:43 INFO 140032014460736] #progress_metric: host=algo-1, completed 86.66666666666667 % of epochs\u001b[0m\n",
      "\u001b[34m#metrics {\"StartTime\": 1696769143.8497038, \"EndTime\": 1696769143.9040947, \"Dimensions\": {\"Algorithm\": \"Linear Learner\", \"Host\": \"algo-1\", \"Operation\": \"training\", \"epoch\": 12, \"Meta\": \"training_data_iter\"}, \"Metrics\": {\"Total Records Seen\": {\"sum\": 200.0, \"count\": 1, \"min\": 200, \"max\": 200}, \"Total Batches Seen\": {\"sum\": 57.0, \"count\": 1, \"min\": 57, \"max\": 57}, \"Max Records Seen Between Resets\": {\"sum\": 14.0, \"count\": 1, \"min\": 14, \"max\": 14}, \"Max Batches Seen Between Resets\": {\"sum\": 4.0, \"count\": 1, \"min\": 4, \"max\": 4}, \"Reset Count\": {\"sum\": 15.0, \"count\": 1, \"min\": 15, \"max\": 15}, \"Number of Records Since Last Reset\": {\"sum\": 14.0, \"count\": 1, \"min\": 14, \"max\": 14}, \"Number of Batches Since Last Reset\": {\"sum\": 4.0, \"count\": 1, \"min\": 4, \"max\": 4}}}\u001b[0m\n",
      "\u001b[34m[10/08/2023 12:45:43 INFO 140032014460736] #throughput_metric: host=algo-1, train throughput=256.8836198034009 records/second\u001b[0m\n",
      "\u001b[34m#metrics {\"StartTime\": 1696769143.949788, \"EndTime\": 1696769143.9498324, \"Dimensions\": {\"Algorithm\": \"Linear Learner\", \"Host\": \"algo-1\", \"Operation\": \"training\", \"epoch\": 13, \"model\": 0}, \"Metrics\": {\"train_mse_objective\": {\"sum\": 0.6760734617710114, \"count\": 1, \"min\": 0.6760734617710114, \"max\": 0.6760734617710114}}}\u001b[0m\n",
      "\u001b[34m#metrics {\"StartTime\": 1696769143.9498885, \"EndTime\": 1696769143.949897, \"Dimensions\": {\"Algorithm\": \"Linear Learner\", \"Host\": \"algo-1\", \"Operation\": \"training\", \"epoch\": 13, \"model\": 1}, \"Metrics\": {\"train_mse_objective\": {\"sum\": 0.7064078748226166, \"count\": 1, \"min\": 0.7064078748226166, \"max\": 0.7064078748226166}}}\u001b[0m\n",
      "\u001b[34m#metrics {\"StartTime\": 1696769143.9499342, \"EndTime\": 1696769143.9499419, \"Dimensions\": {\"Algorithm\": \"Linear Learner\", \"Host\": \"algo-1\", \"Operation\": \"training\", \"epoch\": 13, \"model\": 2}, \"Metrics\": {\"train_mse_objective\": {\"sum\": 0.6801973879337311, \"count\": 1, \"min\": 0.6801973879337311, \"max\": 0.6801973879337311}}}\u001b[0m\n",
      "\u001b[34m#metrics {\"StartTime\": 1696769143.9499702, \"EndTime\": 1696769143.949976, \"Dimensions\": {\"Algorithm\": \"Linear Learner\", \"Host\": \"algo-1\", \"Operation\": \"training\", \"epoch\": 13, \"model\": 3}, \"Metrics\": {\"train_mse_objective\": {\"sum\": 0.7046253184477488, \"count\": 1, \"min\": 0.7046253184477488, \"max\": 0.7046253184477488}}}\u001b[0m\n",
      "\u001b[34m#metrics {\"StartTime\": 1696769143.9500067, \"EndTime\": 1696769143.9500148, \"Dimensions\": {\"Algorithm\": \"Linear Learner\", \"Host\": \"algo-1\", \"Operation\": \"training\", \"epoch\": 13, \"model\": 4}, \"Metrics\": {\"train_mse_objective\": {\"sum\": 0.13777847836414972, \"count\": 1, \"min\": 0.13777847836414972, \"max\": 0.13777847836414972}}}\u001b[0m\n",
      "\u001b[34m#metrics {\"StartTime\": 1696769143.9500403, \"EndTime\": 1696769143.9500456, \"Dimensions\": {\"Algorithm\": \"Linear Learner\", \"Host\": \"algo-1\", \"Operation\": \"training\", \"epoch\": 13, \"model\": 5}, \"Metrics\": {\"train_mse_objective\": {\"sum\": 0.13636805613835654, \"count\": 1, \"min\": 0.13636805613835654, \"max\": 0.13636805613835654}}}\u001b[0m\n",
      "\u001b[34m#metrics {\"StartTime\": 1696769143.9500656, \"EndTime\": 1696769143.9500728, \"Dimensions\": {\"Algorithm\": \"Linear Learner\", \"Host\": \"algo-1\", \"Operation\": \"training\", \"epoch\": 13, \"model\": 6}, \"Metrics\": {\"train_mse_objective\": {\"sum\": 0.14011415342489877, \"count\": 1, \"min\": 0.14011415342489877, \"max\": 0.14011415342489877}}}\u001b[0m\n",
      "\u001b[34m#metrics {\"StartTime\": 1696769143.9501002, \"EndTime\": 1696769143.9501076, \"Dimensions\": {\"Algorithm\": \"Linear Learner\", \"Host\": \"algo-1\", \"Operation\": \"training\", \"epoch\": 13, \"model\": 7}, \"Metrics\": {\"train_mse_objective\": {\"sum\": 0.13846455762783685, \"count\": 1, \"min\": 0.13846455762783685, \"max\": 0.13846455762783685}}}\u001b[0m\n",
      "\u001b[34m#metrics {\"StartTime\": 1696769143.9501455, \"EndTime\": 1696769143.9501545, \"Dimensions\": {\"Algorithm\": \"Linear Learner\", \"Host\": \"algo-1\", \"Operation\": \"training\", \"epoch\": 13, \"model\": 8}, \"Metrics\": {\"train_mse_objective\": {\"sum\": 0.7757318814595541, \"count\": 1, \"min\": 0.7757318814595541, \"max\": 0.7757318814595541}}}\u001b[0m\n",
      "\u001b[34m#metrics {\"StartTime\": 1696769143.950189, \"EndTime\": 1696769143.9501977, \"Dimensions\": {\"Algorithm\": \"Linear Learner\", \"Host\": \"algo-1\", \"Operation\": \"training\", \"epoch\": 13, \"model\": 9}, \"Metrics\": {\"train_mse_objective\": {\"sum\": 0.6518573065598806, \"count\": 1, \"min\": 0.6518573065598806, \"max\": 0.6518573065598806}}}\u001b[0m\n",
      "\u001b[34m#metrics {\"StartTime\": 1696769143.9502306, \"EndTime\": 1696769143.950239, \"Dimensions\": {\"Algorithm\": \"Linear Learner\", \"Host\": \"algo-1\", \"Operation\": \"training\", \"epoch\": 13, \"model\": 10}, \"Metrics\": {\"train_mse_objective\": {\"sum\": 0.6670958697795868, \"count\": 1, \"min\": 0.6670958697795868, \"max\": 0.6670958697795868}}}\u001b[0m\n",
      "\u001b[34m#metrics {\"StartTime\": 1696769143.9502707, \"EndTime\": 1696769143.950279, \"Dimensions\": {\"Algorithm\": \"Linear Learner\", \"Host\": \"algo-1\", \"Operation\": \"training\", \"epoch\": 13, \"model\": 11}, \"Metrics\": {\"train_mse_objective\": {\"sum\": 0.638414591550827, \"count\": 1, \"min\": 0.638414591550827, \"max\": 0.638414591550827}}}\u001b[0m\n",
      "\u001b[34m#metrics {\"StartTime\": 1696769143.9503148, \"EndTime\": 1696769143.950324, \"Dimensions\": {\"Algorithm\": \"Linear Learner\", \"Host\": \"algo-1\", \"Operation\": \"training\", \"epoch\": 13, \"model\": 12}, \"Metrics\": {\"train_mse_objective\": {\"sum\": 0.1395011693239212, \"count\": 1, \"min\": 0.1395011693239212, \"max\": 0.1395011693239212}}}\u001b[0m\n",
      "\u001b[34m#metrics {\"StartTime\": 1696769143.950357, \"EndTime\": 1696769143.950365, \"Dimensions\": {\"Algorithm\": \"Linear Learner\", \"Host\": \"algo-1\", \"Operation\": \"training\", \"epoch\": 13, \"model\": 13}, \"Metrics\": {\"train_mse_objective\": {\"sum\": 0.13903330639004707, \"count\": 1, \"min\": 0.13903330639004707, \"max\": 0.13903330639004707}}}\u001b[0m\n",
      "\u001b[34m#metrics {\"StartTime\": 1696769143.950402, \"EndTime\": 1696769143.9504106, \"Dimensions\": {\"Algorithm\": \"Linear Learner\", \"Host\": \"algo-1\", \"Operation\": \"training\", \"epoch\": 13, \"model\": 14}, \"Metrics\": {\"train_mse_objective\": {\"sum\": 0.13941642890373865, \"count\": 1, \"min\": 0.13941642890373865, \"max\": 0.13941642890373865}}}\u001b[0m\n",
      "\u001b[34m#metrics {\"StartTime\": 1696769143.950448, \"EndTime\": 1696769143.950457, \"Dimensions\": {\"Algorithm\": \"Linear Learner\", \"Host\": \"algo-1\", \"Operation\": \"training\", \"epoch\": 13, \"model\": 15}, \"Metrics\": {\"train_mse_objective\": {\"sum\": 0.13932228460907936, \"count\": 1, \"min\": 0.13932228460907936, \"max\": 0.13932228460907936}}}\u001b[0m\n",
      "\u001b[34m#metrics {\"StartTime\": 1696769143.9504914, \"EndTime\": 1696769143.9505, \"Dimensions\": {\"Algorithm\": \"Linear Learner\", \"Host\": \"algo-1\", \"Operation\": \"training\", \"epoch\": 13, \"model\": 16}, \"Metrics\": {\"train_mse_objective\": {\"sum\": 0.6270053386688232, \"count\": 1, \"min\": 0.6270053386688232, \"max\": 0.6270053386688232}}}\u001b[0m\n",
      "\u001b[34m#metrics {\"StartTime\": 1696769143.9505343, \"EndTime\": 1696769143.950543, \"Dimensions\": {\"Algorithm\": \"Linear Learner\", \"Host\": \"algo-1\", \"Operation\": \"training\", \"epoch\": 13, \"model\": 17}, \"Metrics\": {\"train_mse_objective\": {\"sum\": 0.7067691485087076, \"count\": 1, \"min\": 0.7067691485087076, \"max\": 0.7067691485087076}}}\u001b[0m\n",
      "\u001b[34m#metrics {\"StartTime\": 1696769143.9505773, \"EndTime\": 1696769143.9505863, \"Dimensions\": {\"Algorithm\": \"Linear Learner\", \"Host\": \"algo-1\", \"Operation\": \"training\", \"epoch\": 13, \"model\": 18}, \"Metrics\": {\"train_mse_objective\": {\"sum\": 0.6702094872792562, \"count\": 1, \"min\": 0.6702094872792562, \"max\": 0.6702094872792562}}}\u001b[0m\n",
      "\u001b[34m#metrics {\"StartTime\": 1696769143.9506233, \"EndTime\": 1696769143.950632, \"Dimensions\": {\"Algorithm\": \"Linear Learner\", \"Host\": \"algo-1\", \"Operation\": \"training\", \"epoch\": 13, \"model\": 19}, \"Metrics\": {\"train_mse_objective\": {\"sum\": 0.6621399025122324, \"count\": 1, \"min\": 0.6621399025122324, \"max\": 0.6621399025122324}}}\u001b[0m\n",
      "\u001b[34m#metrics {\"StartTime\": 1696769143.9506674, \"EndTime\": 1696769143.9506764, \"Dimensions\": {\"Algorithm\": \"Linear Learner\", \"Host\": \"algo-1\", \"Operation\": \"training\", \"epoch\": 13, \"model\": 20}, \"Metrics\": {\"train_mse_objective\": {\"sum\": 0.31927412499984104, \"count\": 1, \"min\": 0.31927412499984104, \"max\": 0.31927412499984104}}}\u001b[0m\n",
      "\u001b[34m#metrics {\"StartTime\": 1696769143.9507105, \"EndTime\": 1696769143.950719, \"Dimensions\": {\"Algorithm\": \"Linear Learner\", \"Host\": \"algo-1\", \"Operation\": \"training\", \"epoch\": 13, \"model\": 21}, \"Metrics\": {\"train_mse_objective\": {\"sum\": 0.3137008175253868, \"count\": 1, \"min\": 0.3137008175253868, \"max\": 0.3137008175253868}}}\u001b[0m\n",
      "\u001b[34m#metrics {\"StartTime\": 1696769143.9507554, \"EndTime\": 1696769143.9507642, \"Dimensions\": {\"Algorithm\": \"Linear Learner\", \"Host\": \"algo-1\", \"Operation\": \"training\", \"epoch\": 13, \"model\": 22}, \"Metrics\": {\"train_mse_objective\": {\"sum\": 0.34517955780029297, \"count\": 1, \"min\": 0.34517955780029297, \"max\": 0.34517955780029297}}}\u001b[0m\n",
      "\u001b[34m#metrics {\"StartTime\": 1696769143.950797, \"EndTime\": 1696769143.9508054, \"Dimensions\": {\"Algorithm\": \"Linear Learner\", \"Host\": \"algo-1\", \"Operation\": \"training\", \"epoch\": 13, \"model\": 23}, \"Metrics\": {\"train_mse_objective\": {\"sum\": 0.3082602992653847, \"count\": 1, \"min\": 0.3082602992653847, \"max\": 0.3082602992653847}}}\u001b[0m\n",
      "\u001b[34m#metrics {\"StartTime\": 1696769143.950842, \"EndTime\": 1696769143.9508505, \"Dimensions\": {\"Algorithm\": \"Linear Learner\", \"Host\": \"algo-1\", \"Operation\": \"training\", \"epoch\": 13, \"model\": 24}, \"Metrics\": {\"train_mse_objective\": {\"sum\": 0.9753222465515137, \"count\": 1, \"min\": 0.9753222465515137, \"max\": 0.9753222465515137}}}\u001b[0m\n",
      "\u001b[34m#metrics {\"StartTime\": 1696769143.950889, \"EndTime\": 1696769143.950899, \"Dimensions\": {\"Algorithm\": \"Linear Learner\", \"Host\": \"algo-1\", \"Operation\": \"training\", \"epoch\": 13, \"model\": 25}, \"Metrics\": {\"train_mse_objective\": {\"sum\": 0.9881408413251241, \"count\": 1, \"min\": 0.9881408413251241, \"max\": 0.9881408413251241}}}\u001b[0m\n",
      "\u001b[34m#metrics {\"StartTime\": 1696769143.9509358, \"EndTime\": 1696769143.9509451, \"Dimensions\": {\"Algorithm\": \"Linear Learner\", \"Host\": \"algo-1\", \"Operation\": \"training\", \"epoch\": 13, \"model\": 26}, \"Metrics\": {\"train_mse_objective\": {\"sum\": 0.9791425466537476, \"count\": 1, \"min\": 0.9791425466537476, \"max\": 0.9791425466537476}}}\u001b[0m\n",
      "\u001b[34m#metrics {\"StartTime\": 1696769143.9509835, \"EndTime\": 1696769143.9509928, \"Dimensions\": {\"Algorithm\": \"Linear Learner\", \"Host\": \"algo-1\", \"Operation\": \"training\", \"epoch\": 13, \"model\": 27}, \"Metrics\": {\"train_mse_objective\": {\"sum\": 0.9824648896853129, \"count\": 1, \"min\": 0.9824648896853129, \"max\": 0.9824648896853129}}}\u001b[0m\n",
      "\u001b[34m#metrics {\"StartTime\": 1696769143.9510298, \"EndTime\": 1696769143.9510396, \"Dimensions\": {\"Algorithm\": \"Linear Learner\", \"Host\": \"algo-1\", \"Operation\": \"training\", \"epoch\": 13, \"model\": 28}, \"Metrics\": {\"train_mse_objective\": {\"sum\": 0.9914857546488444, \"count\": 1, \"min\": 0.9914857546488444, \"max\": 0.9914857546488444}}}\u001b[0m\n",
      "\u001b[34m#metrics {\"StartTime\": 1696769143.9510767, \"EndTime\": 1696769143.951086, \"Dimensions\": {\"Algorithm\": \"Linear Learner\", \"Host\": \"algo-1\", \"Operation\": \"training\", \"epoch\": 13, \"model\": 29}, \"Metrics\": {\"train_mse_objective\": {\"sum\": 0.9867740869522095, \"count\": 1, \"min\": 0.9867740869522095, \"max\": 0.9867740869522095}}}\u001b[0m\n",
      "\u001b[34m#metrics {\"StartTime\": 1696769143.9511263, \"EndTime\": 1696769143.951136, \"Dimensions\": {\"Algorithm\": \"Linear Learner\", \"Host\": \"algo-1\", \"Operation\": \"training\", \"epoch\": 13, \"model\": 30}, \"Metrics\": {\"train_mse_objective\": {\"sum\": 0.9845356742540995, \"count\": 1, \"min\": 0.9845356742540995, \"max\": 0.9845356742540995}}}\u001b[0m\n",
      "\u001b[34m#metrics {\"StartTime\": 1696769143.9511704, \"EndTime\": 1696769143.9511795, \"Dimensions\": {\"Algorithm\": \"Linear Learner\", \"Host\": \"algo-1\", \"Operation\": \"training\", \"epoch\": 13, \"model\": 31}, \"Metrics\": {\"train_mse_objective\": {\"sum\": 0.9826441804567972, \"count\": 1, \"min\": 0.9826441804567972, \"max\": 0.9826441804567972}}}\u001b[0m\n",
      "\u001b[34m[10/08/2023 12:45:43 INFO 140032014460736] #quality_metric: host=algo-1, epoch=13, train mse_objective <loss>=0.6760734617710114\u001b[0m\n",
      "\u001b[34m[10/08/2023 12:45:43 INFO 140032014460736] #early_stopping_criteria_metric: host=algo-1, epoch=13, criteria=mse_objective, value=0.13636805613835654\u001b[0m\n",
      "\u001b[34m[10/08/2023 12:45:43 INFO 140032014460736] Saving model for epoch: 13\u001b[0m\n",
      "\u001b[34m[10/08/2023 12:45:43 INFO 140032014460736] Saved checkpoint to \"/tmp/tmppewhejrf/mx-mod-0000.params\"\u001b[0m\n",
      "\u001b[34m[10/08/2023 12:45:43 INFO 140032014460736] #progress_metric: host=algo-1, completed 93.33333333333333 % of epochs\u001b[0m\n",
      "\u001b[34m#metrics {\"StartTime\": 1696769143.904305, \"EndTime\": 1696769143.9572933, \"Dimensions\": {\"Algorithm\": \"Linear Learner\", \"Host\": \"algo-1\", \"Operation\": \"training\", \"epoch\": 13, \"Meta\": \"training_data_iter\"}, \"Metrics\": {\"Total Records Seen\": {\"sum\": 214.0, \"count\": 1, \"min\": 214, \"max\": 214}, \"Total Batches Seen\": {\"sum\": 61.0, \"count\": 1, \"min\": 61, \"max\": 61}, \"Max Records Seen Between Resets\": {\"sum\": 14.0, \"count\": 1, \"min\": 14, \"max\": 14}, \"Max Batches Seen Between Resets\": {\"sum\": 4.0, \"count\": 1, \"min\": 4, \"max\": 4}, \"Reset Count\": {\"sum\": 16.0, \"count\": 1, \"min\": 16, \"max\": 16}, \"Number of Records Since Last Reset\": {\"sum\": 14.0, \"count\": 1, \"min\": 14, \"max\": 14}, \"Number of Batches Since Last Reset\": {\"sum\": 4.0, \"count\": 1, \"min\": 4, \"max\": 4}}}\u001b[0m\n",
      "\u001b[34m[10/08/2023 12:45:43 INFO 140032014460736] #throughput_metric: host=algo-1, train throughput=263.6541260882645 records/second\u001b[0m\n",
      "\u001b[34m#metrics {\"StartTime\": 1696769144.0043554, \"EndTime\": 1696769144.0043995, \"Dimensions\": {\"Algorithm\": \"Linear Learner\", \"Host\": \"algo-1\", \"Operation\": \"training\", \"epoch\": 14, \"model\": 0}, \"Metrics\": {\"train_mse_objective\": {\"sum\": 0.6568790177504221, \"count\": 1, \"min\": 0.6568790177504221, \"max\": 0.6568790177504221}}}\u001b[0m\n",
      "\u001b[34m#metrics {\"StartTime\": 1696769144.004455, \"EndTime\": 1696769144.004464, \"Dimensions\": {\"Algorithm\": \"Linear Learner\", \"Host\": \"algo-1\", \"Operation\": \"training\", \"epoch\": 14, \"model\": 1}, \"Metrics\": {\"train_mse_objective\": {\"sum\": 0.6858860949675242, \"count\": 1, \"min\": 0.6858860949675242, \"max\": 0.6858860949675242}}}\u001b[0m\n",
      "\u001b[34m#metrics {\"StartTime\": 1696769144.0045035, \"EndTime\": 1696769144.0045133, \"Dimensions\": {\"Algorithm\": \"Linear Learner\", \"Host\": \"algo-1\", \"Operation\": \"training\", \"epoch\": 14, \"model\": 2}, \"Metrics\": {\"train_mse_objective\": {\"sum\": 0.6609248320261637, \"count\": 1, \"min\": 0.6609248320261637, \"max\": 0.6609248320261637}}}\u001b[0m\n",
      "\u001b[34m#metrics {\"StartTime\": 1696769144.0045445, \"EndTime\": 1696769144.0045528, \"Dimensions\": {\"Algorithm\": \"Linear Learner\", \"Host\": \"algo-1\", \"Operation\": \"training\", \"epoch\": 14, \"model\": 3}, \"Metrics\": {\"train_mse_objective\": {\"sum\": 0.6841377218564352, \"count\": 1, \"min\": 0.6841377218564352, \"max\": 0.6841377218564352}}}\u001b[0m\n",
      "\u001b[34m#metrics {\"StartTime\": 1696769144.004588, \"EndTime\": 1696769144.0045977, \"Dimensions\": {\"Algorithm\": \"Linear Learner\", \"Host\": \"algo-1\", \"Operation\": \"training\", \"epoch\": 14, \"model\": 4}, \"Metrics\": {\"train_mse_objective\": {\"sum\": 0.12974625080823898, \"count\": 1, \"min\": 0.12974625080823898, \"max\": 0.12974625080823898}}}\u001b[0m\n",
      "\u001b[34m#metrics {\"StartTime\": 1696769144.0046349, \"EndTime\": 1696769144.0046885, \"Dimensions\": {\"Algorithm\": \"Linear Learner\", \"Host\": \"algo-1\", \"Operation\": \"training\", \"epoch\": 14, \"model\": 5}, \"Metrics\": {\"train_mse_objective\": {\"sum\": 0.13166529685258865, \"count\": 1, \"min\": 0.13166529685258865, \"max\": 0.13166529685258865}}}\u001b[0m\n",
      "\u001b[34m#metrics {\"StartTime\": 1696769144.0047264, \"EndTime\": 1696769144.0047555, \"Dimensions\": {\"Algorithm\": \"Linear Learner\", \"Host\": \"algo-1\", \"Operation\": \"training\", \"epoch\": 14, \"model\": 6}, \"Metrics\": {\"train_mse_objective\": {\"sum\": 0.13495023796955744, \"count\": 1, \"min\": 0.13495023796955744, \"max\": 0.13495023796955744}}}\u001b[0m\n",
      "\u001b[34m#metrics {\"StartTime\": 1696769144.0048285, \"EndTime\": 1696769144.0048397, \"Dimensions\": {\"Algorithm\": \"Linear Learner\", \"Host\": \"algo-1\", \"Operation\": \"training\", \"epoch\": 14, \"model\": 7}, \"Metrics\": {\"train_mse_objective\": {\"sum\": 0.13502272963523865, \"count\": 1, \"min\": 0.13502272963523865, \"max\": 0.13502272963523865}}}\u001b[0m\n",
      "\u001b[34m#metrics {\"StartTime\": 1696769144.0049474, \"EndTime\": 1696769144.004961, \"Dimensions\": {\"Algorithm\": \"Linear Learner\", \"Host\": \"algo-1\", \"Operation\": \"training\", \"epoch\": 14, \"model\": 8}, \"Metrics\": {\"train_mse_objective\": {\"sum\": 0.7547466158866882, \"count\": 1, \"min\": 0.7547466158866882, \"max\": 0.7547466158866882}}}\u001b[0m\n",
      "\u001b[34m#metrics {\"StartTime\": 1696769144.0049968, \"EndTime\": 1696769144.0050044, \"Dimensions\": {\"Algorithm\": \"Linear Learner\", \"Host\": \"algo-1\", \"Operation\": \"training\", \"epoch\": 14, \"model\": 9}, \"Metrics\": {\"train_mse_objective\": {\"sum\": 0.6324262718359629, \"count\": 1, \"min\": 0.6324262718359629, \"max\": 0.6324262718359629}}}\u001b[0m\n",
      "\u001b[34m#metrics {\"StartTime\": 1696769144.0050418, \"EndTime\": 1696769144.0050719, \"Dimensions\": {\"Algorithm\": \"Linear Learner\", \"Host\": \"algo-1\", \"Operation\": \"training\", \"epoch\": 14, \"model\": 10}, \"Metrics\": {\"train_mse_objective\": {\"sum\": 0.6480896274248759, \"count\": 1, \"min\": 0.6480896274248759, \"max\": 0.6480896274248759}}}\u001b[0m\n",
      "\u001b[34m#metrics {\"StartTime\": 1696769144.005116, \"EndTime\": 1696769144.0051255, \"Dimensions\": {\"Algorithm\": \"Linear Learner\", \"Host\": \"algo-1\", \"Operation\": \"training\", \"epoch\": 14, \"model\": 11}, \"Metrics\": {\"train_mse_objective\": {\"sum\": 0.6192566255728403, \"count\": 1, \"min\": 0.6192566255728403, \"max\": 0.6192566255728403}}}\u001b[0m\n",
      "\u001b[34m#metrics {\"StartTime\": 1696769144.0051637, \"EndTime\": 1696769144.0051727, \"Dimensions\": {\"Algorithm\": \"Linear Learner\", \"Host\": \"algo-1\", \"Operation\": \"training\", \"epoch\": 14, \"model\": 12}, \"Metrics\": {\"train_mse_objective\": {\"sum\": 0.13102451711893082, \"count\": 1, \"min\": 0.13102451711893082, \"max\": 0.13102451711893082}}}\u001b[0m\n",
      "\u001b[34m#metrics {\"StartTime\": 1696769144.0052338, \"EndTime\": 1696769144.0052445, \"Dimensions\": {\"Algorithm\": \"Linear Learner\", \"Host\": \"algo-1\", \"Operation\": \"training\", \"epoch\": 14, \"model\": 13}, \"Metrics\": {\"train_mse_objective\": {\"sum\": 0.1341166297594706, \"count\": 1, \"min\": 0.1341166297594706, \"max\": 0.1341166297594706}}}\u001b[0m\n",
      "\u001b[34m#metrics {\"StartTime\": 1696769144.0053055, \"EndTime\": 1696769144.005334, \"Dimensions\": {\"Algorithm\": \"Linear Learner\", \"Host\": \"algo-1\", \"Operation\": \"training\", \"epoch\": 14, \"model\": 14}, \"Metrics\": {\"train_mse_objective\": {\"sum\": 0.130923921863238, \"count\": 1, \"min\": 0.130923921863238, \"max\": 0.130923921863238}}}\u001b[0m\n",
      "\u001b[34m#metrics {\"StartTime\": 1696769144.0053952, \"EndTime\": 1696769144.0054066, \"Dimensions\": {\"Algorithm\": \"Linear Learner\", \"Host\": \"algo-1\", \"Operation\": \"training\", \"epoch\": 14, \"model\": 15}, \"Metrics\": {\"train_mse_objective\": {\"sum\": 0.13455822318792343, \"count\": 1, \"min\": 0.13455822318792343, \"max\": 0.13455822318792343}}}\u001b[0m\n",
      "\u001b[34m#metrics {\"StartTime\": 1696769144.005448, \"EndTime\": 1696769144.005458, \"Dimensions\": {\"Algorithm\": \"Linear Learner\", \"Host\": \"algo-1\", \"Operation\": \"training\", \"epoch\": 14, \"model\": 16}, \"Metrics\": {\"train_mse_objective\": {\"sum\": 0.6109722852706909, \"count\": 1, \"min\": 0.6109722852706909, \"max\": 0.6109722852706909}}}\u001b[0m\n",
      "\u001b[34m#metrics {\"StartTime\": 1696769144.0054934, \"EndTime\": 1696769144.005503, \"Dimensions\": {\"Algorithm\": \"Linear Learner\", \"Host\": \"algo-1\", \"Operation\": \"training\", \"epoch\": 14, \"model\": 17}, \"Metrics\": {\"train_mse_objective\": {\"sum\": 0.6881728768348694, \"count\": 1, \"min\": 0.6881728768348694, \"max\": 0.6881728768348694}}}\u001b[0m\n",
      "\u001b[34m#metrics {\"StartTime\": 1696769144.0055437, \"EndTime\": 1696769144.0055535, \"Dimensions\": {\"Algorithm\": \"Linear Learner\", \"Host\": \"algo-1\", \"Operation\": \"training\", \"epoch\": 14, \"model\": 18}, \"Metrics\": {\"train_mse_objective\": {\"sum\": 0.6531214018662771, \"count\": 1, \"min\": 0.6531214018662771, \"max\": 0.6531214018662771}}}\u001b[0m\n",
      "\u001b[34m#metrics {\"StartTime\": 1696769144.005593, \"EndTime\": 1696769144.0056028, \"Dimensions\": {\"Algorithm\": \"Linear Learner\", \"Host\": \"algo-1\", \"Operation\": \"training\", \"epoch\": 14, \"model\": 19}, \"Metrics\": {\"train_mse_objective\": {\"sum\": 0.6446118255456289, \"count\": 1, \"min\": 0.6446118255456289, \"max\": 0.6446118255456289}}}\u001b[0m\n",
      "\u001b[34m#metrics {\"StartTime\": 1696769144.0056415, \"EndTime\": 1696769144.0056517, \"Dimensions\": {\"Algorithm\": \"Linear Learner\", \"Host\": \"algo-1\", \"Operation\": \"training\", \"epoch\": 14, \"model\": 20}, \"Metrics\": {\"train_mse_objective\": {\"sum\": 0.3391517450412114, \"count\": 1, \"min\": 0.3391517450412114, \"max\": 0.3391517450412114}}}\u001b[0m\n",
      "\u001b[34m#metrics {\"StartTime\": 1696769144.0056925, \"EndTime\": 1696769144.0057025, \"Dimensions\": {\"Algorithm\": \"Linear Learner\", \"Host\": \"algo-1\", \"Operation\": \"training\", \"epoch\": 14, \"model\": 21}, \"Metrics\": {\"train_mse_objective\": {\"sum\": 0.3348640153805415, \"count\": 1, \"min\": 0.3348640153805415, \"max\": 0.3348640153805415}}}\u001b[0m\n",
      "\u001b[34m#metrics {\"StartTime\": 1696769144.0057416, \"EndTime\": 1696769144.0057516, \"Dimensions\": {\"Algorithm\": \"Linear Learner\", \"Host\": \"algo-1\", \"Operation\": \"training\", \"epoch\": 14, \"model\": 22}, \"Metrics\": {\"train_mse_objective\": {\"sum\": 0.3655255138874054, \"count\": 1, \"min\": 0.3655255138874054, \"max\": 0.3655255138874054}}}\u001b[0m\n",
      "\u001b[34m#metrics {\"StartTime\": 1696769144.005786, \"EndTime\": 1696769144.0057948, \"Dimensions\": {\"Algorithm\": \"Linear Learner\", \"Host\": \"algo-1\", \"Operation\": \"training\", \"epoch\": 14, \"model\": 23}, \"Metrics\": {\"train_mse_objective\": {\"sum\": 0.32213253279527027, \"count\": 1, \"min\": 0.32213253279527027, \"max\": 0.32213253279527027}}}\u001b[0m\n",
      "\u001b[34m#metrics {\"StartTime\": 1696769144.005835, \"EndTime\": 1696769144.0058448, \"Dimensions\": {\"Algorithm\": \"Linear Learner\", \"Host\": \"algo-1\", \"Operation\": \"training\", \"epoch\": 14, \"model\": 24}, \"Metrics\": {\"train_mse_objective\": {\"sum\": 0.9744400580724081, \"count\": 1, \"min\": 0.9744400580724081, \"max\": 0.9744400580724081}}}\u001b[0m\n",
      "\u001b[34m#metrics {\"StartTime\": 1696769144.0058804, \"EndTime\": 1696769144.00589, \"Dimensions\": {\"Algorithm\": \"Linear Learner\", \"Host\": \"algo-1\", \"Operation\": \"training\", \"epoch\": 14, \"model\": 25}, \"Metrics\": {\"train_mse_objective\": {\"sum\": 0.984015703201294, \"count\": 1, \"min\": 0.984015703201294, \"max\": 0.984015703201294}}}\u001b[0m\n",
      "\u001b[34m#metrics {\"StartTime\": 1696769144.0059295, \"EndTime\": 1696769144.0059388, \"Dimensions\": {\"Algorithm\": \"Linear Learner\", \"Host\": \"algo-1\", \"Operation\": \"training\", \"epoch\": 14, \"model\": 26}, \"Metrics\": {\"train_mse_objective\": {\"sum\": 0.9814436237017313, \"count\": 1, \"min\": 0.9814436237017313, \"max\": 0.9814436237017313}}}\u001b[0m\n",
      "\u001b[34m#metrics {\"StartTime\": 1696769144.0059767, \"EndTime\": 1696769144.0059857, \"Dimensions\": {\"Algorithm\": \"Linear Learner\", \"Host\": \"algo-1\", \"Operation\": \"training\", \"epoch\": 14, \"model\": 27}, \"Metrics\": {\"train_mse_objective\": {\"sum\": 0.9815056125322977, \"count\": 1, \"min\": 0.9815056125322977, \"max\": 0.9815056125322977}}}\u001b[0m\n",
      "\u001b[34m#metrics {\"StartTime\": 1696769144.006026, \"EndTime\": 1696769144.0060358, \"Dimensions\": {\"Algorithm\": \"Linear Learner\", \"Host\": \"algo-1\", \"Operation\": \"training\", \"epoch\": 14, \"model\": 28}, \"Metrics\": {\"train_mse_objective\": {\"sum\": 0.9859845638275146, \"count\": 1, \"min\": 0.9859845638275146, \"max\": 0.9859845638275146}}}\u001b[0m\n",
      "\u001b[34m#metrics {\"StartTime\": 1696769144.0060744, \"EndTime\": 1696769144.0060835, \"Dimensions\": {\"Algorithm\": \"Linear Learner\", \"Host\": \"algo-1\", \"Operation\": \"training\", \"epoch\": 14, \"model\": 29}, \"Metrics\": {\"train_mse_objective\": {\"sum\": 0.9923098285992941, \"count\": 1, \"min\": 0.9923098285992941, \"max\": 0.9923098285992941}}}\u001b[0m\n",
      "\u001b[34m#metrics {\"StartTime\": 1696769144.006121, \"EndTime\": 1696769144.0061307, \"Dimensions\": {\"Algorithm\": \"Linear Learner\", \"Host\": \"algo-1\", \"Operation\": \"training\", \"epoch\": 14, \"model\": 30}, \"Metrics\": {\"train_mse_objective\": {\"sum\": 0.9844264189402262, \"count\": 1, \"min\": 0.9844264189402262, \"max\": 0.9844264189402262}}}\u001b[0m\n",
      "\u001b[34m#metrics {\"StartTime\": 1696769144.006168, \"EndTime\": 1696769144.0061774, \"Dimensions\": {\"Algorithm\": \"Linear Learner\", \"Host\": \"algo-1\", \"Operation\": \"training\", \"epoch\": 14, \"model\": 31}, \"Metrics\": {\"train_mse_objective\": {\"sum\": 1.0055970549583435, \"count\": 1, \"min\": 1.0055970549583435, \"max\": 1.0055970549583435}}}\u001b[0m\n",
      "\u001b[34m[10/08/2023 12:45:44 INFO 140032014460736] #quality_metric: host=algo-1, epoch=14, train mse_objective <loss>=0.6568790177504221\u001b[0m\n",
      "\u001b[34m[10/08/2023 12:45:44 INFO 140032014460736] #early_stopping_criteria_metric: host=algo-1, epoch=14, criteria=mse_objective, value=0.12974625080823898\u001b[0m\n",
      "\u001b[34m[10/08/2023 12:45:44 INFO 140032014460736] Epoch 14: Loss improved. Updating best model\u001b[0m\n",
      "\u001b[34m[10/08/2023 12:45:44 INFO 140032014460736] Saving model for epoch: 14\u001b[0m\n",
      "\u001b[34m[10/08/2023 12:45:44 INFO 140032014460736] Saved checkpoint to \"/tmp/tmp60hhz9zi/mx-mod-0000.params\"\u001b[0m\n",
      "\u001b[34m[10/08/2023 12:45:44 INFO 140032014460736] #progress_metric: host=algo-1, completed 100.0 % of epochs\u001b[0m\n",
      "\u001b[34m#metrics {\"StartTime\": 1696769143.957525, \"EndTime\": 1696769144.0128758, \"Dimensions\": {\"Algorithm\": \"Linear Learner\", \"Host\": \"algo-1\", \"Operation\": \"training\", \"epoch\": 14, \"Meta\": \"training_data_iter\"}, \"Metrics\": {\"Total Records Seen\": {\"sum\": 228.0, \"count\": 1, \"min\": 228, \"max\": 228}, \"Total Batches Seen\": {\"sum\": 65.0, \"count\": 1, \"min\": 65, \"max\": 65}, \"Max Records Seen Between Resets\": {\"sum\": 14.0, \"count\": 1, \"min\": 14, \"max\": 14}, \"Max Batches Seen Between Resets\": {\"sum\": 4.0, \"count\": 1, \"min\": 4, \"max\": 4}, \"Reset Count\": {\"sum\": 17.0, \"count\": 1, \"min\": 17, \"max\": 17}, \"Number of Records Since Last Reset\": {\"sum\": 14.0, \"count\": 1, \"min\": 14, \"max\": 14}, \"Number of Batches Since Last Reset\": {\"sum\": 4.0, \"count\": 1, \"min\": 4, \"max\": 4}}}\u001b[0m\n",
      "\u001b[34m[10/08/2023 12:45:44 INFO 140032014460736] #throughput_metric: host=algo-1, train throughput=252.3117273738984 records/second\u001b[0m\n",
      "\u001b[34m[10/08/2023 12:45:44 WARNING 140032014460736] wait_for_all_workers will not sync workers since the kv store is not running distributed\u001b[0m\n",
      "\u001b[34m[10/08/2023 12:45:44 WARNING 140032014460736] wait_for_all_workers will not sync workers since the kv store is not running distributed\u001b[0m\n",
      "\u001b[34m[10/08/2023 12:45:44 INFO 140032014460736] #train_score (algo-1) : ('mse_objective', 7907.846958705357)\u001b[0m\n",
      "\u001b[34m[10/08/2023 12:45:44 INFO 140032014460736] #train_score (algo-1) : ('mse', 7907.846958705357)\u001b[0m\n",
      "\u001b[34m[10/08/2023 12:45:44 INFO 140032014460736] #train_score (algo-1) : ('absolute_loss', 72.75599452427456)\u001b[0m\n",
      "\u001b[34m[10/08/2023 12:45:44 INFO 140032014460736] #train_score (algo-1) : ('rmse', 88.92607580853524)\u001b[0m\n",
      "\u001b[34m[10/08/2023 12:45:44 INFO 140032014460736] #train_score (algo-1) : ('r2', 0.8561408942800076)\u001b[0m\n",
      "\u001b[34m[10/08/2023 12:45:44 INFO 140032014460736] #train_score (algo-1) : ('mae', 72.75599452427456)\u001b[0m\n",
      "\u001b[34m[10/08/2023 12:45:44 INFO 140032014460736] #quality_metric: host=algo-1, train mse_objective <loss>=7907.846958705357\u001b[0m\n",
      "\u001b[34m[10/08/2023 12:45:44 INFO 140032014460736] #quality_metric: host=algo-1, train mse <loss>=7907.846958705357\u001b[0m\n",
      "\u001b[34m[10/08/2023 12:45:44 INFO 140032014460736] #quality_metric: host=algo-1, train absolute_loss <loss>=72.75599452427456\u001b[0m\n",
      "\u001b[34m[10/08/2023 12:45:44 INFO 140032014460736] #quality_metric: host=algo-1, train rmse <loss>=88.92607580853524\u001b[0m\n",
      "\u001b[34m[10/08/2023 12:45:44 INFO 140032014460736] #quality_metric: host=algo-1, train r2 <loss>=0.8561408942800076\u001b[0m\n",
      "\u001b[34m[10/08/2023 12:45:44 INFO 140032014460736] #quality_metric: host=algo-1, train mae <loss>=72.75599452427456\u001b[0m\n",
      "\u001b[34m[10/08/2023 12:45:44 INFO 140032014460736] Best model found for hyperparameters: {\"optimizer\": \"adam\", \"learning_rate\": 0.1, \"wd\": 0.0001, \"l1\": 0.0, \"lr_scheduler_step\": 10, \"lr_scheduler_factor\": 0.99, \"lr_scheduler_minimum_lr\": 1e-05}\u001b[0m\n",
      "\u001b[34m[10/08/2023 12:45:44 INFO 140032014460736] Saved checkpoint to \"/tmp/tmpoppxhosm/mx-mod-0000.params\"\u001b[0m\n",
      "\u001b[34m[10/08/2023 12:45:44 INFO 140032014460736] Test data is not provided.\u001b[0m\n",
      "\u001b[34m#metrics {\"StartTime\": 1696769142.9060106, \"EndTime\": 1696769144.0352259, \"Dimensions\": {\"Algorithm\": \"Linear Learner\", \"Host\": \"algo-1\", \"Operation\": \"training\"}, \"Metrics\": {\"initialize.time\": {\"sum\": 137.50219345092773, \"count\": 1, \"min\": 137.50219345092773, \"max\": 137.50219345092773}, \"epochs\": {\"sum\": 15.0, \"count\": 1, \"min\": 15, \"max\": 15}, \"check_early_stopping.time\": {\"sum\": 8.946895599365234, \"count\": 15, \"min\": 0.1697540283203125, \"max\": 1.1379718780517578}, \"update.time\": {\"sum\": 925.8122444152832, \"count\": 15, \"min\": 50.87113380432129, \"max\": 76.4017105102539}, \"finalize.time\": {\"sum\": 17.818450927734375, \"count\": 1, \"min\": 17.818450927734375, \"max\": 17.818450927734375}, \"setuptime\": {\"sum\": 2.0475387573242188, \"count\": 1, \"min\": 2.0475387573242188, \"max\": 2.0475387573242188}, \"totaltime\": {\"sum\": 1233.49928855896, \"count\": 1, \"min\": 1233.49928855896, \"max\": 1233.49928855896}}}\u001b[0m\n",
      "\n",
      "2023-10-08 12:45:56 Completed - Training job completed\n",
      "Training seconds: 107\n",
      "Billable seconds: 107\n"
     ]
    }
   ],
   "source": [
    "estimator.fit({'train': train})"
   ]
  },
  {
   "cell_type": "markdown",
   "id": "f2d9274b",
   "metadata": {},
   "source": [
    "As you see, I did not pass any validation data set here. Here we have a very small data set and setting aside a validation data set is not reasonable but usually in real world scenarios we do that. "
   ]
  },
  {
   "cell_type": "markdown",
   "id": "113a460b",
   "metadata": {},
   "source": [
    "In the above output, pay attention to **\"Downloading input data\" and \"Training image download\"**. These are prerequisites before starting any training job. Then at the end, we have **uploading generated training model** and completing the job and total time that this training job takes. "
   ]
  },
  {
   "cell_type": "markdown",
   "id": "681d4219",
   "metadata": {},
   "source": [
    "Now, if you go the output folder you set earlier you should be able to see the model artifact there. "
   ]
  },
  {
   "cell_type": "markdown",
   "id": "4cb30beb",
   "metadata": {},
   "source": [
    "All information about this estimator object is extract-able by running the following command:"
   ]
  },
  {
   "cell_type": "code",
   "execution_count": 19,
   "id": "acc4b516",
   "metadata": {},
   "outputs": [
    {
     "data": {
      "text/plain": [
       "{'image_uri': '382416733822.dkr.ecr.us-east-1.amazonaws.com/linear-learner:1',\n",
       " '_hyperparameters': {'predictor_type': 'regressor', 'mini_batch_size': 4},\n",
       " 'instance_count': 1,\n",
       " 'instance_type': 'ml.m5.xlarge',\n",
       " 'keep_alive_period_in_seconds': None,\n",
       " 'instance_groups': None,\n",
       " 'volume_size': 30,\n",
       " 'max_run': 86400,\n",
       " 'input_mode': 'File',\n",
       " 'metric_definitions': None,\n",
       " 'model_uri': None,\n",
       " 'model_channel_name': 'model',\n",
       " 'code_uri': None,\n",
       " 'code_channel_name': 'code',\n",
       " 'source_dir': None,\n",
       " 'git_config': None,\n",
       " 'container_log_level': 20,\n",
       " 'code_location': None,\n",
       " 'entry_point': None,\n",
       " 'dependencies': [],\n",
       " 'uploaded_code': None,\n",
       " 'tags': None,\n",
       " 'sagemaker_session': <sagemaker.session.Session at 0x7f68f46679a0>,\n",
       " 'base_job_name': 'linear-learner',\n",
       " '_current_job_name': 'linear-learner-2023-10-08-12-42-53-472',\n",
       " 'output_path': 's3://day06-humber/linearlearner/output/',\n",
       " 'latest_training_job': <sagemaker.estimator._TrainingJob at 0x7f69058e16f0>,\n",
       " 'jobs': [<sagemaker.estimator._TrainingJob at 0x7f69058e16f0>],\n",
       " 'deploy_instance_type': None,\n",
       " '_compiled_models': {},\n",
       " 'role': 'arn:aws:iam::858841948194:role/LabRole',\n",
       " 'output_kms_key': None,\n",
       " 'volume_kms_key': None,\n",
       " 'subnets': None,\n",
       " 'security_group_ids': None,\n",
       " 'training_repository_access_mode': None,\n",
       " 'training_repository_credentials_provider_arn': None,\n",
       " 'container_entry_point': None,\n",
       " 'container_arguments': None,\n",
       " 'encrypt_inter_container_traffic': False,\n",
       " 'use_spot_instances': False,\n",
       " 'max_wait': None,\n",
       " 'checkpoint_s3_uri': None,\n",
       " 'checkpoint_local_path': None,\n",
       " 'rules': None,\n",
       " 'debugger_hook_config': <sagemaker.debugger.debugger.DebuggerHookConfig at 0x7f68ef605ff0>,\n",
       " 'tensorboard_output_config': None,\n",
       " 'debugger_rule_configs': [],\n",
       " 'collection_configs': set(),\n",
       " 'enable_sagemaker_metrics': None,\n",
       " '_enable_network_isolation': False,\n",
       " 'profiler_config': <sagemaker.debugger.profiler_config.ProfilerConfig at 0x7f68ef6061a0>,\n",
       " 'disable_profiler': False,\n",
       " 'environment': None,\n",
       " 'max_retry_attempts': None,\n",
       " 'profiler_rule_configs': [],\n",
       " 'profiler_rules': [],\n",
       " 'debugger_rules': [],\n",
       " 'disable_output_compression': False,\n",
       " '_is_output_path_set_from_default_bucket_and_prefix': False,\n",
       " 'tensorboard_app': TensorBoardApp(region=us-east-1)}"
      ]
     },
     "execution_count": 19,
     "metadata": {},
     "output_type": "execute_result"
    }
   ],
   "source": [
    "estimator.__dict__"
   ]
  },
  {
   "cell_type": "markdown",
   "id": "abc8af94",
   "metadata": {},
   "source": [
    "At this point the training through Python SDK is done but I want you to know what is inside that model and we actully use that to do some prediction for us. This is just to give you a deeper understanding about the internals of the model artifact."
   ]
  },
  {
   "cell_type": "markdown",
   "id": "437f2a88",
   "metadata": {},
   "source": [
    "Lets first grab that model artifact and save that in this notebook instance. Let's copy the value of the estimator model:"
   ]
  },
  {
   "cell_type": "code",
   "execution_count": 20,
   "id": "ff257e3b",
   "metadata": {},
   "outputs": [
    {
     "data": {
      "text/plain": [
       "'s3://day06-humber/linearlearner/output/linear-learner-2023-10-08-12-42-53-472/output/model.tar.gz'"
      ]
     },
     "execution_count": 20,
     "metadata": {},
     "output_type": "execute_result"
    }
   ],
   "source": [
    "model_data = estimator.model_data\n",
    "model_data"
   ]
  },
  {
   "cell_type": "markdown",
   "id": "fc62b69a",
   "metadata": {},
   "source": [
    "We use the above path and copy that model artifact inside this notebook instance (**change** the folder name after /output/ accordingly)"
   ]
  },
  {
   "cell_type": "code",
   "execution_count": 31,
   "id": "4acfd3cb",
   "metadata": {},
   "outputs": [
    {
     "name": "stdout",
     "output_type": "stream",
     "text": [
      "download: s3://day06-humber/linearlearner/output/linear-learner-2023-10-08-12-42-53-472/output/model.tar.gz to ./model.tar.gz\r\n"
     ]
    }
   ],
   "source": [
    "!aws s3 cp s3://day06-humber/linearlearner/output/linear-learner-2023-10-08-12-42-53-472/output/model.tar.gz ."
   ]
  },
  {
   "cell_type": "markdown",
   "id": "99577779",
   "metadata": {},
   "source": [
    "Now we set the estimator image URI. We will use this URL later."
   ]
  },
  {
   "cell_type": "code",
   "execution_count": 32,
   "id": "0ad9c623",
   "metadata": {},
   "outputs": [
    {
     "data": {
      "text/plain": [
       "'382416733822.dkr.ecr.us-east-1.amazonaws.com/linear-learner:1'"
      ]
     },
     "execution_count": 32,
     "metadata": {},
     "output_type": "execute_result"
    }
   ],
   "source": [
    "model_uri = estimator.image_uri\n",
    "model_uri"
   ]
  },
  {
   "cell_type": "markdown",
   "id": "6180321f",
   "metadata": {},
   "source": [
    "Now that we have the model artifact downloaded, let's unzip it:"
   ]
  },
  {
   "cell_type": "code",
   "execution_count": 33,
   "id": "be4d5cab",
   "metadata": {},
   "outputs": [
    {
     "name": "stdout",
     "output_type": "stream",
     "text": [
      "tar: Ignoring unknown extended header keyword `LIBARCHIVE.creationtime'\r\n",
      "model_algo-1\r\n"
     ]
    }
   ],
   "source": [
    "!tar -xzvf model.tar.gz"
   ]
  },
  {
   "cell_type": "markdown",
   "id": "26df4ecc",
   "metadata": {},
   "source": [
    "When you unzip that you get these files:"
   ]
  },
  {
   "cell_type": "code",
   "execution_count": 34,
   "id": "9e8fb9df",
   "metadata": {},
   "outputs": [
    {
     "name": "stdout",
     "output_type": "stream",
     "text": [
      "Archive:  model_algo-1\r\n",
      " extracting: mx-mod-symbol.json      \r\n",
      " extracting: mx-mod-0000.params      \r\n",
      " extracting: manifest.json           \r\n",
      " extracting: additional-params.json  \r\n"
     ]
    }
   ],
   "source": [
    "!unzip model_algo-1 "
   ]
  },
  {
   "cell_type": "markdown",
   "id": "0b61391a",
   "metadata": {},
   "source": [
    "<b>mx-mod-symbol.json:</b> This file contains the symbolic representation of the model's neural network architecture. In the context of neural networks, the \"symbolic\" representation refers to the defined structure of the model (e.g., layers, operations) without the learned weights and biases.\n",
    "\n",
    "<b>mx-mod-0000.params:</b> This file contains the learned weights and biases for the model. These are the values that are adjusted during the training process to make the model accurate for a specific dataset.\n",
    "\n",
    "<b> manifest.json:</b>  This file contains metadata about the model artifact. It  include information about the framework version, creation timestamp, and other model-specific metadata. The SageMaker platform uses this to understand the model's structure and requirements.\n",
    "\n",
    "<b> additional-params.json:</b> This file would contain any additional parameters or configuration settings that are important for the deployment or use of the model.\n",
    "\n",
    "Now that the model files are extracted we can get the bias and weights of this linear regression model:"
   ]
  },
  {
   "cell_type": "markdown",
   "id": "be7d9651",
   "metadata": {},
   "source": [
    "Behind the scene Amazon uses mxnet framework to create that linear learner. So we first start loading the required libraries:"
   ]
  },
  {
   "cell_type": "code",
   "execution_count": 35,
   "id": "63a74ec7",
   "metadata": {},
   "outputs": [
    {
     "name": "stdout",
     "output_type": "stream",
     "text": [
      "Requirement already satisfied: mxnet in /home/ec2-user/anaconda3/envs/python3/lib/python3.10/site-packages (1.9.1)\n",
      "Requirement already satisfied: numpy<2.0.0,>1.16.0 in /home/ec2-user/anaconda3/envs/python3/lib/python3.10/site-packages (from mxnet) (1.22.3)\n",
      "Requirement already satisfied: requests<3,>=2.20.0 in /home/ec2-user/anaconda3/envs/python3/lib/python3.10/site-packages (from mxnet) (2.31.0)\n",
      "Requirement already satisfied: graphviz<0.9.0,>=0.8.1 in /home/ec2-user/anaconda3/envs/python3/lib/python3.10/site-packages (from mxnet) (0.8.4)\n",
      "Requirement already satisfied: charset-normalizer<4,>=2 in /home/ec2-user/anaconda3/envs/python3/lib/python3.10/site-packages (from requests<3,>=2.20.0->mxnet) (3.2.0)\n",
      "Requirement already satisfied: idna<4,>=2.5 in /home/ec2-user/anaconda3/envs/python3/lib/python3.10/site-packages (from requests<3,>=2.20.0->mxnet) (3.4)\n",
      "Requirement already satisfied: urllib3<3,>=1.21.1 in /home/ec2-user/anaconda3/envs/python3/lib/python3.10/site-packages (from requests<3,>=2.20.0->mxnet) (1.26.14)\n",
      "Requirement already satisfied: certifi>=2017.4.17 in /home/ec2-user/anaconda3/envs/python3/lib/python3.10/site-packages (from requests<3,>=2.20.0->mxnet) (2023.5.7)\n"
     ]
    }
   ],
   "source": [
    "!pip install mxnet\n",
    "import mxnet\n",
    "\n",
    "from mxnet import gluon\n",
    "from json import load as json_load \n",
    "from json import dumps as json_dumps"
   ]
  },
  {
   "cell_type": "markdown",
   "id": "eac1750b",
   "metadata": {},
   "source": [
    "Now let's load the model from the extracted contents. The model we create in the following cell will be used later for inferencing through mxnet (not through SageMaker). It gets data as input and returns symbolic json as output. Please do not worry about the warning you may get as part of executing the following code:"
   ]
  },
  {
   "cell_type": "code",
   "execution_count": 36,
   "id": "0a285297",
   "metadata": {},
   "outputs": [
    {
     "name": "stderr",
     "output_type": "stream",
     "text": [
      "[12:51:57] ../src/nnvm/legacy_json_util.cc:208: Loading symbol saved by previous version v1.3.1. Attempting to upgrade...\n",
      "[12:51:57] ../src/nnvm/legacy_json_util.cc:216: Symbol successfully upgraded!\n",
      "/home/ec2-user/anaconda3/envs/python3/lib/python3.10/site-packages/mxnet/gluon/block.py:1784: UserWarning: Cannot decide type for the following arguments. Consider providing them as input:\n",
      "\tdata: None\n",
      "  input_sym_arg_type = in_param.infer_type()[0]\n"
     ]
    }
   ],
   "source": [
    "sym_json = json_load(open('mx-mod-symbol.json')) \n",
    "sym_json_string = json_dumps(sym_json)\n",
    "\n",
    "model = gluon.nn.SymbolBlock( \n",
    "    outputs=mxnet.sym.load_json(sym_json_string), \n",
    "    inputs=mxnet.sym.var('data'))\n",
    "\n",
    "model.load_parameters('mx-mod-0000.params', allow_missing=True)"
   ]
  },
  {
   "cell_type": "markdown",
   "id": "cfd75bf1",
   "metadata": {},
   "source": [
    "I am sure you will learn later about symbolic structures but for now just to show you how that looks like:"
   ]
  },
  {
   "cell_type": "code",
   "execution_count": 37,
   "id": "c8f1f115",
   "metadata": {},
   "outputs": [
    {
     "data": {
      "text/plain": [
       "{'nodes': [{'op': 'null', 'name': 'data', 'inputs': []},\n",
       "  {'op': 'null',\n",
       "   'name': 'fc0_weight',\n",
       "   'attrs': {'__shape__': '(1, 1)'},\n",
       "   'inputs': []},\n",
       "  {'op': 'dot', 'name': 'dot47', 'inputs': [[0, 0, 0], [1, 0, 0]]},\n",
       "  {'op': 'null',\n",
       "   'name': 'fc0_bias',\n",
       "   'attrs': {'__lr_mult__': '10.0', '__shape__': '(1, 1)'},\n",
       "   'inputs': []},\n",
       "  {'op': 'broadcast_add',\n",
       "   'name': 'broadcast_plus47',\n",
       "   'inputs': [[2, 0, 0], [3, 0, 0]]},\n",
       "  {'op': 'null', 'name': 'out_label', 'inputs': []},\n",
       "  {'op': 'LinearRegressionOutput',\n",
       "   'name': 'linearregressionoutput47',\n",
       "   'inputs': [[4, 0, 0], [5, 0, 0]]}],\n",
       " 'arg_nodes': [0, 1, 3, 5],\n",
       " 'node_row_ptr': [0, 1, 2, 3, 4, 5, 6, 7],\n",
       " 'heads': [[6, 0, 0]],\n",
       " 'attrs': {'mxnet_version': ['int', 10301]}}"
      ]
     },
     "execution_count": 37,
     "metadata": {},
     "output_type": "execute_result"
    }
   ],
   "source": [
    "sym_json"
   ]
  },
  {
   "cell_type": "code",
   "execution_count": 38,
   "id": "4c9721ff",
   "metadata": {},
   "outputs": [
    {
     "data": {
      "text/plain": [
       "'{\"nodes\": [{\"op\": \"null\", \"name\": \"data\", \"inputs\": []}, {\"op\": \"null\", \"name\": \"fc0_weight\", \"attrs\": {\"__shape__\": \"(1, 1)\"}, \"inputs\": []}, {\"op\": \"dot\", \"name\": \"dot47\", \"inputs\": [[0, 0, 0], [1, 0, 0]]}, {\"op\": \"null\", \"name\": \"fc0_bias\", \"attrs\": {\"__lr_mult__\": \"10.0\", \"__shape__\": \"(1, 1)\"}, \"inputs\": []}, {\"op\": \"broadcast_add\", \"name\": \"broadcast_plus47\", \"inputs\": [[2, 0, 0], [3, 0, 0]]}, {\"op\": \"null\", \"name\": \"out_label\", \"inputs\": []}, {\"op\": \"LinearRegressionOutput\", \"name\": \"linearregressionoutput47\", \"inputs\": [[4, 0, 0], [5, 0, 0]]}], \"arg_nodes\": [0, 1, 3, 5], \"node_row_ptr\": [0, 1, 2, 3, 4, 5, 6, 7], \"heads\": [[6, 0, 0]], \"attrs\": {\"mxnet_version\": [\"int\", 10301]}}'"
      ]
     },
     "execution_count": 38,
     "metadata": {},
     "output_type": "execute_result"
    }
   ],
   "source": [
    "sym_json_string"
   ]
  },
  {
   "cell_type": "markdown",
   "id": "dc0e8573",
   "metadata": {},
   "source": [
    "Now that we define what the model is, we initialize that. we create a local mxnet_predict function in the following cell. It gets the model we have created in the previous step and it returns the value of y:"
   ]
  },
  {
   "cell_type": "code",
   "execution_count": 39,
   "id": "e0773eb4",
   "metadata": {},
   "outputs": [
    {
     "name": "stderr",
     "output_type": "stream",
     "text": [
      "/home/ec2-user/anaconda3/envs/python3/lib/python3.10/site-packages/mxnet/gluon/parameter.py:896: UserWarning: Parameter 'fc0_weight' is already initialized, ignoring. Set force_reinit=True to re-initialize.\n",
      "  v.initialize(None, ctx, init, force_reinit=force_reinit)\n",
      "/home/ec2-user/anaconda3/envs/python3/lib/python3.10/site-packages/mxnet/gluon/parameter.py:896: UserWarning: Parameter 'fc0_bias' is already initialized, ignoring. Set force_reinit=True to re-initialize.\n",
      "  v.initialize(None, ctx, init, force_reinit=force_reinit)\n"
     ]
    }
   ],
   "source": [
    "model.initialize()\n",
    "\n",
    "def mxnet_predict(x, model=model):\n",
    "    return model(mxnet.nd.array([x]))[0].asscalar()"
   ]
  },
  {
   "cell_type": "markdown",
   "id": "309da34b",
   "metadata": {},
   "source": [
    "Now, let's perform a prediction:"
   ]
  },
  {
   "cell_type": "code",
   "execution_count": 40,
   "id": "d2d55c80",
   "metadata": {},
   "outputs": [
    {
     "data": {
      "text/plain": [
       "1226.6005"
      ]
     },
     "execution_count": 40,
     "metadata": {},
     "output_type": "execute_result"
    }
   ],
   "source": [
    "mxnet_predict(42)"
   ]
  },
  {
   "cell_type": "markdown",
   "id": "edaeea55",
   "metadata": {},
   "source": [
    "We can also get the weight and bias of this model:"
   ]
  },
  {
   "cell_type": "code",
   "execution_count": 41,
   "id": "2278798e",
   "metadata": {},
   "outputs": [],
   "source": [
    "def extract_weight_and_bias(model):\n",
    "    params = model.collect_params()\n",
    "    weight = params['fc0_weight'].data()[0].asscalar() \n",
    "    bias = params['fc0_bias'].data()[0].asscalar()\n",
    "    \n",
    "    return {\n",
    "        \"weight\": weight, \n",
    "        \"bias\": bias\n",
    "    } "
   ]
  },
  {
   "cell_type": "code",
   "execution_count": 42,
   "id": "9b39943f",
   "metadata": {},
   "outputs": [
    {
     "data": {
      "text/plain": [
       "{'weight': 8.219234, 'bias': 881.3926}"
      ]
     },
     "execution_count": 42,
     "metadata": {},
     "output_type": "execute_result"
    }
   ],
   "source": [
    "weight_and_bias = extract_weight_and_bias(model)\n",
    "weight_and_bias"
   ]
  },
  {
   "cell_type": "code",
   "execution_count": null,
   "id": "101e8a67",
   "metadata": {},
   "outputs": [],
   "source": []
  },
  {
   "cell_type": "code",
   "execution_count": null,
   "id": "cdcb612b",
   "metadata": {},
   "outputs": [],
   "source": []
  }
 ],
 "metadata": {
  "kernelspec": {
   "display_name": "conda_python3",
   "language": "python",
   "name": "conda_python3"
  },
  "language_info": {
   "codemirror_mode": {
    "name": "ipython",
    "version": 3
   },
   "file_extension": ".py",
   "mimetype": "text/x-python",
   "name": "python",
   "nbconvert_exporter": "python",
   "pygments_lexer": "ipython3",
   "version": "3.10.12"
  }
 },
 "nbformat": 4,
 "nbformat_minor": 5
}
