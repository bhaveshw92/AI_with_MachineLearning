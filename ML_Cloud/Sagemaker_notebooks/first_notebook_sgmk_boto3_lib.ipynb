{
 "cells": [
  {
   "cell_type": "markdown",
   "id": "3a62a475",
   "metadata": {},
   "source": [
    "# A few important topics to know"
   ]
  },
  {
   "cell_type": "markdown",
   "id": "153ec3ab",
   "metadata": {},
   "source": [
    "### What is project Jupyter? "
   ]
  },
  {
   "cell_type": "markdown",
   "id": "495a6ac6",
   "metadata": {},
   "source": [
    "Project Jupyter has a base on the IPython project which began in 2001. IPython is an extended <b>interactive Python</b> shell. \n",
    "\n",
    "The <b>Jupyter project</b> is a spin-off project from IPython which began in 2014, is named after <u>Jupiter</u>, the largest planet in our solar system, symbolizing the project’s goals of being expansive and encompassing a multitude of tools and capabilities. The name \"Jupyter\" also pays homage to three core programming languages: <b>Julia, Python, and R</b>, hence the name Ju-Pyt-er. \n",
    "\n",
    "Jupyter notebooks are an <b>executable document</b>.\n",
    "\n",
    "This executable document has a features that I want you to know about them, before we talk about anything else. First, let's learn the cell types."
   ]
  },
  {
   "cell_type": "markdown",
   "id": "01e650ff",
   "metadata": {},
   "source": [
    "## Cell Types"
   ]
  },
  {
   "cell_type": "markdown",
   "id": "af9c5e64",
   "metadata": {},
   "source": [
    "### Code cells and its relation with Kernels"
   ]
  },
  {
   "cell_type": "markdown",
   "id": "323d982a",
   "metadata": {},
   "source": [
    "A code cell has a line of code that is run by a kernel. Kernels are like those programming languages or frameworks that you use to run a code. So what you see in the user interface must be backed by an executor engine that is called <b>kernels</b>.\n",
    "\n",
    "<b> DYI: </b> Find the kernels that are supported in this environment.\n",
    "\n",
    "The following cell is a code cell and as you see it is syntax highlighted. The code cells are run by clicking on the <b>Run</b> button or preseeing <b>Shift+Enter</b>. \n"
   ]
  },
  {
   "cell_type": "code",
   "execution_count": 1,
   "id": "007dd10d",
   "metadata": {},
   "outputs": [
    {
     "name": "stdout",
     "output_type": "stream",
     "text": [
      " this is a simple print\n"
     ]
    }
   ],
   "source": [
    "print (\" this is a simple print\")"
   ]
  },
  {
   "cell_type": "markdown",
   "id": "62e7b474",
   "metadata": {},
   "source": [
    "You can use internal or external modules (if you have already installed the extral module on this instance) by importing them in the notebook:"
   ]
  },
  {
   "cell_type": "code",
   "execution_count": 2,
   "id": "121b784f",
   "metadata": {},
   "outputs": [],
   "source": [
    "import os"
   ]
  },
  {
   "cell_type": "code",
   "execution_count": 3,
   "id": "3d46e2b1",
   "metadata": {},
   "outputs": [
    {
     "data": {
      "text/plain": [
       "'/home/ec2-user/SageMaker'"
      ]
     },
     "execution_count": 3,
     "metadata": {},
     "output_type": "execute_result"
    }
   ],
   "source": [
    "os.getcwd()"
   ]
  },
  {
   "cell_type": "markdown",
   "id": "6e64ae5c",
   "metadata": {},
   "source": [
    "You can type <b>? mark</b> after a function to see the documentation of that funtcion:"
   ]
  },
  {
   "cell_type": "code",
   "execution_count": 4,
   "id": "7e52b201",
   "metadata": {},
   "outputs": [],
   "source": [
    "os.getcwd?"
   ]
  },
  {
   "cell_type": "code",
   "execution_count": 5,
   "id": "59872af9",
   "metadata": {},
   "outputs": [
    {
     "data": {
      "text/plain": [
       "['first_notebook.ipynb', '.ipynb_checkpoints', '.sparkmagic', 'lost+found']"
      ]
     },
     "execution_count": 5,
     "metadata": {},
     "output_type": "execute_result"
    }
   ],
   "source": [
    "os.listdir()"
   ]
  },
  {
   "cell_type": "markdown",
   "id": "895292ba",
   "metadata": {},
   "source": [
    "Depending on the operating system that you run, you can type the os CLI commands directly"
   ]
  },
  {
   "cell_type": "code",
   "execution_count": 6,
   "id": "dcea3b1d",
   "metadata": {},
   "outputs": [
    {
     "name": "stdout",
     "output_type": "stream",
     "text": [
      "first_notebook.ipynb  lost+found\r\n"
     ]
    }
   ],
   "source": [
    "!dir "
   ]
  },
  {
   "cell_type": "markdown",
   "id": "43c1b8a7",
   "metadata": {},
   "source": [
    "or use:"
   ]
  },
  {
   "cell_type": "code",
   "execution_count": 7,
   "id": "c143e2c0",
   "metadata": {},
   "outputs": [
    {
     "name": "stdout",
     "output_type": "stream",
     "text": [
      "first_notebook.ipynb  lost+found\r\n"
     ]
    }
   ],
   "source": [
    "!ls"
   ]
  },
  {
   "cell_type": "markdown",
   "id": "460be787",
   "metadata": {},
   "source": [
    "<b> DYI:</b> Create a new directory by the <u>os</u> module "
   ]
  },
  {
   "cell_type": "markdown",
   "id": "6722fe5f",
   "metadata": {},
   "source": [
    "Let's find the operating system that is behind this notebook instance:"
   ]
  },
  {
   "cell_type": "code",
   "execution_count": 8,
   "id": "2d887223",
   "metadata": {},
   "outputs": [
    {
     "name": "stdout",
     "output_type": "stream",
     "text": [
      "NAME=\"Amazon Linux\"\r\n",
      "VERSION=\"2\"\r\n",
      "ID=\"amzn\"\r\n",
      "ID_LIKE=\"centos rhel fedora\"\r\n",
      "VERSION_ID=\"2\"\r\n",
      "PRETTY_NAME=\"Amazon Linux 2\"\r\n",
      "ANSI_COLOR=\"0;33\"\r\n",
      "CPE_NAME=\"cpe:2.3:o:amazon:amazon_linux:2\"\r\n",
      "HOME_URL=\"https://amazonlinux.com/\"\r\n"
     ]
    }
   ],
   "source": [
    "!cat /etc/os-release"
   ]
  },
  {
   "cell_type": "markdown",
   "id": "33e5e103",
   "metadata": {},
   "source": [
    "Checking which directory we are now:"
   ]
  },
  {
   "cell_type": "code",
   "execution_count": 9,
   "id": "a2dc08ec",
   "metadata": {},
   "outputs": [
    {
     "name": "stdout",
     "output_type": "stream",
     "text": [
      "/home/ec2-user/SageMaker\r\n"
     ]
    }
   ],
   "source": [
    "!pwd"
   ]
  },
  {
   "cell_type": "markdown",
   "id": "5b948b94",
   "metadata": {},
   "source": [
    "### Markdown Cells"
   ]
  },
  {
   "cell_type": "markdown",
   "id": "4bb74a46",
   "metadata": {},
   "source": [
    "Jupyter Notebook supports Markdown, which is a markup language that is a <u>superset of HTML</u>. This cell, for examle, is a markdown cell.\n",
    "\n",
    "A few useful techniques to use have been listed below:\n",
    "- Creating <u>headers</u> by using <b># </b>sign. The more number of # signs you use, the smaller the header:\n",
    "\n",
    "     # header 1\n",
    "     ## header 2\n",
    "     ### header 3\n",
    "     \n",
    "     \n",
    "\n",
    "- You can create a list (bullet points) by using <b>-</b>, or <b>+</b> signs, or <b>*</b>.\n",
    "   - item 1\n",
    "   - item 2\n",
    "   + item 3\n",
    "   * item 4\n",
    "\n",
    "\n",
    "- You can create numbered list by using 1. item as shown below:\n",
    "\n",
    "1. item 1\n",
    "1. item 2\n",
    "1. item 3\n",
    "\n",
    "- You can create a link by using [text] and then (URL):\n",
    "\n",
    "[This is a link to aws web site](https://aws.amazon.com)\n",
    "\n",
    "\n",
    "- You can embed a code inside a text by back-tick\n",
    "\n",
    "This is my embeded code `print(\"this is a code\")`\n",
    "\n",
    "\n",
    "- You can embed a block of code by triple back-tick:\n",
    "\n",
    "```\n",
    "def Name():\n",
    "  print (\"your name here\")\n",
    "```\n",
    "\n",
    "- You can create a sub heading by using <b> > </b> symbol:\n",
    "> This is a sub heading\n",
    "\n",
    "\n",
    "- You can export a notebook to different formats. Click on File and <b> Download As</b> and see those types.\n",
    "\n",
    "<b> DIY:</b> How do you add an image inside a notebook?\n"
   ]
  },
  {
   "cell_type": "markdown",
   "id": "c986b321",
   "metadata": {},
   "source": [
    "### Magical commands cells"
   ]
  },
  {
   "cell_type": "markdown",
   "id": "689c76ec",
   "metadata": {},
   "source": [
    "The \"magical commands\" are special commands that provide additional functionality beyond regular Python code. These magic commands are prefixed with <b>% </b>or <b>%% </b> and are not part of the Python language itself; instead, they are specific to the IPython and Jupyter environment.The cells that have magical commands are <b>magical cells</b>. The calles that have % are called <b>line magic</b>  and the cells that start with %% are called <b>cell magic </b>. Let's see all the magics we can run by running the following command:"
   ]
  },
  {
   "cell_type": "code",
   "execution_count": 10,
   "id": "717a1f19",
   "metadata": {},
   "outputs": [
    {
     "data": {
      "application/json": {
       "cell": {
        "!": "OSMagics",
        "HTML": "Other",
        "SVG": "Other",
        "bash": "Other",
        "capture": "ExecutionMagics",
        "debug": "ExecutionMagics",
        "file": "Other",
        "html": "DisplayMagics",
        "javascript": "DisplayMagics",
        "js": "DisplayMagics",
        "latex": "DisplayMagics",
        "markdown": "DisplayMagics",
        "perl": "Other",
        "prun": "ExecutionMagics",
        "pypy": "Other",
        "python": "Other",
        "python2": "Other",
        "python3": "Other",
        "ruby": "Other",
        "script": "ScriptMagics",
        "sh": "Other",
        "svg": "DisplayMagics",
        "sx": "OSMagics",
        "system": "OSMagics",
        "time": "ExecutionMagics",
        "timeit": "ExecutionMagics",
        "writefile": "OSMagics"
       },
       "line": {
        "alias": "OSMagics",
        "alias_magic": "BasicMagics",
        "autoawait": "AsyncMagics",
        "autocall": "AutoMagics",
        "automagic": "AutoMagics",
        "autosave": "KernelMagics",
        "bookmark": "OSMagics",
        "cat": "Other",
        "cd": "OSMagics",
        "clear": "KernelMagics",
        "colors": "BasicMagics",
        "conda": "PackagingMagics",
        "config": "ConfigMagics",
        "connect_info": "KernelMagics",
        "cp": "Other",
        "debug": "ExecutionMagics",
        "dhist": "OSMagics",
        "dirs": "OSMagics",
        "doctest_mode": "BasicMagics",
        "ed": "Other",
        "edit": "KernelMagics",
        "env": "OSMagics",
        "gui": "BasicMagics",
        "hist": "Other",
        "history": "HistoryMagics",
        "killbgscripts": "ScriptMagics",
        "ldir": "Other",
        "less": "KernelMagics",
        "lf": "Other",
        "lk": "Other",
        "ll": "Other",
        "load": "CodeMagics",
        "load_ext": "ExtensionMagics",
        "loadpy": "CodeMagics",
        "logoff": "LoggingMagics",
        "logon": "LoggingMagics",
        "logstart": "LoggingMagics",
        "logstate": "LoggingMagics",
        "logstop": "LoggingMagics",
        "ls": "Other",
        "lsmagic": "BasicMagics",
        "lx": "Other",
        "macro": "ExecutionMagics",
        "magic": "BasicMagics",
        "man": "KernelMagics",
        "matplotlib": "PylabMagics",
        "mkdir": "Other",
        "more": "KernelMagics",
        "mv": "Other",
        "notebook": "BasicMagics",
        "page": "BasicMagics",
        "pastebin": "CodeMagics",
        "pdb": "ExecutionMagics",
        "pdef": "NamespaceMagics",
        "pdoc": "NamespaceMagics",
        "pfile": "NamespaceMagics",
        "pinfo": "NamespaceMagics",
        "pinfo2": "NamespaceMagics",
        "pip": "PackagingMagics",
        "popd": "OSMagics",
        "pprint": "BasicMagics",
        "precision": "BasicMagics",
        "prun": "ExecutionMagics",
        "psearch": "NamespaceMagics",
        "psource": "NamespaceMagics",
        "pushd": "OSMagics",
        "pwd": "OSMagics",
        "pycat": "OSMagics",
        "pylab": "PylabMagics",
        "qtconsole": "KernelMagics",
        "quickref": "BasicMagics",
        "recall": "HistoryMagics",
        "rehashx": "OSMagics",
        "reload_ext": "ExtensionMagics",
        "rep": "Other",
        "rerun": "HistoryMagics",
        "reset": "NamespaceMagics",
        "reset_selective": "NamespaceMagics",
        "rm": "Other",
        "rmdir": "Other",
        "run": "ExecutionMagics",
        "save": "CodeMagics",
        "sc": "OSMagics",
        "set_env": "OSMagics",
        "store": "StoreMagics",
        "sx": "OSMagics",
        "system": "OSMagics",
        "tb": "ExecutionMagics",
        "time": "ExecutionMagics",
        "timeit": "ExecutionMagics",
        "unalias": "OSMagics",
        "unload_ext": "ExtensionMagics",
        "who": "NamespaceMagics",
        "who_ls": "NamespaceMagics",
        "whos": "NamespaceMagics",
        "xdel": "NamespaceMagics",
        "xmode": "BasicMagics"
       }
      },
      "text/plain": [
       "Available line magics:\n",
       "%alias  %alias_magic  %autoawait  %autocall  %automagic  %autosave  %bookmark  %cat  %cd  %clear  %colors  %conda  %config  %connect_info  %cp  %debug  %dhist  %dirs  %doctest_mode  %ed  %edit  %env  %gui  %hist  %history  %killbgscripts  %ldir  %less  %lf  %lk  %ll  %load  %load_ext  %loadpy  %logoff  %logon  %logstart  %logstate  %logstop  %ls  %lsmagic  %lx  %macro  %magic  %man  %matplotlib  %mkdir  %more  %mv  %notebook  %page  %pastebin  %pdb  %pdef  %pdoc  %pfile  %pinfo  %pinfo2  %pip  %popd  %pprint  %precision  %prun  %psearch  %psource  %pushd  %pwd  %pycat  %pylab  %qtconsole  %quickref  %recall  %rehashx  %reload_ext  %rep  %rerun  %reset  %reset_selective  %rm  %rmdir  %run  %save  %sc  %set_env  %store  %sx  %system  %tb  %time  %timeit  %unalias  %unload_ext  %who  %who_ls  %whos  %xdel  %xmode\n",
       "\n",
       "Available cell magics:\n",
       "%%!  %%HTML  %%SVG  %%bash  %%capture  %%debug  %%file  %%html  %%javascript  %%js  %%latex  %%markdown  %%perl  %%prun  %%pypy  %%python  %%python2  %%python3  %%ruby  %%script  %%sh  %%svg  %%sx  %%system  %%time  %%timeit  %%writefile\n",
       "\n",
       "Automagic is ON, % prefix IS NOT needed for line magics."
      ]
     },
     "execution_count": 10,
     "metadata": {},
     "output_type": "execute_result"
    }
   ],
   "source": [
    "%lsmagic"
   ]
  },
  {
   "cell_type": "markdown",
   "id": "1c64094e",
   "metadata": {},
   "source": [
    "Here are simple explanation about a few of those commands:\n",
    "\n",
    "- %alias: Define an alias for a system command.\n",
    "- %cd: Change the current working directory.\n",
    "- %matplotlib: Set up matplotlib to work interactively.\n",
    "- %time: Time the execution of a single statement.\n",
    "- %timeit: Time repeated execution of a single statement for more accuracy.\n",
    "- %load: Load code into the current frontend.\n",
    "- %run: Run the named file inside IPython as a program.\n",
    "- %env: Set environment variables.\n",
    "- %history: Print command input (and output, if available) from the history.\n",
    "- %pwd: Print the current working directory.\n",
    "- %reset: Resets the namespace by removing all names defined by the user."
   ]
  },
  {
   "cell_type": "markdown",
   "id": "f5d80a5d",
   "metadata": {},
   "source": [
    "Let's say you want to know what the alias magic does. Same as other commands you use ? in front of that command:"
   ]
  },
  {
   "cell_type": "code",
   "execution_count": 11,
   "id": "14a54504",
   "metadata": {},
   "outputs": [],
   "source": [
    "%alias?"
   ]
  },
  {
   "cell_type": "markdown",
   "id": "57fdc1ef",
   "metadata": {},
   "source": [
    "One of the useful magics is <b>time</b> that shows how long that command takes to run (it will measure the amount of time it takes to execute the <b>sum(range(1000))</b> statement):"
   ]
  },
  {
   "cell_type": "code",
   "execution_count": 12,
   "id": "113f5f08",
   "metadata": {},
   "outputs": [
    {
     "name": "stdout",
     "output_type": "stream",
     "text": [
      "CPU times: user 20 µs, sys: 0 ns, total: 20 µs\n",
      "Wall time: 23.6 µs\n"
     ]
    },
    {
     "data": {
      "text/plain": [
       "499500"
      ]
     },
     "execution_count": 12,
     "metadata": {},
     "output_type": "execute_result"
    }
   ],
   "source": [
    " %time sum(range(1000))"
   ]
  },
  {
   "cell_type": "code",
   "execution_count": 13,
   "id": "b796c1e5",
   "metadata": {},
   "outputs": [
    {
     "name": "stdout",
     "output_type": "stream",
     "text": [
      "hello world\n",
      "CPU times: user 55 µs, sys: 0 ns, total: 55 µs\n",
      "Wall time: 59.4 µs\n"
     ]
    }
   ],
   "source": [
    "%time print ('hello world')"
   ]
  },
  {
   "cell_type": "markdown",
   "id": "3698d29b",
   "metadata": {},
   "source": [
    "In the above commands the <b> Wall time</b>  represents the real time that elapsed, while <b>CPU times</b> represent the time the CPU spent on the computation.\n",
    "\n",
    "You can also use <b>timeit\"</b> to get a more accurate time calculation by asking how many times a cell to be executed and get the mean of that. Here we ask just run it once. The <b> %%timeit</b>  cell magic command is used to time the execution of code in a Jupyter notebook cell. When you use <b>-r </b> and <b>-n</b> options, you are specifying the number of runs (-r) and the number of loops per run (-n)."
   ]
  },
  {
   "cell_type": "code",
   "execution_count": 14,
   "id": "02655b17",
   "metadata": {},
   "outputs": [
    {
     "name": "stdout",
     "output_type": "stream",
     "text": [
      "1.9 µs ± 0 ns per loop (mean ± std. dev. of 1 run, 1 loop each)\n"
     ]
    }
   ],
   "source": [
    "%%timeit -r 1 -n 1\n",
    "total=0\n",
    "for y  in range (10):\n",
    "    if y%2==0:\n",
    "        total= total+y\n",
    "#print (total)"
   ]
  },
  {
   "cell_type": "markdown",
   "id": "23019b3c",
   "metadata": {},
   "source": [
    "In above output:\n",
    "    \n",
    "- 1.9 µs is the average (mean) time it took to run the code per loop, expressed in microseconds (µs). Microseconds are one millionth (1/1,000,000) of a second.\n",
    "\n",
    "- ± 0 ns represents the standard deviation of the time taken per loop, expressed in nanoseconds (ns). Nanoseconds are  one billionth (1/1,000,000,000) of a second. Here, a standard deviation of 0 ns indicates that there was no variation in the run times, meaning each run took essentially the same amount of time.\n",
    "\n",
    "- per loop (mean ± std. dev. of 1 run, 1 loop each) provides additional information about the %timeit run:\n",
    "\n",
    "> 1 run: The number of times the entire %timeit command was executed.\n",
    "\n",
    "> 1 loop each: The number of loops (or repetitions) of the statement within each run."
   ]
  },
  {
   "cell_type": "markdown",
   "id": "1d8fbec7",
   "metadata": {},
   "source": [
    "Another useful command is the <b> %%writefile</b>  magic command in a Jupyter notebook. It is used to create a file and write the content of the cell to that file. In the following example, when you run a cell with <b>%%writefile myfile.py</b>, it creates a new Python file named myfile.py in the current directory of the Jupyter notebook and writes the content of the cell to this file. "
   ]
  },
  {
   "cell_type": "code",
   "execution_count": 16,
   "id": "c4193242",
   "metadata": {},
   "outputs": [
    {
     "name": "stdout",
     "output_type": "stream",
     "text": [
      "Writing myfile.py\n"
     ]
    }
   ],
   "source": [
    "%%writefile myfile.py\n",
    "def hi_func():\n",
    "    print (\"Hello\")\n",
    "\n",
    "hi_func()"
   ]
  },
  {
   "cell_type": "code",
   "execution_count": 17,
   "id": "ea0f8bad",
   "metadata": {},
   "outputs": [
    {
     "name": "stdout",
     "output_type": "stream",
     "text": [
      "Hello\n"
     ]
    }
   ],
   "source": [
    "%run myfile.py"
   ]
  },
  {
   "cell_type": "markdown",
   "id": "5f859eca",
   "metadata": {},
   "source": [
    "You can also load the content of a file inside a cell by using the <u>%load filename</u>. As you see, after loading the file content, the load command itself is commented out. You can just run <u> %load myfile.py</u> and see what happens:"
   ]
  },
  {
   "cell_type": "code",
   "execution_count": null,
   "id": "8397ab64",
   "metadata": {},
   "outputs": [],
   "source": [
    "%load myfile.py\n"
   ]
  },
  {
   "cell_type": "markdown",
   "id": "2c56cf58",
   "metadata": {},
   "source": [
    "After loading, you can run it:"
   ]
  },
  {
   "cell_type": "code",
   "execution_count": null,
   "id": "1b0d0af4",
   "metadata": {},
   "outputs": [],
   "source": [
    "# %load myfile.py\n",
    "def hi_func():\n",
    "    print (\"Hello\")\n",
    "\n",
    "hi_func()\n"
   ]
  },
  {
   "cell_type": "markdown",
   "id": "3799c346",
   "metadata": {},
   "source": [
    "<b> DYI:</b> Use this [link](https://ipython.readthedocs.io/en/stable/interactive/magics.html) and select one of the magical commands we have not discussed and show how that works."
   ]
  },
  {
   "cell_type": "markdown",
   "id": "ab47423d",
   "metadata": {},
   "source": [
    "You can also run the code that you have loaded from the disk:"
   ]
  },
  {
   "cell_type": "code",
   "execution_count": 21,
   "id": "893bffb4",
   "metadata": {},
   "outputs": [
    {
     "name": "stdout",
     "output_type": "stream",
     "text": [
      "Hello\n"
     ]
    }
   ],
   "source": [
    "hi_func()"
   ]
  },
  {
   "cell_type": "markdown",
   "id": "2a08be2e",
   "metadata": {},
   "source": [
    "Anothet useful magical command is %env. When used with no arguments, like %env on its own, it lists all environment variables along with their current values."
   ]
  },
  {
   "cell_type": "code",
   "execution_count": 22,
   "id": "de81b50b",
   "metadata": {},
   "outputs": [
    {
     "data": {
      "text/plain": [
       "{'JPY_SESSION_NAME': '/home/ec2-user/SageMaker/',\n",
       " 'CUDA_PATH': '/usr/local/cuda-11.8',\n",
       " 'XDG_SESSION_ID': 'c7',\n",
       " 'HOSTNAME': 'ip-172-16-182-193.ec2.internal',\n",
       " 'SHELL': '/bin/sh',\n",
       " 'DLAMI_SAVED_CUDA_HOME': '',\n",
       " 'HISTSIZE': '1000',\n",
       " 'CONDA_SHLVL': '2',\n",
       " 'CONDA_PROMPT_MODIFIER': '(python3) ',\n",
       " 'GSETTINGS_SCHEMA_DIR_CONDA_BACKUP': '',\n",
       " 'CUDA_HOME': '/usr/local/cuda-11.8',\n",
       " 'USER': 'ec2-user',\n",
       " 'LD_LIBRARY_PATH': '/usr/local/cuda-11.8/lib64:/usr/local/cuda-11.8/extras/CUPTI/lib64:/usr/local/cuda-11.8/lib:/usr/local/cuda-11.8/efa/lib:/opt/amazon/efa/lib:/opt/amazon/efa/lib64:/opt/amazon/efa/lib64:/opt/amazon/openmpi/lib64:/usr/local/lib:/usr/lib:/lib',\n",
       " 'DLAMI_SAVED_CUDA_PATH': '',\n",
       " 'CONDA_EXE': '/home/ec2-user/anaconda3/bin/conda',\n",
       " 'JPY_PARENT_PID': '3794',\n",
       " 'PYTHON_VERSION': '3.10',\n",
       " '_CE_CONDA': '',\n",
       " 'CONDA_PREFIX_1': '/home/ec2-user/anaconda3/envs/JupyterSystemEnv',\n",
       " 'PATH': '/usr/local/cuda-11.8/bin:/home/ec2-user/anaconda3/envs/python3/bin:/home/ec2-user/anaconda3/condabin:/home/ec2-user/anaconda3/bin:/opt/aws/neuron/bin:/opt/amazon/openmpi/bin:/opt/amazon/efa/bin:/home/ec2-user/.dl_binaries/bin:/usr/libexec/gcc/x86_64-redhat-linux/7:/opt/aws/bin:/usr/local/bin:/usr/bin:/usr/local/sbin:/usr/sbin',\n",
       " 'MAIL': '/var/spool/mail/ec2-user',\n",
       " 'GSETTINGS_SCHEMA_DIR': '/home/ec2-user/anaconda3/envs/python3/share/glib-2.0/schemas',\n",
       " 'XML_CATALOG_FILES': 'file:///home/ec2-user/anaconda3/envs/python3/etc/xml/catalog file:///etc/xml/catalog',\n",
       " 'CONDA_PREFIX': '/home/ec2-user/anaconda3/envs/python3',\n",
       " 'PWD': '/home/ec2-user/SageMaker',\n",
       " 'DLAMI_SAVED_PATH': '/home/ec2-user/anaconda3/condabin:/home/ec2-user/anaconda3/bin:/opt/aws/neuron/bin:/opt/amazon/openmpi/bin:/opt/amazon/efa/bin:/home/ec2-user/.dl_binaries/bin:/usr/libexec/gcc/x86_64-redhat-linux/7:/opt/aws/bin:/usr/local/bin:/usr/bin:/usr/local/sbin:/usr/sbin',\n",
       " 'LANG': 'en_US.UTF-8',\n",
       " 'MODULEPATH': '/usr/share/Modules/modulefiles:/etc/modulefiles',\n",
       " 'LOADEDMODULES': '',\n",
       " 'HISTCONTROL': 'ignoredups',\n",
       " '_CE_M': '',\n",
       " 'HOME': '/home/ec2-user',\n",
       " 'SHLVL': '0',\n",
       " 'LOGNAME': 'ec2-user',\n",
       " 'CONDA_PYTHON_EXE': '/home/ec2-user/anaconda3/bin/python',\n",
       " 'MODULESHOME': '/usr/share/Modules',\n",
       " 'LESSOPEN': '||/usr/bin/lesspipe.sh %s',\n",
       " 'CONDA_DEFAULT_ENV': 'python3',\n",
       " 'DLAMI_SAVED_LD_LIBRARY_PATH': '/opt/amazon/efa/lib64:/opt/amazon/openmpi/lib64:/usr/local/lib:/usr/lib:/lib',\n",
       " 'GIT_PYTHON_REFRESH': 'quiet',\n",
       " 'XDG_RUNTIME_DIR': '/run/user/1000',\n",
       " 'PYDEVD_USE_FRAME_EVAL': 'NO',\n",
       " 'TERM': 'xterm-color',\n",
       " 'CLICOLOR': '1',\n",
       " 'FORCE_COLOR': '1',\n",
       " 'CLICOLOR_FORCE': '1',\n",
       " 'PAGER': 'cat',\n",
       " 'GIT_PAGER': 'cat',\n",
       " 'MPLBACKEND': 'module://matplotlib_inline.backend_inline'}"
      ]
     },
     "execution_count": 22,
     "metadata": {},
     "output_type": "execute_result"
    }
   ],
   "source": [
    "%env"
   ]
  },
  {
   "cell_type": "markdown",
   "id": "f000f39b",
   "metadata": {},
   "source": [
    "You can also define the environment variables:"
   ]
  },
  {
   "cell_type": "code",
   "execution_count": 23,
   "id": "939b343b",
   "metadata": {},
   "outputs": [
    {
     "name": "stdout",
     "output_type": "stream",
     "text": [
      "env: KEY=\"1234\"\n"
     ]
    }
   ],
   "source": [
    "%env KEY=\"1234\""
   ]
  },
  {
   "cell_type": "code",
   "execution_count": 24,
   "id": "04e03d45",
   "metadata": {},
   "outputs": [
    {
     "data": {
      "text/plain": [
       "'\"1234\"'"
      ]
     },
     "execution_count": 24,
     "metadata": {},
     "output_type": "execute_result"
    }
   ],
   "source": [
    "%env KEY"
   ]
  },
  {
   "cell_type": "markdown",
   "id": "18e7c85d",
   "metadata": {},
   "source": [
    "## Importing boto3 and SageMaker libraries and checking the version of SageMaker SDK "
   ]
  },
  {
   "cell_type": "code",
   "execution_count": 25,
   "id": "a45604a1",
   "metadata": {},
   "outputs": [],
   "source": [
    "import sagemaker\n",
    "import boto3"
   ]
  },
  {
   "cell_type": "code",
   "execution_count": 27,
   "id": "8f9e8015",
   "metadata": {},
   "outputs": [
    {
     "data": {
      "text/plain": [
       "'2.183.0'"
      ]
     },
     "execution_count": 27,
     "metadata": {},
     "output_type": "execute_result"
    }
   ],
   "source": [
    "sagemaker.__version__"
   ]
  },
  {
   "cell_type": "markdown",
   "id": "8825d528",
   "metadata": {},
   "source": [
    "Let's see what role this instance is using:"
   ]
  },
  {
   "cell_type": "code",
   "execution_count": 29,
   "id": "334d700c",
   "metadata": {},
   "outputs": [
    {
     "name": "stdout",
     "output_type": "stream",
     "text": [
      "arn:aws:iam::858841948194:role/LabRole\n"
     ]
    }
   ],
   "source": [
    "from sagemaker import get_execution_role\n",
    "role = get_execution_role()\n",
    "print (role)"
   ]
  },
  {
   "cell_type": "markdown",
   "id": "16383cc7",
   "metadata": {},
   "source": [
    "Sometimes it is essential for installing or upgrading the SageMaker Python SDK to the latest version in your environment. I suggest you use the following cell after importing the sagemaker SDK at the beginning of your notebooks:"
   ]
  },
  {
   "cell_type": "code",
   "execution_count": 30,
   "id": "ff704047",
   "metadata": {},
   "outputs": [
    {
     "name": "stdout",
     "output_type": "stream",
     "text": [
      "Requirement already satisfied: sagemaker in /home/ec2-user/anaconda3/envs/python3/lib/python3.10/site-packages (2.183.0)\n",
      "Collecting sagemaker\n",
      "  Downloading sagemaker-2.187.0.tar.gz (886 kB)\n",
      "\u001b[2K     \u001b[90m━━━━━━━━━━━━━━━━━━━━━━━━━━━━━━━━━━━━━━\u001b[0m \u001b[32m886.2/886.2 kB\u001b[0m \u001b[31m11.4 MB/s\u001b[0m eta \u001b[36m0:00:00\u001b[0m00:01\u001b[0m\n",
      "\u001b[?25h  Preparing metadata (setup.py) ... \u001b[?25ldone\n",
      "\u001b[?25hRequirement already satisfied: attrs<24,>=23.1.0 in /home/ec2-user/anaconda3/envs/python3/lib/python3.10/site-packages (from sagemaker) (23.1.0)\n",
      "Requirement already satisfied: boto3<2.0,>=1.26.131 in /home/ec2-user/anaconda3/envs/python3/lib/python3.10/site-packages (from sagemaker) (1.28.41)\n",
      "Requirement already satisfied: cloudpickle==2.2.1 in /home/ec2-user/anaconda3/envs/python3/lib/python3.10/site-packages (from sagemaker) (2.2.1)\n",
      "Requirement already satisfied: google-pasta in /home/ec2-user/anaconda3/envs/python3/lib/python3.10/site-packages (from sagemaker) (0.2.0)\n",
      "Requirement already satisfied: numpy<2.0,>=1.9.0 in /home/ec2-user/anaconda3/envs/python3/lib/python3.10/site-packages (from sagemaker) (1.22.3)\n",
      "Requirement already satisfied: protobuf<5.0,>=3.12 in /home/ec2-user/anaconda3/envs/python3/lib/python3.10/site-packages (from sagemaker) (4.24.2)\n",
      "Requirement already satisfied: smdebug_rulesconfig==1.0.1 in /home/ec2-user/anaconda3/envs/python3/lib/python3.10/site-packages (from sagemaker) (1.0.1)\n",
      "Requirement already satisfied: importlib-metadata<7.0,>=1.4.0 in /home/ec2-user/anaconda3/envs/python3/lib/python3.10/site-packages (from sagemaker) (6.8.0)\n",
      "Requirement already satisfied: packaging>=20.0 in /home/ec2-user/anaconda3/envs/python3/lib/python3.10/site-packages (from sagemaker) (21.3)\n",
      "Requirement already satisfied: pandas in /home/ec2-user/anaconda3/envs/python3/lib/python3.10/site-packages (from sagemaker) (2.0.3)\n",
      "Requirement already satisfied: pathos in /home/ec2-user/anaconda3/envs/python3/lib/python3.10/site-packages (from sagemaker) (0.3.1)\n",
      "Requirement already satisfied: schema in /home/ec2-user/anaconda3/envs/python3/lib/python3.10/site-packages (from sagemaker) (0.7.5)\n",
      "Requirement already satisfied: PyYAML~=6.0 in /home/ec2-user/anaconda3/envs/python3/lib/python3.10/site-packages (from sagemaker) (6.0)\n",
      "Requirement already satisfied: jsonschema in /home/ec2-user/anaconda3/envs/python3/lib/python3.10/site-packages (from sagemaker) (4.18.4)\n",
      "Requirement already satisfied: platformdirs in /home/ec2-user/anaconda3/envs/python3/lib/python3.10/site-packages (from sagemaker) (3.9.1)\n",
      "Requirement already satisfied: tblib==1.7.0 in /home/ec2-user/anaconda3/envs/python3/lib/python3.10/site-packages (from sagemaker) (1.7.0)\n",
      "Requirement already satisfied: botocore<1.32.0,>=1.31.41 in /home/ec2-user/anaconda3/envs/python3/lib/python3.10/site-packages (from boto3<2.0,>=1.26.131->sagemaker) (1.31.41)\n",
      "Requirement already satisfied: jmespath<2.0.0,>=0.7.1 in /home/ec2-user/anaconda3/envs/python3/lib/python3.10/site-packages (from boto3<2.0,>=1.26.131->sagemaker) (1.0.1)\n",
      "Requirement already satisfied: s3transfer<0.7.0,>=0.6.0 in /home/ec2-user/anaconda3/envs/python3/lib/python3.10/site-packages (from boto3<2.0,>=1.26.131->sagemaker) (0.6.1)\n",
      "Requirement already satisfied: zipp>=0.5 in /home/ec2-user/anaconda3/envs/python3/lib/python3.10/site-packages (from importlib-metadata<7.0,>=1.4.0->sagemaker) (3.16.2)\n",
      "Requirement already satisfied: pyparsing!=3.0.5,>=2.0.2 in /home/ec2-user/anaconda3/envs/python3/lib/python3.10/site-packages (from packaging>=20.0->sagemaker) (3.0.9)\n",
      "Requirement already satisfied: six in /home/ec2-user/anaconda3/envs/python3/lib/python3.10/site-packages (from google-pasta->sagemaker) (1.16.0)\n",
      "Requirement already satisfied: jsonschema-specifications>=2023.03.6 in /home/ec2-user/anaconda3/envs/python3/lib/python3.10/site-packages (from jsonschema->sagemaker) (2023.7.1)\n",
      "Requirement already satisfied: referencing>=0.28.4 in /home/ec2-user/anaconda3/envs/python3/lib/python3.10/site-packages (from jsonschema->sagemaker) (0.30.0)\n",
      "Requirement already satisfied: rpds-py>=0.7.1 in /home/ec2-user/anaconda3/envs/python3/lib/python3.10/site-packages (from jsonschema->sagemaker) (0.9.2)\n",
      "Requirement already satisfied: python-dateutil>=2.8.2 in /home/ec2-user/anaconda3/envs/python3/lib/python3.10/site-packages (from pandas->sagemaker) (2.8.2)\n",
      "Requirement already satisfied: pytz>=2020.1 in /home/ec2-user/anaconda3/envs/python3/lib/python3.10/site-packages (from pandas->sagemaker) (2023.3)\n",
      "Requirement already satisfied: tzdata>=2022.1 in /home/ec2-user/anaconda3/envs/python3/lib/python3.10/site-packages (from pandas->sagemaker) (2023.3)\n",
      "Requirement already satisfied: ppft>=1.7.6.7 in /home/ec2-user/anaconda3/envs/python3/lib/python3.10/site-packages (from pathos->sagemaker) (1.7.6.7)\n",
      "Requirement already satisfied: dill>=0.3.7 in /home/ec2-user/anaconda3/envs/python3/lib/python3.10/site-packages (from pathos->sagemaker) (0.3.7)\n",
      "Requirement already satisfied: pox>=0.3.3 in /home/ec2-user/anaconda3/envs/python3/lib/python3.10/site-packages (from pathos->sagemaker) (0.3.3)\n",
      "Requirement already satisfied: multiprocess>=0.70.15 in /home/ec2-user/anaconda3/envs/python3/lib/python3.10/site-packages (from pathos->sagemaker) (0.70.15)\n",
      "Requirement already satisfied: contextlib2>=0.5.5 in /home/ec2-user/anaconda3/envs/python3/lib/python3.10/site-packages (from schema->sagemaker) (21.6.0)\n",
      "Requirement already satisfied: urllib3<1.27,>=1.25.4 in /home/ec2-user/anaconda3/envs/python3/lib/python3.10/site-packages (from botocore<1.32.0,>=1.31.41->boto3<2.0,>=1.26.131->sagemaker) (1.26.14)\n",
      "Building wheels for collected packages: sagemaker\n",
      "  Building wheel for sagemaker (setup.py) ... \u001b[?25ldone\n",
      "\u001b[?25h  Created wheel for sagemaker: filename=sagemaker-2.187.0-py2.py3-none-any.whl size=1186949 sha256=6b12436aea867dd5b0dc97fcf222da46b3e8a5a9ce107bc680bb56d8e8e68449\n",
      "  Stored in directory: /home/ec2-user/.cache/pip/wheels/21/d2/2b/ed240a9d3084c5b4e3e7fd2ca8f9c11659bb98f0b87b6b1ca3\n",
      "Successfully built sagemaker\n",
      "Installing collected packages: sagemaker\n",
      "  Attempting uninstall: sagemaker\n",
      "    Found existing installation: sagemaker 2.183.0\n",
      "    Uninstalling sagemaker-2.183.0:\n",
      "      Successfully uninstalled sagemaker-2.183.0\n",
      "Successfully installed sagemaker-2.187.0\n"
     ]
    }
   ],
   "source": [
    "!pip install sagemaker --upgrade"
   ]
  },
  {
   "cell_type": "markdown",
   "id": "3fc6a3ef",
   "metadata": {},
   "source": [
    "If you are planning to use AWS Command Line Interface (AWS CLI) in the command line, the command <b> %pip install --upgrade awscli</b>  is used to upgrade the AWS CLI tool to the latest version. "
   ]
  },
  {
   "cell_type": "code",
   "execution_count": 31,
   "id": "c71be7f6",
   "metadata": {},
   "outputs": [
    {
     "name": "stdout",
     "output_type": "stream",
     "text": [
      "Requirement already satisfied: awscli in /home/ec2-user/anaconda3/envs/python3/lib/python3.10/site-packages (1.29.41)\n",
      "Collecting awscli\n",
      "  Obtaining dependency information for awscli from https://files.pythonhosted.org/packages/e1/58/35ef78049329d520c655a2b032a6bed4526a28778adf041c44e1b9ab6197/awscli-1.29.53-py3-none-any.whl.metadata\n",
      "  Downloading awscli-1.29.53-py3-none-any.whl.metadata (11 kB)\n",
      "Collecting botocore==1.31.53 (from awscli)\n",
      "  Obtaining dependency information for botocore==1.31.53 from https://files.pythonhosted.org/packages/21/fd/d8591332f5a6b3a94a55dc88a8374518ef7caa24302562558e4eac07ec2e/botocore-1.31.53-py3-none-any.whl.metadata\n",
      "  Downloading botocore-1.31.53-py3-none-any.whl.metadata (6.0 kB)\n",
      "Requirement already satisfied: docutils<0.17,>=0.10 in /home/ec2-user/anaconda3/envs/python3/lib/python3.10/site-packages (from awscli) (0.16)\n",
      "Requirement already satisfied: s3transfer<0.7.0,>=0.6.0 in /home/ec2-user/anaconda3/envs/python3/lib/python3.10/site-packages (from awscli) (0.6.1)\n",
      "Requirement already satisfied: PyYAML<6.1,>=3.10 in /home/ec2-user/anaconda3/envs/python3/lib/python3.10/site-packages (from awscli) (6.0)\n",
      "Requirement already satisfied: colorama<0.4.5,>=0.2.5 in /home/ec2-user/anaconda3/envs/python3/lib/python3.10/site-packages (from awscli) (0.4.4)\n",
      "Requirement already satisfied: rsa<4.8,>=3.1.2 in /home/ec2-user/anaconda3/envs/python3/lib/python3.10/site-packages (from awscli) (4.7.2)\n",
      "Requirement already satisfied: jmespath<2.0.0,>=0.7.1 in /home/ec2-user/anaconda3/envs/python3/lib/python3.10/site-packages (from botocore==1.31.53->awscli) (1.0.1)\n",
      "Requirement already satisfied: python-dateutil<3.0.0,>=2.1 in /home/ec2-user/anaconda3/envs/python3/lib/python3.10/site-packages (from botocore==1.31.53->awscli) (2.8.2)\n",
      "Requirement already satisfied: urllib3<1.27,>=1.25.4 in /home/ec2-user/anaconda3/envs/python3/lib/python3.10/site-packages (from botocore==1.31.53->awscli) (1.26.14)\n",
      "Requirement already satisfied: pyasn1>=0.1.3 in /home/ec2-user/anaconda3/envs/python3/lib/python3.10/site-packages (from rsa<4.8,>=3.1.2->awscli) (0.5.0)\n",
      "Requirement already satisfied: six>=1.5 in /home/ec2-user/anaconda3/envs/python3/lib/python3.10/site-packages (from python-dateutil<3.0.0,>=2.1->botocore==1.31.53->awscli) (1.16.0)\n",
      "Downloading awscli-1.29.53-py3-none-any.whl (4.3 MB)\n",
      "\u001b[2K   \u001b[90m━━━━━━━━━━━━━━━━━━━━━━━━━━━━━━━━━━━━━━━━\u001b[0m \u001b[32m4.3/4.3 MB\u001b[0m \u001b[31m34.0 MB/s\u001b[0m eta \u001b[36m0:00:00\u001b[0m00:01\u001b[0m00:01\u001b[0m\n",
      "\u001b[?25hDownloading botocore-1.31.53-py3-none-any.whl (11.2 MB)\n",
      "\u001b[2K   \u001b[90m━━━━━━━━━━━━━━━━━━━━━━━━━━━━━━━━━━━━━━━━\u001b[0m \u001b[32m11.2/11.2 MB\u001b[0m \u001b[31m43.3 MB/s\u001b[0m eta \u001b[36m0:00:00\u001b[0m:00:01\u001b[0m0:01\u001b[0m\n",
      "\u001b[?25hInstalling collected packages: botocore, awscli\n",
      "  Attempting uninstall: botocore\n",
      "    Found existing installation: botocore 1.31.41\n",
      "    Uninstalling botocore-1.31.41:\n",
      "      Successfully uninstalled botocore-1.31.41\n",
      "  Attempting uninstall: awscli\n",
      "    Found existing installation: awscli 1.29.41\n",
      "    Uninstalling awscli-1.29.41:\n",
      "      Successfully uninstalled awscli-1.29.41\n",
      "Successfully installed awscli-1.29.53 botocore-1.31.53\n",
      "Note: you may need to restart the kernel to use updated packages.\n"
     ]
    }
   ],
   "source": [
    "%pip install --upgrade awscli"
   ]
  },
  {
   "cell_type": "markdown",
   "id": "96fd37ee",
   "metadata": {},
   "source": [
    "And the same is true for upgrading the boto3 libabry if you wish to use it in your notebook:"
   ]
  },
  {
   "cell_type": "code",
   "execution_count": 32,
   "id": "c852ba64",
   "metadata": {},
   "outputs": [
    {
     "name": "stdout",
     "output_type": "stream",
     "text": [
      "Requirement already satisfied: boto3 in /home/ec2-user/anaconda3/envs/python3/lib/python3.10/site-packages (1.28.41)\n",
      "Collecting boto3\n",
      "  Obtaining dependency information for boto3 from https://files.pythonhosted.org/packages/fe/15/fa88dc3bf239fe047fcd9f7c1c38b655f533d453d4d6c3f72ab5b145d44d/boto3-1.28.53-py3-none-any.whl.metadata\n",
      "  Downloading boto3-1.28.53-py3-none-any.whl.metadata (6.7 kB)\n",
      "Requirement already satisfied: botocore<1.32.0,>=1.31.53 in /home/ec2-user/anaconda3/envs/python3/lib/python3.10/site-packages (from boto3) (1.31.53)\n",
      "Requirement already satisfied: jmespath<2.0.0,>=0.7.1 in /home/ec2-user/anaconda3/envs/python3/lib/python3.10/site-packages (from boto3) (1.0.1)\n",
      "Requirement already satisfied: s3transfer<0.7.0,>=0.6.0 in /home/ec2-user/anaconda3/envs/python3/lib/python3.10/site-packages (from boto3) (0.6.1)\n",
      "Requirement already satisfied: python-dateutil<3.0.0,>=2.1 in /home/ec2-user/anaconda3/envs/python3/lib/python3.10/site-packages (from botocore<1.32.0,>=1.31.53->boto3) (2.8.2)\n",
      "Requirement already satisfied: urllib3<1.27,>=1.25.4 in /home/ec2-user/anaconda3/envs/python3/lib/python3.10/site-packages (from botocore<1.32.0,>=1.31.53->boto3) (1.26.14)\n",
      "Requirement already satisfied: six>=1.5 in /home/ec2-user/anaconda3/envs/python3/lib/python3.10/site-packages (from python-dateutil<3.0.0,>=2.1->botocore<1.32.0,>=1.31.53->boto3) (1.16.0)\n",
      "Downloading boto3-1.28.53-py3-none-any.whl (135 kB)\n",
      "\u001b[2K   \u001b[90m━━━━━━━━━━━━━━━━━━━━━━━━━━━━━━━━━━━━━━━━\u001b[0m \u001b[32m135.8/135.8 kB\u001b[0m \u001b[31m7.2 MB/s\u001b[0m eta \u001b[36m0:00:00\u001b[0m\n",
      "\u001b[?25hInstalling collected packages: boto3\n",
      "  Attempting uninstall: boto3\n",
      "    Found existing installation: boto3 1.28.41\n",
      "    Uninstalling boto3-1.28.41:\n",
      "      Successfully uninstalled boto3-1.28.41\n",
      "Successfully installed boto3-1.28.53\n"
     ]
    }
   ],
   "source": [
    "!pip install --upgrade boto3"
   ]
  },
  {
   "cell_type": "markdown",
   "id": "fe71e201",
   "metadata": {},
   "source": [
    "In the console, check this is the role that is assigned to this instance. It is important to know that, we use this role later when we create an <b>estimator</b> object in SageMake. "
   ]
  },
  {
   "cell_type": "markdown",
   "id": "74fe263f",
   "metadata": {},
   "source": [
    "### Checking the version of boto3"
   ]
  },
  {
   "cell_type": "markdown",
   "id": "aee83dc4",
   "metadata": {},
   "source": [
    "In addition to SageMaker Python SDK that you saw above, we can use AWS Python SDK called boto3. Before that you have to import it: "
   ]
  },
  {
   "cell_type": "code",
   "execution_count": 33,
   "id": "9f198269",
   "metadata": {},
   "outputs": [],
   "source": [
    "import boto3"
   ]
  },
  {
   "cell_type": "code",
   "execution_count": 34,
   "id": "02e04348",
   "metadata": {},
   "outputs": [
    {
     "name": "stdout",
     "output_type": "stream",
     "text": [
      "Name: boto3\r\n",
      "Version: 1.28.53\r\n",
      "Summary: The AWS SDK for Python\r\n",
      "Home-page: https://github.com/boto/boto3\r\n",
      "Author: Amazon Web Services\r\n",
      "Author-email: \r\n",
      "License: Apache License 2.0\r\n",
      "Location: /home/ec2-user/anaconda3/envs/python3/lib/python3.10/site-packages\r\n",
      "Requires: botocore, jmespath, s3transfer\r\n",
      "Required-by: sagemaker\r\n"
     ]
    }
   ],
   "source": [
    "!pip show boto3"
   ]
  },
  {
   "cell_type": "markdown",
   "id": "6df9083d",
   "metadata": {},
   "source": [
    "## Checking the version of AWS CLI"
   ]
  },
  {
   "cell_type": "code",
   "execution_count": 35,
   "id": "c1e39acf",
   "metadata": {},
   "outputs": [
    {
     "name": "stdout",
     "output_type": "stream",
     "text": [
      "aws-cli/1.29.53 Python/3.10.12 Linux/5.10.186-179.751.amzn2.x86_64 botocore/1.31.53\r\n"
     ]
    }
   ],
   "source": [
    "!aws --version"
   ]
  },
  {
   "cell_type": "markdown",
   "id": "0121fa09",
   "metadata": {},
   "source": [
    "Now that we know the we have aws CLI installed on this instance, let's use a few commands here. First let's see what what S3 buckets we have:"
   ]
  },
  {
   "cell_type": "code",
   "execution_count": 36,
   "id": "31101b4d",
   "metadata": {},
   "outputs": [
    {
     "name": "stdout",
     "output_type": "stream",
     "text": [
      "2023-09-17 16:02:24 day-02-humber\r\n",
      "2023-09-12 00:15:22 humbereveclass\r\n",
      "2023-09-12 00:20:07 humbereveclass-2\r\n",
      "2023-09-12 12:41:13 humbermorningclass\r\n",
      "2023-09-12 12:42:05 humbermorningclass-2\r\n"
     ]
    }
   ],
   "source": [
    "!aws s3 ls"
   ]
  },
  {
   "cell_type": "markdown",
   "id": "555833fe",
   "metadata": {},
   "source": [
    "### Getting data and pushing to S3"
   ]
  },
  {
   "cell_type": "markdown",
   "id": "1fb03f99",
   "metadata": {},
   "source": [
    "Let's start grabbing a file and after changes, we save that in the S3 bucket:"
   ]
  },
  {
   "cell_type": "code",
   "execution_count": 37,
   "id": "b441420a",
   "metadata": {},
   "outputs": [
    {
     "name": "stdout",
     "output_type": "stream",
     "text": [
      "/home/ec2-user/SageMaker\r\n"
     ]
    }
   ],
   "source": [
    "!pwd"
   ]
  },
  {
   "cell_type": "code",
   "execution_count": 38,
   "id": "b02c5540",
   "metadata": {},
   "outputs": [],
   "source": [
    "!mkdir file"
   ]
  },
  {
   "cell_type": "code",
   "execution_count": 39,
   "id": "7913caed",
   "metadata": {},
   "outputs": [
    {
     "name": "stdout",
     "output_type": "stream",
     "text": [
      "total 124\r\n",
      "drwxrwxr-x 2 ec2-user ec2-user   4096 Sep 24 19:03 file\r\n",
      "-rw-rw-r-- 1 ec2-user ec2-user 101337 Sep 24 19:02 first_notebook.ipynb\r\n",
      "drwx------ 2 root     root      16384 Sep 24 18:19 lost+found\r\n",
      "-rw-rw-r-- 1 ec2-user ec2-user     46 Sep 24 18:52 myfile.py\r\n"
     ]
    }
   ],
   "source": [
    "!ls -l"
   ]
  },
  {
   "cell_type": "code",
   "execution_count": 40,
   "id": "f0b24719",
   "metadata": {},
   "outputs": [
    {
     "name": "stdout",
     "output_type": "stream",
     "text": [
      "/home/ec2-user/SageMaker/file\n"
     ]
    }
   ],
   "source": [
    "%cd /home/ec2-user/SageMaker/file/"
   ]
  },
  {
   "cell_type": "code",
   "execution_count": 41,
   "id": "fe63496f",
   "metadata": {},
   "outputs": [
    {
     "name": "stdout",
     "output_type": "stream",
     "text": [
      "/home/ec2-user/SageMaker/file\r\n"
     ]
    }
   ],
   "source": [
    "!pwd"
   ]
  },
  {
   "cell_type": "markdown",
   "id": "dc317248",
   "metadata": {},
   "source": [
    "Download the file called \"experience_and_salary.csv\" from the blackboard and upload it to the \"file\" folder:\n",
    "\n",
    "    "
   ]
  },
  {
   "cell_type": "code",
   "execution_count": 42,
   "id": "ee6c658f",
   "metadata": {},
   "outputs": [
    {
     "name": "stdout",
     "output_type": "stream",
     "text": [
      "experience_and_salary.csv\r\n"
     ]
    }
   ],
   "source": [
    "!ls"
   ]
  },
  {
   "cell_type": "code",
   "execution_count": 43,
   "id": "103251e4",
   "metadata": {},
   "outputs": [
    {
     "name": "stdout",
     "output_type": "stream",
     "text": [
      "/home/ec2-user/SageMaker/file\r\n"
     ]
    }
   ],
   "source": [
    "!pwd"
   ]
  },
  {
   "cell_type": "markdown",
   "id": "24c4c3c9",
   "metadata": {},
   "source": [
    "Now we have a file in this notebook instance. we open that with Pandas:"
   ]
  },
  {
   "cell_type": "code",
   "execution_count": 44,
   "id": "1b7c0002",
   "metadata": {},
   "outputs": [],
   "source": [
    "import pandas as pd"
   ]
  },
  {
   "cell_type": "code",
   "execution_count": 45,
   "id": "a37f6d5f",
   "metadata": {},
   "outputs": [],
   "source": [
    "df_data=pd.read_csv(\"./experience_and_salary.csv\")"
   ]
  },
  {
   "cell_type": "code",
   "execution_count": 46,
   "id": "9e2c4746",
   "metadata": {},
   "outputs": [
    {
     "data": {
      "text/html": [
       "<div>\n",
       "<style scoped>\n",
       "    .dataframe tbody tr th:only-of-type {\n",
       "        vertical-align: middle;\n",
       "    }\n",
       "\n",
       "    .dataframe tbody tr th {\n",
       "        vertical-align: top;\n",
       "    }\n",
       "\n",
       "    .dataframe thead th {\n",
       "        text-align: right;\n",
       "    }\n",
       "</style>\n",
       "<table border=\"1\" class=\"dataframe\">\n",
       "  <thead>\n",
       "    <tr style=\"text-align: right;\">\n",
       "      <th></th>\n",
       "      <th>last_name</th>\n",
       "      <th>management_experience_months</th>\n",
       "      <th>monthly_salary</th>\n",
       "    </tr>\n",
       "  </thead>\n",
       "  <tbody>\n",
       "    <tr>\n",
       "      <th>0</th>\n",
       "      <td>Taylor</td>\n",
       "      <td>65</td>\n",
       "      <td>1630</td>\n",
       "    </tr>\n",
       "    <tr>\n",
       "      <th>1</th>\n",
       "      <td>Wang</td>\n",
       "      <td>61</td>\n",
       "      <td>1330</td>\n",
       "    </tr>\n",
       "    <tr>\n",
       "      <th>2</th>\n",
       "      <td>Brown</td>\n",
       "      <td>38</td>\n",
       "      <td>1290</td>\n",
       "    </tr>\n",
       "    <tr>\n",
       "      <th>3</th>\n",
       "      <td>Harris</td>\n",
       "      <td>71</td>\n",
       "      <td>1480</td>\n",
       "    </tr>\n",
       "    <tr>\n",
       "      <th>4</th>\n",
       "      <td>Jones</td>\n",
       "      <td>94</td>\n",
       "      <td>1590</td>\n",
       "    </tr>\n",
       "    <tr>\n",
       "      <th>5</th>\n",
       "      <td>Garcia</td>\n",
       "      <td>93</td>\n",
       "      <td>1750</td>\n",
       "    </tr>\n",
       "    <tr>\n",
       "      <th>6</th>\n",
       "      <td>Williams</td>\n",
       "      <td>15</td>\n",
       "      <td>1020</td>\n",
       "    </tr>\n",
       "    <tr>\n",
       "      <th>7</th>\n",
       "      <td>Lee</td>\n",
       "      <td>56</td>\n",
       "      <td>1290</td>\n",
       "    </tr>\n",
       "    <tr>\n",
       "      <th>8</th>\n",
       "      <td>White</td>\n",
       "      <td>59</td>\n",
       "      <td>1430</td>\n",
       "    </tr>\n",
       "    <tr>\n",
       "      <th>9</th>\n",
       "      <td>Tan</td>\n",
       "      <td>7</td>\n",
       "      <td>960</td>\n",
       "    </tr>\n",
       "    <tr>\n",
       "      <th>10</th>\n",
       "      <td>Chen</td>\n",
       "      <td>14</td>\n",
       "      <td>1090</td>\n",
       "    </tr>\n",
       "    <tr>\n",
       "      <th>11</th>\n",
       "      <td>Kim</td>\n",
       "      <td>67</td>\n",
       "      <td>1340</td>\n",
       "    </tr>\n",
       "    <tr>\n",
       "      <th>12</th>\n",
       "      <td>Davis</td>\n",
       "      <td>29</td>\n",
       "      <td>1170</td>\n",
       "    </tr>\n",
       "    <tr>\n",
       "      <th>13</th>\n",
       "      <td>James</td>\n",
       "      <td>49</td>\n",
       "      <td>1390</td>\n",
       "    </tr>\n",
       "    <tr>\n",
       "      <th>14</th>\n",
       "      <td>Perez</td>\n",
       "      <td>46</td>\n",
       "      <td>1240</td>\n",
       "    </tr>\n",
       "    <tr>\n",
       "      <th>15</th>\n",
       "      <td>Cruz</td>\n",
       "      <td>73</td>\n",
       "      <td>1390</td>\n",
       "    </tr>\n",
       "    <tr>\n",
       "      <th>16</th>\n",
       "      <td>Smith</td>\n",
       "      <td>19</td>\n",
       "      <td>960</td>\n",
       "    </tr>\n",
       "    <tr>\n",
       "      <th>17</th>\n",
       "      <td>Thompson</td>\n",
       "      <td>22</td>\n",
       "      <td>1040</td>\n",
       "    </tr>\n",
       "    <tr>\n",
       "      <th>18</th>\n",
       "      <td>Joseph</td>\n",
       "      <td>32</td>\n",
       "      <td>1090</td>\n",
       "    </tr>\n",
       "    <tr>\n",
       "      <th>19</th>\n",
       "      <td>Singh</td>\n",
       "      <td>37</td>\n",
       "      <td>1300</td>\n",
       "    </tr>\n",
       "  </tbody>\n",
       "</table>\n",
       "</div>"
      ],
      "text/plain": [
       "   last_name  management_experience_months  monthly_salary\n",
       "0     Taylor                            65            1630\n",
       "1       Wang                            61            1330\n",
       "2      Brown                            38            1290\n",
       "3     Harris                            71            1480\n",
       "4      Jones                            94            1590\n",
       "5     Garcia                            93            1750\n",
       "6   Williams                            15            1020\n",
       "7        Lee                            56            1290\n",
       "8      White                            59            1430\n",
       "9        Tan                             7             960\n",
       "10      Chen                            14            1090\n",
       "11       Kim                            67            1340\n",
       "12     Davis                            29            1170\n",
       "13     James                            49            1390\n",
       "14     Perez                            46            1240\n",
       "15      Cruz                            73            1390\n",
       "16     Smith                            19             960\n",
       "17  Thompson                            22            1040\n",
       "18    Joseph                            32            1090\n",
       "19     Singh                            37            1300"
      ]
     },
     "execution_count": 46,
     "metadata": {},
     "output_type": "execute_result"
    }
   ],
   "source": [
    "df_data"
   ]
  },
  {
   "cell_type": "markdown",
   "id": "1c69b808",
   "metadata": {},
   "source": [
    "Let's visualize the relationship between experience and income. FOr that I use matplotlob. But before that I use <b> %matplotlib inline</b> magic command. This magic command in IPython ensures your matplotlib plots are displayed inline, below the code cells that produce them, within the notebook itself. Without this line, depending on your environment and settings, matplotlib plots may appear in separate windows, or not appear at all."
   ]
  },
  {
   "cell_type": "code",
   "execution_count": 47,
   "id": "bfe841f8",
   "metadata": {},
   "outputs": [],
   "source": [
    "%matplotlib inline\n",
    "import matplotlib.pyplot as plt"
   ]
  },
  {
   "cell_type": "markdown",
   "id": "f6b07978",
   "metadata": {},
   "source": [
    "Let's create a scatter plot, depicting the relationship between management experience in months and monthly salary in USD from a DataFrame df_data. "
   ]
  },
  {
   "cell_type": "code",
   "execution_count": 25,
   "id": "5c1c4c4d",
   "metadata": {},
   "outputs": [
    {
     "data": {
      "text/plain": [
       "(0.0, 2400.0)"
      ]
     },
     "execution_count": 25,
     "metadata": {},
     "output_type": "execute_result"
    },
    {
     "data": {
      "image/png": "[encoded data removed]",
      "text/plain": [
       "<Figure size 800x800 with 1 Axes>"
      ]
     },
     "metadata": {},
     "output_type": "display_data"
    }
   ],
   "source": [
    "plt.rcParams[\"figure.figsize\"] = (8,8) \n",
    "plt.scatter(df_data.management_experience_months, df_data.monthly_salary)\n",
    "plt.xlabel('Management Experience (Months)', fontsize=18) \n",
    "plt.ylabel('Monthly Salary (USD)', fontsize=16) \n",
    "plt.xlim(0, 120)\n",
    "plt.ylim(0, 2400)"
   ]
  },
  {
   "cell_type": "code",
   "execution_count": 49,
   "id": "e9be5b5a",
   "metadata": {},
   "outputs": [
    {
     "name": "stdout",
     "output_type": "stream",
     "text": [
      "Requirement already satisfied: scikit-learn in /home/ec2-user/anaconda3/envs/python3/lib/python3.10/site-packages (1.3.0)\n",
      "Requirement already satisfied: numpy>=1.17.3 in /home/ec2-user/anaconda3/envs/python3/lib/python3.10/site-packages (from scikit-learn) (1.22.3)\n",
      "Requirement already satisfied: scipy>=1.5.0 in /home/ec2-user/anaconda3/envs/python3/lib/python3.10/site-packages (from scikit-learn) (1.11.1)\n",
      "Requirement already satisfied: joblib>=1.1.1 in /home/ec2-user/anaconda3/envs/python3/lib/python3.10/site-packages (from scikit-learn) (1.3.0)\n",
      "Requirement already satisfied: threadpoolctl>=2.0.0 in /home/ec2-user/anaconda3/envs/python3/lib/python3.10/site-packages (from scikit-learn) (3.2.0)\n"
     ]
    }
   ],
   "source": [
    "!pip install scikit-learn"
   ]
  },
  {
   "cell_type": "markdown",
   "id": "a64aa2aa",
   "metadata": {},
   "source": [
    "Now let's split this data into the <b>training</b> and <b>test</b> sets. We use sklearn that is installed by default on the SageMaker notebook instance. Let's first check if we have sklearn installed:"
   ]
  },
  {
   "cell_type": "code",
   "execution_count": 50,
   "id": "dca960a7",
   "metadata": {},
   "outputs": [
    {
     "name": "stdout",
     "output_type": "stream",
     "text": [
      "Name: scikit-learn\r\n",
      "Version: 1.3.0\r\n",
      "Summary: A set of python modules for machine learning and data mining\r\n",
      "Home-page: http://scikit-learn.org\r\n",
      "Author: \r\n",
      "Author-email: \r\n",
      "License: new BSD\r\n",
      "Location: /home/ec2-user/anaconda3/envs/python3/lib/python3.10/site-packages\r\n",
      "Requires: joblib, numpy, scipy, threadpoolctl\r\n",
      "Required-by: shap\r\n"
     ]
    }
   ],
   "source": [
    "!pip show scikit-learn"
   ]
  },
  {
   "cell_type": "markdown",
   "id": "36b6c41c",
   "metadata": {},
   "source": [
    "\n",
    "Let's use the <b> train_test_split</b> function from scikit-learn's model_selection module to split a dataset into training and testing subsets. We would like the x be the <b>\"managamenet experience\"</b> column and the y be the <b>\"salary\"</b>. \n",
    "\n",
    "- <b> train_test_split</b>  is used to split the dataset (X and y) into training and testing subsets.\n",
    "\n",
    "- <b>test_size=0.3</b> in the following cel means that 30% of the data will be used for testing, and the remaining 70% will be used for training.\n",
    "\n",
    "- <b>random_state=0</b> in the following cell is used to seed the random number generator, ensuring that the split is reproducible."
   ]
  },
  {
   "cell_type": "code",
   "execution_count": 52,
   "id": "3eeb5d88",
   "metadata": {},
   "outputs": [],
   "source": [
    "from sklearn.model_selection import train_test_split\n",
    "\n",
    "X = df_data['management_experience_months'].values \n",
    "y = df_data['monthly_salary'].values\n",
    "X_train, X_test, y_train, y_test = train_test_split(X, y, test_size=0.3, random_state=0)"
   ]
  },
  {
   "cell_type": "code",
   "execution_count": 53,
   "id": "1bfeddb4",
   "metadata": {},
   "outputs": [
    {
     "data": {
      "text/plain": [
       "(array([15, 49, 94, 38, 93, 46,  7, 56, 19, 67, 71, 65, 73, 29]),\n",
       " array([1020, 1390, 1590, 1290, 1750, 1240,  960, 1290,  960, 1340, 1480,\n",
       "        1630, 1390, 1170]))"
      ]
     },
     "execution_count": 53,
     "metadata": {},
     "output_type": "execute_result"
    }
   ],
   "source": [
    "X_train, y_train"
   ]
  },
  {
   "cell_type": "code",
   "execution_count": 54,
   "id": "71932dfd",
   "metadata": {},
   "outputs": [
    {
     "data": {
      "text/plain": [
       "(array([32, 61, 37, 59, 14, 22]), array([1090, 1330, 1300, 1430, 1090, 1040]))"
      ]
     },
     "execution_count": 54,
     "metadata": {},
     "output_type": "execute_result"
    }
   ],
   "source": [
    "X_test,y_test "
   ]
  },
  {
   "cell_type": "markdown",
   "id": "a6695581",
   "metadata": {},
   "source": [
    "NOTE: In some cases, you may want to split the data set to <b>training, validation and test</b> data set. The \"validation\" data set is used to evaluate the model while it is <b> being trained</b> and while <b>tuning the model hyperparameters</b>. The \"test\" data set is used to evaluate the model <u>after</u> the training is completed by the \"training\" and \"validation\" data set."
   ]
  },
  {
   "cell_type": "markdown",
   "id": "afbc3fa0",
   "metadata": {},
   "source": [
    "Now if we want to assemble the training data set, we use Pandas to create it by the columns we have created above:"
   ]
  },
  {
   "cell_type": "code",
   "execution_count": 55,
   "id": "e63dd9e7",
   "metadata": {},
   "outputs": [
    {
     "data": {
      "text/html": [
       "<div>\n",
       "<style scoped>\n",
       "    .dataframe tbody tr th:only-of-type {\n",
       "        vertical-align: middle;\n",
       "    }\n",
       "\n",
       "    .dataframe tbody tr th {\n",
       "        vertical-align: top;\n",
       "    }\n",
       "\n",
       "    .dataframe thead th {\n",
       "        text-align: right;\n",
       "    }\n",
       "</style>\n",
       "<table border=\"1\" class=\"dataframe\">\n",
       "  <thead>\n",
       "    <tr style=\"text-align: right;\">\n",
       "      <th></th>\n",
       "      <th>monthly_salary</th>\n",
       "      <th>management_experience_months</th>\n",
       "    </tr>\n",
       "  </thead>\n",
       "  <tbody>\n",
       "    <tr>\n",
       "      <th>0</th>\n",
       "      <td>1020</td>\n",
       "      <td>15</td>\n",
       "    </tr>\n",
       "    <tr>\n",
       "      <th>1</th>\n",
       "      <td>1390</td>\n",
       "      <td>49</td>\n",
       "    </tr>\n",
       "    <tr>\n",
       "      <th>2</th>\n",
       "      <td>1590</td>\n",
       "      <td>94</td>\n",
       "    </tr>\n",
       "    <tr>\n",
       "      <th>3</th>\n",
       "      <td>1290</td>\n",
       "      <td>38</td>\n",
       "    </tr>\n",
       "    <tr>\n",
       "      <th>4</th>\n",
       "      <td>1750</td>\n",
       "      <td>93</td>\n",
       "    </tr>\n",
       "    <tr>\n",
       "      <th>5</th>\n",
       "      <td>1240</td>\n",
       "      <td>46</td>\n",
       "    </tr>\n",
       "    <tr>\n",
       "      <th>6</th>\n",
       "      <td>960</td>\n",
       "      <td>7</td>\n",
       "    </tr>\n",
       "    <tr>\n",
       "      <th>7</th>\n",
       "      <td>1290</td>\n",
       "      <td>56</td>\n",
       "    </tr>\n",
       "    <tr>\n",
       "      <th>8</th>\n",
       "      <td>960</td>\n",
       "      <td>19</td>\n",
       "    </tr>\n",
       "    <tr>\n",
       "      <th>9</th>\n",
       "      <td>1340</td>\n",
       "      <td>67</td>\n",
       "    </tr>\n",
       "    <tr>\n",
       "      <th>10</th>\n",
       "      <td>1480</td>\n",
       "      <td>71</td>\n",
       "    </tr>\n",
       "    <tr>\n",
       "      <th>11</th>\n",
       "      <td>1630</td>\n",
       "      <td>65</td>\n",
       "    </tr>\n",
       "    <tr>\n",
       "      <th>12</th>\n",
       "      <td>1390</td>\n",
       "      <td>73</td>\n",
       "    </tr>\n",
       "    <tr>\n",
       "      <th>13</th>\n",
       "      <td>1170</td>\n",
       "      <td>29</td>\n",
       "    </tr>\n",
       "  </tbody>\n",
       "</table>\n",
       "</div>"
      ],
      "text/plain": [
       "    monthly_salary  management_experience_months\n",
       "0             1020                            15\n",
       "1             1390                            49\n",
       "2             1590                            94\n",
       "3             1290                            38\n",
       "4             1750                            93\n",
       "5             1240                            46\n",
       "6              960                             7\n",
       "7             1290                            56\n",
       "8              960                            19\n",
       "9             1340                            67\n",
       "10            1480                            71\n",
       "11            1630                            65\n",
       "12            1390                            73\n",
       "13            1170                            29"
      ]
     },
     "execution_count": 55,
     "metadata": {},
     "output_type": "execute_result"
    }
   ],
   "source": [
    "df_training_data = pd.DataFrame({ 'monthly_salary': y_train, 'management_experience_months': X_train})\n",
    "df_training_data"
   ]
  },
  {
   "cell_type": "markdown",
   "id": "f8b61edb",
   "metadata": {},
   "source": [
    "The df_training_data is in the memory of this instance. We save that to the disk now:"
   ]
  },
  {
   "cell_type": "code",
   "execution_count": 56,
   "id": "4592a3c2",
   "metadata": {},
   "outputs": [],
   "source": [
    "df_training_data.to_csv('./training_data.csv', header=False, index=False)"
   ]
  },
  {
   "cell_type": "code",
   "execution_count": 57,
   "id": "191a8326",
   "metadata": {},
   "outputs": [
    {
     "name": "stdout",
     "output_type": "stream",
     "text": [
      "experience_and_salary.csv  training_data.csv\r\n"
     ]
    }
   ],
   "source": [
    "!ls"
   ]
  },
  {
   "cell_type": "markdown",
   "id": "a5ff7c8c",
   "metadata": {},
   "source": [
    "Now we can push this file to S3. First we assign a variable to an <b>existing</b> S3 bucket name with a folder called \"sagemaker\" inside it. Please change the bucket name to some other unique value:"
   ]
  },
  {
   "cell_type": "code",
   "execution_count": 58,
   "id": "d7e36db2",
   "metadata": {},
   "outputs": [],
   "source": [
    "s3_bucket=\"mk-bucket-sagemaker\"\n",
    "prefix=\"sagemaker\""
   ]
  },
  {
   "cell_type": "markdown",
   "id": "b04f23d2",
   "metadata": {},
   "source": [
    "We should create the bucket first. Now we use aws cli to push the training code to the above bucket name and sagemaker folder and inside the \"input\" folder. Please consider that we did not create the \"input\" folder, it is created on the fly here:"
   ]
  },
  {
   "cell_type": "code",
   "execution_count": 59,
   "id": "ae2620a4",
   "metadata": {},
   "outputs": [
    {
     "name": "stdout",
     "output_type": "stream",
     "text": [
      "upload: ./training_data.csv to s3://mk-bucket-sagemaker/sagemaker/input/training_data.csv\r\n"
     ]
    }
   ],
   "source": [
    "!aws s3 cp ./training_data.csv s3://{s3_bucket}/{prefix}/input/training_data.csv"
   ]
  },
  {
   "cell_type": "markdown",
   "id": "716ac4ba",
   "metadata": {},
   "source": [
    "<b> DIY:</b> You create a test data set and upload it to S3 bucket"
   ]
  }
 ],
 "metadata": {
  "kernelspec": {
   "display_name": "conda_python3",
   "language": "python",
   "name": "conda_python3"
  },
  "language_info": {
   "codemirror_mode": {
    "name": "ipython",
    "version": 3
   },
   "file_extension": ".py",
   "mimetype": "text/x-python",
   "name": "python",
   "nbconvert_exporter": "python",
   "pygments_lexer": "ipython3",
   "version": "3.10.12"
  }
 },
 "nbformat": 4,
 "nbformat_minor": 5
}
